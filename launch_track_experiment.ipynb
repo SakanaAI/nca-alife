{
 "cells": [
  {
   "cell_type": "code",
   "execution_count": 219,
   "id": "initial_id",
   "metadata": {
    "ExecuteTime": {
     "end_time": "2024-06-05T15:24:12.196261Z",
     "start_time": "2024-06-05T15:24:11.937119Z"
    }
   },
   "outputs": [
    {
     "name": "stdout",
     "output_type": "stream",
     "text": [
      "The autoreload extension is already loaded. To reload it, use:\n",
      "  %reload_ext autoreload\n",
      "fish-gcp005\n",
      "/home/akarshkumar0101/nca-alife\n",
      "/home/akarshkumar0101/miniconda3/envs/nca-alife-jax/bin/python\n"
     ]
    }
   ],
   "source": [
    "%load_ext autoreload\n",
    "%autoreload 2\n",
    "!hostname\n",
    "!pwd\n",
    "import os, sys\n",
    "print(sys.executable)"
   ]
  },
  {
   "cell_type": "code",
   "execution_count": 220,
   "id": "b14fab765a9b502f",
   "metadata": {
    "ExecuteTime": {
     "end_time": "2024-06-05T15:24:46.791547Z",
     "start_time": "2024-06-05T15:24:46.534227Z"
    }
   },
   "outputs": [],
   "source": [
    "import os, sys, glob, pickle\n",
    "from functools import partial\n",
    "\n",
    "import numpy as np\n",
    "import pandas as pd\n",
    "import xarray as xr\n",
    "import matplotlib.pyplot as plt\n",
    "import seaborn as sns\n",
    "# sns.set_theme()\n",
    "\n",
    "from tqdm.auto import tqdm\n",
    "from einops import rearrange, reduce, repeat"
   ]
  },
  {
   "cell_type": "code",
   "execution_count": 221,
   "id": "cd70dd980a69d0d2",
   "metadata": {
    "ExecuteTime": {
     "end_time": "2024-06-05T16:32:40.437767Z",
     "start_time": "2024-06-05T16:32:40.418237Z"
    }
   },
   "outputs": [],
   "source": [
    "# import experiment_utils\n",
    "import time\n",
    "import subprocess"
   ]
  },
  {
   "cell_type": "markdown",
   "id": "d25a8459feec83fd",
   "metadata": {},
   "source": [
    "# Launch Experiment (on this node)"
   ]
  },
  {
   "cell_type": "code",
   "execution_count": 248,
   "id": "8c39a5bfd56aad84",
   "metadata": {
    "ExecuteTime": {
     "end_time": "2024-06-05T16:32:45.724746Z",
     "start_time": "2024-06-05T16:32:45.705123Z"
    }
   },
   "outputs": [
    {
     "name": "stdout",
     "output_type": "stream",
     "text": [
      "./src/experiments/main.sh has 40 commands: \n",
      "python train_target_emergence_plife.py --seed=0 --save_dir=\"/home/akarshkumar0101/nca-alife-data/plife_cma/0_alpha_0\"                  --n_particles=5000 --n_colors=6 --search_space=\"alpha\"                  --render_radius=0.007 --rollout_steps=1024 --n_rollout_imgs=8 --algo=\"Sep_CMA_ES\" --bs=1 --pop_size=8 --n_iters=1000 --sigma=1.0 --prompt=\"a biological cell\"                             \n",
      "python train_target_emergence_plife.py --seed=0 --save_dir=\"/home/akarshkumar0101/nca-alife-data/plife_cma/0_alpha_1\"                  --n_particles=5000 --n_colors=6 --search_space=\"alpha\"                  --render_radius=0.007 --rollout_steps=1024 --n_rollout_imgs=8 --algo=\"Sep_CMA_ES\" --bs=1 --pop_size=8 --n_iters=1000 --sigma=1.0 --prompt=\"a biological cell under the microscope\"        \n",
      "python train_target_emergence_plife.py --seed=0 --save_dir=\"/home/akarshkumar0101/nca-alife-data/plife_cma/0_alpha_2\"                  --n_particles=5000 --n_colors=6 --search_space=\"alpha\"                  --render_radius=0.007 --rollout_steps=1024 --n_rollout_imgs=8 --algo=\"Sep_CMA_ES\" --bs=1 --pop_size=8 --n_iters=1000 --sigma=1.0 --prompt=\"a bacterium\"                                    \n",
      "...\n",
      "Logging to /home/akarshkumar0101/nca-alife-data/logs/2024_08_14_14_04_28\n"
     ]
    }
   ],
   "source": [
    "header = '\\n'.join([\n",
    "    '#!/bin/bash',\n",
    "    \n",
    "    # 'source ~/.virtualenvs/nca-alife-torch/bin/activate'\n",
    "    \n",
    "    'source ~/miniconda3/etc/profile.d/conda.sh',\n",
    "    'conda activate nca-alife-jax',\n",
    "    \n",
    "    'cd ~/nca-alife/src'\n",
    "])\n",
    "\n",
    "\n",
    "gpus = [4, 5, 6, 7]\n",
    "log_dir = os.path.expanduser(f'~/nca-alife-data/logs/{time.strftime(\"%Y_%m_%d_%H_%M_%S\")}')\n",
    "exp_sh = f'./src/experiments/main.sh'\n",
    "with open(exp_sh, 'r') as f:\n",
    "    commands = [c for c in f.read().split('\\n') if c]\n",
    "print(f\"{exp_sh} has {len(commands)} commands: \")\n",
    "print('\\n'.join(commands[:3]), '\\n...')\n",
    "print(f\"Logging to {log_dir}\")"
   ]
  },
  {
   "cell_type": "code",
   "execution_count": 249,
   "id": "606a1e32-67e7-4c6c-b426-614ccd1651c4",
   "metadata": {},
   "outputs": [
    {
     "name": "stdout",
     "output_type": "stream",
     "text": [
      "/home/akarshkumar0101/nca-alife-data/logs/2024_08_14_14_04_28\n"
     ]
    }
   ],
   "source": [
    "print(log_dir)"
   ]
  },
  {
   "cell_type": "code",
   "execution_count": null,
   "id": "8483676c-0242-42c2-9823-79fad500a436",
   "metadata": {},
   "outputs": [],
   "source": []
  },
  {
   "cell_type": "code",
   "execution_count": null,
   "id": "9819a394-2848-4e7a-b553-6d07fb1c8c80",
   "metadata": {},
   "outputs": [],
   "source": []
  },
  {
   "cell_type": "code",
   "execution_count": null,
   "id": "5a6eb46d-b180-47c0-9e47-045a0f8f9dde",
   "metadata": {},
   "outputs": [],
   "source": []
  },
  {
   "cell_type": "code",
   "execution_count": 250,
   "id": "ccbc7bd83eb023cb",
   "metadata": {
    "ExecuteTime": {
     "end_time": "2024-06-05T16:32:47.309708Z",
     "start_time": "2024-06-05T16:32:47.171678Z"
    }
   },
   "outputs": [],
   "source": [
    "!mkdir -p {log_dir}\n",
    "!rm {os.path.dirname(log_dir)+'/latest'}\n",
    "!ln -sf {log_dir} {os.path.dirname(log_dir)+'/latest'}\n",
    "for i_gpu, gpu in enumerate(gpus):\n",
    "    job_ids = np.arange(len(commands))[i_gpu::len(gpus)]\n",
    "    cvd = f'export CUDA_VISIBLE_DEVICES={gpu}'\n",
    "    txt = f\"{header}\\n{cvd}\\n\\n\"\n",
    "    for job_id in job_ids:\n",
    "        txt += f\"touch {log_dir}/job_{job_id:05d}.status\\n\"\n",
    "        txt += f\"{commands[job_id]} &> {log_dir}/job_{job_id:05d}.out\\n\"\n",
    "        txt += f\"echo $? > {log_dir}/job_{job_id:05d}.status\\n\\n\"\n",
    "    with open(f\"{log_dir}/gpu_{gpu}.sh\", \"w\") as f:\n",
    "        f.write(txt)"
   ]
  },
  {
   "cell_type": "code",
   "execution_count": 251,
   "id": "fd11b06be751b124",
   "metadata": {
    "ExecuteTime": {
     "end_time": "2024-06-05T16:32:47.659970Z",
     "start_time": "2024-06-05T16:32:47.641164Z"
    }
   },
   "outputs": [
    {
     "name": "stdout",
     "output_type": "stream",
     "text": [
      "#!/bin/bash\n",
      "source ~/miniconda3/etc/profile.d/conda.sh\n",
      "conda activate nca-alife-jax\n",
      "cd ~/nca-alife/src\n",
      "export CUDA_VISIBLE_DEVICES=7\n",
      "\n",
      "touch /home/akarshkumar0101/nca-alife-data/logs/2024_08_14_14_04_28/job_00003.status\n",
      "python train_target_emergence_plife.py --seed=0 --save_dir=\"/home/akarshkumar0101/nca-alife-data/plife_cma/0_alpha_3\"                  --n_particles=5000 --n_colors=6 --search_space=\"alpha\"                  --render_radius=0.007 --rollout_steps=1024 --n_rollout_imgs=8 --algo=\"Sep_CMA_ES\" --bs=1 --pop_size=8 --n_iters=1000 --sigma=1.0 --prompt=\"bacteria under the microscope\"                  &> /home/akarshkumar0101/nca-alife-data/logs/2024_08_14_14_04_28/job_00003.out\n",
      "echo $? > /home/akarshkumar0101/nca-alife-data/logs/2024_08_14_14_04_28/job_00003.status\n",
      "\n",
      "touch /home/akarshkumar0101/nca-alife-data/logs/2024_08_14_14_04_28/job_00007.status\n",
      "python train_target_emergence_plife.py --seed=0 --save_dir=\"/home/akarshkumar0101/nca-alife-data/plife_cma/0_alpha_7\"                  --n_particles=5000 --n_colors=6 --search_space=\"alpha\"                  --render_radius=0.007 --rollout_steps=1024 --n_rollout_imgs=8 --algo=\"Sep_CMA_ES\" --bs=1 --pop_size=8 --n_iters=1000 --sigma=1.0 --prompt=\"a colorful striped caterpillar\"                 &> /home/akarshkumar0101/nca-alife-data/logs/2024_08_14_14_04_28/job_00007.out\n",
      "echo $? > /home/akarshkumar0101/nca-alife-data/logs/2024_08_14_14_04_28/job_00007.status\n",
      "\n",
      "touch /home/akarshkumar0101/nca-alife-data/logs/2024_08_14_14_04_28/job_00011.status\n",
      "python train_target_emergence_plife.py --seed=0 --save_dir=\"/home/akarshkumar0101/nca-alife-data/plife_cma/0_beta+alpha_1\"             --n_particles=5000 --n_colors=6 --search_space=\"beta+alpha\"             --render_radius=0.007 --rollout_steps=1024 --n_rollout_imgs=8 --algo=\"Sep_CMA_ES\" --bs=1 --pop_size=8 --n_iters=1000 --sigma=1.0 --prompt=\"a biological cell under the microscope\"         &> /home/akarshkumar0101/nca-alife-data/logs/2024_08_14_14_04_28/job_00011.out\n",
      "echo $? > /home/akarshkumar0101/nca-alife-data/logs/2024_08_14_14_04_28/job_00011.status\n",
      "\n",
      "touch /home/akarshkumar0101/nca-alife-data/logs/2024_08_14_14_04_28/job_00015.status\n",
      "python train_target_emergence_plife.py --seed=0 --save_dir=\"/home/akarshkumar0101/nca-alife-data/plife_cma/0_beta+alpha_5\"             --n_particles=5000 --n_colors=6 --search_space=\"beta+alpha\"             --render_radius=0.007 --rollout_steps=1024 --n_rollout_imgs=8 --algo=\"Sep_CMA_ES\" --bs=1 --pop_size=8 --n_iters=1000 --sigma=1.0 --prompt=\"top down view of a diverse colony of organisms\" &> /home/akarshkumar0101/nca-alife-data/logs/2024_08_14_14_04_28/job_00015.out\n",
      "echo $? > /home/akarshkumar0101/nca-alife-data/logs/2024_08_14_14_04_28/job_00015.status\n",
      "\n",
      "touch /home/akarshkumar0101/nca-alife-data/logs/2024_08_14_14_04_28/job_00019.status\n",
      "python train_target_emergence_plife.py --seed=0 --save_dir=\"/home/akarshkumar0101/nca-alife-data/plife_cma/0_beta+alpha_9\"             --n_particles=5000 --n_colors=6 --search_space=\"beta+alpha\"             --render_radius=0.007 --rollout_steps=1024 --n_rollout_imgs=8 --algo=\"Sep_CMA_ES\" --bs=1 --pop_size=8 --n_iters=1000 --sigma=1.0 --prompt=\"particles in a gas\"                             &> /home/akarshkumar0101/nca-alife-data/logs/2024_08_14_14_04_28/job_00019.out\n"
     ]
    }
   ],
   "source": [
    "print('\\n'.join(txt.split('\\n')[:24]))"
   ]
  },
  {
   "cell_type": "code",
   "execution_count": null,
   "id": "7a7a1ba5-f8cf-4cb2-93ba-25a548a0f499",
   "metadata": {},
   "outputs": [],
   "source": []
  },
  {
   "cell_type": "code",
   "execution_count": null,
   "id": "9e48a7c8-f06d-4b33-9226-b0800279667e",
   "metadata": {},
   "outputs": [],
   "source": []
  },
  {
   "cell_type": "code",
   "execution_count": null,
   "id": "d10b736e-5b7c-40d1-8ffd-a5e3f2b0add4",
   "metadata": {},
   "outputs": [],
   "source": []
  },
  {
   "cell_type": "code",
   "execution_count": 252,
   "id": "e5ce96252f75f2f9",
   "metadata": {
    "ExecuteTime": {
     "end_time": "2024-06-05T16:35:49.567207Z",
     "start_time": "2024-06-05T16:35:49.546023Z"
    }
   },
   "outputs": [
    {
     "name": "stdout",
     "output_type": "stream",
     "text": [
      "bash /home/akarshkumar0101/nca-alife-data/logs/2024_08_14_14_04_28/gpu_4.sh\n",
      "bash /home/akarshkumar0101/nca-alife-data/logs/2024_08_14_14_04_28/gpu_5.sh\n",
      "bash /home/akarshkumar0101/nca-alife-data/logs/2024_08_14_14_04_28/gpu_6.sh\n",
      "bash /home/akarshkumar0101/nca-alife-data/logs/2024_08_14_14_04_28/gpu_7.sh\n"
     ]
    }
   ],
   "source": [
    "for i_gpu, gpu in enumerate(gpus):\n",
    "    command = f\"bash {log_dir}/gpu_{gpu}.sh\"\n",
    "    print(command)\n",
    "    process = subprocess.Popen(command, shell=True)"
   ]
  },
  {
   "cell_type": "code",
   "execution_count": null,
   "id": "8d4b43ea-3cd2-4567-9e7b-819a109f4672",
   "metadata": {},
   "outputs": [],
   "source": []
  },
  {
   "cell_type": "code",
   "execution_count": null,
   "id": "0993c800-10a3-4d44-a37b-55aff7b6da13",
   "metadata": {},
   "outputs": [],
   "source": []
  },
  {
   "cell_type": "code",
   "execution_count": null,
   "id": "5f6328aa-5b2e-4739-b80d-2ebc1761740a",
   "metadata": {},
   "outputs": [],
   "source": []
  },
  {
   "cell_type": "markdown",
   "id": "233f54f7c2310a69",
   "metadata": {},
   "source": [
    "# Track Experiment"
   ]
  },
  {
   "cell_type": "code",
   "execution_count": 22,
   "id": "323b77b2-6677-4b3b-9864-10f98df4c77d",
   "metadata": {},
   "outputs": [],
   "source": [
    "import subprocess\n",
    "a = subprocess.run(['ps', 'ux'], stdout=subprocess.PIPE).stdout.decode('utf-8')"
   ]
  },
  {
   "cell_type": "code",
   "execution_count": 25,
   "id": "6919b53c-0578-4e33-a86b-471b78449bee",
   "metadata": {},
   "outputs": [
    {
     "data": {
      "text/plain": [
       "['akarshk+ 1271851  0.0  0.0   2480   572 ?        S    04:58   0:00 /bin/sh -c bash /home/akarshkumar0101/nca-alife-data/logs/2024_07_31_04_58_39/gpu_4.sh',\n",
       " 'akarshk+ 1271852  0.0  0.0   2480   516 ?        S    04:58   0:00 /bin/sh -c bash /home/akarshkumar0101/nca-alife-data/logs/2024_07_31_04_58_39/gpu_5.sh',\n",
       " 'akarshk+ 1271853  0.0  0.0 219972  3408 ?        S    04:58   0:00 bash /home/akarshkumar0101/nca-alife-data/logs/2024_07_31_04_58_39/gpu_4.sh',\n",
       " 'akarshk+ 1271854  0.0  0.0   2480   512 ?        S    04:58   0:00 /bin/sh -c bash /home/akarshkumar0101/nca-alife-data/logs/2024_07_31_04_58_39/gpu_6.sh',\n",
       " 'akarshk+ 1271855  0.0  0.0 219972  3200 ?        S    04:58   0:00 bash /home/akarshkumar0101/nca-alife-data/logs/2024_07_31_04_58_39/gpu_5.sh',\n",
       " 'akarshk+ 1271856  0.0  0.0   2480   516 ?        S    04:58   0:00 /bin/sh -c bash /home/akarshkumar0101/nca-alife-data/logs/2024_07_31_04_58_39/gpu_7.sh',\n",
       " 'akarshk+ 1271857  0.0  0.0 219972  3460 ?        S    04:58   0:00 bash /home/akarshkumar0101/nca-alife-data/logs/2024_07_31_04_58_39/gpu_6.sh',\n",
       " 'akarshk+ 1271858  0.0  0.0 219972  3188 ?        S    04:58   0:00 bash /home/akarshkumar0101/nca-alife-data/logs/2024_07_31_04_58_39/gpu_7.sh']"
      ]
     },
     "execution_count": 25,
     "metadata": {},
     "output_type": "execute_result"
    },
    {
     "name": "stderr",
     "output_type": "stream",
     "text": [
      "Terminated\n",
      "Terminated\n",
      "Terminated\n",
      "Terminated\n"
     ]
    }
   ],
   "source": [
    "[l for l in a.split('\\n') if \"bash\" in l and \"gpu\" in l]"
   ]
  },
  {
   "cell_type": "code",
   "execution_count": null,
   "id": "8b02e737-1457-43f7-87d9-51b427af547e",
   "metadata": {},
   "outputs": [],
   "source": []
  },
  {
   "cell_type": "code",
   "execution_count": null,
   "id": "852dbcf0-5257-48ab-ab62-b1a5b15b313d",
   "metadata": {},
   "outputs": [],
   "source": []
  },
  {
   "cell_type": "code",
   "execution_count": null,
   "id": "577c510a-4b86-40ea-abbe-f3bcccd0dc38",
   "metadata": {},
   "outputs": [],
   "source": []
  },
  {
   "cell_type": "code",
   "execution_count": 253,
   "id": "1eb72d2c-d077-466b-b7a3-c70eb8666291",
   "metadata": {},
   "outputs": [
    {
     "data": {
      "image/png": "[encoded data removed]",
      "text/plain": [
       "<Figure size 640x480 with 1 Axes>"
      ]
     },
     "metadata": {},
     "output_type": "display_data"
    }
   ],
   "source": [
    "from collections import defaultdict\n",
    "\n",
    "status = []\n",
    "for job_id in range(len(commands)):\n",
    "    try:\n",
    "        with open(f\"{log_dir}/job_{job_id:05d}.status\", \"r\") as f:\n",
    "            status.append(int(f.read().strip()))\n",
    "    except Exception as e:\n",
    "        status.append(\"waiting\")\n",
    "status = np.array(status)\n",
    "\n",
    "codes, counts = np.unique(status, return_counts=True)\n",
    "df = pd.DataFrame(dict(codes=codes, counts=counts))\n",
    "ax = sns.barplot(data=df, x='codes', y='counts')\n",
    "ax.bar_label(ax.containers[0], fontsize=10);"
   ]
  },
  {
   "cell_type": "code",
   "execution_count": null,
   "id": "89442176-59fa-4071-b723-437fcd6699e9",
   "metadata": {},
   "outputs": [],
   "source": []
  },
  {
   "cell_type": "code",
   "execution_count": null,
   "id": "c45b8afe-38b2-4a6b-a075-096781521ecd",
   "metadata": {},
   "outputs": [],
   "source": []
  },
  {
   "cell_type": "code",
   "execution_count": null,
   "id": "cd2d676b-004e-41cf-958d-74f6ad6569be",
   "metadata": {},
   "outputs": [],
   "source": []
  },
  {
   "cell_type": "code",
   "execution_count": null,
   "id": "1db0c207-43d2-4c79-8602-191191d75535",
   "metadata": {},
   "outputs": [],
   "source": []
  },
  {
   "cell_type": "code",
   "execution_count": null,
   "id": "d3a53949-a656-497c-b3bc-733b10c333d8",
   "metadata": {},
   "outputs": [],
   "source": []
  },
  {
   "cell_type": "code",
   "execution_count": null,
   "id": "0a2677c3-1c57-462d-b4cd-1452fbb54b48",
   "metadata": {},
   "outputs": [],
   "source": []
  },
  {
   "cell_type": "code",
   "execution_count": null,
   "id": "0684129a-8adf-4f44-9d0c-52333b1fcb92",
   "metadata": {},
   "outputs": [],
   "source": []
  },
  {
   "cell_type": "code",
   "execution_count": null,
   "id": "187c7fdf-be2a-4ab3-9d8c-5846bb278b1f",
   "metadata": {},
   "outputs": [],
   "source": []
  },
  {
   "cell_type": "code",
   "execution_count": 299,
   "id": "b87eb0da-3b7d-41c1-b656-7810bf958163",
   "metadata": {},
   "outputs": [
    {
     "name": "stdout",
     "output_type": "stream",
     "text": [
      "\n",
      "------------------------------------------------------ 0 ------------------------------------------------------\n",
      "\n",
      "23%|██▎       | 228/1000 [07:40<20:38,  1.60s/it, best_loss=-0.316]\n",
      "\n",
      "------------------------------------------------------ 1 ------------------------------------------------------\n",
      "\n",
      "22%|██▏       | 216/1000 [07:41<22:21,  1.71s/it, best_loss=-0.306]\n",
      "\n",
      "------------------------------------------------------ 2 ------------------------------------------------------\n",
      "\n",
      "21%|██▏       | 214/1000 [07:41<23:04,  1.76s/it, best_loss=-0.312]\n",
      "\n",
      "------------------------------------------------------ 3 ------------------------------------------------------\n",
      "\n",
      "23%|██▎       | 226/1000 [07:41<21:18,  1.65s/it, best_loss=-0.314]\n",
      "\n",
      "------------------------------------------------------ 4 ------------------------------------------------------\n",
      "\n"
     ]
    }
   ],
   "source": [
    "for job_id in list(range(len(commands))):\n",
    "    print()\n",
    "    print(f'------------------------------------------------------ {job_id} ------------------------------------------------------')\n",
    "    print()\n",
    "    try:\n",
    "        with open(f\"{log_dir}/job_{job_id:05d}.out\", \"r\") as f:\n",
    "            print(f.readlines()[-1].strip())\n",
    "    except Exception as e:\n",
    "        # pass\n",
    "        break\n",
    "        print(e)"
   ]
  },
  {
   "cell_type": "code",
   "execution_count": 298,
   "id": "1f545d74-19fc-42d7-a744-de052c2619aa",
   "metadata": {},
   "outputs": [
    {
     "data": {
      "text/plain": [
       "'/home/akarshkumar0101/nca-alife-data/logs/2024_08_14_14_04_28'"
      ]
     },
     "execution_count": 298,
     "metadata": {},
     "output_type": "execute_result"
    }
   ],
   "source": [
    "log_dir"
   ]
  },
  {
   "cell_type": "code",
   "execution_count": null,
   "id": "c75eacd4eb3f534d",
   "metadata": {},
   "outputs": [],
   "source": []
  },
  {
   "cell_type": "code",
   "execution_count": null,
   "id": "d2d8e17e3abe3689",
   "metadata": {},
   "outputs": [],
   "source": []
  }
 ],
 "metadata": {
  "kernelspec": {
   "display_name": "Python 3 (ipykernel)",
   "language": "python",
   "name": "python3"
  },
  "language_info": {
   "codemirror_mode": {
    "name": "ipython",
    "version": 3
   },
   "file_extension": ".py",
   "mimetype": "text/x-python",
   "name": "python",
   "nbconvert_exporter": "python",
   "pygments_lexer": "ipython3",
   "version": "3.12.3"
  }
 },
 "nbformat": 4,
 "nbformat_minor": 5
}

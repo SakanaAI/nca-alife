{
 "cells": [
  {
   "cell_type": "code",
   "execution_count": 13,
   "id": "initial_id",
   "metadata": {
    "ExecuteTime": {
     "end_time": "2024-06-05T15:24:12.196261Z",
     "start_time": "2024-06-05T15:24:11.937119Z"
    }
   },
   "outputs": [
    {
     "name": "stdout",
     "output_type": "stream",
     "text": [
      "The autoreload extension is already loaded. To reload it, use:\n",
      "  %reload_ext autoreload\n",
      "fish-gcp005\n",
      "/home/akarshkumar0101/nca-alife\n",
      "/home/akarshkumar0101/miniconda3/envs/nca-alife-jax/bin/python\n"
     ]
    }
   ],
   "source": [
    "%load_ext autoreload\n",
    "%autoreload 2\n",
    "!hostname\n",
    "!pwd\n",
    "import os, sys\n",
    "print(sys.executable)"
   ]
  },
  {
   "cell_type": "code",
   "execution_count": 14,
   "id": "b14fab765a9b502f",
   "metadata": {
    "ExecuteTime": {
     "end_time": "2024-06-05T15:24:46.791547Z",
     "start_time": "2024-06-05T15:24:46.534227Z"
    }
   },
   "outputs": [],
   "source": [
    "import os, sys, glob, pickle\n",
    "from functools import partial\n",
    "\n",
    "import numpy as np\n",
    "import pandas as pd\n",
    "import xarray as xr\n",
    "import matplotlib.pyplot as plt\n",
    "import seaborn as sns\n",
    "# sns.set_theme()\n",
    "\n",
    "from tqdm.auto import tqdm\n",
    "from einops import rearrange, reduce, repeat"
   ]
  },
  {
   "cell_type": "code",
   "execution_count": 15,
   "id": "cd70dd980a69d0d2",
   "metadata": {
    "ExecuteTime": {
     "end_time": "2024-06-05T16:32:40.437767Z",
     "start_time": "2024-06-05T16:32:40.418237Z"
    }
   },
   "outputs": [],
   "source": [
    "# import experiment_utils\n",
    "import time\n",
    "import subprocess"
   ]
  },
  {
   "cell_type": "markdown",
   "id": "d25a8459feec83fd",
   "metadata": {},
   "source": [
    "# Launch Experiment (on this node)"
   ]
  },
  {
   "cell_type": "code",
   "execution_count": 20,
   "id": "8c39a5bfd56aad84",
   "metadata": {
    "ExecuteTime": {
     "end_time": "2024-06-05T16:32:45.724746Z",
     "start_time": "2024-06-05T16:32:45.705123Z"
    }
   },
   "outputs": [
    {
     "name": "stdout",
     "output_type": "stream",
     "text": [
      "./src/experiments/main.sh has 56 commands: \n",
      "python train_lenia_evosax.py --seed=0 --save_dir=\"/home/akarshkumar0101/nca-alife-data/lenia_prompt1/0_Sep_CMA_ES_0\" --prompt=\"a biological cell\"                      --algo=\"Sep_CMA_ES\" --rollout_steps=200 --bs=32 --n_iters=10000\n",
      "python train_lenia_evosax.py --seed=0 --save_dir=\"/home/akarshkumar0101/nca-alife-data/lenia_prompt1/0_Sep_CMA_ES_1\" --prompt=\"a biological cell under the microscope\" --algo=\"Sep_CMA_ES\" --rollout_steps=200 --bs=32 --n_iters=10000\n",
      "python train_lenia_evosax.py --seed=0 --save_dir=\"/home/akarshkumar0101/nca-alife-data/lenia_prompt1/0_Sep_CMA_ES_2\" --prompt=\"a red organism\"                         --algo=\"Sep_CMA_ES\" --rollout_steps=200 --bs=32 --n_iters=10000 \n",
      "...\n",
      "Logging to /home/akarshkumar0101/nca-alife-data/logs/2024_08_06_09_06_00\n"
     ]
    }
   ],
   "source": [
    "header = '\\n'.join([\n",
    "    '#!/bin/bash',\n",
    "    \n",
    "    # 'source ~/.virtualenvs/nca-alife-torch/bin/activate'\n",
    "    \n",
    "    'source ~/miniconda3/etc/profile.d/conda.sh',\n",
    "    'conda activate nca-alife-jax',\n",
    "    \n",
    "    'cd ~/nca-alife/src'\n",
    "])\n",
    "\n",
    "\n",
    "gpus = [4, 5, 6, 7]\n",
    "log_dir = os.path.expanduser(f'~/nca-alife-data/logs/{time.strftime(\"%Y_%m_%d_%H_%M_%S\")}')\n",
    "exp_sh = f'./src/experiments/main.sh'\n",
    "with open(exp_sh, 'r') as f:\n",
    "    commands = [c for c in f.read().split('\\n') if c]\n",
    "print(f\"{exp_sh} has {len(commands)} commands: \")\n",
    "print('\\n'.join(commands[:3]), '\\n...')\n",
    "print(f\"Logging to {log_dir}\")"
   ]
  },
  {
   "cell_type": "code",
   "execution_count": 21,
   "id": "606a1e32-67e7-4c6c-b426-614ccd1651c4",
   "metadata": {},
   "outputs": [
    {
     "name": "stdout",
     "output_type": "stream",
     "text": [
      "/home/akarshkumar0101/nca-alife-data/logs/2024_08_06_09_06_00\n"
     ]
    }
   ],
   "source": [
    "print(log_dir)"
   ]
  },
  {
   "cell_type": "code",
   "execution_count": null,
   "id": "5a6eb46d-b180-47c0-9e47-045a0f8f9dde",
   "metadata": {},
   "outputs": [],
   "source": []
  },
  {
   "cell_type": "code",
   "execution_count": 22,
   "id": "ccbc7bd83eb023cb",
   "metadata": {
    "ExecuteTime": {
     "end_time": "2024-06-05T16:32:47.309708Z",
     "start_time": "2024-06-05T16:32:47.171678Z"
    }
   },
   "outputs": [],
   "source": [
    "!mkdir -p {log_dir}\n",
    "!rm {os.path.dirname(log_dir)+'/latest'}\n",
    "!ln -sf {log_dir} {os.path.dirname(log_dir)+'/latest'}\n",
    "for i_gpu, gpu in enumerate(gpus):\n",
    "    job_ids = np.arange(len(commands))[i_gpu::len(gpus)]\n",
    "    cvd = f'export CUDA_VISIBLE_DEVICES={gpu}'\n",
    "    txt = f\"{header}\\n{cvd}\\n\\n\"\n",
    "    for job_id in job_ids:\n",
    "        txt += f\"touch {log_dir}/job_{job_id:05d}.status\\n\"\n",
    "        txt += f\"{commands[job_id]} &> {log_dir}/job_{job_id:05d}.out\\n\"\n",
    "        txt += f\"echo $? > {log_dir}/job_{job_id:05d}.status\\n\\n\"\n",
    "    with open(f\"{log_dir}/gpu_{gpu}.sh\", \"w\") as f:\n",
    "        f.write(txt)"
   ]
  },
  {
   "cell_type": "code",
   "execution_count": 23,
   "id": "fd11b06be751b124",
   "metadata": {
    "ExecuteTime": {
     "end_time": "2024-06-05T16:32:47.659970Z",
     "start_time": "2024-06-05T16:32:47.641164Z"
    }
   },
   "outputs": [
    {
     "name": "stdout",
     "output_type": "stream",
     "text": [
      "#!/bin/bash\n",
      "source ~/miniconda3/etc/profile.d/conda.sh\n",
      "conda activate nca-alife-jax\n",
      "cd ~/nca-alife/src\n",
      "export CUDA_VISIBLE_DEVICES=7\n",
      "\n",
      "touch /home/akarshkumar0101/nca-alife-data/logs/2024_08_06_09_06_00/job_00003.status\n",
      "python train_lenia_evosax.py --seed=0 --save_dir=\"/home/akarshkumar0101/nca-alife-data/lenia_prompt1/0_Sep_CMA_ES_3\" --prompt=\"a cool colorful pattern\"                --algo=\"Sep_CMA_ES\" --rollout_steps=200 --bs=32 --n_iters=10000 &> /home/akarshkumar0101/nca-alife-data/logs/2024_08_06_09_06_00/job_00003.out\n",
      "echo $? > /home/akarshkumar0101/nca-alife-data/logs/2024_08_06_09_06_00/job_00003.status\n",
      "\n",
      "touch /home/akarshkumar0101/nca-alife-data/logs/2024_08_06_09_06_00/job_00007.status\n",
      "python train_lenia_evosax.py --seed=1 --save_dir=\"/home/akarshkumar0101/nca-alife-data/lenia_prompt1/1_Sep_CMA_ES_0\" --prompt=\"a biological cell\"                      --algo=\"Sep_CMA_ES\" --rollout_steps=200 --bs=32 --n_iters=10000 &> /home/akarshkumar0101/nca-alife-data/logs/2024_08_06_09_06_00/job_00007.out\n",
      "echo $? > /home/akarshkumar0101/nca-alife-data/logs/2024_08_06_09_06_00/job_00007.status\n",
      "\n",
      "touch /home/akarshkumar0101/nca-alife-data/logs/2024_08_06_09_06_00/job_00011.status\n",
      "python train_lenia_evosax.py --seed=1 --save_dir=\"/home/akarshkumar0101/nca-alife-data/lenia_prompt1/1_Sep_CMA_ES_4\" --prompt=\"a bacterium under the microscope\"       --algo=\"Sep_CMA_ES\" --rollout_steps=200 --bs=32 --n_iters=10000 &> /home/akarshkumar0101/nca-alife-data/logs/2024_08_06_09_06_00/job_00011.out\n",
      "echo $? > /home/akarshkumar0101/nca-alife-data/logs/2024_08_06_09_06_00/job_00011.status\n",
      "\n",
      "touch /home/akarshkumar0101/nca-alife-data/logs/2024_08_06_09_06_00/job_00015.status\n",
      "python train_lenia_evosax.py --seed=2 --save_dir=\"/home/akarshkumar0101/nca-alife-data/lenia_prompt1/2_Sep_CMA_ES_1\" --prompt=\"a biological cell under the microscope\" --algo=\"Sep_CMA_ES\" --rollout_steps=200 --bs=32 --n_iters=10000 &> /home/akarshkumar0101/nca-alife-data/logs/2024_08_06_09_06_00/job_00015.out\n",
      "echo $? > /home/akarshkumar0101/nca-alife-data/logs/2024_08_06_09_06_00/job_00015.status\n",
      "\n",
      "touch /home/akarshkumar0101/nca-alife-data/logs/2024_08_06_09_06_00/job_00019.status\n",
      "python train_lenia_evosax.py --seed=2 --save_dir=\"/home/akarshkumar0101/nca-alife-data/lenia_prompt1/2_Sep_CMA_ES_5\" --prompt=\"an artificial life organism\"            --algo=\"Sep_CMA_ES\" --rollout_steps=200 --bs=32 --n_iters=10000 &> /home/akarshkumar0101/nca-alife-data/logs/2024_08_06_09_06_00/job_00019.out\n"
     ]
    }
   ],
   "source": [
    "print('\\n'.join(txt.split('\\n')[:24]))"
   ]
  },
  {
   "cell_type": "code",
   "execution_count": null,
   "id": "7a7a1ba5-f8cf-4cb2-93ba-25a548a0f499",
   "metadata": {},
   "outputs": [],
   "source": []
  },
  {
   "cell_type": "code",
   "execution_count": null,
   "id": "9e48a7c8-f06d-4b33-9226-b0800279667e",
   "metadata": {},
   "outputs": [],
   "source": []
  },
  {
   "cell_type": "code",
   "execution_count": null,
   "id": "d10b736e-5b7c-40d1-8ffd-a5e3f2b0add4",
   "metadata": {},
   "outputs": [],
   "source": []
  },
  {
   "cell_type": "code",
   "execution_count": 24,
   "id": "e5ce96252f75f2f9",
   "metadata": {
    "ExecuteTime": {
     "end_time": "2024-06-05T16:35:49.567207Z",
     "start_time": "2024-06-05T16:35:49.546023Z"
    }
   },
   "outputs": [
    {
     "name": "stdout",
     "output_type": "stream",
     "text": [
      "bash /home/akarshkumar0101/nca-alife-data/logs/2024_08_06_09_06_00/gpu_4.sh\n",
      "bash /home/akarshkumar0101/nca-alife-data/logs/2024_08_06_09_06_00/gpu_5.sh\n",
      "bash /home/akarshkumar0101/nca-alife-data/logs/2024_08_06_09_06_00/gpu_6.sh\n",
      "bash /home/akarshkumar0101/nca-alife-data/logs/2024_08_06_09_06_00/gpu_7.sh\n"
     ]
    }
   ],
   "source": [
    "for i_gpu, gpu in enumerate(gpus):\n",
    "    command = f\"bash {log_dir}/gpu_{gpu}.sh\"\n",
    "    print(command)\n",
    "    process = subprocess.Popen(command, shell=True)"
   ]
  },
  {
   "cell_type": "code",
   "execution_count": null,
   "id": "8d4b43ea-3cd2-4567-9e7b-819a109f4672",
   "metadata": {},
   "outputs": [],
   "source": []
  },
  {
   "cell_type": "code",
   "execution_count": null,
   "id": "0993c800-10a3-4d44-a37b-55aff7b6da13",
   "metadata": {},
   "outputs": [],
   "source": []
  },
  {
   "cell_type": "code",
   "execution_count": null,
   "id": "5f6328aa-5b2e-4739-b80d-2ebc1761740a",
   "metadata": {},
   "outputs": [],
   "source": []
  },
  {
   "cell_type": "markdown",
   "id": "233f54f7c2310a69",
   "metadata": {},
   "source": [
    "# Track Experiment"
   ]
  },
  {
   "cell_type": "code",
   "execution_count": 22,
   "id": "323b77b2-6677-4b3b-9864-10f98df4c77d",
   "metadata": {},
   "outputs": [],
   "source": [
    "import subprocess\n",
    "a = subprocess.run(['ps', 'ux'], stdout=subprocess.PIPE).stdout.decode('utf-8')"
   ]
  },
  {
   "cell_type": "code",
   "execution_count": 25,
   "id": "6919b53c-0578-4e33-a86b-471b78449bee",
   "metadata": {},
   "outputs": [
    {
     "data": {
      "text/plain": [
       "['akarshk+ 1271851  0.0  0.0   2480   572 ?        S    04:58   0:00 /bin/sh -c bash /home/akarshkumar0101/nca-alife-data/logs/2024_07_31_04_58_39/gpu_4.sh',\n",
       " 'akarshk+ 1271852  0.0  0.0   2480   516 ?        S    04:58   0:00 /bin/sh -c bash /home/akarshkumar0101/nca-alife-data/logs/2024_07_31_04_58_39/gpu_5.sh',\n",
       " 'akarshk+ 1271853  0.0  0.0 219972  3408 ?        S    04:58   0:00 bash /home/akarshkumar0101/nca-alife-data/logs/2024_07_31_04_58_39/gpu_4.sh',\n",
       " 'akarshk+ 1271854  0.0  0.0   2480   512 ?        S    04:58   0:00 /bin/sh -c bash /home/akarshkumar0101/nca-alife-data/logs/2024_07_31_04_58_39/gpu_6.sh',\n",
       " 'akarshk+ 1271855  0.0  0.0 219972  3200 ?        S    04:58   0:00 bash /home/akarshkumar0101/nca-alife-data/logs/2024_07_31_04_58_39/gpu_5.sh',\n",
       " 'akarshk+ 1271856  0.0  0.0   2480   516 ?        S    04:58   0:00 /bin/sh -c bash /home/akarshkumar0101/nca-alife-data/logs/2024_07_31_04_58_39/gpu_7.sh',\n",
       " 'akarshk+ 1271857  0.0  0.0 219972  3460 ?        S    04:58   0:00 bash /home/akarshkumar0101/nca-alife-data/logs/2024_07_31_04_58_39/gpu_6.sh',\n",
       " 'akarshk+ 1271858  0.0  0.0 219972  3188 ?        S    04:58   0:00 bash /home/akarshkumar0101/nca-alife-data/logs/2024_07_31_04_58_39/gpu_7.sh']"
      ]
     },
     "execution_count": 25,
     "metadata": {},
     "output_type": "execute_result"
    },
    {
     "name": "stderr",
     "output_type": "stream",
     "text": [
      "Terminated\n",
      "Terminated\n",
      "Terminated\n",
      "Terminated\n"
     ]
    }
   ],
   "source": [
    "[l for l in a.split('\\n') if \"bash\" in l and \"gpu\" in l]"
   ]
  },
  {
   "cell_type": "code",
   "execution_count": null,
   "id": "8b02e737-1457-43f7-87d9-51b427af547e",
   "metadata": {},
   "outputs": [],
   "source": []
  },
  {
   "cell_type": "code",
   "execution_count": null,
   "id": "852dbcf0-5257-48ab-ab62-b1a5b15b313d",
   "metadata": {},
   "outputs": [],
   "source": []
  },
  {
   "cell_type": "code",
   "execution_count": null,
   "id": "577c510a-4b86-40ea-abbe-f3bcccd0dc38",
   "metadata": {},
   "outputs": [],
   "source": []
  },
  {
   "cell_type": "code",
   "execution_count": null,
   "id": "08e8cb76-82d8-4262-9810-ace0da1af5a6",
   "metadata": {},
   "outputs": [],
   "source": []
  },
  {
   "cell_type": "code",
   "execution_count": null,
   "id": "a8de783f-f18d-46a7-8f4c-f713fb65e819",
   "metadata": {},
   "outputs": [],
   "source": []
  },
  {
   "cell_type": "code",
   "execution_count": null,
   "id": "7e14cb0f-392a-4607-b5b2-eb122dd1d0b2",
   "metadata": {},
   "outputs": [],
   "source": []
  },
  {
   "cell_type": "code",
   "execution_count": 41,
   "id": "1eb72d2c-d077-466b-b7a3-c70eb8666291",
   "metadata": {},
   "outputs": [],
   "source": [
    "from collections import defaultdict\n",
    "\n",
    "statuses = []\n",
    "for job_id in range(len(commands)):\n",
    "    try:\n",
    "        with open(f\"{log_dir}/job_{job_id:05d}.status\", \"r\") as f:\n",
    "            status = int(f.read().strip())\n",
    "            statuses.append(status)\n",
    "    except Exception as e:\n",
    "        pass\n",
    "        # print(e)\n",
    "        # break\n",
    "statuses = np.array(statuses)"
   ]
  },
  {
   "cell_type": "code",
   "execution_count": 42,
   "id": "3da1b300-6f0e-4e26-9b1b-8e282397d567",
   "metadata": {},
   "outputs": [
    {
     "data": {
      "text/plain": [
       "(49, 56)"
      ]
     },
     "execution_count": 42,
     "metadata": {},
     "output_type": "execute_result"
    }
   ],
   "source": [
    "(statuses==0).sum(), len(commands)"
   ]
  },
  {
   "cell_type": "code",
   "execution_count": 43,
   "id": "bbd276b2-fcd2-4344-b410-0aa6ef14ea7f",
   "metadata": {
    "scrolled": true
   },
   "outputs": [
    {
     "data": {
      "text/plain": [
       "(array([0, 1]), array([49,  7]))"
      ]
     },
     "execution_count": 43,
     "metadata": {},
     "output_type": "execute_result"
    }
   ],
   "source": [
    "np.unique(statuses, return_counts=True)"
   ]
  },
  {
   "cell_type": "code",
   "execution_count": 45,
   "id": "f29454cc-37ed-4567-b18f-18f1cebee796",
   "metadata": {},
   "outputs": [
    {
     "data": {
      "text/plain": [
       "11"
      ]
     },
     "execution_count": 45,
     "metadata": {},
     "output_type": "execute_result"
    }
   ],
   "source": [
    "statuses.argmax()"
   ]
  },
  {
   "cell_type": "code",
   "execution_count": 49,
   "id": "2f70ce8a-450a-42e0-a604-5786239148e8",
   "metadata": {},
   "outputs": [
    {
     "data": {
      "text/plain": [
       "'python train_lenia_evosax.py --seed=1 --save_dir=\"/home/akarshkumar0101/nca-alife-data/lenia_prompt1/1_Sep_CMA_ES_4\" --prompt=\"a bacterium under the microscope\"       --algo=\"Sep_CMA_ES\" --rollout_steps=200 --bs=32 --n_iters=10000'"
      ]
     },
     "execution_count": 49,
     "metadata": {},
     "output_type": "execute_result"
    }
   ],
   "source": [
    "commands[11]"
   ]
  },
  {
   "cell_type": "code",
   "execution_count": 50,
   "id": "e9ad025c-dca9-4daf-8079-2e3f37563abe",
   "metadata": {},
   "outputs": [
    {
     "data": {
      "text/plain": [
       "'/home/akarshkumar0101/nca-alife-data/logs/2024_08_06_09_06_00'"
      ]
     },
     "execution_count": 50,
     "metadata": {},
     "output_type": "execute_result"
    }
   ],
   "source": [
    "log_dir"
   ]
  },
  {
   "cell_type": "code",
   "execution_count": null,
   "id": "c6176be8-cffc-4222-821d-cdfa340a31cc",
   "metadata": {},
   "outputs": [],
   "source": []
  },
  {
   "cell_type": "code",
   "execution_count": null,
   "id": "0684129a-8adf-4f44-9d0c-52333b1fcb92",
   "metadata": {},
   "outputs": [],
   "source": []
  },
  {
   "cell_type": "code",
   "execution_count": null,
   "id": "187c7fdf-be2a-4ab3-9d8c-5846bb278b1f",
   "metadata": {},
   "outputs": [],
   "source": []
  },
  {
   "cell_type": "code",
   "execution_count": 40,
   "id": "b87eb0da-3b7d-41c1-b656-7810bf958163",
   "metadata": {},
   "outputs": [
    {
     "name": "stdout",
     "output_type": "stream",
     "text": [
      "\n",
      "------------------------------------------------------ 0 ------------------------------------------------------\n",
      "\n",
      "100%|██████████| 10000/10000 [15:19<00:00, 10.87it/s, loss=-0.312]\n",
      "\n",
      "------------------------------------------------------ 1 ------------------------------------------------------\n",
      "\n",
      "100%|██████████| 10000/10000 [18:00<00:00,  9.26it/s, loss=-0.296]\n",
      "\n",
      "------------------------------------------------------ 2 ------------------------------------------------------\n",
      "\n",
      "100%|██████████| 10000/10000 [17:41<00:00,  9.42it/s, loss=-0.311]\n",
      "\n",
      "------------------------------------------------------ 3 ------------------------------------------------------\n",
      "\n",
      "100%|██████████| 10000/10000 [17:51<00:00,  9.33it/s, loss=-0.335]\n",
      "\n",
      "------------------------------------------------------ 4 ------------------------------------------------------\n",
      "\n",
      "100%|██████████| 10000/10000 [15:23<00:00, 10.83it/s, loss=-0.302]\n",
      "\n",
      "------------------------------------------------------ 5 ------------------------------------------------------\n",
      "\n",
      "100%|██████████| 10000/10000 [17:45<00:00,  9.38it/s, loss=-0.288]\n",
      "\n",
      "------------------------------------------------------ 6 ------------------------------------------------------\n",
      "\n",
      "100%|██████████| 10000/10000 [17:43<00:00,  9.40it/s, loss=-0.256]\n",
      "\n",
      "------------------------------------------------------ 7 ------------------------------------------------------\n",
      "\n",
      "100%|██████████| 10000/10000 [17:50<00:00,  9.34it/s, loss=-0.334]\n",
      "\n",
      "------------------------------------------------------ 8 ------------------------------------------------------\n",
      "\n",
      "100%|██████████| 10000/10000 [17:47<00:00,  9.37it/s, loss=-0.302]\n",
      "\n",
      "------------------------------------------------------ 9 ------------------------------------------------------\n",
      "\n",
      "100%|██████████| 10000/10000 [17:47<00:00,  9.37it/s, loss=-0.301]\n",
      "\n",
      "------------------------------------------------------ 10 ------------------------------------------------------\n",
      "\n",
      "100%|██████████| 10000/10000 [17:51<00:00,  9.33it/s, loss=-0.332]\n",
      "\n",
      "------------------------------------------------------ 11 ------------------------------------------------------\n",
      "\n",
      "For simplicity, JAX has removed its internal frames from the traceback of the following exception. Set JAX_TRACEBACK_FILTERING=off to include these.\n",
      "\n",
      "------------------------------------------------------ 12 ------------------------------------------------------\n",
      "\n",
      "100%|██████████| 10000/10000 [18:55<00:00,  8.81it/s, loss=-0.293]\n",
      "\n",
      "------------------------------------------------------ 13 ------------------------------------------------------\n",
      "\n",
      "For simplicity, JAX has removed its internal frames from the traceback of the following exception. Set JAX_TRACEBACK_FILTERING=off to include these.\n",
      "\n",
      "------------------------------------------------------ 14 ------------------------------------------------------\n",
      "\n",
      "100%|██████████| 10000/10000 [17:45<00:00,  9.38it/s, loss=-0.319]\n",
      "\n",
      "------------------------------------------------------ 15 ------------------------------------------------------\n",
      "\n",
      "100%|██████████| 10000/10000 [17:44<00:00,  9.39it/s, loss=-0.312]\n",
      "\n",
      "------------------------------------------------------ 16 ------------------------------------------------------\n",
      "\n",
      "100%|██████████| 10000/10000 [18:37<00:00,  8.95it/s, loss=-0.305]\n",
      "\n",
      "------------------------------------------------------ 17 ------------------------------------------------------\n",
      "\n",
      "100%|██████████| 10000/10000 [17:57<00:00,  9.28it/s, loss=-0.344]\n",
      "\n",
      "------------------------------------------------------ 18 ------------------------------------------------------\n",
      "\n",
      "100%|██████████| 10000/10000 [17:46<00:00,  9.37it/s, loss=-0.317]\n",
      "\n",
      "------------------------------------------------------ 19 ------------------------------------------------------\n",
      "\n",
      "100%|██████████| 10000/10000 [17:56<00:00,  9.29it/s, loss=-0.299]\n",
      "\n",
      "------------------------------------------------------ 20 ------------------------------------------------------\n",
      "\n",
      "100%|██████████| 10000/10000 [17:47<00:00,  9.36it/s, loss=-0.29]\n",
      "\n",
      "------------------------------------------------------ 21 ------------------------------------------------------\n",
      "\n",
      "100%|██████████| 10000/10000 [17:49<00:00,  9.35it/s, loss=-0.32]\n",
      "\n",
      "------------------------------------------------------ 22 ------------------------------------------------------\n",
      "\n",
      "100%|██████████| 10000/10000 [17:54<00:00,  9.31it/s, loss=-0.293]\n",
      "\n",
      "------------------------------------------------------ 23 ------------------------------------------------------\n",
      "\n",
      "100%|██████████| 10000/10000 [17:42<00:00,  9.41it/s, loss=-0.303]\n",
      "\n",
      "------------------------------------------------------ 24 ------------------------------------------------------\n",
      "\n",
      "100%|██████████| 10000/10000 [17:54<00:00,  9.31it/s, loss=-0.341]\n",
      "\n",
      "------------------------------------------------------ 25 ------------------------------------------------------\n",
      "\n",
      "100%|██████████| 10000/10000 [17:59<00:00,  9.26it/s, loss=-0.306]\n",
      "\n",
      "------------------------------------------------------ 26 ------------------------------------------------------\n",
      "\n",
      "100%|██████████| 10000/10000 [17:59<00:00,  9.26it/s, loss=-0.294]\n",
      "\n",
      "------------------------------------------------------ 27 ------------------------------------------------------\n",
      "\n",
      "100%|██████████| 10000/10000 [17:48<00:00,  9.36it/s, loss=-0.374]\n",
      "\n",
      "------------------------------------------------------ 28 ------------------------------------------------------\n",
      "\n",
      "100%|██████████| 10000/10000 [51:40<00:00,  3.23it/s, loss=-0.336]\n",
      "\n",
      "------------------------------------------------------ 29 ------------------------------------------------------\n",
      "\n",
      "100%|██████████| 10000/10000 [51:48<00:00,  3.22it/s, loss=-0.303]\n",
      "\n",
      "------------------------------------------------------ 30 ------------------------------------------------------\n",
      "\n",
      "100%|██████████| 10000/10000 [51:35<00:00,  3.23it/s, loss=-0.299]\n",
      "\n",
      "------------------------------------------------------ 31 ------------------------------------------------------\n",
      "\n",
      "100%|██████████| 10000/10000 [51:40<00:00,  3.23it/s, loss=-0.337]\n",
      "\n",
      "------------------------------------------------------ 32 ------------------------------------------------------\n",
      "\n",
      "100%|██████████| 10000/10000 [51:31<00:00,  3.23it/s, loss=-0.301]\n",
      "\n",
      "------------------------------------------------------ 33 ------------------------------------------------------\n",
      "\n",
      "100%|██████████| 10000/10000 [51:32<00:00,  3.23it/s, loss=-0.286]\n",
      "\n",
      "------------------------------------------------------ 34 ------------------------------------------------------\n",
      "\n",
      "100%|██████████| 10000/10000 [51:21<00:00,  3.24it/s, loss=-0.257]\n",
      "\n",
      "------------------------------------------------------ 35 ------------------------------------------------------\n",
      "\n",
      "For simplicity, JAX has removed its internal frames from the traceback of the following exception. Set JAX_TRACEBACK_FILTERING=off to include these.\n",
      "\n",
      "------------------------------------------------------ 36 ------------------------------------------------------\n",
      "\n",
      "For simplicity, JAX has removed its internal frames from the traceback of the following exception. Set JAX_TRACEBACK_FILTERING=off to include these.\n",
      "\n",
      "------------------------------------------------------ 37 ------------------------------------------------------\n",
      "\n",
      "100%|██████████| 10000/10000 [51:19<00:00,  3.25it/s, loss=-0.307]\n",
      "\n",
      "------------------------------------------------------ 38 ------------------------------------------------------\n",
      "\n",
      "100%|██████████| 10000/10000 [51:30<00:00,  3.24it/s, loss=-0.338]\n",
      "\n",
      "------------------------------------------------------ 39 ------------------------------------------------------\n",
      "\n",
      "For simplicity, JAX has removed its internal frames from the traceback of the following exception. Set JAX_TRACEBACK_FILTERING=off to include these.\n",
      "\n",
      "------------------------------------------------------ 40 ------------------------------------------------------\n",
      "\n",
      "For simplicity, JAX has removed its internal frames from the traceback of the following exception. Set JAX_TRACEBACK_FILTERING=off to include these.\n",
      "\n",
      "------------------------------------------------------ 41 ------------------------------------------------------\n",
      "\n",
      "For simplicity, JAX has removed its internal frames from the traceback of the following exception. Set JAX_TRACEBACK_FILTERING=off to include these.\n",
      "\n",
      "------------------------------------------------------ 42 ------------------------------------------------------\n",
      "\n",
      "100%|██████████| 10000/10000 [51:28<00:00,  3.24it/s, loss=-0.329]\n",
      "\n",
      "------------------------------------------------------ 43 ------------------------------------------------------\n",
      "\n",
      "100%|██████████| 10000/10000 [51:32<00:00,  3.23it/s, loss=-0.306]\n",
      "\n",
      "------------------------------------------------------ 44 ------------------------------------------------------\n",
      "\n",
      "100%|██████████| 10000/10000 [51:20<00:00,  3.25it/s, loss=-0.308]\n",
      "\n",
      "------------------------------------------------------ 45 ------------------------------------------------------\n",
      "\n",
      "100%|██████████| 10000/10000 [51:33<00:00,  3.23it/s, loss=-0.344]\n",
      "\n",
      "------------------------------------------------------ 46 ------------------------------------------------------\n",
      "\n",
      "100%|██████████| 10000/10000 [51:24<00:00,  3.24it/s, loss=-0.315]\n",
      "\n",
      "------------------------------------------------------ 47 ------------------------------------------------------\n",
      "\n",
      "100%|██████████| 10000/10000 [51:28<00:00,  3.24it/s, loss=-0.293]\n",
      "\n",
      "------------------------------------------------------ 48 ------------------------------------------------------\n",
      "\n",
      "100%|██████████| 10000/10000 [51:23<00:00,  3.24it/s, loss=-0.289]\n",
      "\n",
      "------------------------------------------------------ 49 ------------------------------------------------------\n",
      "\n",
      "100%|██████████| 10000/10000 [51:26<00:00,  3.24it/s, loss=-0.321]\n",
      "\n",
      "------------------------------------------------------ 50 ------------------------------------------------------\n",
      "\n",
      "100%|██████████| 10000/10000 [51:32<00:00,  3.23it/s, loss=-0.294]\n",
      "\n",
      "------------------------------------------------------ 51 ------------------------------------------------------\n",
      "\n",
      "100%|██████████| 10000/10000 [51:21<00:00,  3.25it/s, loss=-0.309]\n",
      "\n",
      "------------------------------------------------------ 52 ------------------------------------------------------\n",
      "\n",
      "100%|██████████| 10000/10000 [51:35<00:00,  3.23it/s, loss=-0.343]\n",
      "\n",
      "------------------------------------------------------ 53 ------------------------------------------------------\n",
      "\n",
      "100%|██████████| 10000/10000 [51:38<00:00,  3.23it/s, loss=-0.292]\n",
      "\n",
      "------------------------------------------------------ 54 ------------------------------------------------------\n",
      "\n",
      "100%|██████████| 10000/10000 [51:29<00:00,  3.24it/s, loss=-0.292]\n",
      "\n",
      "------------------------------------------------------ 55 ------------------------------------------------------\n",
      "\n",
      "100%|██████████| 10000/10000 [51:29<00:00,  3.24it/s, loss=-0.299]\n"
     ]
    }
   ],
   "source": [
    "for job_id in list(range(len(commands))):\n",
    "    print()\n",
    "    print(f'------------------------------------------------------ {job_id} ------------------------------------------------------')\n",
    "    print()\n",
    "    try:\n",
    "        with open(f\"{log_dir}/job_{job_id:05d}.out\", \"r\") as f:\n",
    "            print(f.readlines()[-1].strip())\n",
    "    except Exception as e:\n",
    "        # pass\n",
    "        break\n",
    "        print(e)"
   ]
  },
  {
   "cell_type": "code",
   "execution_count": 14,
   "id": "1f545d74-19fc-42d7-a744-de052c2619aa",
   "metadata": {},
   "outputs": [
    {
     "data": {
      "text/plain": [
       "'/home/akarshkumar0101/nca-alife-data/logs/2024_08_02_05_16_15'"
      ]
     },
     "execution_count": 14,
     "metadata": {},
     "output_type": "execute_result"
    }
   ],
   "source": [
    "log_dir"
   ]
  },
  {
   "cell_type": "code",
   "execution_count": null,
   "id": "c75eacd4eb3f534d",
   "metadata": {},
   "outputs": [],
   "source": []
  },
  {
   "cell_type": "code",
   "execution_count": null,
   "id": "d2d8e17e3abe3689",
   "metadata": {},
   "outputs": [],
   "source": []
  }
 ],
 "metadata": {
  "kernelspec": {
   "display_name": "Python 3 (ipykernel)",
   "language": "python",
   "name": "python3"
  },
  "language_info": {
   "codemirror_mode": {
    "name": "ipython",
    "version": 3
   },
   "file_extension": ".py",
   "mimetype": "text/x-python",
   "name": "python",
   "nbconvert_exporter": "python",
   "pygments_lexer": "ipython3",
   "version": "3.12.3"
  }
 },
 "nbformat": 4,
 "nbformat_minor": 5
}

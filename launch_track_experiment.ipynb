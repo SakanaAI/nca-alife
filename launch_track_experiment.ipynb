{
 "cells": [
  {
   "cell_type": "code",
   "execution_count": 32,
   "id": "initial_id",
   "metadata": {
    "ExecuteTime": {
     "end_time": "2024-06-05T15:24:12.196261Z",
     "start_time": "2024-06-05T15:24:11.937119Z"
    }
   },
   "outputs": [
    {
     "name": "stdout",
     "output_type": "stream",
     "text": [
      "The autoreload extension is already loaded. To reload it, use:\n",
      "  %reload_ext autoreload\n",
      "fish-gcp005\n",
      "/home/akarshkumar0101/nca-alife\n",
      "/home/akarshkumar0101/miniconda3/envs/nca-alife-torch/bin/python\n"
     ]
    }
   ],
   "source": [
    "%load_ext autoreload\n",
    "%autoreload 2\n",
    "!hostname\n",
    "!pwd\n",
    "import os, sys\n",
    "print(sys.executable)"
   ]
  },
  {
   "cell_type": "code",
   "execution_count": 33,
   "id": "b14fab765a9b502f",
   "metadata": {
    "ExecuteTime": {
     "end_time": "2024-06-05T15:24:46.791547Z",
     "start_time": "2024-06-05T15:24:46.534227Z"
    }
   },
   "outputs": [],
   "source": [
    "import os, sys, glob, pickle\n",
    "from functools import partial\n",
    "\n",
    "import numpy as np\n",
    "import pandas as pd\n",
    "import xarray as xr\n",
    "import matplotlib.pyplot as plt\n",
    "import seaborn as sns\n",
    "# sns.set_theme()\n",
    "\n",
    "from tqdm.auto import tqdm\n",
    "from einops import rearrange, reduce, repeat"
   ]
  },
  {
   "cell_type": "code",
   "execution_count": 34,
   "id": "cd70dd980a69d0d2",
   "metadata": {
    "ExecuteTime": {
     "end_time": "2024-06-05T16:32:40.437767Z",
     "start_time": "2024-06-05T16:32:40.418237Z"
    }
   },
   "outputs": [],
   "source": [
    "# import experiment_utils\n",
    "import time\n",
    "import subprocess"
   ]
  },
  {
   "cell_type": "markdown",
   "id": "d25a8459feec83fd",
   "metadata": {},
   "source": [
    "# Launch Experiment (on this node)"
   ]
  },
  {
   "cell_type": "code",
   "execution_count": 35,
   "id": "8c39a5bfd56aad84",
   "metadata": {
    "ExecuteTime": {
     "end_time": "2024-06-05T16:32:45.724746Z",
     "start_time": "2024-06-05T16:32:45.705123Z"
    }
   },
   "outputs": [
    {
     "name": "stdout",
     "output_type": "stream",
     "text": [
      "./src/experiments/main.sh has 4 commands: \n",
      "python nca_multi_prompt_clip.py --seed=0 --save_dir=\"/home/akarshkumar0101/nca-alife-data/nca_multi_prompt_clip/cell_prompt_seed=0\" --img_size=64 --n_layers=2 --d_state=16 --d_embd=32 --init_state=\"point\" --padding_mode=\"zeros\" --dt=0.01 --p_drop=0.0 --rollout_steps=1024 --bptt_steps=16 --prompt=\"Artificial Life Simulation Stage 0: Atomic Formation, Random atoms disperse throughout the simulation space.;Artificial Life Simulation Stage 1: Atomic Formation, Atoms collide and bond, forming basic molecules.;Artificial Life Simulation Stage 2: Atomic Formation, Energy fluctuations cause molecules to break and reform.;Artificial Life Simulation Stage 3: Atomic Formation, Stable molecular clusters start to appear.;Artificial Life Simulation Stage 4: Atomic Formation, Formation of complex molecules like amino acids.;Artificial Life Simulation Stage 5: Atomic Formation, Development of nucleotides, basic building blocks of life.;Artificial Life Simulation Stage 6: Atomic Formation, Emergence of simple sugars and fatty acids.;Artificial Life Simulation Stage 7: Atomic Formation, Molecules develop ability to store and transfer energy.;Artificial Life Simulation Stage 8: Molecular Complexity, Formation of macromolecules through polymerization.;Artificial Life Simulation Stage 9: Molecular Complexity, Nucleic acids chain into primitive RNA strands.;Artificial Life Simulation Stage 10: Molecular Complexity, Protocells form from self-assembled lipid bilayers.;Artificial Life Simulation Stage 11: Molecular Complexity, Encapsulation of organic molecules within protocells.;Artificial Life Simulation Stage 12: Molecular Complexity, Selective permeability evolves in protocell membranes.;Artificial Life Simulation Stage 13: Molecular Complexity, Protocells absorb nutrients through osmosis.;Artificial Life Simulation Stage 14: Molecular Complexity, Primitive metabolic pathways emerge in protocells.;Artificial Life Simulation Stage 15: Molecular Complexity, RNA molecules begin acting as primitive enzymes.;Artificial Life Simulation Stage 16: Prebiotic Systems, Development of replication mechanisms in RNA strands.;Artificial Life Simulation Stage 17: Prebiotic Systems, Protocells replicate through simple division.;Artificial Life Simulation Stage 18: Prebiotic Systems, Emergence of competitive interactions among protocells.;Artificial Life Simulation Stage 19: Prebiotic Systems, Natural selection leads to more efficient metabolisms.;Artificial Life Simulation Stage 20: Prebiotic Systems, Energy harnessing systems evolve, like primitive photosynthesis.;Artificial Life Simulation Stage 21: Prebiotic Systems, Genetic variations appear from replication errors.;Artificial Life Simulation Stage 22: Prebiotic Systems, Environmental pressures lead to diverse protocell types.;Artificial Life Simulation Stage 23: Prebiotic Systems, Cooperation among protocells begins, forming colonies.;Artificial Life Simulation Stage 24: Early Life Emergence, Protocells evolve to use external energy sources.;Artificial Life Simulation Stage 25: Early Life Emergence, Formation of primitive organelles within cells.;Artificial Life Simulation Stage 26: Early Life Emergence, RNA world transitions towards DNA-based genetic storage.;Artificial Life Simulation Stage 27: Early Life Emergence, First true cells with distinct cellular machinery.;Artificial Life Simulation Stage 28: Early Life Emergence, Cellular communication mechanisms develop.;Artificial Life Simulation Stage 29: Early Life Emergence, Sexual reproduction mechanisms emerge.;Artificial Life Simulation Stage 30: Early Life Emergence, Cells differentiate to perform specialized functions.;Artificial Life Simulation Stage 31: Early Life Emergence, First multicellular organisms form through cell cooperation.\" --n_augs=1 --augs=\"crop+pers\" --bs=8 --lr=0.0003 --n_iters=2000000 --clip_grad_norm=1.0\n",
      "python nca_multi_prompt_clip.py --seed=1 --save_dir=\"/home/akarshkumar0101/nca-alife-data/nca_multi_prompt_clip/cell_prompt_seed=1\" --img_size=64 --n_layers=2 --d_state=16 --d_embd=32 --init_state=\"point\" --padding_mode=\"zeros\" --dt=0.01 --p_drop=0.0 --rollout_steps=1024 --bptt_steps=16 --prompt=\"Artificial Life Simulation Stage 0: Atomic Formation, Random atoms disperse throughout the simulation space.;Artificial Life Simulation Stage 1: Atomic Formation, Atoms collide and bond, forming basic molecules.;Artificial Life Simulation Stage 2: Atomic Formation, Energy fluctuations cause molecules to break and reform.;Artificial Life Simulation Stage 3: Atomic Formation, Stable molecular clusters start to appear.;Artificial Life Simulation Stage 4: Atomic Formation, Formation of complex molecules like amino acids.;Artificial Life Simulation Stage 5: Atomic Formation, Development of nucleotides, basic building blocks of life.;Artificial Life Simulation Stage 6: Atomic Formation, Emergence of simple sugars and fatty acids.;Artificial Life Simulation Stage 7: Atomic Formation, Molecules develop ability to store and transfer energy.;Artificial Life Simulation Stage 8: Molecular Complexity, Formation of macromolecules through polymerization.;Artificial Life Simulation Stage 9: Molecular Complexity, Nucleic acids chain into primitive RNA strands.;Artificial Life Simulation Stage 10: Molecular Complexity, Protocells form from self-assembled lipid bilayers.;Artificial Life Simulation Stage 11: Molecular Complexity, Encapsulation of organic molecules within protocells.;Artificial Life Simulation Stage 12: Molecular Complexity, Selective permeability evolves in protocell membranes.;Artificial Life Simulation Stage 13: Molecular Complexity, Protocells absorb nutrients through osmosis.;Artificial Life Simulation Stage 14: Molecular Complexity, Primitive metabolic pathways emerge in protocells.;Artificial Life Simulation Stage 15: Molecular Complexity, RNA molecules begin acting as primitive enzymes.;Artificial Life Simulation Stage 16: Prebiotic Systems, Development of replication mechanisms in RNA strands.;Artificial Life Simulation Stage 17: Prebiotic Systems, Protocells replicate through simple division.;Artificial Life Simulation Stage 18: Prebiotic Systems, Emergence of competitive interactions among protocells.;Artificial Life Simulation Stage 19: Prebiotic Systems, Natural selection leads to more efficient metabolisms.;Artificial Life Simulation Stage 20: Prebiotic Systems, Energy harnessing systems evolve, like primitive photosynthesis.;Artificial Life Simulation Stage 21: Prebiotic Systems, Genetic variations appear from replication errors.;Artificial Life Simulation Stage 22: Prebiotic Systems, Environmental pressures lead to diverse protocell types.;Artificial Life Simulation Stage 23: Prebiotic Systems, Cooperation among protocells begins, forming colonies.;Artificial Life Simulation Stage 24: Early Life Emergence, Protocells evolve to use external energy sources.;Artificial Life Simulation Stage 25: Early Life Emergence, Formation of primitive organelles within cells.;Artificial Life Simulation Stage 26: Early Life Emergence, RNA world transitions towards DNA-based genetic storage.;Artificial Life Simulation Stage 27: Early Life Emergence, First true cells with distinct cellular machinery.;Artificial Life Simulation Stage 28: Early Life Emergence, Cellular communication mechanisms develop.;Artificial Life Simulation Stage 29: Early Life Emergence, Sexual reproduction mechanisms emerge.;Artificial Life Simulation Stage 30: Early Life Emergence, Cells differentiate to perform specialized functions.;Artificial Life Simulation Stage 31: Early Life Emergence, First multicellular organisms form through cell cooperation.\" --n_augs=1 --augs=\"crop+pers\" --bs=8 --lr=0.0003 --n_iters=2000000 --clip_grad_norm=1.0\n",
      "python nca_multi_prompt_clip.py --seed=2 --save_dir=\"/home/akarshkumar0101/nca-alife-data/nca_multi_prompt_clip/cell_prompt_seed=2\" --img_size=64 --n_layers=2 --d_state=16 --d_embd=32 --init_state=\"point\" --padding_mode=\"zeros\" --dt=0.01 --p_drop=0.0 --rollout_steps=1024 --bptt_steps=16 --prompt=\"Artificial Life Simulation Stage 0: Atomic Formation, Random atoms disperse throughout the simulation space.;Artificial Life Simulation Stage 1: Atomic Formation, Atoms collide and bond, forming basic molecules.;Artificial Life Simulation Stage 2: Atomic Formation, Energy fluctuations cause molecules to break and reform.;Artificial Life Simulation Stage 3: Atomic Formation, Stable molecular clusters start to appear.;Artificial Life Simulation Stage 4: Atomic Formation, Formation of complex molecules like amino acids.;Artificial Life Simulation Stage 5: Atomic Formation, Development of nucleotides, basic building blocks of life.;Artificial Life Simulation Stage 6: Atomic Formation, Emergence of simple sugars and fatty acids.;Artificial Life Simulation Stage 7: Atomic Formation, Molecules develop ability to store and transfer energy.;Artificial Life Simulation Stage 8: Molecular Complexity, Formation of macromolecules through polymerization.;Artificial Life Simulation Stage 9: Molecular Complexity, Nucleic acids chain into primitive RNA strands.;Artificial Life Simulation Stage 10: Molecular Complexity, Protocells form from self-assembled lipid bilayers.;Artificial Life Simulation Stage 11: Molecular Complexity, Encapsulation of organic molecules within protocells.;Artificial Life Simulation Stage 12: Molecular Complexity, Selective permeability evolves in protocell membranes.;Artificial Life Simulation Stage 13: Molecular Complexity, Protocells absorb nutrients through osmosis.;Artificial Life Simulation Stage 14: Molecular Complexity, Primitive metabolic pathways emerge in protocells.;Artificial Life Simulation Stage 15: Molecular Complexity, RNA molecules begin acting as primitive enzymes.;Artificial Life Simulation Stage 16: Prebiotic Systems, Development of replication mechanisms in RNA strands.;Artificial Life Simulation Stage 17: Prebiotic Systems, Protocells replicate through simple division.;Artificial Life Simulation Stage 18: Prebiotic Systems, Emergence of competitive interactions among protocells.;Artificial Life Simulation Stage 19: Prebiotic Systems, Natural selection leads to more efficient metabolisms.;Artificial Life Simulation Stage 20: Prebiotic Systems, Energy harnessing systems evolve, like primitive photosynthesis.;Artificial Life Simulation Stage 21: Prebiotic Systems, Genetic variations appear from replication errors.;Artificial Life Simulation Stage 22: Prebiotic Systems, Environmental pressures lead to diverse protocell types.;Artificial Life Simulation Stage 23: Prebiotic Systems, Cooperation among protocells begins, forming colonies.;Artificial Life Simulation Stage 24: Early Life Emergence, Protocells evolve to use external energy sources.;Artificial Life Simulation Stage 25: Early Life Emergence, Formation of primitive organelles within cells.;Artificial Life Simulation Stage 26: Early Life Emergence, RNA world transitions towards DNA-based genetic storage.;Artificial Life Simulation Stage 27: Early Life Emergence, First true cells with distinct cellular machinery.;Artificial Life Simulation Stage 28: Early Life Emergence, Cellular communication mechanisms develop.;Artificial Life Simulation Stage 29: Early Life Emergence, Sexual reproduction mechanisms emerge.;Artificial Life Simulation Stage 30: Early Life Emergence, Cells differentiate to perform specialized functions.;Artificial Life Simulation Stage 31: Early Life Emergence, First multicellular organisms form through cell cooperation.\" --n_augs=1 --augs=\"crop+pers\" --bs=8 --lr=0.0003 --n_iters=2000000 --clip_grad_norm=1.0 \n",
      "...\n",
      "Logging to /home/akarshkumar0101/nca-alife-data/logs/2024_06_22_19_21_45\n"
     ]
    }
   ],
   "source": [
    "header = '\\n'.join(['#!/bin/bash', 'source ~/.virtualenvs/nca-alife-torch/bin/activate', 'cd ~/nca-alife/src'])\n",
    "gpus = [4, 5, 6, 7]\n",
    "log_dir = os.path.expanduser(f'~/nca-alife-data/logs/{time.strftime(\"%Y_%m_%d_%H_%M_%S\")}')\n",
    "exp_sh = f'./src/experiments/main.sh'\n",
    "with open(exp_sh, 'r') as f:\n",
    "    commands = [c for c in f.read().split('\\n') if c]\n",
    "print(f\"{exp_sh} has {len(commands)} commands: \")\n",
    "print('\\n'.join(commands[:3]), '\\n...')\n",
    "print(f\"Logging to {log_dir}\")"
   ]
  },
  {
   "cell_type": "code",
   "execution_count": 36,
   "id": "606a1e32-67e7-4c6c-b426-614ccd1651c4",
   "metadata": {},
   "outputs": [
    {
     "name": "stdout",
     "output_type": "stream",
     "text": [
      "/home/akarshkumar0101/nca-alife-data/logs/2024_06_22_19_21_45\n"
     ]
    }
   ],
   "source": [
    "print(log_dir)"
   ]
  },
  {
   "cell_type": "code",
   "execution_count": null,
   "id": "5a6eb46d-b180-47c0-9e47-045a0f8f9dde",
   "metadata": {},
   "outputs": [],
   "source": []
  },
  {
   "cell_type": "code",
   "execution_count": 37,
   "id": "ccbc7bd83eb023cb",
   "metadata": {
    "ExecuteTime": {
     "end_time": "2024-06-05T16:32:47.309708Z",
     "start_time": "2024-06-05T16:32:47.171678Z"
    }
   },
   "outputs": [],
   "source": [
    "!mkdir -p {log_dir}\n",
    "!rm {os.path.dirname(log_dir)+'/latest'}\n",
    "!ln -sf {log_dir} {os.path.dirname(log_dir)+'/latest'}\n",
    "for i_gpu, gpu in enumerate(gpus):\n",
    "    job_ids = np.arange(len(commands))[i_gpu::len(gpus)]\n",
    "    cvd = f'export CUDA_VISIBLE_DEVICES={gpu}'\n",
    "    txt = f\"{header}\\n{cvd}\\n\\n\"\n",
    "    for job_id in job_ids:\n",
    "        txt += f\"touch {log_dir}/job_{job_id:05d}.status\\n\"\n",
    "        txt += f\"{commands[job_id]} &> {log_dir}/job_{job_id:05d}.out\\n\"\n",
    "        txt += f\"echo $? > {log_dir}/job_{job_id:05d}.status\\n\\n\"\n",
    "    with open(f\"{log_dir}/gpu_{gpu}.sh\", \"w\") as f:\n",
    "        f.write(txt)"
   ]
  },
  {
   "cell_type": "code",
   "execution_count": 38,
   "id": "fd11b06be751b124",
   "metadata": {
    "ExecuteTime": {
     "end_time": "2024-06-05T16:32:47.659970Z",
     "start_time": "2024-06-05T16:32:47.641164Z"
    }
   },
   "outputs": [
    {
     "name": "stdout",
     "output_type": "stream",
     "text": [
      "#!/bin/bash\n",
      "source ~/.virtualenvs/nca-alife-torch/bin/activate\n",
      "cd ~/nca-alife/src\n",
      "export CUDA_VISIBLE_DEVICES=7\n",
      "\n",
      "touch /home/akarshkumar0101/nca-alife-data/logs/2024_06_22_19_21_45/job_00003.status\n",
      "python nca_multi_prompt_clip.py --seed=3 --save_dir=\"/home/akarshkumar0101/nca-alife-data/nca_multi_prompt_clip/cell_prompt_seed=3\" --img_size=64 --n_layers=2 --d_state=16 --d_embd=32 --init_state=\"point\" --padding_mode=\"zeros\" --dt=0.01 --p_drop=0.0 --rollout_steps=1024 --bptt_steps=16 --prompt=\"Artificial Life Simulation Stage 0: Atomic Formation, Random atoms disperse throughout the simulation space.;Artificial Life Simulation Stage 1: Atomic Formation, Atoms collide and bond, forming basic molecules.;Artificial Life Simulation Stage 2: Atomic Formation, Energy fluctuations cause molecules to break and reform.;Artificial Life Simulation Stage 3: Atomic Formation, Stable molecular clusters start to appear.;Artificial Life Simulation Stage 4: Atomic Formation, Formation of complex molecules like amino acids.;Artificial Life Simulation Stage 5: Atomic Formation, Development of nucleotides, basic building blocks of life.;Artificial Life Simulation Stage 6: Atomic Formation, Emergence of simple sugars and fatty acids.;Artificial Life Simulation Stage 7: Atomic Formation, Molecules develop ability to store and transfer energy.;Artificial Life Simulation Stage 8: Molecular Complexity, Formation of macromolecules through polymerization.;Artificial Life Simulation Stage 9: Molecular Complexity, Nucleic acids chain into primitive RNA strands.;Artificial Life Simulation Stage 10: Molecular Complexity, Protocells form from self-assembled lipid bilayers.;Artificial Life Simulation Stage 11: Molecular Complexity, Encapsulation of organic molecules within protocells.;Artificial Life Simulation Stage 12: Molecular Complexity, Selective permeability evolves in protocell membranes.;Artificial Life Simulation Stage 13: Molecular Complexity, Protocells absorb nutrients through osmosis.;Artificial Life Simulation Stage 14: Molecular Complexity, Primitive metabolic pathways emerge in protocells.;Artificial Life Simulation Stage 15: Molecular Complexity, RNA molecules begin acting as primitive enzymes.;Artificial Life Simulation Stage 16: Prebiotic Systems, Development of replication mechanisms in RNA strands.;Artificial Life Simulation Stage 17: Prebiotic Systems, Protocells replicate through simple division.;Artificial Life Simulation Stage 18: Prebiotic Systems, Emergence of competitive interactions among protocells.;Artificial Life Simulation Stage 19: Prebiotic Systems, Natural selection leads to more efficient metabolisms.;Artificial Life Simulation Stage 20: Prebiotic Systems, Energy harnessing systems evolve, like primitive photosynthesis.;Artificial Life Simulation Stage 21: Prebiotic Systems, Genetic variations appear from replication errors.;Artificial Life Simulation Stage 22: Prebiotic Systems, Environmental pressures lead to diverse protocell types.;Artificial Life Simulation Stage 23: Prebiotic Systems, Cooperation among protocells begins, forming colonies.;Artificial Life Simulation Stage 24: Early Life Emergence, Protocells evolve to use external energy sources.;Artificial Life Simulation Stage 25: Early Life Emergence, Formation of primitive organelles within cells.;Artificial Life Simulation Stage 26: Early Life Emergence, RNA world transitions towards DNA-based genetic storage.;Artificial Life Simulation Stage 27: Early Life Emergence, First true cells with distinct cellular machinery.;Artificial Life Simulation Stage 28: Early Life Emergence, Cellular communication mechanisms develop.;Artificial Life Simulation Stage 29: Early Life Emergence, Sexual reproduction mechanisms emerge.;Artificial Life Simulation Stage 30: Early Life Emergence, Cells differentiate to perform specialized functions.;Artificial Life Simulation Stage 31: Early Life Emergence, First multicellular organisms form through cell cooperation.\" --n_augs=1 --augs=\"crop+pers\" --bs=8 --lr=0.0003 --n_iters=2000000 --clip_grad_norm=1.0 &> /home/akarshkumar0101/nca-alife-data/logs/2024_06_22_19_21_45/job_00003.out\n",
      "echo $? > /home/akarshkumar0101/nca-alife-data/logs/2024_06_22_19_21_45/job_00003.status\n",
      "\n",
      "\n"
     ]
    }
   ],
   "source": [
    "print('\\n'.join(txt.split('\\n')[:12]))"
   ]
  },
  {
   "cell_type": "code",
   "execution_count": 39,
   "id": "e5ce96252f75f2f9",
   "metadata": {
    "ExecuteTime": {
     "end_time": "2024-06-05T16:35:49.567207Z",
     "start_time": "2024-06-05T16:35:49.546023Z"
    }
   },
   "outputs": [
    {
     "name": "stdout",
     "output_type": "stream",
     "text": [
      "bash /home/akarshkumar0101/nca-alife-data/logs/2024_06_22_19_21_45/gpu_4.sh\n",
      "bash /home/akarshkumar0101/nca-alife-data/logs/2024_06_22_19_21_45/gpu_5.sh\n",
      "bash /home/akarshkumar0101/nca-alife-data/logs/2024_06_22_19_21_45/gpu_6.sh\n",
      "bash /home/akarshkumar0101/nca-alife-data/logs/2024_06_22_19_21_45/gpu_7.sh\n"
     ]
    }
   ],
   "source": [
    "for i_gpu, gpu in enumerate(gpus):\n",
    "    command = f\"bash {log_dir}/gpu_{gpu}.sh\"\n",
    "    print(command)\n",
    "    process = subprocess.Popen(command, shell=True)"
   ]
  },
  {
   "cell_type": "code",
   "execution_count": null,
   "id": "5f6328aa-5b2e-4739-b80d-2ebc1761740a",
   "metadata": {},
   "outputs": [],
   "source": []
  },
  {
   "cell_type": "markdown",
   "id": "233f54f7c2310a69",
   "metadata": {},
   "source": [
    "# Track Experiment"
   ]
  },
  {
   "cell_type": "code",
   "execution_count": 12,
   "id": "cd7c5f40-2da8-4950-b103-6edb425db165",
   "metadata": {},
   "outputs": [
    {
     "name": "stdout",
     "output_type": "stream",
     "text": [
      "0 invalid literal for int() with base 10: ''\n",
      "1 invalid literal for int() with base 10: ''\n",
      "2 invalid literal for int() with base 10: ''\n",
      "3 invalid literal for int() with base 10: ''\n"
     ]
    }
   ],
   "source": [
    "a = []\n",
    "for job_id in range(len(commands)):\n",
    "    try:\n",
    "        with open(f'{log_dir}/job_{job_id:05d}.status', 'r') as f:\n",
    "            a.append(int(f.read().strip()))\n",
    "    except Exception as e:\n",
    "        print(job_id, e)\n",
    "        a.append(-1)\n",
    "a = np.array(a)"
   ]
  },
  {
   "cell_type": "code",
   "execution_count": 13,
   "id": "959c4b02-5227-4912-b664-bf3027d8580c",
   "metadata": {},
   "outputs": [
    {
     "data": {
      "text/plain": [
       "array([-1, -1, -1, -1])"
      ]
     },
     "execution_count": 13,
     "metadata": {},
     "output_type": "execute_result"
    }
   ],
   "source": [
    "a"
   ]
  },
  {
   "cell_type": "code",
   "execution_count": 14,
   "id": "ce973c28-9800-48b2-8d56-3b292e8e3705",
   "metadata": {},
   "outputs": [
    {
     "data": {
      "text/plain": [
       "-1.0"
      ]
     },
     "execution_count": 14,
     "metadata": {},
     "output_type": "execute_result"
    }
   ],
   "source": [
    "np.array(a).mean()"
   ]
  },
  {
   "cell_type": "code",
   "execution_count": 15,
   "id": "32cc6659-39ec-4529-ba77-ecf8fc243a5f",
   "metadata": {},
   "outputs": [
    {
     "data": {
      "text/plain": [
       "4"
      ]
     },
     "execution_count": 15,
     "metadata": {},
     "output_type": "execute_result"
    }
   ],
   "source": [
    "len(commands)"
   ]
  },
  {
   "cell_type": "code",
   "execution_count": 48,
   "id": "b87eb0da-3b7d-41c1-b656-7810bf958163",
   "metadata": {},
   "outputs": [
    {
     "name": "stdout",
     "output_type": "stream",
     "text": [
      "0\n",
      "7%|▋         | 141759/2000000 [1:23:05<17:26:25, 29.60it/s, loss=-0.366]\n",
      "1\n",
      "7%|▋         | 139867/2000000 [1:23:06<17:59:38, 28.72it/s, loss=-0.381]\n",
      "2\n",
      "8%|▊         | 157234/2000000 [1:23:06<16:04:41, 31.84it/s, loss=-0.374]\n",
      "3\n",
      "8%|▊         | 153865/2000000 [1:23:06<16:30:39, 31.06it/s, loss=-0.385]\n"
     ]
    }
   ],
   "source": [
    "for job_id in range(len(commands)):\n",
    "    print(job_id)\n",
    "    try:\n",
    "        with open(f\"{log_dir}/job_{job_id:05d}.out\", \"r\") as f:\n",
    "            print(f.readlines()[-1].strip())\n",
    "    except Exception as e:\n",
    "        print(e)"
   ]
  },
  {
   "cell_type": "code",
   "execution_count": null,
   "id": "1aaff031-4e9e-4916-a9a7-1e5ec8bae570",
   "metadata": {},
   "outputs": [],
   "source": []
  },
  {
   "cell_type": "code",
   "execution_count": null,
   "id": "c75eacd4eb3f534d",
   "metadata": {},
   "outputs": [],
   "source": []
  },
  {
   "cell_type": "code",
   "execution_count": null,
   "id": "d2d8e17e3abe3689",
   "metadata": {},
   "outputs": [],
   "source": []
  }
 ],
 "metadata": {
  "kernelspec": {
   "display_name": "Python 3 (ipykernel)",
   "language": "python",
   "name": "python3"
  },
  "language_info": {
   "codemirror_mode": {
    "name": "ipython",
    "version": 3
   },
   "file_extension": ".py",
   "mimetype": "text/x-python",
   "name": "python",
   "nbconvert_exporter": "python",
   "pygments_lexer": "ipython3",
   "version": "3.12.3"
  }
 },
 "nbformat": 4,
 "nbformat_minor": 5
}

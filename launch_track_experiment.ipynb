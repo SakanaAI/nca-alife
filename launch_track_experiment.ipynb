{
 "cells": [
  {
   "cell_type": "code",
   "execution_count": 1,
   "id": "initial_id",
   "metadata": {
    "ExecuteTime": {
     "end_time": "2024-06-05T15:24:12.196261Z",
     "start_time": "2024-06-05T15:24:11.937119Z"
    }
   },
   "outputs": [
    {
     "name": "stdout",
     "output_type": "stream",
     "text": [
      "fish-gcp005\n",
      "/home/akarshkumar0101/nca-alife\n",
      "/home/akarshkumar0101/miniconda3/envs/nca-alife-torch/bin/python\n"
     ]
    }
   ],
   "source": [
    "%load_ext autoreload\n",
    "%autoreload 2\n",
    "!hostname\n",
    "!pwd\n",
    "import os, sys\n",
    "print(sys.executable)"
   ]
  },
  {
   "cell_type": "code",
   "execution_count": 2,
   "id": "b14fab765a9b502f",
   "metadata": {
    "ExecuteTime": {
     "end_time": "2024-06-05T15:24:46.791547Z",
     "start_time": "2024-06-05T15:24:46.534227Z"
    }
   },
   "outputs": [],
   "source": [
    "import os, sys, glob, pickle\n",
    "from functools import partial\n",
    "\n",
    "import numpy as np\n",
    "import pandas as pd\n",
    "import xarray as xr\n",
    "import matplotlib.pyplot as plt\n",
    "import seaborn as sns\n",
    "# sns.set_theme()\n",
    "\n",
    "from tqdm.auto import tqdm\n",
    "from einops import rearrange, reduce, repeat"
   ]
  },
  {
   "cell_type": "code",
   "execution_count": 3,
   "id": "cd70dd980a69d0d2",
   "metadata": {
    "ExecuteTime": {
     "end_time": "2024-06-05T16:32:40.437767Z",
     "start_time": "2024-06-05T16:32:40.418237Z"
    }
   },
   "outputs": [],
   "source": [
    "# import experiment_utils\n",
    "import time\n",
    "import subprocess"
   ]
  },
  {
   "cell_type": "markdown",
   "id": "d25a8459feec83fd",
   "metadata": {},
   "source": [
    "# Launch Experiment (on this node)"
   ]
  },
  {
   "cell_type": "code",
   "execution_count": 4,
   "id": "8c39a5bfd56aad84",
   "metadata": {
    "ExecuteTime": {
     "end_time": "2024-06-05T16:32:45.724746Z",
     "start_time": "2024-06-05T16:32:45.705123Z"
    }
   },
   "outputs": [
    {
     "name": "stdout",
     "output_type": "stream",
     "text": [
      "./src/experiments/main.sh has 24 commands: \n",
      "python nca_multi_prompt_clip.py --seed=0 --save_dir=\"/home/akarshkumar0101/nca-alife-data/nca_exp1/seed=0_i1=0_perception='gradient'_img_size=32\"  --dtype=\"float32\" --device=\"cuda:0\" --img_size=32  --d_state=16 --perception=\"gradient\" --kernel_size=3 --init_state=\"point\" --padding_mode=\"zeros\" --dt=0.01 --dropout=0.5 --target_img_path=None --prompt=\";a very skinny cat;a skinny cat;a slightly skinny cat;a normal cat;a slightly fat cat;a fat cat;a very fat cat\"                                                                                                                                                                                                                                                       --augs=\"crop+pers\" --aug_crop_scale=1.0 --clip_model=\"clip-vit-base-patch32\" --coef_alignment=1.0 --coef_softmax=0.03 --coef_novelty=0.0 --coef_temporal=0.0 --rollout_steps=1024 --bptt_steps=16 --pool_size=1024 --bs=8 --lr=0.0003 --n_iters=200000 --clip_grad_norm=1.0\n",
      "python nca_multi_prompt_clip.py --seed=0 --save_dir=\"/home/akarshkumar0101/nca-alife-data/nca_exp1/seed=0_i1=0_perception='learned'_img_size=32\"   --dtype=\"float32\" --device=\"cuda:0\" --img_size=32  --d_state=16 --perception=\"learned\"  --kernel_size=3 --init_state=\"point\" --padding_mode=\"zeros\" --dt=0.01 --dropout=0.5 --target_img_path=None --prompt=\";a very skinny cat;a skinny cat;a slightly skinny cat;a normal cat;a slightly fat cat;a fat cat;a very fat cat\"                                                                                                                                                                                                                                                       --augs=\"crop+pers\" --aug_crop_scale=1.0 --clip_model=\"clip-vit-base-patch32\" --coef_alignment=1.0 --coef_softmax=0.03 --coef_novelty=0.0 --coef_temporal=0.0 --rollout_steps=1024 --bptt_steps=16 --pool_size=1024 --bs=8 --lr=0.0003 --n_iters=200000 --clip_grad_norm=1.0\n",
      "python nca_multi_prompt_clip.py --seed=0 --save_dir=\"/home/akarshkumar0101/nca-alife-data/nca_exp1/seed=0_i1=0_perception='fullconv'_img_size=32\"  --dtype=\"float32\" --device=\"cuda:0\" --img_size=32  --d_state=16 --perception=\"fullconv\" --kernel_size=3 --init_state=\"point\" --padding_mode=\"zeros\" --dt=0.01 --dropout=0.5 --target_img_path=None --prompt=\";a very skinny cat;a skinny cat;a slightly skinny cat;a normal cat;a slightly fat cat;a fat cat;a very fat cat\"                                                                                                                                                                                                                                                       --augs=\"crop+pers\" --aug_crop_scale=1.0 --clip_model=\"clip-vit-base-patch32\" --coef_alignment=1.0 --coef_softmax=0.03 --coef_novelty=0.0 --coef_temporal=0.0 --rollout_steps=1024 --bptt_steps=16 --pool_size=1024 --bs=8 --lr=0.0003 --n_iters=200000 --clip_grad_norm=1.0 \n",
      "...\n",
      "Logging to /home/akarshkumar0101/nca-alife-data/logs/2024_07_04_05_24_11\n"
     ]
    }
   ],
   "source": [
    "header = '\\n'.join([\n",
    "    '#!/bin/bash',\n",
    "    \n",
    "    # 'source ~/.virtualenvs/nca-alife-torch/bin/activate'\n",
    "    \n",
    "    'source ~/miniconda3/etc/profile.d/conda.sh',\n",
    "    'conda activate nca-alife-torch',\n",
    "    \n",
    "    'cd ~/nca-alife/src'\n",
    "])\n",
    "\n",
    "\n",
    "gpus = [4, 5, 6, 7]\n",
    "log_dir = os.path.expanduser(f'~/nca-alife-data/logs/{time.strftime(\"%Y_%m_%d_%H_%M_%S\")}')\n",
    "exp_sh = f'./src/experiments/main.sh'\n",
    "with open(exp_sh, 'r') as f:\n",
    "    commands = [c for c in f.read().split('\\n') if c]\n",
    "print(f\"{exp_sh} has {len(commands)} commands: \")\n",
    "print('\\n'.join(commands[:3]), '\\n...')\n",
    "print(f\"Logging to {log_dir}\")"
   ]
  },
  {
   "cell_type": "code",
   "execution_count": 5,
   "id": "606a1e32-67e7-4c6c-b426-614ccd1651c4",
   "metadata": {},
   "outputs": [
    {
     "name": "stdout",
     "output_type": "stream",
     "text": [
      "/home/akarshkumar0101/nca-alife-data/logs/2024_07_04_05_24_11\n"
     ]
    }
   ],
   "source": [
    "print(log_dir)"
   ]
  },
  {
   "cell_type": "code",
   "execution_count": null,
   "id": "5a6eb46d-b180-47c0-9e47-045a0f8f9dde",
   "metadata": {},
   "outputs": [],
   "source": []
  },
  {
   "cell_type": "code",
   "execution_count": 6,
   "id": "ccbc7bd83eb023cb",
   "metadata": {
    "ExecuteTime": {
     "end_time": "2024-06-05T16:32:47.309708Z",
     "start_time": "2024-06-05T16:32:47.171678Z"
    }
   },
   "outputs": [],
   "source": [
    "!mkdir -p {log_dir}\n",
    "!rm {os.path.dirname(log_dir)+'/latest'}\n",
    "!ln -sf {log_dir} {os.path.dirname(log_dir)+'/latest'}\n",
    "for i_gpu, gpu in enumerate(gpus):\n",
    "    job_ids = np.arange(len(commands))[i_gpu::len(gpus)]\n",
    "    cvd = f'export CUDA_VISIBLE_DEVICES={gpu}'\n",
    "    txt = f\"{header}\\n{cvd}\\n\\n\"\n",
    "    for job_id in job_ids:\n",
    "        txt += f\"touch {log_dir}/job_{job_id:05d}.status\\n\"\n",
    "        txt += f\"{commands[job_id]} &> {log_dir}/job_{job_id:05d}.out\\n\"\n",
    "        txt += f\"echo $? > {log_dir}/job_{job_id:05d}.status\\n\\n\"\n",
    "    with open(f\"{log_dir}/gpu_{gpu}.sh\", \"w\") as f:\n",
    "        f.write(txt)"
   ]
  },
  {
   "cell_type": "code",
   "execution_count": 7,
   "id": "fd11b06be751b124",
   "metadata": {
    "ExecuteTime": {
     "end_time": "2024-06-05T16:32:47.659970Z",
     "start_time": "2024-06-05T16:32:47.641164Z"
    }
   },
   "outputs": [
    {
     "name": "stdout",
     "output_type": "stream",
     "text": [
      "#!/bin/bash\n",
      "source ~/miniconda3/etc/profile.d/conda.sh\n",
      "conda activate nca-alife-torch\n",
      "cd ~/nca-alife/src\n",
      "export CUDA_VISIBLE_DEVICES=7\n",
      "\n",
      "touch /home/akarshkumar0101/nca-alife-data/logs/2024_07_04_05_24_11/job_00003.status\n",
      "python nca_multi_prompt_clip.py --seed=0 --save_dir=\"/home/akarshkumar0101/nca-alife-data/nca_exp1/seed=0_i1=0_perception='gradient'_img_size=64\"  --dtype=\"float32\" --device=\"cuda:0\" --img_size=64  --d_state=16 --perception=\"gradient\" --kernel_size=3 --init_state=\"point\" --padding_mode=\"zeros\" --dt=0.01 --dropout=0.5 --target_img_path=None --prompt=\";a very skinny cat;a skinny cat;a slightly skinny cat;a normal cat;a slightly fat cat;a fat cat;a very fat cat\"                                                                                                                                                                                                                                                       --augs=\"crop+pers\" --aug_crop_scale=1.0 --clip_model=\"clip-vit-base-patch32\" --coef_alignment=1.0 --coef_softmax=0.03 --coef_novelty=0.0 --coef_temporal=0.0 --rollout_steps=1024 --bptt_steps=16 --pool_size=1024 --bs=8 --lr=0.0003 --n_iters=200000 --clip_grad_norm=1.0 &> /home/akarshkumar0101/nca-alife-data/logs/2024_07_04_05_24_11/job_00003.out\n",
      "echo $? > /home/akarshkumar0101/nca-alife-data/logs/2024_07_04_05_24_11/job_00003.status\n",
      "\n",
      "touch /home/akarshkumar0101/nca-alife-data/logs/2024_07_04_05_24_11/job_00007.status\n",
      "python nca_multi_prompt_clip.py --seed=0 --save_dir=\"/home/akarshkumar0101/nca-alife-data/nca_exp1/seed=0_i1=0_perception='learned'_img_size=128\"  --dtype=\"float32\" --device=\"cuda:0\" --img_size=128 --d_state=16 --perception=\"learned\"  --kernel_size=3 --init_state=\"point\" --padding_mode=\"zeros\" --dt=0.01 --dropout=0.5 --target_img_path=None --prompt=\";a very skinny cat;a skinny cat;a slightly skinny cat;a normal cat;a slightly fat cat;a fat cat;a very fat cat\"                                                                                                                                                                                                                                                       --augs=\"crop+pers\" --aug_crop_scale=1.0 --clip_model=\"clip-vit-base-patch32\" --coef_alignment=1.0 --coef_softmax=0.03 --coef_novelty=0.0 --coef_temporal=0.0 --rollout_steps=1024 --bptt_steps=16 --pool_size=1024 --bs=8 --lr=0.0003 --n_iters=200000 --clip_grad_norm=1.0 &> /home/akarshkumar0101/nca-alife-data/logs/2024_07_04_05_24_11/job_00007.out\n"
     ]
    }
   ],
   "source": [
    "print('\\n'.join(txt.split('\\n')[:12]))"
   ]
  },
  {
   "cell_type": "code",
   "execution_count": null,
   "id": "fdadaa78-2d6a-4e2c-9083-44e281be6419",
   "metadata": {},
   "outputs": [],
   "source": []
  },
  {
   "cell_type": "code",
   "execution_count": null,
   "id": "7a7a1ba5-f8cf-4cb2-93ba-25a548a0f499",
   "metadata": {},
   "outputs": [],
   "source": []
  },
  {
   "cell_type": "code",
   "execution_count": 8,
   "id": "e5ce96252f75f2f9",
   "metadata": {
    "ExecuteTime": {
     "end_time": "2024-06-05T16:35:49.567207Z",
     "start_time": "2024-06-05T16:35:49.546023Z"
    }
   },
   "outputs": [
    {
     "name": "stdout",
     "output_type": "stream",
     "text": [
      "bash /home/akarshkumar0101/nca-alife-data/logs/2024_07_04_05_24_11/gpu_4.sh\n",
      "bash /home/akarshkumar0101/nca-alife-data/logs/2024_07_04_05_24_11/gpu_5.sh\n",
      "bash /home/akarshkumar0101/nca-alife-data/logs/2024_07_04_05_24_11/gpu_6.sh\n",
      "bash /home/akarshkumar0101/nca-alife-data/logs/2024_07_04_05_24_11/gpu_7.sh\n"
     ]
    }
   ],
   "source": [
    "for i_gpu, gpu in enumerate(gpus):\n",
    "    command = f\"bash {log_dir}/gpu_{gpu}.sh\"\n",
    "    print(command)\n",
    "    process = subprocess.Popen(command, shell=True)"
   ]
  },
  {
   "cell_type": "code",
   "execution_count": null,
   "id": "5f6328aa-5b2e-4739-b80d-2ebc1761740a",
   "metadata": {},
   "outputs": [],
   "source": []
  },
  {
   "cell_type": "markdown",
   "id": "233f54f7c2310a69",
   "metadata": {},
   "source": [
    "# Track Experiment"
   ]
  },
  {
   "cell_type": "code",
   "execution_count": 9,
   "id": "cd7c5f40-2da8-4950-b103-6edb425db165",
   "metadata": {},
   "outputs": [
    {
     "name": "stdout",
     "output_type": "stream",
     "text": [
      "0 invalid literal for int() with base 10: ''\n",
      "1 invalid literal for int() with base 10: ''\n",
      "2 invalid literal for int() with base 10: ''\n",
      "3 invalid literal for int() with base 10: ''\n",
      "4 [Errno 2] No such file or directory: '/home/akarshkumar0101/nca-alife-data/logs/2024_07_04_05_24_11/job_00004.status'\n",
      "5 [Errno 2] No such file or directory: '/home/akarshkumar0101/nca-alife-data/logs/2024_07_04_05_24_11/job_00005.status'\n",
      "6 [Errno 2] No such file or directory: '/home/akarshkumar0101/nca-alife-data/logs/2024_07_04_05_24_11/job_00006.status'\n",
      "7 [Errno 2] No such file or directory: '/home/akarshkumar0101/nca-alife-data/logs/2024_07_04_05_24_11/job_00007.status'\n",
      "8 [Errno 2] No such file or directory: '/home/akarshkumar0101/nca-alife-data/logs/2024_07_04_05_24_11/job_00008.status'\n",
      "9 [Errno 2] No such file or directory: '/home/akarshkumar0101/nca-alife-data/logs/2024_07_04_05_24_11/job_00009.status'\n",
      "10 [Errno 2] No such file or directory: '/home/akarshkumar0101/nca-alife-data/logs/2024_07_04_05_24_11/job_00010.status'\n",
      "11 [Errno 2] No such file or directory: '/home/akarshkumar0101/nca-alife-data/logs/2024_07_04_05_24_11/job_00011.status'\n",
      "12 [Errno 2] No such file or directory: '/home/akarshkumar0101/nca-alife-data/logs/2024_07_04_05_24_11/job_00012.status'\n",
      "13 [Errno 2] No such file or directory: '/home/akarshkumar0101/nca-alife-data/logs/2024_07_04_05_24_11/job_00013.status'\n",
      "14 [Errno 2] No such file or directory: '/home/akarshkumar0101/nca-alife-data/logs/2024_07_04_05_24_11/job_00014.status'\n",
      "15 [Errno 2] No such file or directory: '/home/akarshkumar0101/nca-alife-data/logs/2024_07_04_05_24_11/job_00015.status'\n",
      "16 [Errno 2] No such file or directory: '/home/akarshkumar0101/nca-alife-data/logs/2024_07_04_05_24_11/job_00016.status'\n",
      "17 [Errno 2] No such file or directory: '/home/akarshkumar0101/nca-alife-data/logs/2024_07_04_05_24_11/job_00017.status'\n",
      "18 [Errno 2] No such file or directory: '/home/akarshkumar0101/nca-alife-data/logs/2024_07_04_05_24_11/job_00018.status'\n",
      "19 [Errno 2] No such file or directory: '/home/akarshkumar0101/nca-alife-data/logs/2024_07_04_05_24_11/job_00019.status'\n",
      "20 [Errno 2] No such file or directory: '/home/akarshkumar0101/nca-alife-data/logs/2024_07_04_05_24_11/job_00020.status'\n",
      "21 [Errno 2] No such file or directory: '/home/akarshkumar0101/nca-alife-data/logs/2024_07_04_05_24_11/job_00021.status'\n",
      "22 [Errno 2] No such file or directory: '/home/akarshkumar0101/nca-alife-data/logs/2024_07_04_05_24_11/job_00022.status'\n",
      "23 [Errno 2] No such file or directory: '/home/akarshkumar0101/nca-alife-data/logs/2024_07_04_05_24_11/job_00023.status'\n"
     ]
    }
   ],
   "source": [
    "a = []\n",
    "for job_id in range(len(commands)):\n",
    "    try:\n",
    "        with open(f'{log_dir}/job_{job_id:05d}.status', 'r') as f:\n",
    "            a.append(int(f.read().strip()))\n",
    "    except Exception as e:\n",
    "        print(job_id, e)\n",
    "        a.append(-1)\n",
    "a = np.array(a)"
   ]
  },
  {
   "cell_type": "code",
   "execution_count": 10,
   "id": "959c4b02-5227-4912-b664-bf3027d8580c",
   "metadata": {},
   "outputs": [
    {
     "data": {
      "text/plain": [
       "array([-1, -1, -1, -1, -1, -1, -1, -1, -1, -1, -1, -1, -1, -1, -1, -1, -1,\n",
       "       -1, -1, -1, -1, -1, -1, -1])"
      ]
     },
     "execution_count": 10,
     "metadata": {},
     "output_type": "execute_result"
    }
   ],
   "source": [
    "a"
   ]
  },
  {
   "cell_type": "code",
   "execution_count": 11,
   "id": "ce973c28-9800-48b2-8d56-3b292e8e3705",
   "metadata": {},
   "outputs": [
    {
     "data": {
      "text/plain": [
       "-1.0"
      ]
     },
     "execution_count": 11,
     "metadata": {},
     "output_type": "execute_result"
    }
   ],
   "source": [
    "np.array(a).mean()"
   ]
  },
  {
   "cell_type": "code",
   "execution_count": 12,
   "id": "32cc6659-39ec-4529-ba77-ecf8fc243a5f",
   "metadata": {},
   "outputs": [
    {
     "data": {
      "text/plain": [
       "24"
      ]
     },
     "execution_count": 12,
     "metadata": {},
     "output_type": "execute_result"
    }
   ],
   "source": [
    "len(commands)"
   ]
  },
  {
   "cell_type": "code",
   "execution_count": 17,
   "id": "b87eb0da-3b7d-41c1-b656-7810bf958163",
   "metadata": {},
   "outputs": [
    {
     "name": "stdout",
     "output_type": "stream",
     "text": [
      "0\n",
      "100%|██████████| 200000/200000 [1:30:17<00:00, 36.92it/s, loss=-0.287]\n",
      "1\n",
      "100%|██████████| 200000/200000 [1:25:55<00:00, 38.79it/s, loss=-0.308]\n",
      "2\n",
      "100%|██████████| 200000/200000 [1:23:17<00:00, 40.02it/s, loss=-0.333]\n",
      "3\n",
      "100%|██████████| 200000/200000 [1:31:55<00:00, 36.26it/s, loss=-0.275]\n",
      "4\n",
      "100%|██████████| 200000/200000 [1:24:02<00:00, 39.67it/s, loss=-0.262]\n",
      "5\n",
      "100%|██████████| 200000/200000 [1:34:16<00:00, 35.36it/s, loss=-0.304]\n",
      "6\n",
      "100%|██████████| 200000/200000 [1:53:09<00:00, 29.46it/s, loss=-0.266]\n",
      "7\n",
      "100%|██████████| 200000/200000 [1:56:05<00:00, 28.71it/s, loss=-0.296]\n",
      "8\n",
      "100%|██████████| 200000/200000 [1:57:43<00:00, 28.32it/s, loss=-0.321]\n",
      "9\n",
      "100%|██████████| 200000/200000 [3:56:14<00:00, 14.11it/s, loss=-0.259]\n",
      "10\n",
      "100%|██████████| 200000/200000 [4:04:46<00:00, 13.62it/s, loss=-0.207]\n",
      "11\n",
      "100%|██████████| 200000/200000 [4:13:32<00:00, 13.15it/s, loss=-0.259]\n",
      "12\n",
      "100%|██████████| 200000/200000 [1:31:00<00:00, 36.63it/s, loss=-0.29]\n",
      "13\n",
      "100%|██████████| 200000/200000 [1:20:55<00:00, 41.19it/s, loss=-0.312]\n",
      "14\n",
      "100%|██████████| 200000/200000 [1:36:38<00:00, 34.49it/s, loss=-0.264]\n",
      "15\n",
      "100%|██████████| 200000/200000 [1:31:11<00:00, 36.55it/s, loss=-0.26]\n",
      "16\n",
      "100%|██████████| 200000/200000 [1:30:04<00:00, 37.00it/s, loss=-0.299]\n",
      "17\n",
      "100%|██████████| 200000/200000 [1:27:10<00:00, 38.24it/s, loss=-0.279]\n",
      "18\n",
      "100%|██████████| 200000/200000 [1:54:00<00:00, 29.24it/s, loss=-0.252]\n",
      "19\n",
      "100%|██████████| 200000/200000 [1:51:03<00:00, 30.01it/s, loss=-0.276]\n",
      "20\n",
      "100%|██████████| 200000/200000 [2:04:00<00:00, 26.88it/s, loss=-0.299]\n",
      "21\n",
      "100%|██████████| 200000/200000 [3:53:04<00:00, 14.30it/s, loss=-0.256]\n",
      "22\n",
      "89%|████████▉ | 178019/200000 [3:41:56<26:06, 14.03it/s, loss=-0.236]\n",
      "23\n",
      "83%|████████▎ | 165065/200000 [3:30:02<42:04, 13.84it/s, loss=-0.248]\n"
     ]
    }
   ],
   "source": [
    "for job_id in range(len(commands)):\n",
    "    print(job_id)\n",
    "    try:\n",
    "        with open(f\"{log_dir}/job_{job_id:05d}.out\", \"r\") as f:\n",
    "            print(f.readlines()[-1].strip())\n",
    "    except Exception as e:\n",
    "        print(e)"
   ]
  },
  {
   "cell_type": "code",
   "execution_count": null,
   "id": "1aaff031-4e9e-4916-a9a7-1e5ec8bae570",
   "metadata": {},
   "outputs": [],
   "source": []
  },
  {
   "cell_type": "code",
   "execution_count": null,
   "id": "c75eacd4eb3f534d",
   "metadata": {},
   "outputs": [],
   "source": []
  },
  {
   "cell_type": "code",
   "execution_count": null,
   "id": "d2d8e17e3abe3689",
   "metadata": {},
   "outputs": [],
   "source": []
  }
 ],
 "metadata": {
  "kernelspec": {
   "display_name": "Python 3 (ipykernel)",
   "language": "python",
   "name": "python3"
  },
  "language_info": {
   "codemirror_mode": {
    "name": "ipython",
    "version": 3
   },
   "file_extension": ".py",
   "mimetype": "text/x-python",
   "name": "python",
   "nbconvert_exporter": "python",
   "pygments_lexer": "ipython3",
   "version": "3.12.3"
  }
 },
 "nbformat": 4,
 "nbformat_minor": 5
}

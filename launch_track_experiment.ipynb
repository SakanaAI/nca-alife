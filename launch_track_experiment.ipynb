{
 "cells": [
  {
   "cell_type": "code",
   "execution_count": 1,
   "id": "initial_id",
   "metadata": {
    "ExecuteTime": {
     "end_time": "2024-06-05T15:24:12.196261Z",
     "start_time": "2024-06-05T15:24:11.937119Z"
    }
   },
   "outputs": [
    {
     "name": "stdout",
     "output_type": "stream",
     "text": [
      "fish-gcp005\n",
      "/home/akarshkumar0101/nca-alife\n",
      "/home/akarshkumar0101/miniconda3/envs/nca-alife-jax/bin/python\n"
     ]
    }
   ],
   "source": [
    "%load_ext autoreload\n",
    "%autoreload 2\n",
    "!hostname\n",
    "!pwd\n",
    "import os, sys\n",
    "print(sys.executable)"
   ]
  },
  {
   "cell_type": "code",
   "execution_count": 2,
   "id": "b14fab765a9b502f",
   "metadata": {
    "ExecuteTime": {
     "end_time": "2024-06-05T15:24:46.791547Z",
     "start_time": "2024-06-05T15:24:46.534227Z"
    }
   },
   "outputs": [],
   "source": [
    "import os, sys, glob, pickle\n",
    "from functools import partial\n",
    "\n",
    "import numpy as np\n",
    "import pandas as pd\n",
    "import xarray as xr\n",
    "import matplotlib.pyplot as plt\n",
    "import seaborn as sns\n",
    "# sns.set_theme()\n",
    "\n",
    "from tqdm.auto import tqdm\n",
    "from einops import rearrange, reduce, repeat"
   ]
  },
  {
   "cell_type": "code",
   "execution_count": 3,
   "id": "cd70dd980a69d0d2",
   "metadata": {
    "ExecuteTime": {
     "end_time": "2024-06-05T16:32:40.437767Z",
     "start_time": "2024-06-05T16:32:40.418237Z"
    }
   },
   "outputs": [],
   "source": [
    "# import experiment_utils\n",
    "import time\n",
    "import subprocess"
   ]
  },
  {
   "cell_type": "markdown",
   "id": "d25a8459feec83fd",
   "metadata": {},
   "source": [
    "# Launch Experiment (on this node)"
   ]
  },
  {
   "cell_type": "code",
   "execution_count": 134,
   "id": "8c39a5bfd56aad84",
   "metadata": {
    "ExecuteTime": {
     "end_time": "2024-06-05T16:32:45.724746Z",
     "start_time": "2024-06-05T16:32:45.705123Z"
    }
   },
   "outputs": [
    {
     "name": "stdout",
     "output_type": "stream",
     "text": [
      "./src/experiments/main.sh has 600 commands: \n",
      "python train_plife_prompt_sa.py --seed=0 --save_dir=\"/home/akarshkumar0101/nca-alife-data/plife_var/seed=0_n_particles=1000_n_colors=2_render_radius=0.005_mutate_params='mass+c_dist+x_dist'\"                              --n_particles=1000 --n_colors=2 --x_dist_bins=9 --prompt=\"\" --render_radius=0.005 --render_sharpness=20.0 --rollout_steps=4000 --bs=4 --n_iters=256 --mr=1.0 --anneal_prob_end=1.0 --mutate_params=\"mass+c_dist+x_dist\"                             \n",
      "python train_plife_prompt_sa.py --seed=0 --save_dir=\"/home/akarshkumar0101/nca-alife-data/plife_var/seed=0_n_particles=1000_n_colors=2_render_radius=0.005_mutate_params=''\"                                                --n_particles=1000 --n_colors=2 --x_dist_bins=9 --prompt=\"\" --render_radius=0.005 --render_sharpness=20.0 --rollout_steps=4000 --bs=4 --n_iters=256 --mr=1.0 --anneal_prob_end=1.0 --mutate_params=\"\"                                               \n",
      "python train_plife_prompt_sa.py --seed=0 --save_dir=\"/home/akarshkumar0101/nca-alife-data/plife_var/seed=0_n_particles=1000_n_colors=2_render_radius=0.005_mutate_params='alpha'\"                                           --n_particles=1000 --n_colors=2 --x_dist_bins=9 --prompt=\"\" --render_radius=0.005 --render_sharpness=20.0 --rollout_steps=4000 --bs=4 --n_iters=256 --mr=1.0 --anneal_prob_end=1.0 --mutate_params=\"alpha\"                                           \n",
      "...\n",
      "Logging to /home/akarshkumar0101/nca-alife-data/logs/2024_07_21_08_01_26\n"
     ]
    }
   ],
   "source": [
    "header = '\\n'.join([\n",
    "    '#!/bin/bash',\n",
    "    \n",
    "    # 'source ~/.virtualenvs/nca-alife-torch/bin/activate'\n",
    "    \n",
    "    'source ~/miniconda3/etc/profile.d/conda.sh',\n",
    "    'conda activate nca-alife-jax',\n",
    "    \n",
    "    'cd ~/nca-alife/src'\n",
    "])\n",
    "\n",
    "\n",
    "gpus = [4, 5, 6, 7]\n",
    "log_dir = os.path.expanduser(f'~/nca-alife-data/logs/{time.strftime(\"%Y_%m_%d_%H_%M_%S\")}')\n",
    "exp_sh = f'./src/experiments/main.sh'\n",
    "with open(exp_sh, 'r') as f:\n",
    "    commands = [c for c in f.read().split('\\n') if c]\n",
    "print(f\"{exp_sh} has {len(commands)} commands: \")\n",
    "print('\\n'.join(commands[:3]), '\\n...')\n",
    "print(f\"Logging to {log_dir}\")"
   ]
  },
  {
   "cell_type": "code",
   "execution_count": 135,
   "id": "606a1e32-67e7-4c6c-b426-614ccd1651c4",
   "metadata": {},
   "outputs": [
    {
     "name": "stdout",
     "output_type": "stream",
     "text": [
      "/home/akarshkumar0101/nca-alife-data/logs/2024_07_21_08_01_26\n"
     ]
    }
   ],
   "source": [
    "print(log_dir)"
   ]
  },
  {
   "cell_type": "code",
   "execution_count": null,
   "id": "5a6eb46d-b180-47c0-9e47-045a0f8f9dde",
   "metadata": {},
   "outputs": [],
   "source": []
  },
  {
   "cell_type": "code",
   "execution_count": 136,
   "id": "ccbc7bd83eb023cb",
   "metadata": {
    "ExecuteTime": {
     "end_time": "2024-06-05T16:32:47.309708Z",
     "start_time": "2024-06-05T16:32:47.171678Z"
    }
   },
   "outputs": [],
   "source": [
    "!mkdir -p {log_dir}\n",
    "!rm {os.path.dirname(log_dir)+'/latest'}\n",
    "!ln -sf {log_dir} {os.path.dirname(log_dir)+'/latest'}\n",
    "for i_gpu, gpu in enumerate(gpus):\n",
    "    job_ids = np.arange(len(commands))[i_gpu::len(gpus)]\n",
    "    cvd = f'export CUDA_VISIBLE_DEVICES={gpu}'\n",
    "    txt = f\"{header}\\n{cvd}\\n\\n\"\n",
    "    for job_id in job_ids:\n",
    "        txt += f\"touch {log_dir}/job_{job_id:05d}.status\\n\"\n",
    "        txt += f\"{commands[job_id]} &> {log_dir}/job_{job_id:05d}.out\\n\"\n",
    "        txt += f\"echo $? > {log_dir}/job_{job_id:05d}.status\\n\\n\"\n",
    "    with open(f\"{log_dir}/gpu_{gpu}.sh\", \"w\") as f:\n",
    "        f.write(txt)"
   ]
  },
  {
   "cell_type": "code",
   "execution_count": 137,
   "id": "fd11b06be751b124",
   "metadata": {
    "ExecuteTime": {
     "end_time": "2024-06-05T16:32:47.659970Z",
     "start_time": "2024-06-05T16:32:47.641164Z"
    }
   },
   "outputs": [
    {
     "name": "stdout",
     "output_type": "stream",
     "text": [
      "#!/bin/bash\n",
      "source ~/miniconda3/etc/profile.d/conda.sh\n",
      "conda activate nca-alife-jax\n",
      "cd ~/nca-alife/src\n",
      "export CUDA_VISIBLE_DEVICES=7\n",
      "\n",
      "touch /home/akarshkumar0101/nca-alife-data/logs/2024_07_21_08_01_26/job_00003.status\n",
      "python train_plife_prompt_sa.py --seed=0 --save_dir=\"/home/akarshkumar0101/nca-alife-data/plife_var/seed=0_n_particles=1000_n_colors=2_render_radius=0.005_mutate_params='alpha+c_dist+x_dist'\"                             --n_particles=1000 --n_colors=2 --x_dist_bins=9 --prompt=\"\" --render_radius=0.005 --render_sharpness=20.0 --rollout_steps=4000 --bs=4 --n_iters=256 --mr=1.0 --anneal_prob_end=1.0 --mutate_params=\"alpha+c_dist+x_dist\"                             &> /home/akarshkumar0101/nca-alife-data/logs/2024_07_21_08_01_26/job_00003.out\n",
      "echo $? > /home/akarshkumar0101/nca-alife-data/logs/2024_07_21_08_01_26/job_00003.status\n",
      "\n",
      "touch /home/akarshkumar0101/nca-alife-data/logs/2024_07_21_08_01_26/job_00007.status\n",
      "python train_plife_prompt_sa.py --seed=0 --save_dir=\"/home/akarshkumar0101/nca-alife-data/plife_var/seed=0_n_particles=1000_n_colors=2_render_radius=0.005_mutate_params='beta+alpha+mass+dt+half_life+rmax'\"               --n_particles=1000 --n_colors=2 --x_dist_bins=9 --prompt=\"\" --render_radius=0.005 --render_sharpness=20.0 --rollout_steps=4000 --bs=4 --n_iters=256 --mr=1.0 --anneal_prob_end=1.0 --mutate_params=\"beta+alpha+mass+dt+half_life+rmax\"               &> /home/akarshkumar0101/nca-alife-data/logs/2024_07_21_08_01_26/job_00007.out\n",
      "echo $? > /home/akarshkumar0101/nca-alife-data/logs/2024_07_21_08_01_26/job_00007.status\n",
      "\n",
      "touch /home/akarshkumar0101/nca-alife-data/logs/2024_07_21_08_01_26/job_00011.status\n",
      "python train_plife_prompt_sa.py --seed=0 --save_dir=\"/home/akarshkumar0101/nca-alife-data/plife_var/seed=0_n_particles=1000_n_colors=2_render_radius=0.01_mutate_params=''\"                                                 --n_particles=1000 --n_colors=2 --x_dist_bins=9 --prompt=\"\" --render_radius=0.01  --render_sharpness=20.0 --rollout_steps=4000 --bs=4 --n_iters=256 --mr=1.0 --anneal_prob_end=1.0 --mutate_params=\"\"                                                &> /home/akarshkumar0101/nca-alife-data/logs/2024_07_21_08_01_26/job_00011.out\n",
      "echo $? > /home/akarshkumar0101/nca-alife-data/logs/2024_07_21_08_01_26/job_00011.status\n",
      "\n",
      "touch /home/akarshkumar0101/nca-alife-data/logs/2024_07_21_08_01_26/job_00015.status\n",
      "python train_plife_prompt_sa.py --seed=0 --save_dir=\"/home/akarshkumar0101/nca-alife-data/plife_var/seed=0_n_particles=1000_n_colors=2_render_radius=0.01_mutate_params='beta+alpha+mass+c_dist+x_dist'\"                    --n_particles=1000 --n_colors=2 --x_dist_bins=9 --prompt=\"\" --render_radius=0.01  --render_sharpness=20.0 --rollout_steps=4000 --bs=4 --n_iters=256 --mr=1.0 --anneal_prob_end=1.0 --mutate_params=\"beta+alpha+mass+c_dist+x_dist\"                   &> /home/akarshkumar0101/nca-alife-data/logs/2024_07_21_08_01_26/job_00015.out\n",
      "echo $? > /home/akarshkumar0101/nca-alife-data/logs/2024_07_21_08_01_26/job_00015.status\n",
      "\n",
      "touch /home/akarshkumar0101/nca-alife-data/logs/2024_07_21_08_01_26/job_00019.status\n",
      "python train_plife_prompt_sa.py --seed=0 --save_dir=\"/home/akarshkumar0101/nca-alife-data/plife_var/seed=0_n_particles=1000_n_colors=2_render_radius=0.01_mutate_params='beta+alpha+mass+dt+half_life+rmax+c_dist+x_dist'\"  --n_particles=1000 --n_colors=2 --x_dist_bins=9 --prompt=\"\" --render_radius=0.01  --render_sharpness=20.0 --rollout_steps=4000 --bs=4 --n_iters=256 --mr=1.0 --anneal_prob_end=1.0 --mutate_params=\"beta+alpha+mass+dt+half_life+rmax+c_dist+x_dist\" &> /home/akarshkumar0101/nca-alife-data/logs/2024_07_21_08_01_26/job_00019.out\n"
     ]
    }
   ],
   "source": [
    "print('\\n'.join(txt.split('\\n')[:24]))"
   ]
  },
  {
   "cell_type": "code",
   "execution_count": null,
   "id": "7a7a1ba5-f8cf-4cb2-93ba-25a548a0f499",
   "metadata": {},
   "outputs": [],
   "source": []
  },
  {
   "cell_type": "code",
   "execution_count": 138,
   "id": "e5ce96252f75f2f9",
   "metadata": {
    "ExecuteTime": {
     "end_time": "2024-06-05T16:35:49.567207Z",
     "start_time": "2024-06-05T16:35:49.546023Z"
    }
   },
   "outputs": [
    {
     "name": "stdout",
     "output_type": "stream",
     "text": [
      "bash /home/akarshkumar0101/nca-alife-data/logs/2024_07_21_08_01_26/gpu_4.sh\n",
      "bash /home/akarshkumar0101/nca-alife-data/logs/2024_07_21_08_01_26/gpu_5.sh\n",
      "bash /home/akarshkumar0101/nca-alife-data/logs/2024_07_21_08_01_26/gpu_6.sh\n",
      "bash /home/akarshkumar0101/nca-alife-data/logs/2024_07_21_08_01_26/gpu_7.sh\n"
     ]
    }
   ],
   "source": [
    "for i_gpu, gpu in enumerate(gpus):\n",
    "    command = f\"bash {log_dir}/gpu_{gpu}.sh\"\n",
    "    print(command)\n",
    "    process = subprocess.Popen(command, shell=True)"
   ]
  },
  {
   "cell_type": "code",
   "execution_count": null,
   "id": "8d4b43ea-3cd2-4567-9e7b-819a109f4672",
   "metadata": {},
   "outputs": [],
   "source": []
  },
  {
   "cell_type": "code",
   "execution_count": null,
   "id": "0993c800-10a3-4d44-a37b-55aff7b6da13",
   "metadata": {},
   "outputs": [],
   "source": []
  },
  {
   "cell_type": "code",
   "execution_count": null,
   "id": "5f6328aa-5b2e-4739-b80d-2ebc1761740a",
   "metadata": {},
   "outputs": [],
   "source": []
  },
  {
   "cell_type": "markdown",
   "id": "233f54f7c2310a69",
   "metadata": {},
   "source": [
    "# Track Experiment"
   ]
  },
  {
   "cell_type": "code",
   "execution_count": 253,
   "id": "1eb72d2c-d077-466b-b7a3-c70eb8666291",
   "metadata": {},
   "outputs": [],
   "source": [
    "from collections import defaultdict\n",
    "\n",
    "statuses = []\n",
    "for job_id in range(len(commands)):\n",
    "    try:\n",
    "        with open(f\"{log_dir}/job_{job_id:05d}.status\", \"r\") as f:\n",
    "            status = int(f.read().strip())\n",
    "            statuses.append(status)\n",
    "    except Exception as e:\n",
    "        pass\n",
    "        # print(e)\n",
    "        # break\n",
    "statuses = np.array(statuses)"
   ]
  },
  {
   "cell_type": "code",
   "execution_count": 254,
   "id": "3da1b300-6f0e-4e26-9b1b-8e282397d567",
   "metadata": {},
   "outputs": [
    {
     "data": {
      "text/plain": [
       "(600, 600)"
      ]
     },
     "execution_count": 254,
     "metadata": {},
     "output_type": "execute_result"
    }
   ],
   "source": [
    "(statuses==0).sum(), len(commands)"
   ]
  },
  {
   "cell_type": "code",
   "execution_count": null,
   "id": "9e483893-f634-46b9-986d-52dc0b6ff1cc",
   "metadata": {},
   "outputs": [],
   "source": []
  },
  {
   "cell_type": "code",
   "execution_count": null,
   "id": "08491ba7-1d04-4b7e-94df-e1be34229ead",
   "metadata": {},
   "outputs": [],
   "source": []
  },
  {
   "cell_type": "code",
   "execution_count": null,
   "id": "a29bb4e0-a34a-48a1-b2be-669c7ca1f464",
   "metadata": {},
   "outputs": [],
   "source": []
  },
  {
   "cell_type": "code",
   "execution_count": null,
   "id": "32fe494c-c20c-463a-a4ae-2202aac81849",
   "metadata": {},
   "outputs": [],
   "source": []
  },
  {
   "cell_type": "code",
   "execution_count": null,
   "id": "5c402c34-c978-4d5d-bd84-3fc4a00654f9",
   "metadata": {},
   "outputs": [],
   "source": []
  },
  {
   "cell_type": "code",
   "execution_count": null,
   "id": "f3b94e73-b95f-4e6d-b898-1aa43a72f582",
   "metadata": {},
   "outputs": [],
   "source": []
  },
  {
   "cell_type": "code",
   "execution_count": null,
   "id": "7231ba46-c1ee-4fe0-a83d-0f7c951951e6",
   "metadata": {},
   "outputs": [],
   "source": []
  },
  {
   "cell_type": "code",
   "execution_count": 255,
   "id": "b87eb0da-3b7d-41c1-b656-7810bf958163",
   "metadata": {},
   "outputs": [
    {
     "name": "stdout",
     "output_type": "stream",
     "text": [
      "\n",
      "------------------------------------------------------ 560 ------------------------------------------------------\n",
      "\n",
      "self.pid = _fork_exec(\n",
      "\n",
      "------------------------------------------------------ 561 ------------------------------------------------------\n",
      "\n",
      "self.pid = _fork_exec(\n",
      "\n",
      "------------------------------------------------------ 562 ------------------------------------------------------\n",
      "\n",
      "self.pid = _fork_exec(\n",
      "\n",
      "------------------------------------------------------ 563 ------------------------------------------------------\n",
      "\n",
      "self.pid = _fork_exec(\n",
      "\n",
      "------------------------------------------------------ 564 ------------------------------------------------------\n",
      "\n",
      "self.pid = _fork_exec(\n",
      "\n",
      "------------------------------------------------------ 565 ------------------------------------------------------\n",
      "\n",
      "self.pid = _fork_exec(\n",
      "\n",
      "------------------------------------------------------ 566 ------------------------------------------------------\n",
      "\n",
      "self.pid = _fork_exec(\n",
      "\n",
      "------------------------------------------------------ 567 ------------------------------------------------------\n",
      "\n",
      "self.pid = _fork_exec(\n",
      "\n",
      "------------------------------------------------------ 568 ------------------------------------------------------\n",
      "\n",
      "self.pid = _fork_exec(\n",
      "\n",
      "------------------------------------------------------ 569 ------------------------------------------------------\n",
      "\n",
      "self.pid = _fork_exec(\n",
      "\n",
      "------------------------------------------------------ 570 ------------------------------------------------------\n",
      "\n",
      "self.pid = _fork_exec(\n",
      "\n",
      "------------------------------------------------------ 571 ------------------------------------------------------\n",
      "\n",
      "self.pid = _fork_exec(\n",
      "\n",
      "------------------------------------------------------ 572 ------------------------------------------------------\n",
      "\n",
      "self.pid = _fork_exec(\n",
      "\n",
      "------------------------------------------------------ 573 ------------------------------------------------------\n",
      "\n",
      "self.pid = _fork_exec(\n",
      "\n",
      "------------------------------------------------------ 574 ------------------------------------------------------\n",
      "\n",
      "self.pid = _fork_exec(\n",
      "\n",
      "------------------------------------------------------ 575 ------------------------------------------------------\n",
      "\n",
      "self.pid = _fork_exec(\n",
      "\n",
      "------------------------------------------------------ 576 ------------------------------------------------------\n",
      "\n",
      "self.pid = _fork_exec(\n",
      "\n",
      "------------------------------------------------------ 577 ------------------------------------------------------\n",
      "\n",
      "self.pid = _fork_exec(\n",
      "\n",
      "------------------------------------------------------ 578 ------------------------------------------------------\n",
      "\n",
      "self.pid = _fork_exec(\n",
      "\n",
      "------------------------------------------------------ 579 ------------------------------------------------------\n",
      "\n",
      "self.pid = _fork_exec(\n",
      "\n",
      "------------------------------------------------------ 580 ------------------------------------------------------\n",
      "\n",
      "self.pid = _fork_exec(\n",
      "\n",
      "------------------------------------------------------ 581 ------------------------------------------------------\n",
      "\n",
      "self.pid = _fork_exec(\n",
      "\n",
      "------------------------------------------------------ 582 ------------------------------------------------------\n",
      "\n",
      "self.pid = _fork_exec(\n",
      "\n",
      "------------------------------------------------------ 583 ------------------------------------------------------\n",
      "\n",
      "self.pid = _fork_exec(\n",
      "\n",
      "------------------------------------------------------ 584 ------------------------------------------------------\n",
      "\n",
      "self.pid = _fork_exec(\n",
      "\n",
      "------------------------------------------------------ 585 ------------------------------------------------------\n",
      "\n",
      "self.pid = _fork_exec(\n",
      "\n",
      "------------------------------------------------------ 586 ------------------------------------------------------\n",
      "\n",
      "self.pid = _fork_exec(\n",
      "\n",
      "------------------------------------------------------ 587 ------------------------------------------------------\n",
      "\n",
      "self.pid = _fork_exec(\n",
      "\n",
      "------------------------------------------------------ 588 ------------------------------------------------------\n",
      "\n",
      "self.pid = _fork_exec(\n",
      "\n",
      "------------------------------------------------------ 589 ------------------------------------------------------\n",
      "\n",
      "self.pid = _fork_exec(\n",
      "\n",
      "------------------------------------------------------ 590 ------------------------------------------------------\n",
      "\n",
      "self.pid = _fork_exec(\n",
      "\n",
      "------------------------------------------------------ 591 ------------------------------------------------------\n",
      "\n",
      "self.pid = _fork_exec(\n",
      "\n",
      "------------------------------------------------------ 592 ------------------------------------------------------\n",
      "\n",
      "self.pid = _fork_exec(\n",
      "\n",
      "------------------------------------------------------ 593 ------------------------------------------------------\n",
      "\n",
      "self.pid = _fork_exec(\n",
      "\n",
      "------------------------------------------------------ 594 ------------------------------------------------------\n",
      "\n",
      "self.pid = _fork_exec(\n",
      "\n",
      "------------------------------------------------------ 595 ------------------------------------------------------\n",
      "\n",
      "self.pid = _fork_exec(\n",
      "\n",
      "------------------------------------------------------ 596 ------------------------------------------------------\n",
      "\n",
      "self.pid = _fork_exec(\n",
      "\n",
      "------------------------------------------------------ 597 ------------------------------------------------------\n",
      "\n",
      "self.pid = _fork_exec(\n",
      "\n",
      "------------------------------------------------------ 598 ------------------------------------------------------\n",
      "\n",
      "self.pid = _fork_exec(\n",
      "\n",
      "------------------------------------------------------ 599 ------------------------------------------------------\n",
      "\n",
      "self.pid = _fork_exec(\n"
     ]
    }
   ],
   "source": [
    "for job_id in list(range(len(commands)))[-40:]:\n",
    "    print()\n",
    "    print(f'------------------------------------------------------ {job_id} ------------------------------------------------------')\n",
    "    print()\n",
    "    try:\n",
    "        with open(f\"{log_dir}/job_{job_id:05d}.out\", \"r\") as f:\n",
    "            print(f.readlines()[-1].strip())\n",
    "    except Exception as e:\n",
    "        # pass\n",
    "        # break\n",
    "        print(e)"
   ]
  },
  {
   "cell_type": "code",
   "execution_count": null,
   "id": "1f545d74-19fc-42d7-a744-de052c2619aa",
   "metadata": {},
   "outputs": [],
   "source": []
  },
  {
   "cell_type": "code",
   "execution_count": null,
   "id": "90a1de37-f618-45da-b091-2b3136ddab3a",
   "metadata": {},
   "outputs": [],
   "source": []
  },
  {
   "cell_type": "code",
   "execution_count": null,
   "id": "be31062b-407b-4841-8577-ad94ebc9c59d",
   "metadata": {},
   "outputs": [],
   "source": []
  },
  {
   "cell_type": "code",
   "execution_count": null,
   "id": "7b740636-08a1-484f-b614-d6ca2ac6cd12",
   "metadata": {},
   "outputs": [],
   "source": []
  },
  {
   "cell_type": "code",
   "execution_count": null,
   "id": "3e3af6cb-4344-431b-9968-94858a401ca6",
   "metadata": {},
   "outputs": [],
   "source": []
  },
  {
   "cell_type": "code",
   "execution_count": null,
   "id": "c75eacd4eb3f534d",
   "metadata": {},
   "outputs": [],
   "source": []
  },
  {
   "cell_type": "code",
   "execution_count": null,
   "id": "d2d8e17e3abe3689",
   "metadata": {},
   "outputs": [],
   "source": []
  }
 ],
 "metadata": {
  "kernelspec": {
   "display_name": "Python 3 (ipykernel)",
   "language": "python",
   "name": "python3"
  },
  "language_info": {
   "codemirror_mode": {
    "name": "ipython",
    "version": 3
   },
   "file_extension": ".py",
   "mimetype": "text/x-python",
   "name": "python",
   "nbconvert_exporter": "python",
   "pygments_lexer": "ipython3",
   "version": "3.12.3"
  }
 },
 "nbformat": 4,
 "nbformat_minor": 5
}

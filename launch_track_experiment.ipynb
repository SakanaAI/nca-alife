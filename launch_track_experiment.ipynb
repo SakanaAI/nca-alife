{
 "cells": [
  {
   "cell_type": "code",
   "execution_count": 300,
   "id": "initial_id",
   "metadata": {
    "ExecuteTime": {
     "end_time": "2024-06-05T15:24:12.196261Z",
     "start_time": "2024-06-05T15:24:11.937119Z"
    }
   },
   "outputs": [
    {
     "name": "stdout",
     "output_type": "stream",
     "text": [
      "The autoreload extension is already loaded. To reload it, use:\n",
      "  %reload_ext autoreload\n",
      "fish-gcp005\n",
      "/home/akarshkumar0101/nca-alife\n",
      "/home/akarshkumar0101/miniconda3/envs/nca-alife-jax/bin/python\n"
     ]
    }
   ],
   "source": [
    "%load_ext autoreload\n",
    "%autoreload 2\n",
    "!hostname\n",
    "!pwd\n",
    "import os, sys\n",
    "print(sys.executable)"
   ]
  },
  {
   "cell_type": "code",
   "execution_count": 301,
   "id": "b14fab765a9b502f",
   "metadata": {
    "ExecuteTime": {
     "end_time": "2024-06-05T15:24:46.791547Z",
     "start_time": "2024-06-05T15:24:46.534227Z"
    }
   },
   "outputs": [],
   "source": [
    "import os, sys, glob, pickle\n",
    "from functools import partial\n",
    "\n",
    "import numpy as np\n",
    "import pandas as pd\n",
    "import xarray as xr\n",
    "import matplotlib.pyplot as plt\n",
    "import seaborn as sns\n",
    "# sns.set_theme()\n",
    "\n",
    "from tqdm.auto import tqdm\n",
    "from einops import rearrange, reduce, repeat"
   ]
  },
  {
   "cell_type": "code",
   "execution_count": 302,
   "id": "cd70dd980a69d0d2",
   "metadata": {
    "ExecuteTime": {
     "end_time": "2024-06-05T16:32:40.437767Z",
     "start_time": "2024-06-05T16:32:40.418237Z"
    }
   },
   "outputs": [],
   "source": [
    "# import experiment_utils\n",
    "import time\n",
    "import subprocess"
   ]
  },
  {
   "cell_type": "markdown",
   "id": "d25a8459feec83fd",
   "metadata": {},
   "source": [
    "# Launch Experiment (on this node)"
   ]
  },
  {
   "cell_type": "code",
   "execution_count": 303,
   "id": "8c39a5bfd56aad84",
   "metadata": {
    "ExecuteTime": {
     "end_time": "2024-06-05T16:32:45.724746Z",
     "start_time": "2024-06-05T16:32:45.705123Z"
    }
   },
   "outputs": [
    {
     "name": "stdout",
     "output_type": "stream",
     "text": [
      "./src/experiments/main.sh has 224 commands: \n",
      "python train_target_emergence_lenia.py --seed=0 --save_dir=\"/home/akarshkumar0101/nca-alife-data/lenia_prompt3/0_0_0.1_-1.0\" --grid_size=128 --phenotype_size=64 --rollout_steps=256 --n_rollout_imgs=8 --prompts=\"\" --coef_prompts=1.0 --coef_novelty=-1.0 --algo=\"Sep_CMA_ES\" --bs=4 --pop_size=16 --n_iters=7000 --sigma=0.1 --start_pattern=\"5N7KKM\" --prompt=\"a biological cell\"                         \n",
      "python train_target_emergence_lenia.py --seed=0 --save_dir=\"/home/akarshkumar0101/nca-alife-data/lenia_prompt3/0_1_0.1_-1.0\" --grid_size=128 --phenotype_size=64 --rollout_steps=256 --n_rollout_imgs=8 --prompts=\"\" --coef_prompts=1.0 --coef_novelty=-1.0 --algo=\"Sep_CMA_ES\" --bs=4 --pop_size=16 --n_iters=7000 --sigma=0.1 --start_pattern=\"5N7KKM\" --prompt=\"a biological cell under the microscope\"    \n",
      "python train_target_emergence_lenia.py --seed=0 --save_dir=\"/home/akarshkumar0101/nca-alife-data/lenia_prompt3/0_2_0.1_-1.0\" --grid_size=128 --phenotype_size=64 --rollout_steps=256 --n_rollout_imgs=8 --prompts=\"\" --coef_prompts=1.0 --coef_novelty=-1.0 --algo=\"Sep_CMA_ES\" --bs=4 --pop_size=16 --n_iters=7000 --sigma=0.1 --start_pattern=\"5N7KKM\" --prompt=\"a red organism\"                             \n",
      "...\n",
      "Logging to /home/akarshkumar0101/nca-alife-data/logs/2024_08_15_08_54_23\n"
     ]
    }
   ],
   "source": [
    "header = '\\n'.join([\n",
    "    '#!/bin/bash',\n",
    "    \n",
    "    # 'source ~/.virtualenvs/nca-alife-torch/bin/activate'\n",
    "    \n",
    "    'source ~/miniconda3/etc/profile.d/conda.sh',\n",
    "    'conda activate nca-alife-jax',\n",
    "    \n",
    "    'cd ~/nca-alife/src'\n",
    "])\n",
    "\n",
    "\n",
    "gpus = [4, 5, 6, 7]\n",
    "log_dir = os.path.expanduser(f'~/nca-alife-data/logs/{time.strftime(\"%Y_%m_%d_%H_%M_%S\")}')\n",
    "exp_sh = f'./src/experiments/main.sh'\n",
    "with open(exp_sh, 'r') as f:\n",
    "    commands = [c for c in f.read().split('\\n') if c]\n",
    "print(f\"{exp_sh} has {len(commands)} commands: \")\n",
    "print('\\n'.join(commands[:3]), '\\n...')\n",
    "print(f\"Logging to {log_dir}\")"
   ]
  },
  {
   "cell_type": "code",
   "execution_count": 304,
   "id": "606a1e32-67e7-4c6c-b426-614ccd1651c4",
   "metadata": {},
   "outputs": [
    {
     "name": "stdout",
     "output_type": "stream",
     "text": [
      "/home/akarshkumar0101/nca-alife-data/logs/2024_08_15_08_54_23\n"
     ]
    }
   ],
   "source": [
    "print(log_dir)"
   ]
  },
  {
   "cell_type": "code",
   "execution_count": null,
   "id": "8483676c-0242-42c2-9823-79fad500a436",
   "metadata": {},
   "outputs": [],
   "source": []
  },
  {
   "cell_type": "code",
   "execution_count": null,
   "id": "9819a394-2848-4e7a-b553-6d07fb1c8c80",
   "metadata": {},
   "outputs": [],
   "source": []
  },
  {
   "cell_type": "code",
   "execution_count": null,
   "id": "5a6eb46d-b180-47c0-9e47-045a0f8f9dde",
   "metadata": {},
   "outputs": [],
   "source": []
  },
  {
   "cell_type": "code",
   "execution_count": 305,
   "id": "ccbc7bd83eb023cb",
   "metadata": {
    "ExecuteTime": {
     "end_time": "2024-06-05T16:32:47.309708Z",
     "start_time": "2024-06-05T16:32:47.171678Z"
    }
   },
   "outputs": [],
   "source": [
    "!mkdir -p {log_dir}\n",
    "!rm {os.path.dirname(log_dir)+'/latest'}\n",
    "!ln -sf {log_dir} {os.path.dirname(log_dir)+'/latest'}\n",
    "for i_gpu, gpu in enumerate(gpus):\n",
    "    job_ids = np.arange(len(commands))[i_gpu::len(gpus)]\n",
    "    cvd = f'export CUDA_VISIBLE_DEVICES={gpu}'\n",
    "    txt = f\"{header}\\n{cvd}\\n\\n\"\n",
    "    for job_id in job_ids:\n",
    "        txt += f\"touch {log_dir}/job_{job_id:05d}.status\\n\"\n",
    "        txt += f\"{commands[job_id]} &> {log_dir}/job_{job_id:05d}.out\\n\"\n",
    "        txt += f\"echo $? > {log_dir}/job_{job_id:05d}.status\\n\\n\"\n",
    "    with open(f\"{log_dir}/gpu_{gpu}.sh\", \"w\") as f:\n",
    "        f.write(txt)"
   ]
  },
  {
   "cell_type": "code",
   "execution_count": 306,
   "id": "fd11b06be751b124",
   "metadata": {
    "ExecuteTime": {
     "end_time": "2024-06-05T16:32:47.659970Z",
     "start_time": "2024-06-05T16:32:47.641164Z"
    }
   },
   "outputs": [
    {
     "name": "stdout",
     "output_type": "stream",
     "text": [
      "#!/bin/bash\n",
      "source ~/miniconda3/etc/profile.d/conda.sh\n",
      "conda activate nca-alife-jax\n",
      "cd ~/nca-alife/src\n",
      "export CUDA_VISIBLE_DEVICES=7\n",
      "\n",
      "touch /home/akarshkumar0101/nca-alife-data/logs/2024_08_15_08_54_23/job_00003.status\n",
      "python train_target_emergence_lenia.py --seed=0 --save_dir=\"/home/akarshkumar0101/nca-alife-data/lenia_prompt3/0_3_0.1_-1.0\" --grid_size=128 --phenotype_size=64 --rollout_steps=256 --n_rollout_imgs=8 --prompts=\"\" --coef_prompts=1.0 --coef_novelty=-1.0 --algo=\"Sep_CMA_ES\" --bs=4 --pop_size=16 --n_iters=7000 --sigma=0.1 --start_pattern=\"5N7KKM\" --prompt=\"a bacterium under the microscope\"           &> /home/akarshkumar0101/nca-alife-data/logs/2024_08_15_08_54_23/job_00003.out\n",
      "echo $? > /home/akarshkumar0101/nca-alife-data/logs/2024_08_15_08_54_23/job_00003.status\n",
      "\n",
      "touch /home/akarshkumar0101/nca-alife-data/logs/2024_08_15_08_54_23/job_00007.status\n",
      "python train_target_emergence_lenia.py --seed=0 --save_dir=\"/home/akarshkumar0101/nca-alife-data/lenia_prompt3/0_7_0.1_-1.0\" --grid_size=128 --phenotype_size=64 --rollout_steps=256 --n_rollout_imgs=8 --prompts=\"\" --coef_prompts=1.0 --coef_novelty=-1.0 --algo=\"Sep_CMA_ES\" --bs=4 --pop_size=16 --n_iters=7000 --sigma=0.1 --start_pattern=\"5N7KKM\" --prompt=\"a cool colorful pattern\"                    &> /home/akarshkumar0101/nca-alife-data/logs/2024_08_15_08_54_23/job_00007.out\n",
      "echo $? > /home/akarshkumar0101/nca-alife-data/logs/2024_08_15_08_54_23/job_00007.status\n",
      "\n",
      "touch /home/akarshkumar0101/nca-alife-data/logs/2024_08_15_08_54_23/job_00011.status\n",
      "python train_target_emergence_lenia.py --seed=0 --save_dir=\"/home/akarshkumar0101/nca-alife-data/lenia_prompt3/0_3_0.1_-0.3\" --grid_size=128 --phenotype_size=64 --rollout_steps=256 --n_rollout_imgs=8 --prompts=\"\" --coef_prompts=1.0 --coef_novelty=-0.3 --algo=\"Sep_CMA_ES\" --bs=4 --pop_size=16 --n_iters=7000 --sigma=0.1 --start_pattern=\"5N7KKM\" --prompt=\"a bacterium under the microscope\"           &> /home/akarshkumar0101/nca-alife-data/logs/2024_08_15_08_54_23/job_00011.out\n",
      "echo $? > /home/akarshkumar0101/nca-alife-data/logs/2024_08_15_08_54_23/job_00011.status\n",
      "\n",
      "touch /home/akarshkumar0101/nca-alife-data/logs/2024_08_15_08_54_23/job_00015.status\n",
      "python train_target_emergence_lenia.py --seed=0 --save_dir=\"/home/akarshkumar0101/nca-alife-data/lenia_prompt3/0_7_0.1_-0.3\" --grid_size=128 --phenotype_size=64 --rollout_steps=256 --n_rollout_imgs=8 --prompts=\"\" --coef_prompts=1.0 --coef_novelty=-0.3 --algo=\"Sep_CMA_ES\" --bs=4 --pop_size=16 --n_iters=7000 --sigma=0.1 --start_pattern=\"5N7KKM\" --prompt=\"a cool colorful pattern\"                    &> /home/akarshkumar0101/nca-alife-data/logs/2024_08_15_08_54_23/job_00015.out\n",
      "echo $? > /home/akarshkumar0101/nca-alife-data/logs/2024_08_15_08_54_23/job_00015.status\n",
      "\n",
      "touch /home/akarshkumar0101/nca-alife-data/logs/2024_08_15_08_54_23/job_00019.status\n",
      "python train_target_emergence_lenia.py --seed=0 --save_dir=\"/home/akarshkumar0101/nca-alife-data/lenia_prompt3/0_3_0.1_-0.1\" --grid_size=128 --phenotype_size=64 --rollout_steps=256 --n_rollout_imgs=8 --prompts=\"\" --coef_prompts=1.0 --coef_novelty=-0.1 --algo=\"Sep_CMA_ES\" --bs=4 --pop_size=16 --n_iters=7000 --sigma=0.1 --start_pattern=\"5N7KKM\" --prompt=\"a bacterium under the microscope\"           &> /home/akarshkumar0101/nca-alife-data/logs/2024_08_15_08_54_23/job_00019.out\n"
     ]
    }
   ],
   "source": [
    "print('\\n'.join(txt.split('\\n')[:24]))"
   ]
  },
  {
   "cell_type": "code",
   "execution_count": null,
   "id": "7a7a1ba5-f8cf-4cb2-93ba-25a548a0f499",
   "metadata": {},
   "outputs": [],
   "source": []
  },
  {
   "cell_type": "code",
   "execution_count": null,
   "id": "9e48a7c8-f06d-4b33-9226-b0800279667e",
   "metadata": {},
   "outputs": [],
   "source": []
  },
  {
   "cell_type": "code",
   "execution_count": null,
   "id": "d10b736e-5b7c-40d1-8ffd-a5e3f2b0add4",
   "metadata": {},
   "outputs": [],
   "source": []
  },
  {
   "cell_type": "code",
   "execution_count": 307,
   "id": "e5ce96252f75f2f9",
   "metadata": {
    "ExecuteTime": {
     "end_time": "2024-06-05T16:35:49.567207Z",
     "start_time": "2024-06-05T16:35:49.546023Z"
    }
   },
   "outputs": [
    {
     "name": "stdout",
     "output_type": "stream",
     "text": [
      "bash /home/akarshkumar0101/nca-alife-data/logs/2024_08_15_08_54_23/gpu_4.sh\n",
      "bash /home/akarshkumar0101/nca-alife-data/logs/2024_08_15_08_54_23/gpu_5.sh\n",
      "bash /home/akarshkumar0101/nca-alife-data/logs/2024_08_15_08_54_23/gpu_6.sh\n",
      "bash /home/akarshkumar0101/nca-alife-data/logs/2024_08_15_08_54_23/gpu_7.sh\n"
     ]
    }
   ],
   "source": [
    "for i_gpu, gpu in enumerate(gpus):\n",
    "    command = f\"bash {log_dir}/gpu_{gpu}.sh\"\n",
    "    print(command)\n",
    "    process = subprocess.Popen(command, shell=True)"
   ]
  },
  {
   "cell_type": "code",
   "execution_count": null,
   "id": "8d4b43ea-3cd2-4567-9e7b-819a109f4672",
   "metadata": {},
   "outputs": [],
   "source": []
  },
  {
   "cell_type": "code",
   "execution_count": null,
   "id": "0993c800-10a3-4d44-a37b-55aff7b6da13",
   "metadata": {},
   "outputs": [],
   "source": []
  },
  {
   "cell_type": "code",
   "execution_count": null,
   "id": "5f6328aa-5b2e-4739-b80d-2ebc1761740a",
   "metadata": {},
   "outputs": [],
   "source": []
  },
  {
   "cell_type": "markdown",
   "id": "233f54f7c2310a69",
   "metadata": {},
   "source": [
    "# Track Experiment"
   ]
  },
  {
   "cell_type": "code",
   "execution_count": 22,
   "id": "323b77b2-6677-4b3b-9864-10f98df4c77d",
   "metadata": {},
   "outputs": [],
   "source": [
    "import subprocess\n",
    "a = subprocess.run(['ps', 'ux'], stdout=subprocess.PIPE).stdout.decode('utf-8')"
   ]
  },
  {
   "cell_type": "code",
   "execution_count": 25,
   "id": "6919b53c-0578-4e33-a86b-471b78449bee",
   "metadata": {},
   "outputs": [
    {
     "data": {
      "text/plain": [
       "['akarshk+ 1271851  0.0  0.0   2480   572 ?        S    04:58   0:00 /bin/sh -c bash /home/akarshkumar0101/nca-alife-data/logs/2024_07_31_04_58_39/gpu_4.sh',\n",
       " 'akarshk+ 1271852  0.0  0.0   2480   516 ?        S    04:58   0:00 /bin/sh -c bash /home/akarshkumar0101/nca-alife-data/logs/2024_07_31_04_58_39/gpu_5.sh',\n",
       " 'akarshk+ 1271853  0.0  0.0 219972  3408 ?        S    04:58   0:00 bash /home/akarshkumar0101/nca-alife-data/logs/2024_07_31_04_58_39/gpu_4.sh',\n",
       " 'akarshk+ 1271854  0.0  0.0   2480   512 ?        S    04:58   0:00 /bin/sh -c bash /home/akarshkumar0101/nca-alife-data/logs/2024_07_31_04_58_39/gpu_6.sh',\n",
       " 'akarshk+ 1271855  0.0  0.0 219972  3200 ?        S    04:58   0:00 bash /home/akarshkumar0101/nca-alife-data/logs/2024_07_31_04_58_39/gpu_5.sh',\n",
       " 'akarshk+ 1271856  0.0  0.0   2480   516 ?        S    04:58   0:00 /bin/sh -c bash /home/akarshkumar0101/nca-alife-data/logs/2024_07_31_04_58_39/gpu_7.sh',\n",
       " 'akarshk+ 1271857  0.0  0.0 219972  3460 ?        S    04:58   0:00 bash /home/akarshkumar0101/nca-alife-data/logs/2024_07_31_04_58_39/gpu_6.sh',\n",
       " 'akarshk+ 1271858  0.0  0.0 219972  3188 ?        S    04:58   0:00 bash /home/akarshkumar0101/nca-alife-data/logs/2024_07_31_04_58_39/gpu_7.sh']"
      ]
     },
     "execution_count": 25,
     "metadata": {},
     "output_type": "execute_result"
    },
    {
     "name": "stderr",
     "output_type": "stream",
     "text": [
      "Terminated\n",
      "Terminated\n",
      "Terminated\n",
      "Terminated\n"
     ]
    }
   ],
   "source": [
    "[l for l in a.split('\\n') if \"bash\" in l and \"gpu\" in l]"
   ]
  },
  {
   "cell_type": "code",
   "execution_count": null,
   "id": "8b02e737-1457-43f7-87d9-51b427af547e",
   "metadata": {},
   "outputs": [],
   "source": []
  },
  {
   "cell_type": "code",
   "execution_count": null,
   "id": "852dbcf0-5257-48ab-ab62-b1a5b15b313d",
   "metadata": {},
   "outputs": [],
   "source": []
  },
  {
   "cell_type": "code",
   "execution_count": null,
   "id": "577c510a-4b86-40ea-abbe-f3bcccd0dc38",
   "metadata": {},
   "outputs": [],
   "source": []
  },
  {
   "cell_type": "code",
   "execution_count": 328,
   "id": "1eb72d2c-d077-466b-b7a3-c70eb8666291",
   "metadata": {},
   "outputs": [
    {
     "data": {
      "image/png": "[encoded data removed]",
      "text/plain": [
       "<Figure size 640x480 with 1 Axes>"
      ]
     },
     "metadata": {},
     "output_type": "display_data"
    }
   ],
   "source": [
    "from collections import defaultdict\n",
    "\n",
    "status = []\n",
    "for job_id in range(len(commands)):\n",
    "    try:\n",
    "        with open(f\"{log_dir}/job_{job_id:05d}.status\", \"r\") as f:\n",
    "            status.append(int(f.read().strip()))\n",
    "    except Exception as e:\n",
    "        status.append(\"waiting\")\n",
    "status = np.array(status)\n",
    "\n",
    "codes, counts = np.unique(status, return_counts=True)\n",
    "df = pd.DataFrame(dict(codes=codes, counts=counts))\n",
    "ax = sns.barplot(data=df, x='codes', y='counts')\n",
    "ax.bar_label(ax.containers[0], fontsize=10);"
   ]
  },
  {
   "cell_type": "code",
   "execution_count": null,
   "id": "89442176-59fa-4071-b723-437fcd6699e9",
   "metadata": {},
   "outputs": [],
   "source": []
  },
  {
   "cell_type": "code",
   "execution_count": null,
   "id": "c45b8afe-38b2-4a6b-a075-096781521ecd",
   "metadata": {},
   "outputs": [],
   "source": []
  },
  {
   "cell_type": "code",
   "execution_count": null,
   "id": "cd2d676b-004e-41cf-958d-74f6ad6569be",
   "metadata": {},
   "outputs": [],
   "source": []
  },
  {
   "cell_type": "code",
   "execution_count": null,
   "id": "1db0c207-43d2-4c79-8602-191191d75535",
   "metadata": {},
   "outputs": [],
   "source": []
  },
  {
   "cell_type": "code",
   "execution_count": null,
   "id": "d3a53949-a656-497c-b3bc-733b10c333d8",
   "metadata": {},
   "outputs": [],
   "source": []
  },
  {
   "cell_type": "code",
   "execution_count": null,
   "id": "0a2677c3-1c57-462d-b4cd-1452fbb54b48",
   "metadata": {},
   "outputs": [],
   "source": []
  },
  {
   "cell_type": "code",
   "execution_count": null,
   "id": "0684129a-8adf-4f44-9d0c-52333b1fcb92",
   "metadata": {},
   "outputs": [],
   "source": []
  },
  {
   "cell_type": "code",
   "execution_count": null,
   "id": "187c7fdf-be2a-4ab3-9d8c-5846bb278b1f",
   "metadata": {},
   "outputs": [],
   "source": []
  },
  {
   "cell_type": "code",
   "execution_count": 327,
   "id": "b87eb0da-3b7d-41c1-b656-7810bf958163",
   "metadata": {},
   "outputs": [
    {
     "name": "stdout",
     "output_type": "stream",
     "text": [
      "\n",
      "------------------------------------------------------ 0 ------------------------------------------------------\n",
      "\n",
      "100%|██████████| 7000/7000 [13:03<00:00,  8.93it/s, best_loss=-1.3]\n",
      "\n",
      "------------------------------------------------------ 1 ------------------------------------------------------\n",
      "\n",
      "100%|██████████| 7000/7000 [13:04<00:00,  8.93it/s, best_loss=-1.3]\n",
      "\n",
      "------------------------------------------------------ 2 ------------------------------------------------------\n",
      "\n",
      "100%|██████████| 7000/7000 [13:02<00:00,  8.94it/s, best_loss=-1.29]\n",
      "\n",
      "------------------------------------------------------ 3 ------------------------------------------------------\n",
      "\n",
      "100%|██████████| 7000/7000 [13:08<00:00,  8.88it/s, best_loss=-1.31]\n",
      "\n",
      "------------------------------------------------------ 4 ------------------------------------------------------\n",
      "\n",
      "100%|██████████| 7000/7000 [13:02<00:00,  8.94it/s, best_loss=-1.28]\n",
      "\n",
      "------------------------------------------------------ 5 ------------------------------------------------------\n",
      "\n",
      "100%|██████████| 7000/7000 [13:05<00:00,  8.91it/s, best_loss=-1.28]\n",
      "\n",
      "------------------------------------------------------ 6 ------------------------------------------------------\n",
      "\n",
      "100%|██████████| 7000/7000 [12:54<00:00,  9.04it/s, best_loss=-1.27]\n",
      "\n",
      "------------------------------------------------------ 7 ------------------------------------------------------\n",
      "\n",
      "100%|██████████| 7000/7000 [13:09<00:00,  8.86it/s, best_loss=-1.35]\n",
      "\n",
      "------------------------------------------------------ 8 ------------------------------------------------------\n",
      "\n",
      "100%|██████████| 7000/7000 [12:52<00:00,  9.06it/s, best_loss=-0.634]\n",
      "\n",
      "------------------------------------------------------ 9 ------------------------------------------------------\n",
      "\n",
      "100%|██████████| 7000/7000 [13:21<00:00,  8.73it/s, best_loss=-0.608]\n",
      "\n",
      "------------------------------------------------------ 10 ------------------------------------------------------\n",
      "\n",
      "100%|██████████| 7000/7000 [13:04<00:00,  8.92it/s, best_loss=-0.596]\n",
      "\n",
      "------------------------------------------------------ 11 ------------------------------------------------------\n",
      "\n",
      "100%|██████████| 7000/7000 [13:12<00:00,  8.83it/s, best_loss=-0.613]\n",
      "\n",
      "------------------------------------------------------ 12 ------------------------------------------------------\n",
      "\n",
      "100%|██████████| 7000/7000 [13:15<00:00,  8.80it/s, best_loss=-0.597]\n",
      "\n",
      "------------------------------------------------------ 13 ------------------------------------------------------\n",
      "\n",
      "100%|██████████| 7000/7000 [13:04<00:00,  8.92it/s, best_loss=-0.586]\n",
      "\n",
      "------------------------------------------------------ 14 ------------------------------------------------------\n",
      "\n",
      "100%|██████████| 7000/7000 [12:50<00:00,  9.09it/s, best_loss=-0.572]\n",
      "\n",
      "------------------------------------------------------ 15 ------------------------------------------------------\n",
      "\n",
      "100%|██████████| 7000/7000 [13:06<00:00,  8.90it/s, best_loss=-0.635]\n",
      "\n",
      "------------------------------------------------------ 16 ------------------------------------------------------\n",
      "\n",
      "100%|██████████| 7000/7000 [13:01<00:00,  8.95it/s, best_loss=-0.439]\n",
      "\n",
      "------------------------------------------------------ 17 ------------------------------------------------------\n",
      "\n",
      "100%|██████████| 7000/7000 [13:10<00:00,  8.86it/s, best_loss=-0.403]\n",
      "\n",
      "------------------------------------------------------ 18 ------------------------------------------------------\n",
      "\n",
      "100%|██████████| 7000/7000 [12:53<00:00,  9.04it/s, best_loss=-0.401]\n",
      "\n",
      "------------------------------------------------------ 19 ------------------------------------------------------\n",
      "\n",
      "100%|██████████| 7000/7000 [12:58<00:00,  8.99it/s, best_loss=-0.415]\n",
      "\n",
      "------------------------------------------------------ 20 ------------------------------------------------------\n",
      "\n",
      "100%|██████████| 7000/7000 [13:16<00:00,  8.79it/s, best_loss=-0.402]\n",
      "\n",
      "------------------------------------------------------ 21 ------------------------------------------------------\n",
      "\n",
      "100%|██████████| 7000/7000 [13:07<00:00,  8.89it/s, best_loss=-0.398]\n",
      "\n",
      "------------------------------------------------------ 22 ------------------------------------------------------\n",
      "\n",
      "100%|██████████| 7000/7000 [13:05<00:00,  8.91it/s, best_loss=-0.378]\n",
      "\n",
      "------------------------------------------------------ 23 ------------------------------------------------------\n",
      "\n",
      "100%|██████████| 7000/7000 [13:07<00:00,  8.89it/s, best_loss=-0.442]\n",
      "\n",
      "------------------------------------------------------ 24 ------------------------------------------------------\n",
      "\n",
      "100%|██████████| 7000/7000 [13:11<00:00,  8.85it/s, best_loss=-0.334]\n",
      "\n",
      "------------------------------------------------------ 25 ------------------------------------------------------\n",
      "\n",
      "100%|██████████| 7000/7000 [13:19<00:00,  8.76it/s, best_loss=-0.317]\n",
      "\n",
      "------------------------------------------------------ 26 ------------------------------------------------------\n",
      "\n",
      "100%|██████████| 7000/7000 [12:56<00:00,  9.01it/s, best_loss=-0.301]\n",
      "\n",
      "------------------------------------------------------ 27 ------------------------------------------------------\n",
      "\n",
      "100%|██████████| 7000/7000 [13:13<00:00,  8.83it/s, best_loss=-0.319]\n",
      "\n",
      "------------------------------------------------------ 28 ------------------------------------------------------\n",
      "\n",
      "100%|██████████| 7000/7000 [13:20<00:00,  8.75it/s, best_loss=-0.302]\n",
      "\n",
      "------------------------------------------------------ 29 ------------------------------------------------------\n",
      "\n",
      "100%|██████████| 7000/7000 [13:14<00:00,  8.81it/s, best_loss=-0.295]\n",
      "\n",
      "------------------------------------------------------ 30 ------------------------------------------------------\n",
      "\n",
      "100%|██████████| 7000/7000 [12:55<00:00,  9.02it/s, best_loss=-0.3]\n",
      "\n",
      "------------------------------------------------------ 31 ------------------------------------------------------\n",
      "\n",
      "100%|██████████| 7000/7000 [13:14<00:00,  8.81it/s, best_loss=-0.351]\n",
      "\n",
      "------------------------------------------------------ 32 ------------------------------------------------------\n",
      "\n",
      "100%|██████████| 7000/7000 [13:07<00:00,  8.89it/s, best_loss=-0.243]\n",
      "\n",
      "------------------------------------------------------ 33 ------------------------------------------------------\n",
      "\n",
      "100%|██████████| 7000/7000 [13:11<00:00,  8.84it/s, best_loss=-0.217]\n",
      "\n",
      "------------------------------------------------------ 34 ------------------------------------------------------\n",
      "\n",
      "100%|██████████| 7000/7000 [13:05<00:00,  8.91it/s, best_loss=-0.223]\n",
      "\n",
      "------------------------------------------------------ 35 ------------------------------------------------------\n",
      "\n",
      "100%|██████████| 7000/7000 [13:11<00:00,  8.85it/s, best_loss=-0.229]\n",
      "\n",
      "------------------------------------------------------ 36 ------------------------------------------------------\n",
      "\n",
      "100%|██████████| 7000/7000 [13:11<00:00,  8.84it/s, best_loss=-0.212]\n",
      "\n",
      "------------------------------------------------------ 37 ------------------------------------------------------\n",
      "\n",
      "100%|██████████| 7000/7000 [13:16<00:00,  8.79it/s, best_loss=-0.203]\n",
      "\n",
      "------------------------------------------------------ 38 ------------------------------------------------------\n",
      "\n",
      "100%|██████████| 7000/7000 [13:52<00:00,  8.41it/s, best_loss=-0.208]\n",
      "\n",
      "------------------------------------------------------ 39 ------------------------------------------------------\n",
      "\n",
      "100%|██████████| 7000/7000 [13:03<00:00,  8.94it/s, best_loss=-0.25]\n",
      "\n",
      "------------------------------------------------------ 40 ------------------------------------------------------\n",
      "\n",
      "100%|██████████| 7000/7000 [13:05<00:00,  8.91it/s, best_loss=-0.0544]\n",
      "\n",
      "------------------------------------------------------ 41 ------------------------------------------------------\n",
      "\n",
      "100%|██████████| 7000/7000 [13:11<00:00,  8.85it/s, best_loss=-0.0311]\n",
      "\n",
      "------------------------------------------------------ 42 ------------------------------------------------------\n",
      "\n",
      "100%|██████████| 7000/7000 [13:03<00:00,  8.93it/s, best_loss=-0.0234]\n",
      "\n",
      "------------------------------------------------------ 43 ------------------------------------------------------\n",
      "\n",
      "100%|██████████| 7000/7000 [13:06<00:00,  8.90it/s, best_loss=-0.028]\n",
      "\n",
      "------------------------------------------------------ 44 ------------------------------------------------------\n",
      "\n",
      "100%|██████████| 7000/7000 [13:09<00:00,  8.87it/s, best_loss=-0.0223]\n",
      "\n",
      "------------------------------------------------------ 45 ------------------------------------------------------\n",
      "\n",
      "100%|██████████| 7000/7000 [13:01<00:00,  8.96it/s, best_loss=-0.0173]\n",
      "\n",
      "------------------------------------------------------ 46 ------------------------------------------------------\n",
      "\n",
      "100%|██████████| 7000/7000 [12:58<00:00,  8.99it/s, best_loss=-0.00596]\n",
      "\n",
      "------------------------------------------------------ 47 ------------------------------------------------------\n",
      "\n",
      "100%|██████████| 7000/7000 [13:05<00:00,  8.91it/s, best_loss=-0.055]\n",
      "\n",
      "------------------------------------------------------ 48 ------------------------------------------------------\n",
      "\n",
      "100%|██████████| 7000/7000 [12:59<00:00,  8.98it/s, best_loss=0.579]\n",
      "\n",
      "------------------------------------------------------ 49 ------------------------------------------------------\n",
      "\n",
      "100%|██████████| 7000/7000 [13:02<00:00,  8.94it/s, best_loss=0.604]\n",
      "\n",
      "------------------------------------------------------ 50 ------------------------------------------------------\n",
      "\n",
      "100%|██████████| 7000/7000 [12:59<00:00,  8.98it/s, best_loss=0.575]\n",
      "\n",
      "------------------------------------------------------ 51 ------------------------------------------------------\n",
      "\n",
      "100%|██████████| 7000/7000 [12:59<00:00,  8.98it/s, best_loss=0.602]\n",
      "\n",
      "------------------------------------------------------ 52 ------------------------------------------------------\n",
      "\n",
      "100%|██████████| 7000/7000 [13:08<00:00,  8.88it/s, best_loss=0.606]\n",
      "\n",
      "------------------------------------------------------ 53 ------------------------------------------------------\n",
      "\n",
      "100%|██████████| 7000/7000 [13:08<00:00,  8.88it/s, best_loss=0.61]\n",
      "\n",
      "------------------------------------------------------ 54 ------------------------------------------------------\n",
      "\n",
      "100%|██████████| 7000/7000 [12:55<00:00,  9.03it/s, best_loss=0.633]\n",
      "\n",
      "------------------------------------------------------ 55 ------------------------------------------------------\n",
      "\n",
      "100%|██████████| 7000/7000 [13:08<00:00,  8.88it/s, best_loss=0.569]\n",
      "\n",
      "------------------------------------------------------ 56 ------------------------------------------------------\n",
      "\n",
      "100%|██████████| 7000/7000 [12:54<00:00,  9.03it/s, best_loss=-1.33]\n",
      "\n",
      "------------------------------------------------------ 57 ------------------------------------------------------\n",
      "\n",
      "100%|██████████| 7000/7000 [13:09<00:00,  8.86it/s, best_loss=-1.29]\n",
      "\n",
      "------------------------------------------------------ 58 ------------------------------------------------------\n",
      "\n",
      "100%|██████████| 7000/7000 [12:55<00:00,  9.03it/s, best_loss=-1.29]\n",
      "\n",
      "------------------------------------------------------ 59 ------------------------------------------------------\n",
      "\n",
      "100%|██████████| 7000/7000 [13:08<00:00,  8.87it/s, best_loss=-1.3]\n",
      "\n",
      "------------------------------------------------------ 60 ------------------------------------------------------\n",
      "\n",
      "100%|██████████| 7000/7000 [13:13<00:00,  8.82it/s, best_loss=-1.29]\n",
      "\n",
      "------------------------------------------------------ 61 ------------------------------------------------------\n",
      "\n",
      "100%|██████████| 7000/7000 [12:51<00:00,  9.07it/s, best_loss=-1.29]\n",
      "\n",
      "------------------------------------------------------ 62 ------------------------------------------------------\n",
      "\n",
      "100%|██████████| 7000/7000 [12:47<00:00,  9.12it/s, best_loss=-1.27]\n",
      "\n",
      "------------------------------------------------------ 63 ------------------------------------------------------\n",
      "\n",
      "100%|██████████| 7000/7000 [12:58<00:00,  9.00it/s, best_loss=-1.34]\n",
      "\n",
      "------------------------------------------------------ 64 ------------------------------------------------------\n",
      "\n",
      "100%|██████████| 7000/7000 [12:52<00:00,  9.07it/s, best_loss=-0.637]\n",
      "\n",
      "------------------------------------------------------ 65 ------------------------------------------------------\n",
      "\n",
      "100%|██████████| 7000/7000 [13:12<00:00,  8.84it/s, best_loss=-0.608]\n",
      "\n",
      "------------------------------------------------------ 66 ------------------------------------------------------\n",
      "\n",
      "100%|██████████| 7000/7000 [13:08<00:00,  8.88it/s, best_loss=-0.611]\n",
      "\n",
      "------------------------------------------------------ 67 ------------------------------------------------------\n",
      "\n",
      "100%|██████████| 7000/7000 [12:51<00:00,  9.07it/s, best_loss=-0.615]\n",
      "\n",
      "------------------------------------------------------ 68 ------------------------------------------------------\n",
      "\n",
      "92%|█████████▏| 6406/7000 [12:04<00:59,  9.94it/s, best_loss=-0.599]\n",
      "\n",
      "------------------------------------------------------ 69 ------------------------------------------------------\n",
      "\n",
      "86%|████████▋ | 6041/7000 [11:16<01:36,  9.92it/s, best_loss=-0.586]\n",
      "\n",
      "------------------------------------------------------ 70 ------------------------------------------------------\n",
      "\n",
      "100%|██████████| 7000/7000 [12:57<00:00,  9.00it/s, best_loss=-0.598]\n",
      "\n",
      "------------------------------------------------------ 71 ------------------------------------------------------\n",
      "\n",
      "93%|█████████▎| 6514/7000 [12:15<00:48,  9.93it/s, best_loss=-0.638]\n",
      "\n",
      "------------------------------------------------------ 72 ------------------------------------------------------\n",
      "\n"
     ]
    }
   ],
   "source": [
    "for job_id in list(range(len(commands))):\n",
    "    print()\n",
    "    print(f'------------------------------------------------------ {job_id} ------------------------------------------------------')\n",
    "    print()\n",
    "    try:\n",
    "        with open(f\"{log_dir}/job_{job_id:05d}.out\", \"r\") as f:\n",
    "            print(f.readlines()[-1].strip())\n",
    "    except Exception as e:\n",
    "        # pass\n",
    "        break\n",
    "        print(e)"
   ]
  },
  {
   "cell_type": "code",
   "execution_count": 298,
   "id": "1f545d74-19fc-42d7-a744-de052c2619aa",
   "metadata": {},
   "outputs": [
    {
     "data": {
      "text/plain": [
       "'/home/akarshkumar0101/nca-alife-data/logs/2024_08_14_14_04_28'"
      ]
     },
     "execution_count": 298,
     "metadata": {},
     "output_type": "execute_result"
    }
   ],
   "source": [
    "log_dir"
   ]
  },
  {
   "cell_type": "code",
   "execution_count": null,
   "id": "c75eacd4eb3f534d",
   "metadata": {},
   "outputs": [],
   "source": []
  },
  {
   "cell_type": "code",
   "execution_count": null,
   "id": "d2d8e17e3abe3689",
   "metadata": {},
   "outputs": [],
   "source": []
  }
 ],
 "metadata": {
  "kernelspec": {
   "display_name": "Python 3 (ipykernel)",
   "language": "python",
   "name": "python3"
  },
  "language_info": {
   "codemirror_mode": {
    "name": "ipython",
    "version": 3
   },
   "file_extension": ".py",
   "mimetype": "text/x-python",
   "name": "python",
   "nbconvert_exporter": "python",
   "pygments_lexer": "ipython3",
   "version": "3.12.3"
  }
 },
 "nbformat": 4,
 "nbformat_minor": 5
}

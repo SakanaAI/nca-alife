{
 "cells": [
  {
   "cell_type": "code",
   "execution_count": 1,
   "id": "initial_id",
   "metadata": {
    "ExecuteTime": {
     "end_time": "2024-06-05T15:24:12.196261Z",
     "start_time": "2024-06-05T15:24:11.937119Z"
    }
   },
   "outputs": [
    {
     "name": "stdout",
     "output_type": "stream",
     "text": [
      "fish-gcp005\n",
      "/home/akarshkumar0101/nca-alife\n",
      "/home/akarshkumar0101/miniconda3/envs/nca-alife-torch/bin/python\n"
     ]
    }
   ],
   "source": [
    "%load_ext autoreload\n",
    "%autoreload 2\n",
    "!hostname\n",
    "!pwd\n",
    "import os, sys\n",
    "print(sys.executable)"
   ]
  },
  {
   "cell_type": "code",
   "execution_count": 2,
   "id": "b14fab765a9b502f",
   "metadata": {
    "ExecuteTime": {
     "end_time": "2024-06-05T15:24:46.791547Z",
     "start_time": "2024-06-05T15:24:46.534227Z"
    }
   },
   "outputs": [],
   "source": [
    "import os, sys, glob, pickle\n",
    "from functools import partial\n",
    "\n",
    "import numpy as np\n",
    "import pandas as pd\n",
    "import xarray as xr\n",
    "import matplotlib.pyplot as plt\n",
    "import seaborn as sns\n",
    "# sns.set_theme()\n",
    "\n",
    "from tqdm.auto import tqdm\n",
    "from einops import rearrange, reduce, repeat"
   ]
  },
  {
   "cell_type": "code",
   "execution_count": 3,
   "id": "cd70dd980a69d0d2",
   "metadata": {
    "ExecuteTime": {
     "end_time": "2024-06-05T16:32:40.437767Z",
     "start_time": "2024-06-05T16:32:40.418237Z"
    }
   },
   "outputs": [],
   "source": [
    "# import experiment_utils\n",
    "import time\n",
    "import subprocess"
   ]
  },
  {
   "cell_type": "markdown",
   "id": "d25a8459feec83fd",
   "metadata": {},
   "source": [
    "# Launch Experiment (on this node)"
   ]
  },
  {
   "cell_type": "code",
   "execution_count": 38,
   "id": "8c39a5bfd56aad84",
   "metadata": {
    "ExecuteTime": {
     "end_time": "2024-06-05T16:32:45.724746Z",
     "start_time": "2024-06-05T16:32:45.705123Z"
    }
   },
   "outputs": [
    {
     "name": "stdout",
     "output_type": "stream",
     "text": [
      "./src/experiments/main.sh has 16 commands: \n",
      "python train_nca_temporal_emergence.py --seed=0 --save_dir=\"/home/akarshkumar0101/nca-alife-data/nca_scale2/0_0.0000\" --dtype=\"float32\" --device=\"cuda:0\" --img_size=128 --d_state=16 --perception=\"fullconv\" --kernel_size=3 --init_state=\"point\" --padding_mode=\"circular\" --dt=0.01 --dropout=0.0 --prompts=\"a circle;a square\" --spatial_scales=\"0.015625;1.0\" --clip_model=\"clip-vit-base-patch32\" --coef_alignment=1.0 --coef_spatial_softmax=0.0                   --rollout_steps=1024 --bptt_steps=16 --pool_size=1024 --bs=8 --lr=0.0003 --n_iters=200000 --clip_grad_norm=1.0\n",
      "python train_nca_temporal_emergence.py --seed=0 --save_dir=\"/home/akarshkumar0101/nca-alife-data/nca_scale2/0_0.0010\" --dtype=\"float32\" --device=\"cuda:0\" --img_size=128 --d_state=16 --perception=\"fullconv\" --kernel_size=3 --init_state=\"point\" --padding_mode=\"circular\" --dt=0.01 --dropout=0.0 --prompts=\"a circle;a square\" --spatial_scales=\"0.015625;1.0\" --clip_model=\"clip-vit-base-patch32\" --coef_alignment=1.0 --coef_spatial_softmax=0.001                 --rollout_steps=1024 --bptt_steps=16 --pool_size=1024 --bs=8 --lr=0.0003 --n_iters=200000 --clip_grad_norm=1.0\n",
      "python train_nca_temporal_emergence.py --seed=0 --save_dir=\"/home/akarshkumar0101/nca-alife-data/nca_scale2/0_0.0016\" --dtype=\"float32\" --device=\"cuda:0\" --img_size=128 --d_state=16 --perception=\"fullconv\" --kernel_size=3 --init_state=\"point\" --padding_mode=\"circular\" --dt=0.01 --dropout=0.0 --prompts=\"a circle;a square\" --spatial_scales=\"0.015625;1.0\" --clip_model=\"clip-vit-base-patch32\" --coef_alignment=1.0 --coef_spatial_softmax=0.0016378937069540646 --rollout_steps=1024 --bptt_steps=16 --pool_size=1024 --bs=8 --lr=0.0003 --n_iters=200000 --clip_grad_norm=1.0 \n",
      "...\n",
      "Logging to /home/akarshkumar0101/nca-alife-data/logs/2024_07_29_08_15_24\n"
     ]
    }
   ],
   "source": [
    "header = '\\n'.join([\n",
    "    '#!/bin/bash',\n",
    "    \n",
    "    # 'source ~/.virtualenvs/nca-alife-torch/bin/activate'\n",
    "    \n",
    "    'source ~/miniconda3/etc/profile.d/conda.sh',\n",
    "    'conda activate nca-alife-torch',\n",
    "    \n",
    "    'cd ~/nca-alife/src'\n",
    "])\n",
    "\n",
    "\n",
    "gpus = [4, 5, 6, 7]\n",
    "log_dir = os.path.expanduser(f'~/nca-alife-data/logs/{time.strftime(\"%Y_%m_%d_%H_%M_%S\")}')\n",
    "exp_sh = f'./src/experiments/main.sh'\n",
    "with open(exp_sh, 'r') as f:\n",
    "    commands = [c for c in f.read().split('\\n') if c]\n",
    "print(f\"{exp_sh} has {len(commands)} commands: \")\n",
    "print('\\n'.join(commands[:3]), '\\n...')\n",
    "print(f\"Logging to {log_dir}\")"
   ]
  },
  {
   "cell_type": "code",
   "execution_count": 39,
   "id": "606a1e32-67e7-4c6c-b426-614ccd1651c4",
   "metadata": {},
   "outputs": [
    {
     "name": "stdout",
     "output_type": "stream",
     "text": [
      "/home/akarshkumar0101/nca-alife-data/logs/2024_07_29_08_15_24\n"
     ]
    }
   ],
   "source": [
    "print(log_dir)"
   ]
  },
  {
   "cell_type": "code",
   "execution_count": null,
   "id": "5a6eb46d-b180-47c0-9e47-045a0f8f9dde",
   "metadata": {},
   "outputs": [],
   "source": []
  },
  {
   "cell_type": "code",
   "execution_count": 40,
   "id": "ccbc7bd83eb023cb",
   "metadata": {
    "ExecuteTime": {
     "end_time": "2024-06-05T16:32:47.309708Z",
     "start_time": "2024-06-05T16:32:47.171678Z"
    }
   },
   "outputs": [],
   "source": [
    "!mkdir -p {log_dir}\n",
    "!rm {os.path.dirname(log_dir)+'/latest'}\n",
    "!ln -sf {log_dir} {os.path.dirname(log_dir)+'/latest'}\n",
    "for i_gpu, gpu in enumerate(gpus):\n",
    "    job_ids = np.arange(len(commands))[i_gpu::len(gpus)]\n",
    "    cvd = f'export CUDA_VISIBLE_DEVICES={gpu}'\n",
    "    txt = f\"{header}\\n{cvd}\\n\\n\"\n",
    "    for job_id in job_ids:\n",
    "        txt += f\"touch {log_dir}/job_{job_id:05d}.status\\n\"\n",
    "        txt += f\"{commands[job_id]} &> {log_dir}/job_{job_id:05d}.out\\n\"\n",
    "        txt += f\"echo $? > {log_dir}/job_{job_id:05d}.status\\n\\n\"\n",
    "    with open(f\"{log_dir}/gpu_{gpu}.sh\", \"w\") as f:\n",
    "        f.write(txt)"
   ]
  },
  {
   "cell_type": "code",
   "execution_count": 41,
   "id": "fd11b06be751b124",
   "metadata": {
    "ExecuteTime": {
     "end_time": "2024-06-05T16:32:47.659970Z",
     "start_time": "2024-06-05T16:32:47.641164Z"
    }
   },
   "outputs": [
    {
     "name": "stdout",
     "output_type": "stream",
     "text": [
      "#!/bin/bash\n",
      "source ~/miniconda3/etc/profile.d/conda.sh\n",
      "conda activate nca-alife-torch\n",
      "cd ~/nca-alife/src\n",
      "export CUDA_VISIBLE_DEVICES=7\n",
      "\n",
      "touch /home/akarshkumar0101/nca-alife-data/logs/2024_07_29_08_15_24/job_00003.status\n",
      "python train_nca_temporal_emergence.py --seed=0 --save_dir=\"/home/akarshkumar0101/nca-alife-data/nca_scale2/0_0.0027\" --dtype=\"float32\" --device=\"cuda:0\" --img_size=128 --d_state=16 --perception=\"fullconv\" --kernel_size=3 --init_state=\"point\" --padding_mode=\"circular\" --dt=0.01 --dropout=0.0 --prompts=\"a circle;a square\" --spatial_scales=\"0.015625;1.0\" --clip_model=\"clip-vit-base-patch32\" --coef_alignment=1.0 --coef_spatial_softmax=0.0026826957952797246 --rollout_steps=1024 --bptt_steps=16 --pool_size=1024 --bs=8 --lr=0.0003 --n_iters=200000 --clip_grad_norm=1.0 &> /home/akarshkumar0101/nca-alife-data/logs/2024_07_29_08_15_24/job_00003.out\n",
      "echo $? > /home/akarshkumar0101/nca-alife-data/logs/2024_07_29_08_15_24/job_00003.status\n",
      "\n",
      "touch /home/akarshkumar0101/nca-alife-data/logs/2024_07_29_08_15_24/job_00007.status\n",
      "python train_nca_temporal_emergence.py --seed=0 --save_dir=\"/home/akarshkumar0101/nca-alife-data/nca_scale2/0_0.0193\" --dtype=\"float32\" --device=\"cuda:0\" --img_size=128 --d_state=16 --perception=\"fullconv\" --kernel_size=3 --init_state=\"point\" --padding_mode=\"circular\" --dt=0.01 --dropout=0.0 --prompts=\"a circle;a square\" --spatial_scales=\"0.015625;1.0\" --clip_model=\"clip-vit-base-patch32\" --coef_alignment=1.0 --coef_spatial_softmax=0.019306977288832496  --rollout_steps=1024 --bptt_steps=16 --pool_size=1024 --bs=8 --lr=0.0003 --n_iters=200000 --clip_grad_norm=1.0 &> /home/akarshkumar0101/nca-alife-data/logs/2024_07_29_08_15_24/job_00007.out\n",
      "echo $? > /home/akarshkumar0101/nca-alife-data/logs/2024_07_29_08_15_24/job_00007.status\n",
      "\n",
      "touch /home/akarshkumar0101/nca-alife-data/logs/2024_07_29_08_15_24/job_00011.status\n",
      "python train_nca_temporal_emergence.py --seed=0 --save_dir=\"/home/akarshkumar0101/nca-alife-data/nca_scale2/0_0.1389\" --dtype=\"float32\" --device=\"cuda:0\" --img_size=128 --d_state=16 --perception=\"fullconv\" --kernel_size=3 --init_state=\"point\" --padding_mode=\"circular\" --dt=0.01 --dropout=0.0 --prompts=\"a circle;a square\" --spatial_scales=\"0.015625;1.0\" --clip_model=\"clip-vit-base-patch32\" --coef_alignment=1.0 --coef_spatial_softmax=0.13894954943731375   --rollout_steps=1024 --bptt_steps=16 --pool_size=1024 --bs=8 --lr=0.0003 --n_iters=200000 --clip_grad_norm=1.0 &> /home/akarshkumar0101/nca-alife-data/logs/2024_07_29_08_15_24/job_00011.out\n",
      "echo $? > /home/akarshkumar0101/nca-alife-data/logs/2024_07_29_08_15_24/job_00011.status\n",
      "\n",
      "touch /home/akarshkumar0101/nca-alife-data/logs/2024_07_29_08_15_24/job_00015.status\n",
      "python train_nca_temporal_emergence.py --seed=0 --save_dir=\"/home/akarshkumar0101/nca-alife-data/nca_scale2/0_1.0000\" --dtype=\"float32\" --device=\"cuda:0\" --img_size=128 --d_state=16 --perception=\"fullconv\" --kernel_size=3 --init_state=\"point\" --padding_mode=\"circular\" --dt=0.01 --dropout=0.0 --prompts=\"a circle;a square\" --spatial_scales=\"0.015625;1.0\" --clip_model=\"clip-vit-base-patch32\" --coef_alignment=1.0 --coef_spatial_softmax=1.0                   --rollout_steps=1024 --bptt_steps=16 --pool_size=1024 --bs=8 --lr=0.0003 --n_iters=200000 --clip_grad_norm=1.0 &> /home/akarshkumar0101/nca-alife-data/logs/2024_07_29_08_15_24/job_00015.out\n",
      "echo $? > /home/akarshkumar0101/nca-alife-data/logs/2024_07_29_08_15_24/job_00015.status\n",
      "\n",
      "\n"
     ]
    }
   ],
   "source": [
    "print('\\n'.join(txt.split('\\n')[:24]))"
   ]
  },
  {
   "cell_type": "code",
   "execution_count": null,
   "id": "7a7a1ba5-f8cf-4cb2-93ba-25a548a0f499",
   "metadata": {},
   "outputs": [],
   "source": []
  },
  {
   "cell_type": "code",
   "execution_count": null,
   "id": "9e48a7c8-f06d-4b33-9226-b0800279667e",
   "metadata": {},
   "outputs": [],
   "source": []
  },
  {
   "cell_type": "code",
   "execution_count": null,
   "id": "d10b736e-5b7c-40d1-8ffd-a5e3f2b0add4",
   "metadata": {},
   "outputs": [],
   "source": []
  },
  {
   "cell_type": "code",
   "execution_count": 42,
   "id": "e5ce96252f75f2f9",
   "metadata": {
    "ExecuteTime": {
     "end_time": "2024-06-05T16:35:49.567207Z",
     "start_time": "2024-06-05T16:35:49.546023Z"
    }
   },
   "outputs": [
    {
     "name": "stdout",
     "output_type": "stream",
     "text": [
      "bash /home/akarshkumar0101/nca-alife-data/logs/2024_07_29_08_15_24/gpu_4.sh\n",
      "bash /home/akarshkumar0101/nca-alife-data/logs/2024_07_29_08_15_24/gpu_5.sh\n",
      "bash /home/akarshkumar0101/nca-alife-data/logs/2024_07_29_08_15_24/gpu_6.sh\n",
      "bash /home/akarshkumar0101/nca-alife-data/logs/2024_07_29_08_15_24/gpu_7.sh\n"
     ]
    }
   ],
   "source": [
    "for i_gpu, gpu in enumerate(gpus):\n",
    "    command = f\"bash {log_dir}/gpu_{gpu}.sh\"\n",
    "    print(command)\n",
    "    process = subprocess.Popen(command, shell=True)"
   ]
  },
  {
   "cell_type": "code",
   "execution_count": null,
   "id": "8d4b43ea-3cd2-4567-9e7b-819a109f4672",
   "metadata": {},
   "outputs": [],
   "source": []
  },
  {
   "cell_type": "code",
   "execution_count": null,
   "id": "0993c800-10a3-4d44-a37b-55aff7b6da13",
   "metadata": {},
   "outputs": [],
   "source": []
  },
  {
   "cell_type": "code",
   "execution_count": null,
   "id": "5f6328aa-5b2e-4739-b80d-2ebc1761740a",
   "metadata": {},
   "outputs": [],
   "source": []
  },
  {
   "cell_type": "markdown",
   "id": "233f54f7c2310a69",
   "metadata": {},
   "source": [
    "# Track Experiment"
   ]
  },
  {
   "cell_type": "code",
   "execution_count": 59,
   "id": "1eb72d2c-d077-466b-b7a3-c70eb8666291",
   "metadata": {},
   "outputs": [],
   "source": [
    "from collections import defaultdict\n",
    "\n",
    "statuses = []\n",
    "for job_id in range(len(commands)):\n",
    "    try:\n",
    "        with open(f\"{log_dir}/job_{job_id:05d}.status\", \"r\") as f:\n",
    "            status = int(f.read().strip())\n",
    "            statuses.append(status)\n",
    "    except Exception as e:\n",
    "        pass\n",
    "        # print(e)\n",
    "        # break\n",
    "statuses = np.array(statuses)"
   ]
  },
  {
   "cell_type": "code",
   "execution_count": 60,
   "id": "3da1b300-6f0e-4e26-9b1b-8e282397d567",
   "metadata": {},
   "outputs": [
    {
     "data": {
      "text/plain": [
       "(16, 16)"
      ]
     },
     "execution_count": 60,
     "metadata": {},
     "output_type": "execute_result"
    }
   ],
   "source": [
    "(statuses==0).sum(), len(commands)"
   ]
  },
  {
   "cell_type": "code",
   "execution_count": 61,
   "id": "bbd276b2-fcd2-4344-b410-0aa6ef14ea7f",
   "metadata": {},
   "outputs": [
    {
     "data": {
      "text/plain": [
       "(array([0]), array([16]))"
      ]
     },
     "execution_count": 61,
     "metadata": {},
     "output_type": "execute_result"
    }
   ],
   "source": [
    "np.unique(statuses, return_counts=True)"
   ]
  },
  {
   "cell_type": "code",
   "execution_count": null,
   "id": "0684129a-8adf-4f44-9d0c-52333b1fcb92",
   "metadata": {},
   "outputs": [],
   "source": []
  },
  {
   "cell_type": "code",
   "execution_count": null,
   "id": "187c7fdf-be2a-4ab3-9d8c-5846bb278b1f",
   "metadata": {},
   "outputs": [],
   "source": []
  },
  {
   "cell_type": "code",
   "execution_count": null,
   "id": "3b1b8fe4-793c-47ed-8253-a83a722f4922",
   "metadata": {},
   "outputs": [],
   "source": []
  },
  {
   "cell_type": "code",
   "execution_count": null,
   "id": "7231ba46-c1ee-4fe0-a83d-0f7c951951e6",
   "metadata": {},
   "outputs": [],
   "source": []
  },
  {
   "cell_type": "code",
   "execution_count": 62,
   "id": "b87eb0da-3b7d-41c1-b656-7810bf958163",
   "metadata": {},
   "outputs": [
    {
     "name": "stdout",
     "output_type": "stream",
     "text": [
      "\n",
      "------------------------------------------------------ 0 ------------------------------------------------------\n",
      "\n",
      "100%|██████████| 200000/200000 [3:41:22<00:00, 15.06it/s, loss=-0.289]\n",
      "\n",
      "------------------------------------------------------ 1 ------------------------------------------------------\n",
      "\n",
      "100%|██████████| 200000/200000 [3:39:46<00:00, 15.17it/s, loss=-0.297]\n",
      "\n",
      "------------------------------------------------------ 2 ------------------------------------------------------\n",
      "\n",
      "100%|██████████| 200000/200000 [3:45:02<00:00, 14.81it/s, loss=-0.288]\n",
      "\n",
      "------------------------------------------------------ 3 ------------------------------------------------------\n",
      "\n",
      "100%|██████████| 200000/200000 [3:47:04<00:00, 14.68it/s, loss=-0.287]\n",
      "\n",
      "------------------------------------------------------ 4 ------------------------------------------------------\n",
      "\n",
      "100%|██████████| 200000/200000 [3:42:35<00:00, 14.98it/s, loss=-0.294]\n",
      "\n",
      "------------------------------------------------------ 5 ------------------------------------------------------\n",
      "\n",
      "100%|██████████| 200000/200000 [3:44:32<00:00, 14.85it/s, loss=-0.288]\n",
      "\n",
      "------------------------------------------------------ 6 ------------------------------------------------------\n",
      "\n",
      "100%|██████████| 200000/200000 [3:42:42<00:00, 14.97it/s, loss=-0.286]\n",
      "\n",
      "------------------------------------------------------ 7 ------------------------------------------------------\n",
      "\n",
      "100%|██████████| 200000/200000 [3:45:56<00:00, 14.75it/s, loss=-0.294]\n",
      "\n",
      "------------------------------------------------------ 8 ------------------------------------------------------\n",
      "\n",
      "100%|██████████| 200000/200000 [3:40:51<00:00, 15.09it/s, loss=-0.277]\n",
      "\n",
      "------------------------------------------------------ 9 ------------------------------------------------------\n",
      "\n",
      "100%|██████████| 200000/200000 [3:39:00<00:00, 15.22it/s, loss=-0.26]\n",
      "\n",
      "------------------------------------------------------ 10 ------------------------------------------------------\n",
      "\n",
      "100%|██████████| 200000/200000 [3:41:44<00:00, 15.03it/s, loss=-0.238]\n",
      "\n",
      "------------------------------------------------------ 11 ------------------------------------------------------\n",
      "\n",
      "100%|██████████| 200000/200000 [3:45:55<00:00, 14.75it/s, loss=-0.202]\n",
      "\n",
      "------------------------------------------------------ 12 ------------------------------------------------------\n",
      "\n",
      "100%|██████████| 200000/200000 [3:41:51<00:00, 15.02it/s, loss=-0.137]\n",
      "\n",
      "------------------------------------------------------ 13 ------------------------------------------------------\n",
      "\n",
      "100%|██████████| 200000/200000 [3:40:27<00:00, 15.12it/s, loss=-0.0385]\n",
      "\n",
      "------------------------------------------------------ 14 ------------------------------------------------------\n",
      "\n",
      "100%|██████████| 200000/200000 [3:44:29<00:00, 14.85it/s, loss=0.121]\n",
      "\n",
      "------------------------------------------------------ 15 ------------------------------------------------------\n",
      "\n",
      "100%|██████████| 200000/200000 [3:43:05<00:00, 14.94it/s, loss=0.387]\n"
     ]
    }
   ],
   "source": [
    "for job_id in list(range(len(commands))):\n",
    "    print()\n",
    "    print(f'------------------------------------------------------ {job_id} ------------------------------------------------------')\n",
    "    print()\n",
    "    try:\n",
    "        with open(f\"{log_dir}/job_{job_id:05d}.out\", \"r\") as f:\n",
    "            print(f.readlines()[-1].strip())\n",
    "    except Exception as e:\n",
    "        # pass\n",
    "        break\n",
    "        print(e)"
   ]
  },
  {
   "cell_type": "code",
   "execution_count": 63,
   "id": "1f545d74-19fc-42d7-a744-de052c2619aa",
   "metadata": {},
   "outputs": [
    {
     "data": {
      "text/plain": [
       "'/home/akarshkumar0101/nca-alife-data/logs/2024_07_29_08_15_24'"
      ]
     },
     "execution_count": 63,
     "metadata": {},
     "output_type": "execute_result"
    }
   ],
   "source": [
    "log_dir"
   ]
  },
  {
   "cell_type": "code",
   "execution_count": null,
   "id": "be31062b-407b-4841-8577-ad94ebc9c59d",
   "metadata": {},
   "outputs": [],
   "source": []
  },
  {
   "cell_type": "code",
   "execution_count": null,
   "id": "7b740636-08a1-484f-b614-d6ca2ac6cd12",
   "metadata": {},
   "outputs": [],
   "source": []
  },
  {
   "cell_type": "code",
   "execution_count": null,
   "id": "3e3af6cb-4344-431b-9968-94858a401ca6",
   "metadata": {},
   "outputs": [],
   "source": []
  },
  {
   "cell_type": "code",
   "execution_count": null,
   "id": "c75eacd4eb3f534d",
   "metadata": {},
   "outputs": [],
   "source": []
  },
  {
   "cell_type": "code",
   "execution_count": null,
   "id": "d2d8e17e3abe3689",
   "metadata": {},
   "outputs": [],
   "source": []
  }
 ],
 "metadata": {
  "kernelspec": {
   "display_name": "Python 3 (ipykernel)",
   "language": "python",
   "name": "python3"
  },
  "language_info": {
   "codemirror_mode": {
    "name": "ipython",
    "version": 3
   },
   "file_extension": ".py",
   "mimetype": "text/x-python",
   "name": "python",
   "nbconvert_exporter": "python",
   "pygments_lexer": "ipython3",
   "version": "3.12.3"
  }
 },
 "nbformat": 4,
 "nbformat_minor": 5
}

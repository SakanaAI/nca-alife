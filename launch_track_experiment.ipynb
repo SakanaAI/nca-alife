{
 "cells": [
  {
   "cell_type": "code",
   "execution_count": 1,
   "id": "initial_id",
   "metadata": {
    "ExecuteTime": {
     "end_time": "2024-06-05T15:24:12.196261Z",
     "start_time": "2024-06-05T15:24:11.937119Z"
    }
   },
   "outputs": [
    {
     "name": "stdout",
     "output_type": "stream",
     "text": [
      "fish-gcp005\n",
      "/home/akarshkumar0101/nca-alife\n",
      "/home/akarshkumar0101/miniconda3/envs/nca-alife-torch/bin/python\n"
     ]
    }
   ],
   "source": [
    "%load_ext autoreload\n",
    "%autoreload 2\n",
    "!hostname\n",
    "!pwd\n",
    "import os, sys\n",
    "print(sys.executable)"
   ]
  },
  {
   "cell_type": "code",
   "execution_count": 2,
   "id": "b14fab765a9b502f",
   "metadata": {
    "ExecuteTime": {
     "end_time": "2024-06-05T15:24:46.791547Z",
     "start_time": "2024-06-05T15:24:46.534227Z"
    }
   },
   "outputs": [],
   "source": [
    "import os, sys, glob, pickle\n",
    "from functools import partial\n",
    "\n",
    "import numpy as np\n",
    "import pandas as pd\n",
    "import xarray as xr\n",
    "import matplotlib.pyplot as plt\n",
    "import seaborn as sns\n",
    "# sns.set_theme()\n",
    "\n",
    "from tqdm.auto import tqdm\n",
    "from einops import rearrange, reduce, repeat"
   ]
  },
  {
   "cell_type": "code",
   "execution_count": 3,
   "id": "cd70dd980a69d0d2",
   "metadata": {
    "ExecuteTime": {
     "end_time": "2024-06-05T16:32:40.437767Z",
     "start_time": "2024-06-05T16:32:40.418237Z"
    }
   },
   "outputs": [],
   "source": [
    "# import experiment_utils\n",
    "import time\n",
    "import subprocess"
   ]
  },
  {
   "cell_type": "markdown",
   "id": "d25a8459feec83fd",
   "metadata": {},
   "source": [
    "# Launch Experiment (on this node)"
   ]
  },
  {
   "cell_type": "code",
   "execution_count": 4,
   "id": "8c39a5bfd56aad84",
   "metadata": {
    "ExecuteTime": {
     "end_time": "2024-06-05T16:32:45.724746Z",
     "start_time": "2024-06-05T16:32:45.705123Z"
    }
   },
   "outputs": [
    {
     "name": "stdout",
     "output_type": "stream",
     "text": [
      "./src/experiments/main.sh has 32 commands: \n",
      "python clip_nca_optim_torch.py --seed=0 --save_dir=\"/home/akarshkumar0101/nca-alife-data/clip_nca_optim_torch/nca_clip_imgsize_0_0\"              --img_size=224 --substrate=\"nca\" --init=\"zeros\" --n_layers=2 --d_state=16 --d_embd=32 --init_state=\"point\" --padding_mode=\"zeros\"    --dt=0.01 --p_drop=0.0 --n_steps=64 --target_img_path=None --prompt=\"a red apple\"                          --n_augs=4 --augs=\"crop+pers\" --bs=4 --lr=0.001 --n_iters=100000\n",
      "python clip_nca_optim_torch.py --seed=0 --save_dir=\"/home/akarshkumar0101/nca-alife-data/clip_nca_optim_torch/nca_clip_imgsize_1_0\"              --img_size=224 --substrate=\"nca\" --init=\"zeros\" --n_layers=2 --d_state=16 --d_embd=32 --init_state=\"point\" --padding_mode=\"zeros\"    --dt=0.01 --p_drop=0.0 --n_steps=64 --target_img_path=None --prompt=\"a very fat cat\"                       --n_augs=4 --augs=\"crop+pers\" --bs=4 --lr=0.001 --n_iters=100000\n",
      "python clip_nca_optim_torch.py --seed=0 --save_dir=\"/home/akarshkumar0101/nca-alife-data/clip_nca_optim_torch/nca_clip_imgsize_2_0\"              --img_size=224 --substrate=\"nca\" --init=\"zeros\" --n_layers=2 --d_state=16 --d_embd=32 --init_state=\"point\" --padding_mode=\"zeros\"    --dt=0.01 --p_drop=0.0 --n_steps=64 --target_img_path=None --prompt=\"a bustling luscious nature landscape\" --n_augs=4 --augs=\"crop+pers\" --bs=4 --lr=0.001 --n_iters=100000 \n",
      "...\n",
      "Logging to /home/akarshkumar0101/nca-alife-data/logs/2024_06_18_16_54_43\n"
     ]
    }
   ],
   "source": [
    "header = '\\n'.join(['#!/bin/bash', 'source ~/.virtualenvs/nca-alife-torch/bin/activate', 'cd ~/nca-alife/src'])\n",
    "gpus = [4, 5, 6, 7]\n",
    "log_dir = os.path.expanduser(f'~/nca-alife-data/logs/{time.strftime(\"%Y_%m_%d_%H_%M_%S\")}')\n",
    "exp_sh = f'./src/experiments/main.sh'\n",
    "with open(exp_sh, 'r') as f:\n",
    "    commands = [c for c in f.read().split('\\n') if c]\n",
    "print(f\"{exp_sh} has {len(commands)} commands: \")\n",
    "print('\\n'.join(commands[:3]), '\\n...')\n",
    "print(f\"Logging to {log_dir}\")"
   ]
  },
  {
   "cell_type": "code",
   "execution_count": 5,
   "id": "606a1e32-67e7-4c6c-b426-614ccd1651c4",
   "metadata": {},
   "outputs": [
    {
     "name": "stdout",
     "output_type": "stream",
     "text": [
      "/home/akarshkumar0101/nca-alife-data/logs/2024_06_18_16_54_43\n"
     ]
    }
   ],
   "source": [
    "print(log_dir)"
   ]
  },
  {
   "cell_type": "code",
   "execution_count": null,
   "id": "5a6eb46d-b180-47c0-9e47-045a0f8f9dde",
   "metadata": {},
   "outputs": [],
   "source": []
  },
  {
   "cell_type": "code",
   "execution_count": 6,
   "id": "ccbc7bd83eb023cb",
   "metadata": {
    "ExecuteTime": {
     "end_time": "2024-06-05T16:32:47.309708Z",
     "start_time": "2024-06-05T16:32:47.171678Z"
    }
   },
   "outputs": [],
   "source": [
    "!mkdir -p {log_dir}\n",
    "!rm {os.path.dirname(log_dir)+'/latest'}\n",
    "!ln -sf {log_dir} {os.path.dirname(log_dir)+'/latest'}\n",
    "for i_gpu, gpu in enumerate(gpus):\n",
    "    job_ids = np.arange(len(commands))[i_gpu::len(gpus)]\n",
    "    cvd = f'export CUDA_VISIBLE_DEVICES={gpu}'\n",
    "    txt = f\"{header}\\n{cvd}\\n\\n\"\n",
    "    for job_id in job_ids:\n",
    "        txt += f\"touch {log_dir}/job_{job_id:05d}.status\\n\"\n",
    "        txt += f\"{commands[job_id]} &> {log_dir}/job_{job_id:05d}.out\\n\"\n",
    "        txt += f\"echo $? > {log_dir}/job_{job_id:05d}.status\\n\\n\"\n",
    "    with open(f\"{log_dir}/gpu_{gpu}.sh\", \"w\") as f:\n",
    "        f.write(txt)"
   ]
  },
  {
   "cell_type": "code",
   "execution_count": 7,
   "id": "fd11b06be751b124",
   "metadata": {
    "ExecuteTime": {
     "end_time": "2024-06-05T16:32:47.659970Z",
     "start_time": "2024-06-05T16:32:47.641164Z"
    }
   },
   "outputs": [
    {
     "name": "stdout",
     "output_type": "stream",
     "text": [
      "#!/bin/bash\n",
      "source ~/.virtualenvs/nca-alife-torch/bin/activate\n",
      "cd ~/nca-alife/src\n",
      "export CUDA_VISIBLE_DEVICES=7\n",
      "\n",
      "touch /home/akarshkumar0101/nca-alife-data/logs/2024_06_18_16_54_43/job_00003.status\n",
      "python clip_nca_optim_torch.py --seed=0 --save_dir=\"/home/akarshkumar0101/nca-alife-data/clip_nca_optim_torch/nca_clip_imgsize_3_0\"              --img_size=224 --substrate=\"nca\" --init=\"zeros\" --n_layers=2 --d_state=16 --d_embd=32 --init_state=\"point\" --padding_mode=\"zeros\"    --dt=0.01 --p_drop=0.0 --n_steps=64 --target_img_path=None --prompt=\"an artificial life simulation\"        --n_augs=4 --augs=\"crop+pers\" --bs=4 --lr=0.001 --n_iters=100000 &> /home/akarshkumar0101/nca-alife-data/logs/2024_06_18_16_54_43/job_00003.out\n",
      "echo $? > /home/akarshkumar0101/nca-alife-data/logs/2024_06_18_16_54_43/job_00003.status\n",
      "\n",
      "touch /home/akarshkumar0101/nca-alife-data/logs/2024_06_18_16_54_43/job_00007.status\n",
      "python clip_nca_optim_torch.py --seed=0 --save_dir=\"/home/akarshkumar0101/nca-alife-data/clip_nca_optim_torch/nca_clip_initstate_3_0\"            --img_size=64  --substrate=\"nca\" --init=\"zeros\" --n_layers=2 --d_state=16 --d_embd=32 --init_state=\"randn\" --padding_mode=\"zeros\"    --dt=0.01 --p_drop=0.0 --n_steps=64 --target_img_path=None --prompt=\"an artificial life simulation\"        --n_augs=4 --augs=\"crop+pers\" --bs=4 --lr=0.001 --n_iters=100000 &> /home/akarshkumar0101/nca-alife-data/logs/2024_06_18_16_54_43/job_00007.out\n",
      "echo $? > /home/akarshkumar0101/nca-alife-data/logs/2024_06_18_16_54_43/job_00007.status\n"
     ]
    }
   ],
   "source": [
    "print('\\n'.join(txt.split('\\n')[:12]))"
   ]
  },
  {
   "cell_type": "code",
   "execution_count": 8,
   "id": "e5ce96252f75f2f9",
   "metadata": {
    "ExecuteTime": {
     "end_time": "2024-06-05T16:35:49.567207Z",
     "start_time": "2024-06-05T16:35:49.546023Z"
    }
   },
   "outputs": [
    {
     "name": "stdout",
     "output_type": "stream",
     "text": [
      "bash /home/akarshkumar0101/nca-alife-data/logs/2024_06_18_16_54_43/gpu_4.sh\n",
      "bash /home/akarshkumar0101/nca-alife-data/logs/2024_06_18_16_54_43/gpu_5.sh\n",
      "bash /home/akarshkumar0101/nca-alife-data/logs/2024_06_18_16_54_43/gpu_6.sh\n",
      "bash /home/akarshkumar0101/nca-alife-data/logs/2024_06_18_16_54_43/gpu_7.sh\n"
     ]
    }
   ],
   "source": [
    "for i_gpu, gpu in enumerate(gpus):\n",
    "    command = f\"bash {log_dir}/gpu_{gpu}.sh\"\n",
    "    print(command)\n",
    "    process = subprocess.Popen(command, shell=True)"
   ]
  },
  {
   "cell_type": "code",
   "execution_count": null,
   "id": "5f6328aa-5b2e-4739-b80d-2ebc1761740a",
   "metadata": {},
   "outputs": [],
   "source": []
  },
  {
   "cell_type": "markdown",
   "id": "233f54f7c2310a69",
   "metadata": {},
   "source": [
    "# Track Experiment"
   ]
  },
  {
   "cell_type": "code",
   "execution_count": 93,
   "id": "cd7c5f40-2da8-4950-b103-6edb425db165",
   "metadata": {},
   "outputs": [
    {
     "name": "stdout",
     "output_type": "stream",
     "text": [
      "0 invalid literal for int() with base 10: ''\n",
      "1 invalid literal for int() with base 10: ''\n",
      "2 invalid literal for int() with base 10: ''\n",
      "3 invalid literal for int() with base 10: ''\n",
      "4 [Errno 2] No such file or directory: '/home/akarshkumar0101/nca-alife-data/logs/2024_06_17_15_15_51/job_00004.status'\n",
      "5 [Errno 2] No such file or directory: '/home/akarshkumar0101/nca-alife-data/logs/2024_06_17_15_15_51/job_00005.status'\n",
      "6 [Errno 2] No such file or directory: '/home/akarshkumar0101/nca-alife-data/logs/2024_06_17_15_15_51/job_00006.status'\n",
      "7 [Errno 2] No such file or directory: '/home/akarshkumar0101/nca-alife-data/logs/2024_06_17_15_15_51/job_00007.status'\n",
      "8 [Errno 2] No such file or directory: '/home/akarshkumar0101/nca-alife-data/logs/2024_06_17_15_15_51/job_00008.status'\n",
      "9 [Errno 2] No such file or directory: '/home/akarshkumar0101/nca-alife-data/logs/2024_06_17_15_15_51/job_00009.status'\n",
      "10 [Errno 2] No such file or directory: '/home/akarshkumar0101/nca-alife-data/logs/2024_06_17_15_15_51/job_00010.status'\n",
      "11 [Errno 2] No such file or directory: '/home/akarshkumar0101/nca-alife-data/logs/2024_06_17_15_15_51/job_00011.status'\n",
      "12 [Errno 2] No such file or directory: '/home/akarshkumar0101/nca-alife-data/logs/2024_06_17_15_15_51/job_00012.status'\n",
      "13 [Errno 2] No such file or directory: '/home/akarshkumar0101/nca-alife-data/logs/2024_06_17_15_15_51/job_00013.status'\n",
      "14 [Errno 2] No such file or directory: '/home/akarshkumar0101/nca-alife-data/logs/2024_06_17_15_15_51/job_00014.status'\n",
      "15 [Errno 2] No such file or directory: '/home/akarshkumar0101/nca-alife-data/logs/2024_06_17_15_15_51/job_00015.status'\n",
      "16 [Errno 2] No such file or directory: '/home/akarshkumar0101/nca-alife-data/logs/2024_06_17_15_15_51/job_00016.status'\n",
      "17 [Errno 2] No such file or directory: '/home/akarshkumar0101/nca-alife-data/logs/2024_06_17_15_15_51/job_00017.status'\n",
      "18 [Errno 2] No such file or directory: '/home/akarshkumar0101/nca-alife-data/logs/2024_06_17_15_15_51/job_00018.status'\n",
      "19 [Errno 2] No such file or directory: '/home/akarshkumar0101/nca-alife-data/logs/2024_06_17_15_15_51/job_00019.status'\n",
      "20 [Errno 2] No such file or directory: '/home/akarshkumar0101/nca-alife-data/logs/2024_06_17_15_15_51/job_00020.status'\n",
      "21 [Errno 2] No such file or directory: '/home/akarshkumar0101/nca-alife-data/logs/2024_06_17_15_15_51/job_00021.status'\n",
      "22 [Errno 2] No such file or directory: '/home/akarshkumar0101/nca-alife-data/logs/2024_06_17_15_15_51/job_00022.status'\n",
      "23 [Errno 2] No such file or directory: '/home/akarshkumar0101/nca-alife-data/logs/2024_06_17_15_15_51/job_00023.status'\n",
      "24 [Errno 2] No such file or directory: '/home/akarshkumar0101/nca-alife-data/logs/2024_06_17_15_15_51/job_00024.status'\n",
      "25 [Errno 2] No such file or directory: '/home/akarshkumar0101/nca-alife-data/logs/2024_06_17_15_15_51/job_00025.status'\n",
      "26 [Errno 2] No such file or directory: '/home/akarshkumar0101/nca-alife-data/logs/2024_06_17_15_15_51/job_00026.status'\n",
      "27 [Errno 2] No such file or directory: '/home/akarshkumar0101/nca-alife-data/logs/2024_06_17_15_15_51/job_00027.status'\n",
      "28 [Errno 2] No such file or directory: '/home/akarshkumar0101/nca-alife-data/logs/2024_06_17_15_15_51/job_00028.status'\n",
      "29 [Errno 2] No such file or directory: '/home/akarshkumar0101/nca-alife-data/logs/2024_06_17_15_15_51/job_00029.status'\n",
      "30 [Errno 2] No such file or directory: '/home/akarshkumar0101/nca-alife-data/logs/2024_06_17_15_15_51/job_00030.status'\n",
      "31 [Errno 2] No such file or directory: '/home/akarshkumar0101/nca-alife-data/logs/2024_06_17_15_15_51/job_00031.status'\n"
     ]
    }
   ],
   "source": [
    "a = []\n",
    "for job_id in range(len(commands)):\n",
    "    try:\n",
    "        with open(f'{log_dir}/job_{job_id:05d}.status', 'r') as f:\n",
    "            a.append(int(f.read().strip()))\n",
    "    except Exception as e:\n",
    "        print(job_id, e)\n",
    "        a.append(-1)\n",
    "a = np.array(a)"
   ]
  },
  {
   "cell_type": "code",
   "execution_count": 94,
   "id": "959c4b02-5227-4912-b664-bf3027d8580c",
   "metadata": {},
   "outputs": [
    {
     "data": {
      "text/plain": [
       "array([-1, -1, -1, -1, -1, -1, -1, -1, -1, -1, -1, -1, -1, -1, -1, -1, -1,\n",
       "       -1, -1, -1, -1, -1, -1, -1, -1, -1, -1, -1, -1, -1, -1, -1])"
      ]
     },
     "execution_count": 94,
     "metadata": {},
     "output_type": "execute_result"
    }
   ],
   "source": [
    "a"
   ]
  },
  {
   "cell_type": "code",
   "execution_count": 95,
   "id": "ce973c28-9800-48b2-8d56-3b292e8e3705",
   "metadata": {},
   "outputs": [
    {
     "data": {
      "text/plain": [
       "-1.0"
      ]
     },
     "execution_count": 95,
     "metadata": {},
     "output_type": "execute_result"
    }
   ],
   "source": [
    "np.array(a).mean()"
   ]
  },
  {
   "cell_type": "code",
   "execution_count": 96,
   "id": "32cc6659-39ec-4529-ba77-ecf8fc243a5f",
   "metadata": {},
   "outputs": [
    {
     "data": {
      "text/plain": [
       "32"
      ]
     },
     "execution_count": 96,
     "metadata": {},
     "output_type": "execute_result"
    }
   ],
   "source": [
    "len(commands)"
   ]
  },
  {
   "cell_type": "code",
   "execution_count": 23,
   "id": "b87eb0da-3b7d-41c1-b656-7810bf958163",
   "metadata": {},
   "outputs": [
    {
     "name": "stdout",
     "output_type": "stream",
     "text": [
      "0\n",
      "100%|██████████| 100000/100000 [4:14:42<00:00,  6.54it/s, loss=-0.296]\n",
      "1\n",
      "100%|██████████| 100000/100000 [4:15:06<00:00,  6.53it/s, loss=-0.345]\n",
      "2\n",
      "100%|██████████| 100000/100000 [4:15:24<00:00,  6.53it/s, loss=-0.255]\n",
      "3\n",
      "100%|██████████| 100000/100000 [4:14:19<00:00,  6.55it/s, loss=-0.314]\n",
      "4\n",
      "100%|██████████| 100000/100000 [1:38:03<00:00, 17.00it/s, loss=-0.364]\n",
      "5\n",
      "100%|██████████| 100000/100000 [1:41:57<00:00, 16.35it/s, loss=-0.26]\n",
      "6\n",
      "100%|██████████| 100000/100000 [1:45:26<00:00, 15.81it/s, loss=-0.352]\n",
      "7\n",
      "100%|██████████| 100000/100000 [1:38:18<00:00, 16.95it/s, loss=-0.315]\n",
      "8\n",
      "100%|██████████| 100000/100000 [3:23:34<00:00,  8.19it/s, loss=-0.423]\n",
      "9\n",
      "100%|██████████| 100000/100000 [3:08:52<00:00,  8.82it/s, loss=-0.416]\n",
      "10\n",
      "100%|██████████| 100000/100000 [3:20:47<00:00,  8.30it/s, loss=-0.258]\n",
      "11\n",
      "100%|██████████| 100000/100000 [2:51:11<00:00,  9.74it/s, loss=-0.394]\n",
      "12\n",
      "100%|██████████| 100000/100000 [2:59:32<00:00,  9.28it/s, loss=-0.372]\n",
      "13\n",
      "100%|██████████| 100000/100000 [2:57:36<00:00,  9.38it/s, loss=-0.217]\n",
      "14\n",
      "100%|██████████| 100000/100000 [2:55:40<00:00,  9.49it/s, loss=-0.332]\n",
      "15\n",
      "100%|██████████| 100000/100000 [2:50:56<00:00,  9.75it/s, loss=-0.274]\n",
      "16\n",
      "100%|██████████| 100000/100000 [4:15:43<00:00,  6.52it/s, loss=-0.38]\n",
      "17\n",
      "100%|██████████| 100000/100000 [4:16:25<00:00,  6.50it/s, loss=-0.377]\n",
      "18\n",
      "100%|██████████| 100000/100000 [4:15:40<00:00,  6.52it/s, loss=-0.252]\n",
      "19\n",
      "100%|██████████| 100000/100000 [4:14:05<00:00,  6.56it/s, loss=-0.273]\n",
      "20\n",
      "100%|██████████| 100000/100000 [1:40:55<00:00, 16.51it/s, loss=-0.368]\n",
      "21\n",
      "100%|██████████| 100000/100000 [1:38:45<00:00, 16.88it/s, loss=-0.373]\n",
      "22\n",
      "100%|██████████| 100000/100000 [1:44:23<00:00, 15.97it/s, loss=-0.329]\n",
      "23\n",
      "100%|██████████| 100000/100000 [1:37:21<00:00, 17.12it/s, loss=-0.36]\n",
      "24\n",
      "100%|██████████| 100000/100000 [3:22:18<00:00,  8.24it/s, loss=-0.415]\n",
      "25\n",
      "100%|██████████| 100000/100000 [2:50:36<00:00,  9.77it/s, loss=-0.41]\n",
      "26\n",
      "100%|██████████| 100000/100000 [2:59:10<00:00,  9.30it/s, loss=-0.372]\n",
      "27\n",
      "100%|██████████| 100000/100000 [3:20:05<00:00,  8.33it/s, loss=-0.269]\n",
      "28\n",
      "100%|██████████| 100000/100000 [3:10:12<00:00,  8.76it/s, loss=-0.364]\n",
      "29\n",
      "100%|██████████| 100000/100000 [2:56:01<00:00,  9.47it/s, loss=-0.335]\n",
      "30\n",
      "100%|██████████| 100000/100000 [2:57:58<00:00,  9.36it/s, loss=-0.334]\n",
      "31\n",
      "100%|██████████| 100000/100000 [3:09:58<00:00,  8.77it/s, loss=-0.269]\n"
     ]
    }
   ],
   "source": [
    "for job_id in range(len(commands)):\n",
    "    print(job_id)\n",
    "    try:\n",
    "        with open(f\"{log_dir}/job_{job_id:05d}.out\", \"r\") as f:\n",
    "            print(f.readlines()[-1].strip())\n",
    "    except Exception as e:\n",
    "        print(e)"
   ]
  },
  {
   "cell_type": "code",
   "execution_count": null,
   "id": "1aaff031-4e9e-4916-a9a7-1e5ec8bae570",
   "metadata": {},
   "outputs": [],
   "source": []
  },
  {
   "cell_type": "code",
   "execution_count": null,
   "id": "c75eacd4eb3f534d",
   "metadata": {},
   "outputs": [],
   "source": []
  },
  {
   "cell_type": "code",
   "execution_count": null,
   "id": "d2d8e17e3abe3689",
   "metadata": {},
   "outputs": [],
   "source": []
  }
 ],
 "metadata": {
  "kernelspec": {
   "display_name": "Python 3 (ipykernel)",
   "language": "python",
   "name": "python3"
  },
  "language_info": {
   "codemirror_mode": {
    "name": "ipython",
    "version": 3
   },
   "file_extension": ".py",
   "mimetype": "text/x-python",
   "name": "python",
   "nbconvert_exporter": "python",
   "pygments_lexer": "ipython3",
   "version": "3.12.3"
  }
 },
 "nbformat": 4,
 "nbformat_minor": 5
}

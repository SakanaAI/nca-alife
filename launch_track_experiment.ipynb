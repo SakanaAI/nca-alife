{
 "cells": [
  {
   "cell_type": "code",
   "execution_count": 1,
   "id": "initial_id",
   "metadata": {
    "ExecuteTime": {
     "end_time": "2024-06-05T15:24:12.196261Z",
     "start_time": "2024-06-05T15:24:11.937119Z"
    }
   },
   "outputs": [
    {
     "name": "stdout",
     "output_type": "stream",
     "text": [
      "fish-gcp005\n",
      "/home/akarshkumar0101/nca-alife\n",
      "/home/akarshkumar0101/.virtualenvs/nca-alife-torch/bin/python3\n"
     ]
    }
   ],
   "source": [
    "%load_ext autoreload\n",
    "%autoreload 2\n",
    "!hostname\n",
    "!pwd\n",
    "import os, sys\n",
    "print(sys.executable)"
   ]
  },
  {
   "cell_type": "code",
   "execution_count": 2,
   "id": "b14fab765a9b502f",
   "metadata": {
    "ExecuteTime": {
     "end_time": "2024-06-05T15:24:46.791547Z",
     "start_time": "2024-06-05T15:24:46.534227Z"
    }
   },
   "outputs": [],
   "source": [
    "import os, sys, glob, pickle\n",
    "from functools import partial\n",
    "\n",
    "import numpy as np\n",
    "import pandas as pd\n",
    "import xarray as xr\n",
    "import matplotlib.pyplot as plt\n",
    "import seaborn as sns\n",
    "# sns.set_theme()\n",
    "\n",
    "from tqdm.auto import tqdm\n",
    "from einops import rearrange, reduce, repeat"
   ]
  },
  {
   "cell_type": "code",
   "execution_count": 3,
   "id": "cd70dd980a69d0d2",
   "metadata": {
    "ExecuteTime": {
     "end_time": "2024-06-05T16:32:40.437767Z",
     "start_time": "2024-06-05T16:32:40.418237Z"
    }
   },
   "outputs": [],
   "source": [
    "# import experiment_utils\n",
    "import time\n",
    "import subprocess"
   ]
  },
  {
   "cell_type": "markdown",
   "id": "d25a8459feec83fd",
   "metadata": {},
   "source": [
    "# Launch Experiment (on this node)"
   ]
  },
  {
   "cell_type": "code",
   "execution_count": 4,
   "id": "8c39a5bfd56aad84",
   "metadata": {
    "ExecuteTime": {
     "end_time": "2024-06-05T16:32:45.724746Z",
     "start_time": "2024-06-05T16:32:45.705123Z"
    }
   },
   "outputs": [
    {
     "name": "stdout",
     "output_type": "stream",
     "text": [
      "./src/experiments/main.sh has 64 commands: \n",
      "python clip_img_optim_torch.py --seed=0 --save_dir=\"/home/akarshkumar0101/nca-alife-data/clip_img_optim/prompt=0_aug=0_openai_clip-vit-base-patch32_0\"  --prompt=\"a red apple\"                                                --aug_crop=False --aug_perspective=False --aug_color=False --model=\"openai/clip-vit-base-patch32\"  --lr=0.001 --n_iters=10000\n",
      "python clip_img_optim_torch.py --seed=0 --save_dir=\"/home/akarshkumar0101/nca-alife-data/clip_img_optim/prompt=1_aug=0_openai_clip-vit-base-patch32_0\"  --prompt=\"a photo of a red apple\"                                     --aug_crop=False --aug_perspective=False --aug_color=False --model=\"openai/clip-vit-base-patch32\"  --lr=0.001 --n_iters=10000\n",
      "python clip_img_optim_torch.py --seed=0 --save_dir=\"/home/akarshkumar0101/nca-alife-data/clip_img_optim/prompt=2_aug=0_openai_clip-vit-base-patch32_0\"  --prompt=\"a green tree\"                                               --aug_crop=False --aug_perspective=False --aug_color=False --model=\"openai/clip-vit-base-patch32\"  --lr=0.001 --n_iters=10000 \n",
      "...\n",
      "Logging to /home/akarshkumar0101/nca-alife-data/logs/2024_06_11_17_44_54\n"
     ]
    }
   ],
   "source": [
    "header = '\\n'.join(['#!/bin/bash', 'source ~/.virtualenvs/nca-alife-torch/bin/activate', 'cd ~/nca-alife/src'])\n",
    "gpus = [4, 5, 6, 7]\n",
    "log_dir = os.path.expanduser(f'~/nca-alife-data/logs/{time.strftime(\"%Y_%m_%d_%H_%M_%S\")}')\n",
    "exp_sh = f'./src/experiments/main.sh'\n",
    "with open(exp_sh, 'r') as f:\n",
    "    commands = [c for c in f.read().split('\\n') if c]\n",
    "print(f\"{exp_sh} has {len(commands)} commands: \")\n",
    "print('\\n'.join(commands[:3]), '\\n...')\n",
    "print(f\"Logging to {log_dir}\")"
   ]
  },
  {
   "cell_type": "code",
   "execution_count": 5,
   "id": "606a1e32-67e7-4c6c-b426-614ccd1651c4",
   "metadata": {},
   "outputs": [
    {
     "data": {
      "text/plain": [
       "'/home/akarshkumar0101/nca-alife-data/logs/2024_06_11_17_44_54'"
      ]
     },
     "execution_count": 5,
     "metadata": {},
     "output_type": "execute_result"
    }
   ],
   "source": [
    "log_dir"
   ]
  },
  {
   "cell_type": "code",
   "execution_count": null,
   "id": "5a6eb46d-b180-47c0-9e47-045a0f8f9dde",
   "metadata": {},
   "outputs": [],
   "source": []
  },
  {
   "cell_type": "code",
   "execution_count": 6,
   "id": "ccbc7bd83eb023cb",
   "metadata": {
    "ExecuteTime": {
     "end_time": "2024-06-05T16:32:47.309708Z",
     "start_time": "2024-06-05T16:32:47.171678Z"
    }
   },
   "outputs": [],
   "source": [
    "!mkdir -p {log_dir}\n",
    "!rm {os.path.dirname(log_dir)+'/latest'}\n",
    "!ln -sf {log_dir} {os.path.dirname(log_dir)+'/latest'}\n",
    "for i_gpu, gpu in enumerate(gpus):\n",
    "    job_ids = np.arange(len(commands))[i_gpu::len(gpus)]\n",
    "    cvd = f'export CUDA_VISIBLE_DEVICES={gpu}'\n",
    "    txt = f\"{header}\\n{cvd}\\n\\n\"\n",
    "    for job_id in job_ids:\n",
    "        txt += f\"touch {log_dir}/job_{job_id:05d}.status\\n\"\n",
    "        txt += f\"{commands[job_id]} &> {log_dir}/job_{job_id:05d}.out\\n\"\n",
    "        txt += f\"echo $? > {log_dir}/job_{job_id:05d}.status\\n\\n\"\n",
    "    with open(f\"{log_dir}/gpu_{gpu}.sh\", \"w\") as f:\n",
    "        f.write(txt)"
   ]
  },
  {
   "cell_type": "code",
   "execution_count": 7,
   "id": "fd11b06be751b124",
   "metadata": {
    "ExecuteTime": {
     "end_time": "2024-06-05T16:32:47.659970Z",
     "start_time": "2024-06-05T16:32:47.641164Z"
    }
   },
   "outputs": [
    {
     "name": "stdout",
     "output_type": "stream",
     "text": [
      "#!/bin/bash\n",
      "source ~/.virtualenvs/nca-alife-torch/bin/activate\n",
      "cd ~/nca-alife/src\n",
      "export CUDA_VISIBLE_DEVICES=7\n",
      "\n",
      "touch /home/akarshkumar0101/nca-alife-data/logs/2024_06_11_17_44_54/job_00003.status\n",
      "python clip_img_optim_torch.py --seed=0 --save_dir=\"/home/akarshkumar0101/nca-alife-data/clip_img_optim/prompt=3_aug=0_openai_clip-vit-base-patch32_0\"  --prompt=\"a very fat cat\"                                             --aug_crop=False --aug_perspective=False --aug_color=False --model=\"openai/clip-vit-base-patch32\"  --lr=0.001 --n_iters=10000 &> /home/akarshkumar0101/nca-alife-data/logs/2024_06_11_17_44_54/job_00003.out\n",
      "echo $? > /home/akarshkumar0101/nca-alife-data/logs/2024_06_11_17_44_54/job_00003.status\n",
      "\n",
      "touch /home/akarshkumar0101/nca-alife-data/logs/2024_06_11_17_44_54/job_00007.status\n",
      "python clip_img_optim_torch.py --seed=0 --save_dir=\"/home/akarshkumar0101/nca-alife-data/clip_img_optim/prompt=7_aug=0_openai_clip-vit-base-patch32_0\"  --prompt=\"a photo of the emergence of open-ended complexity\"          --aug_crop=False --aug_perspective=False --aug_color=False --model=\"openai/clip-vit-base-patch32\"  --lr=0.001 --n_iters=10000 &> /home/akarshkumar0101/nca-alife-data/logs/2024_06_11_17_44_54/job_00007.out\n",
      "echo $? > /home/akarshkumar0101/nca-alife-data/logs/2024_06_11_17_44_54/job_00007.status\n"
     ]
    }
   ],
   "source": [
    "print('\\n'.join(txt.split('\\n')[:12]))"
   ]
  },
  {
   "cell_type": "code",
   "execution_count": 9,
   "id": "e5ce96252f75f2f9",
   "metadata": {
    "ExecuteTime": {
     "end_time": "2024-06-05T16:35:49.567207Z",
     "start_time": "2024-06-05T16:35:49.546023Z"
    }
   },
   "outputs": [
    {
     "name": "stdout",
     "output_type": "stream",
     "text": [
      "bash /home/akarshkumar0101/nca-alife-data/logs/2024_06_11_17_44_54/gpu_4.sh\n",
      "bash /home/akarshkumar0101/nca-alife-data/logs/2024_06_11_17_44_54/gpu_5.sh\n",
      "bash /home/akarshkumar0101/nca-alife-data/logs/2024_06_11_17_44_54/gpu_6.sh\n",
      "bash /home/akarshkumar0101/nca-alife-data/logs/2024_06_11_17_44_54/gpu_7.sh\n"
     ]
    }
   ],
   "source": [
    "for i_gpu, gpu in enumerate(gpus):\n",
    "    command = f\"bash {log_dir}/gpu_{gpu}.sh\"\n",
    "    print(command)\n",
    "    process = subprocess.Popen(command, shell=True)"
   ]
  },
  {
   "cell_type": "code",
   "execution_count": null,
   "id": "5f6328aa-5b2e-4739-b80d-2ebc1761740a",
   "metadata": {},
   "outputs": [],
   "source": []
  },
  {
   "cell_type": "markdown",
   "id": "233f54f7c2310a69",
   "metadata": {},
   "source": [
    "# Track Experiment"
   ]
  },
  {
   "cell_type": "code",
   "execution_count": 65,
   "id": "cd7c5f40-2da8-4950-b103-6edb425db165",
   "metadata": {},
   "outputs": [],
   "source": [
    "a = []\n",
    "for job_id in range(len(commands)):\n",
    "    a.append(os.path.exists(f'{log_dir}/job_{job_id:05d}.out'))"
   ]
  },
  {
   "cell_type": "code",
   "execution_count": 66,
   "id": "ce973c28-9800-48b2-8d56-3b292e8e3705",
   "metadata": {},
   "outputs": [
    {
     "data": {
      "text/plain": [
       "1.0"
      ]
     },
     "execution_count": 66,
     "metadata": {},
     "output_type": "execute_result"
    }
   ],
   "source": [
    "np.array(a).mean()"
   ]
  },
  {
   "cell_type": "code",
   "execution_count": 67,
   "id": "32cc6659-39ec-4529-ba77-ecf8fc243a5f",
   "metadata": {},
   "outputs": [
    {
     "data": {
      "text/plain": [
       "64"
      ]
     },
     "execution_count": 67,
     "metadata": {},
     "output_type": "execute_result"
    }
   ],
   "source": [
    "len(commands)"
   ]
  },
  {
   "cell_type": "code",
   "execution_count": null,
   "id": "c75eacd4eb3f534d",
   "metadata": {},
   "outputs": [],
   "source": []
  },
  {
   "cell_type": "code",
   "execution_count": null,
   "id": "d2d8e17e3abe3689",
   "metadata": {},
   "outputs": [],
   "source": []
  }
 ],
 "metadata": {
  "kernelspec": {
   "display_name": "Python 3 (ipykernel)",
   "language": "python",
   "name": "python3"
  },
  "language_info": {
   "codemirror_mode": {
    "name": "ipython",
    "version": 3
   },
   "file_extension": ".py",
   "mimetype": "text/x-python",
   "name": "python",
   "nbconvert_exporter": "python",
   "pygments_lexer": "ipython3",
   "version": "3.9.2"
  }
 },
 "nbformat": 4,
 "nbformat_minor": 5
}

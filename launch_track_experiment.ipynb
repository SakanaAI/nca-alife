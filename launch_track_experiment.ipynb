{
 "cells": [
  {
   "cell_type": "code",
   "execution_count": 1,
   "id": "initial_id",
   "metadata": {
    "ExecuteTime": {
     "end_time": "2024-06-05T15:24:12.196261Z",
     "start_time": "2024-06-05T15:24:11.937119Z"
    }
   },
   "outputs": [
    {
     "name": "stdout",
     "output_type": "stream",
     "text": [
      "fish-gcp005\n",
      "/home/akarshkumar0101/nca-alife\n",
      "/home/akarshkumar0101/miniconda3/envs/nca-alife-torch/bin/python\n"
     ]
    }
   ],
   "source": [
    "%load_ext autoreload\n",
    "%autoreload 2\n",
    "!hostname\n",
    "!pwd\n",
    "import os, sys\n",
    "print(sys.executable)"
   ]
  },
  {
   "cell_type": "code",
   "execution_count": 2,
   "id": "b14fab765a9b502f",
   "metadata": {
    "ExecuteTime": {
     "end_time": "2024-06-05T15:24:46.791547Z",
     "start_time": "2024-06-05T15:24:46.534227Z"
    }
   },
   "outputs": [],
   "source": [
    "import os, sys, glob, pickle\n",
    "from functools import partial\n",
    "\n",
    "import numpy as np\n",
    "import pandas as pd\n",
    "import xarray as xr\n",
    "import matplotlib.pyplot as plt\n",
    "import seaborn as sns\n",
    "# sns.set_theme()\n",
    "\n",
    "from tqdm.auto import tqdm\n",
    "from einops import rearrange, reduce, repeat"
   ]
  },
  {
   "cell_type": "code",
   "execution_count": 3,
   "id": "cd70dd980a69d0d2",
   "metadata": {
    "ExecuteTime": {
     "end_time": "2024-06-05T16:32:40.437767Z",
     "start_time": "2024-06-05T16:32:40.418237Z"
    }
   },
   "outputs": [],
   "source": [
    "# import experiment_utils\n",
    "import time\n",
    "import subprocess"
   ]
  },
  {
   "cell_type": "markdown",
   "id": "d25a8459feec83fd",
   "metadata": {},
   "source": [
    "# Launch Experiment (on this node)"
   ]
  },
  {
   "cell_type": "code",
   "execution_count": 4,
   "id": "8c39a5bfd56aad84",
   "metadata": {
    "ExecuteTime": {
     "end_time": "2024-06-05T16:32:45.724746Z",
     "start_time": "2024-06-05T16:32:45.705123Z"
    }
   },
   "outputs": [
    {
     "name": "stdout",
     "output_type": "stream",
     "text": [
      "./src/experiments/main.sh has 72 commands: \n",
      "python train_nca_temporal_emergence.py --seed=0 --save_dir=\"/home/akarshkumar0101/nca-alife-data/nca_scale6/0_64_0.0\"   --dtype=\"float32\" --device=\"cuda:0\" --img_size=64  --d_state=16 --perception=\"fullconv\" --kernel_size=3 --init_state=\"point\" --padding_mode=\"circular\" --dt=0.01 --dropout=0.1 --prompts=\"a biological cell;a single fat cat\" --spatial_scales=\"0.015625;1.\" --clip_model=\"clip-vit-base-patch32\" --coef_alignment=1.0 --coef_spatial_softmax=0.0  --rollout_steps=512 --bptt_steps=16 --pool_size=128 --bs=8 --lr=0.0003 --n_iters=100000 --clip_grad_norm=1.0\n",
      "python train_nca_temporal_emergence.py --seed=0 --save_dir=\"/home/akarshkumar0101/nca-alife-data/nca_scale6/0_64_0.01\"  --dtype=\"float32\" --device=\"cuda:0\" --img_size=64  --d_state=16 --perception=\"fullconv\" --kernel_size=3 --init_state=\"point\" --padding_mode=\"circular\" --dt=0.01 --dropout=0.1 --prompts=\"a biological cell;a single fat cat\" --spatial_scales=\"0.015625;1.\" --clip_model=\"clip-vit-base-patch32\" --coef_alignment=1.0 --coef_spatial_softmax=0.01 --rollout_steps=512 --bptt_steps=16 --pool_size=128 --bs=8 --lr=0.0003 --n_iters=100000 --clip_grad_norm=1.0\n",
      "python train_nca_temporal_emergence.py --seed=0 --save_dir=\"/home/akarshkumar0101/nca-alife-data/nca_scale6/0_64_0.03\"  --dtype=\"float32\" --device=\"cuda:0\" --img_size=64  --d_state=16 --perception=\"fullconv\" --kernel_size=3 --init_state=\"point\" --padding_mode=\"circular\" --dt=0.01 --dropout=0.1 --prompts=\"a biological cell;a single fat cat\" --spatial_scales=\"0.015625;1.\" --clip_model=\"clip-vit-base-patch32\" --coef_alignment=1.0 --coef_spatial_softmax=0.03 --rollout_steps=512 --bptt_steps=16 --pool_size=128 --bs=8 --lr=0.0003 --n_iters=100000 --clip_grad_norm=1.0 \n",
      "...\n",
      "Logging to /home/akarshkumar0101/nca-alife-data/logs/2024_08_02_05_16_15\n"
     ]
    }
   ],
   "source": [
    "header = '\\n'.join([\n",
    "    '#!/bin/bash',\n",
    "    \n",
    "    # 'source ~/.virtualenvs/nca-alife-torch/bin/activate'\n",
    "    \n",
    "    'source ~/miniconda3/etc/profile.d/conda.sh',\n",
    "    'conda activate nca-alife-torch',\n",
    "    \n",
    "    'cd ~/nca-alife/src'\n",
    "])\n",
    "\n",
    "\n",
    "gpus = [4, 5, 6, 7]\n",
    "log_dir = os.path.expanduser(f'~/nca-alife-data/logs/{time.strftime(\"%Y_%m_%d_%H_%M_%S\")}')\n",
    "exp_sh = f'./src/experiments/main.sh'\n",
    "with open(exp_sh, 'r') as f:\n",
    "    commands = [c for c in f.read().split('\\n') if c]\n",
    "print(f\"{exp_sh} has {len(commands)} commands: \")\n",
    "print('\\n'.join(commands[:3]), '\\n...')\n",
    "print(f\"Logging to {log_dir}\")"
   ]
  },
  {
   "cell_type": "code",
   "execution_count": 5,
   "id": "606a1e32-67e7-4c6c-b426-614ccd1651c4",
   "metadata": {},
   "outputs": [
    {
     "name": "stdout",
     "output_type": "stream",
     "text": [
      "/home/akarshkumar0101/nca-alife-data/logs/2024_08_02_05_16_15\n"
     ]
    }
   ],
   "source": [
    "print(log_dir)"
   ]
  },
  {
   "cell_type": "code",
   "execution_count": null,
   "id": "5a6eb46d-b180-47c0-9e47-045a0f8f9dde",
   "metadata": {},
   "outputs": [],
   "source": []
  },
  {
   "cell_type": "code",
   "execution_count": 6,
   "id": "ccbc7bd83eb023cb",
   "metadata": {
    "ExecuteTime": {
     "end_time": "2024-06-05T16:32:47.309708Z",
     "start_time": "2024-06-05T16:32:47.171678Z"
    }
   },
   "outputs": [],
   "source": [
    "!mkdir -p {log_dir}\n",
    "!rm {os.path.dirname(log_dir)+'/latest'}\n",
    "!ln -sf {log_dir} {os.path.dirname(log_dir)+'/latest'}\n",
    "for i_gpu, gpu in enumerate(gpus):\n",
    "    job_ids = np.arange(len(commands))[i_gpu::len(gpus)]\n",
    "    cvd = f'export CUDA_VISIBLE_DEVICES={gpu}'\n",
    "    txt = f\"{header}\\n{cvd}\\n\\n\"\n",
    "    for job_id in job_ids:\n",
    "        txt += f\"touch {log_dir}/job_{job_id:05d}.status\\n\"\n",
    "        txt += f\"{commands[job_id]} &> {log_dir}/job_{job_id:05d}.out\\n\"\n",
    "        txt += f\"echo $? > {log_dir}/job_{job_id:05d}.status\\n\\n\"\n",
    "    with open(f\"{log_dir}/gpu_{gpu}.sh\", \"w\") as f:\n",
    "        f.write(txt)"
   ]
  },
  {
   "cell_type": "code",
   "execution_count": 7,
   "id": "fd11b06be751b124",
   "metadata": {
    "ExecuteTime": {
     "end_time": "2024-06-05T16:32:47.659970Z",
     "start_time": "2024-06-05T16:32:47.641164Z"
    }
   },
   "outputs": [
    {
     "name": "stdout",
     "output_type": "stream",
     "text": [
      "#!/bin/bash\n",
      "source ~/miniconda3/etc/profile.d/conda.sh\n",
      "conda activate nca-alife-torch\n",
      "cd ~/nca-alife/src\n",
      "export CUDA_VISIBLE_DEVICES=7\n",
      "\n",
      "touch /home/akarshkumar0101/nca-alife-data/logs/2024_08_02_05_16_15/job_00003.status\n",
      "python train_nca_temporal_emergence.py --seed=0 --save_dir=\"/home/akarshkumar0101/nca-alife-data/nca_scale6/0_64_0.1\"   --dtype=\"float32\" --device=\"cuda:0\" --img_size=64  --d_state=16 --perception=\"fullconv\" --kernel_size=3 --init_state=\"point\" --padding_mode=\"circular\" --dt=0.01 --dropout=0.1 --prompts=\"a biological cell;a single fat cat\" --spatial_scales=\"0.015625;1.\" --clip_model=\"clip-vit-base-patch32\" --coef_alignment=1.0 --coef_spatial_softmax=0.1  --rollout_steps=512 --bptt_steps=16 --pool_size=128 --bs=8 --lr=0.0003 --n_iters=100000 --clip_grad_norm=1.0 &> /home/akarshkumar0101/nca-alife-data/logs/2024_08_02_05_16_15/job_00003.out\n",
      "echo $? > /home/akarshkumar0101/nca-alife-data/logs/2024_08_02_05_16_15/job_00003.status\n",
      "\n",
      "touch /home/akarshkumar0101/nca-alife-data/logs/2024_08_02_05_16_15/job_00007.status\n",
      "python train_nca_temporal_emergence.py --seed=1 --save_dir=\"/home/akarshkumar0101/nca-alife-data/nca_scale6/1_64_0.01\"  --dtype=\"float32\" --device=\"cuda:0\" --img_size=64  --d_state=16 --perception=\"fullconv\" --kernel_size=3 --init_state=\"point\" --padding_mode=\"circular\" --dt=0.01 --dropout=0.1 --prompts=\"a biological cell;a single fat cat\" --spatial_scales=\"0.015625;1.\" --clip_model=\"clip-vit-base-patch32\" --coef_alignment=1.0 --coef_spatial_softmax=0.01 --rollout_steps=512 --bptt_steps=16 --pool_size=128 --bs=8 --lr=0.0003 --n_iters=100000 --clip_grad_norm=1.0 &> /home/akarshkumar0101/nca-alife-data/logs/2024_08_02_05_16_15/job_00007.out\n",
      "echo $? > /home/akarshkumar0101/nca-alife-data/logs/2024_08_02_05_16_15/job_00007.status\n",
      "\n",
      "touch /home/akarshkumar0101/nca-alife-data/logs/2024_08_02_05_16_15/job_00011.status\n",
      "python train_nca_temporal_emergence.py --seed=1 --save_dir=\"/home/akarshkumar0101/nca-alife-data/nca_scale6/1_64_1.0\"   --dtype=\"float32\" --device=\"cuda:0\" --img_size=64  --d_state=16 --perception=\"fullconv\" --kernel_size=3 --init_state=\"point\" --padding_mode=\"circular\" --dt=0.01 --dropout=0.1 --prompts=\"a biological cell;a single fat cat\" --spatial_scales=\"0.015625;1.\" --clip_model=\"clip-vit-base-patch32\" --coef_alignment=1.0 --coef_spatial_softmax=1.0  --rollout_steps=512 --bptt_steps=16 --pool_size=128 --bs=8 --lr=0.0003 --n_iters=100000 --clip_grad_norm=1.0 &> /home/akarshkumar0101/nca-alife-data/logs/2024_08_02_05_16_15/job_00011.out\n",
      "echo $? > /home/akarshkumar0101/nca-alife-data/logs/2024_08_02_05_16_15/job_00011.status\n",
      "\n",
      "touch /home/akarshkumar0101/nca-alife-data/logs/2024_08_02_05_16_15/job_00015.status\n",
      "python train_nca_temporal_emergence.py --seed=2 --save_dir=\"/home/akarshkumar0101/nca-alife-data/nca_scale6/2_64_0.1\"   --dtype=\"float32\" --device=\"cuda:0\" --img_size=64  --d_state=16 --perception=\"fullconv\" --kernel_size=3 --init_state=\"point\" --padding_mode=\"circular\" --dt=0.01 --dropout=0.1 --prompts=\"a biological cell;a single fat cat\" --spatial_scales=\"0.015625;1.\" --clip_model=\"clip-vit-base-patch32\" --coef_alignment=1.0 --coef_spatial_softmax=0.1  --rollout_steps=512 --bptt_steps=16 --pool_size=128 --bs=8 --lr=0.0003 --n_iters=100000 --clip_grad_norm=1.0 &> /home/akarshkumar0101/nca-alife-data/logs/2024_08_02_05_16_15/job_00015.out\n",
      "echo $? > /home/akarshkumar0101/nca-alife-data/logs/2024_08_02_05_16_15/job_00015.status\n",
      "\n",
      "touch /home/akarshkumar0101/nca-alife-data/logs/2024_08_02_05_16_15/job_00019.status\n",
      "python train_nca_temporal_emergence.py --seed=3 --save_dir=\"/home/akarshkumar0101/nca-alife-data/nca_scale6/3_64_0.01\"  --dtype=\"float32\" --device=\"cuda:0\" --img_size=64  --d_state=16 --perception=\"fullconv\" --kernel_size=3 --init_state=\"point\" --padding_mode=\"circular\" --dt=0.01 --dropout=0.1 --prompts=\"a biological cell;a single fat cat\" --spatial_scales=\"0.015625;1.\" --clip_model=\"clip-vit-base-patch32\" --coef_alignment=1.0 --coef_spatial_softmax=0.01 --rollout_steps=512 --bptt_steps=16 --pool_size=128 --bs=8 --lr=0.0003 --n_iters=100000 --clip_grad_norm=1.0 &> /home/akarshkumar0101/nca-alife-data/logs/2024_08_02_05_16_15/job_00019.out\n"
     ]
    }
   ],
   "source": [
    "print('\\n'.join(txt.split('\\n')[:24]))"
   ]
  },
  {
   "cell_type": "code",
   "execution_count": null,
   "id": "7a7a1ba5-f8cf-4cb2-93ba-25a548a0f499",
   "metadata": {},
   "outputs": [],
   "source": []
  },
  {
   "cell_type": "code",
   "execution_count": null,
   "id": "9e48a7c8-f06d-4b33-9226-b0800279667e",
   "metadata": {},
   "outputs": [],
   "source": []
  },
  {
   "cell_type": "code",
   "execution_count": null,
   "id": "d10b736e-5b7c-40d1-8ffd-a5e3f2b0add4",
   "metadata": {},
   "outputs": [],
   "source": []
  },
  {
   "cell_type": "code",
   "execution_count": 8,
   "id": "e5ce96252f75f2f9",
   "metadata": {
    "ExecuteTime": {
     "end_time": "2024-06-05T16:35:49.567207Z",
     "start_time": "2024-06-05T16:35:49.546023Z"
    }
   },
   "outputs": [
    {
     "name": "stdout",
     "output_type": "stream",
     "text": [
      "bash /home/akarshkumar0101/nca-alife-data/logs/2024_08_02_05_16_15/gpu_4.sh\n",
      "bash /home/akarshkumar0101/nca-alife-data/logs/2024_08_02_05_16_15/gpu_5.sh\n",
      "bash /home/akarshkumar0101/nca-alife-data/logs/2024_08_02_05_16_15/gpu_6.sh\n",
      "bash /home/akarshkumar0101/nca-alife-data/logs/2024_08_02_05_16_15/gpu_7.sh\n"
     ]
    }
   ],
   "source": [
    "for i_gpu, gpu in enumerate(gpus):\n",
    "    command = f\"bash {log_dir}/gpu_{gpu}.sh\"\n",
    "    print(command)\n",
    "    process = subprocess.Popen(command, shell=True)"
   ]
  },
  {
   "cell_type": "code",
   "execution_count": null,
   "id": "8d4b43ea-3cd2-4567-9e7b-819a109f4672",
   "metadata": {},
   "outputs": [],
   "source": []
  },
  {
   "cell_type": "code",
   "execution_count": null,
   "id": "0993c800-10a3-4d44-a37b-55aff7b6da13",
   "metadata": {},
   "outputs": [],
   "source": []
  },
  {
   "cell_type": "code",
   "execution_count": null,
   "id": "5f6328aa-5b2e-4739-b80d-2ebc1761740a",
   "metadata": {},
   "outputs": [],
   "source": []
  },
  {
   "cell_type": "markdown",
   "id": "233f54f7c2310a69",
   "metadata": {},
   "source": [
    "# Track Experiment"
   ]
  },
  {
   "cell_type": "code",
   "execution_count": 22,
   "id": "323b77b2-6677-4b3b-9864-10f98df4c77d",
   "metadata": {},
   "outputs": [],
   "source": [
    "import subprocess\n",
    "a = subprocess.run(['ps', 'ux'], stdout=subprocess.PIPE).stdout.decode('utf-8')"
   ]
  },
  {
   "cell_type": "code",
   "execution_count": 25,
   "id": "6919b53c-0578-4e33-a86b-471b78449bee",
   "metadata": {},
   "outputs": [
    {
     "data": {
      "text/plain": [
       "['akarshk+ 1271851  0.0  0.0   2480   572 ?        S    04:58   0:00 /bin/sh -c bash /home/akarshkumar0101/nca-alife-data/logs/2024_07_31_04_58_39/gpu_4.sh',\n",
       " 'akarshk+ 1271852  0.0  0.0   2480   516 ?        S    04:58   0:00 /bin/sh -c bash /home/akarshkumar0101/nca-alife-data/logs/2024_07_31_04_58_39/gpu_5.sh',\n",
       " 'akarshk+ 1271853  0.0  0.0 219972  3408 ?        S    04:58   0:00 bash /home/akarshkumar0101/nca-alife-data/logs/2024_07_31_04_58_39/gpu_4.sh',\n",
       " 'akarshk+ 1271854  0.0  0.0   2480   512 ?        S    04:58   0:00 /bin/sh -c bash /home/akarshkumar0101/nca-alife-data/logs/2024_07_31_04_58_39/gpu_6.sh',\n",
       " 'akarshk+ 1271855  0.0  0.0 219972  3200 ?        S    04:58   0:00 bash /home/akarshkumar0101/nca-alife-data/logs/2024_07_31_04_58_39/gpu_5.sh',\n",
       " 'akarshk+ 1271856  0.0  0.0   2480   516 ?        S    04:58   0:00 /bin/sh -c bash /home/akarshkumar0101/nca-alife-data/logs/2024_07_31_04_58_39/gpu_7.sh',\n",
       " 'akarshk+ 1271857  0.0  0.0 219972  3460 ?        S    04:58   0:00 bash /home/akarshkumar0101/nca-alife-data/logs/2024_07_31_04_58_39/gpu_6.sh',\n",
       " 'akarshk+ 1271858  0.0  0.0 219972  3188 ?        S    04:58   0:00 bash /home/akarshkumar0101/nca-alife-data/logs/2024_07_31_04_58_39/gpu_7.sh']"
      ]
     },
     "execution_count": 25,
     "metadata": {},
     "output_type": "execute_result"
    },
    {
     "name": "stderr",
     "output_type": "stream",
     "text": [
      "Terminated\n",
      "Terminated\n",
      "Terminated\n",
      "Terminated\n"
     ]
    }
   ],
   "source": [
    "[l for l in a.split('\\n') if \"bash\" in l and \"gpu\" in l]"
   ]
  },
  {
   "cell_type": "code",
   "execution_count": null,
   "id": "8b02e737-1457-43f7-87d9-51b427af547e",
   "metadata": {},
   "outputs": [],
   "source": []
  },
  {
   "cell_type": "code",
   "execution_count": null,
   "id": "852dbcf0-5257-48ab-ab62-b1a5b15b313d",
   "metadata": {},
   "outputs": [],
   "source": []
  },
  {
   "cell_type": "code",
   "execution_count": null,
   "id": "577c510a-4b86-40ea-abbe-f3bcccd0dc38",
   "metadata": {},
   "outputs": [],
   "source": []
  },
  {
   "cell_type": "code",
   "execution_count": null,
   "id": "08e8cb76-82d8-4262-9810-ace0da1af5a6",
   "metadata": {},
   "outputs": [],
   "source": []
  },
  {
   "cell_type": "code",
   "execution_count": null,
   "id": "a8de783f-f18d-46a7-8f4c-f713fb65e819",
   "metadata": {},
   "outputs": [],
   "source": []
  },
  {
   "cell_type": "code",
   "execution_count": null,
   "id": "7e14cb0f-392a-4607-b5b2-eb122dd1d0b2",
   "metadata": {},
   "outputs": [],
   "source": []
  },
  {
   "cell_type": "code",
   "execution_count": 64,
   "id": "1eb72d2c-d077-466b-b7a3-c70eb8666291",
   "metadata": {},
   "outputs": [],
   "source": [
    "from collections import defaultdict\n",
    "\n",
    "statuses = []\n",
    "for job_id in range(len(commands)):\n",
    "    try:\n",
    "        with open(f\"{log_dir}/job_{job_id:05d}.status\", \"r\") as f:\n",
    "            status = int(f.read().strip())\n",
    "            statuses.append(status)\n",
    "    except Exception as e:\n",
    "        pass\n",
    "        # print(e)\n",
    "        # break\n",
    "statuses = np.array(statuses)"
   ]
  },
  {
   "cell_type": "code",
   "execution_count": 65,
   "id": "3da1b300-6f0e-4e26-9b1b-8e282397d567",
   "metadata": {},
   "outputs": [
    {
     "data": {
      "text/plain": [
       "(0, 60)"
      ]
     },
     "execution_count": 65,
     "metadata": {},
     "output_type": "execute_result"
    }
   ],
   "source": [
    "(statuses==0).sum(), len(commands)"
   ]
  },
  {
   "cell_type": "code",
   "execution_count": 66,
   "id": "bbd276b2-fcd2-4344-b410-0aa6ef14ea7f",
   "metadata": {
    "scrolled": true
   },
   "outputs": [
    {
     "data": {
      "text/plain": [
       "(array([], dtype=float64), array([], dtype=int64))"
      ]
     },
     "execution_count": 66,
     "metadata": {},
     "output_type": "execute_result"
    }
   ],
   "source": [
    "np.unique(statuses, return_counts=True)"
   ]
  },
  {
   "cell_type": "code",
   "execution_count": null,
   "id": "0684129a-8adf-4f44-9d0c-52333b1fcb92",
   "metadata": {},
   "outputs": [],
   "source": []
  },
  {
   "cell_type": "code",
   "execution_count": null,
   "id": "187c7fdf-be2a-4ab3-9d8c-5846bb278b1f",
   "metadata": {},
   "outputs": [],
   "source": []
  },
  {
   "cell_type": "code",
   "execution_count": 15,
   "id": "b87eb0da-3b7d-41c1-b656-7810bf958163",
   "metadata": {},
   "outputs": [
    {
     "name": "stdout",
     "output_type": "stream",
     "text": [
      "\n",
      "------------------------------------------------------ 0 ------------------------------------------------------\n",
      "\n",
      "100%|██████████| 100000/100000 [1:03:10<00:00, 26.38it/s, loss=-0.313]\n",
      "\n",
      "------------------------------------------------------ 1 ------------------------------------------------------\n",
      "\n",
      "100%|██████████| 100000/100000 [57:59<00:00, 28.74it/s, loss=-0.307]\n",
      "\n",
      "------------------------------------------------------ 2 ------------------------------------------------------\n",
      "\n",
      "100%|██████████| 100000/100000 [58:26<00:00, 28.52it/s, loss=-0.302]\n",
      "\n",
      "------------------------------------------------------ 3 ------------------------------------------------------\n",
      "\n",
      "100%|██████████| 100000/100000 [59:10<00:00, 28.17it/s, loss=-0.264]\n",
      "\n",
      "------------------------------------------------------ 4 ------------------------------------------------------\n",
      "\n",
      "79%|███████▊  | 78556/100000 [51:51<13:28, 26.52it/s, loss=-0.106]\n",
      "\n",
      "------------------------------------------------------ 5 ------------------------------------------------------\n",
      "\n",
      "78%|███████▊  | 78088/100000 [57:03<13:56, 26.19it/s, loss=0.321]\n",
      "\n",
      "------------------------------------------------------ 6 ------------------------------------------------------\n",
      "\n",
      "86%|████████▌ | 85984/100000 [56:38<08:02, 29.07it/s, loss=-0.331]\n",
      "\n",
      "------------------------------------------------------ 7 ------------------------------------------------------\n",
      "\n",
      "85%|████████▌ | 85057/100000 [55:53<08:39, 28.78it/s, loss=-0.319]\n",
      "\n",
      "------------------------------------------------------ 8 ------------------------------------------------------\n",
      "\n"
     ]
    }
   ],
   "source": [
    "for job_id in list(range(len(commands))):\n",
    "    print()\n",
    "    print(f'------------------------------------------------------ {job_id} ------------------------------------------------------')\n",
    "    print()\n",
    "    try:\n",
    "        with open(f\"{log_dir}/job_{job_id:05d}.out\", \"r\") as f:\n",
    "            print(f.readlines()[-1].strip())\n",
    "    except Exception as e:\n",
    "        # pass\n",
    "        break\n",
    "        print(e)"
   ]
  },
  {
   "cell_type": "code",
   "execution_count": 14,
   "id": "1f545d74-19fc-42d7-a744-de052c2619aa",
   "metadata": {},
   "outputs": [
    {
     "data": {
      "text/plain": [
       "'/home/akarshkumar0101/nca-alife-data/logs/2024_08_02_05_16_15'"
      ]
     },
     "execution_count": 14,
     "metadata": {},
     "output_type": "execute_result"
    }
   ],
   "source": [
    "log_dir"
   ]
  },
  {
   "cell_type": "code",
   "execution_count": null,
   "id": "c75eacd4eb3f534d",
   "metadata": {},
   "outputs": [],
   "source": []
  },
  {
   "cell_type": "code",
   "execution_count": null,
   "id": "d2d8e17e3abe3689",
   "metadata": {},
   "outputs": [],
   "source": []
  }
 ],
 "metadata": {
  "kernelspec": {
   "display_name": "Python 3 (ipykernel)",
   "language": "python",
   "name": "python3"
  },
  "language_info": {
   "codemirror_mode": {
    "name": "ipython",
    "version": 3
   },
   "file_extension": ".py",
   "mimetype": "text/x-python",
   "name": "python",
   "nbconvert_exporter": "python",
   "pygments_lexer": "ipython3",
   "version": "3.12.3"
  }
 },
 "nbformat": 4,
 "nbformat_minor": 5
}

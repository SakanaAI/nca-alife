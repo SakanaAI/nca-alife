{
 "cells": [
  {
   "cell_type": "code",
   "execution_count": 1,
   "id": "initial_id",
   "metadata": {
    "ExecuteTime": {
     "end_time": "2024-06-05T15:24:12.196261Z",
     "start_time": "2024-06-05T15:24:11.937119Z"
    }
   },
   "outputs": [
    {
     "name": "stdout",
     "output_type": "stream",
     "text": [
      "fish-gcp005\n",
      "/home/akarshkumar0101/nca-alife\n",
      "/home/akarshkumar0101/miniconda3/envs/nca-alife-jax/bin/python\n"
     ]
    }
   ],
   "source": [
    "%load_ext autoreload\n",
    "%autoreload 2\n",
    "!hostname\n",
    "!pwd\n",
    "import os, sys\n",
    "print(sys.executable)"
   ]
  },
  {
   "cell_type": "code",
   "execution_count": 2,
   "id": "b14fab765a9b502f",
   "metadata": {
    "ExecuteTime": {
     "end_time": "2024-06-05T15:24:46.791547Z",
     "start_time": "2024-06-05T15:24:46.534227Z"
    }
   },
   "outputs": [],
   "source": [
    "import os, sys, glob, pickle\n",
    "from functools import partial\n",
    "\n",
    "import numpy as np\n",
    "import pandas as pd\n",
    "import xarray as xr\n",
    "import matplotlib.pyplot as plt\n",
    "import seaborn as sns\n",
    "# sns.set_theme()\n",
    "\n",
    "from tqdm.auto import tqdm\n",
    "from einops import rearrange, reduce, repeat"
   ]
  },
  {
   "cell_type": "code",
   "execution_count": 3,
   "id": "cd70dd980a69d0d2",
   "metadata": {
    "ExecuteTime": {
     "end_time": "2024-06-05T16:32:40.437767Z",
     "start_time": "2024-06-05T16:32:40.418237Z"
    }
   },
   "outputs": [],
   "source": [
    "# import experiment_utils\n",
    "import time\n",
    "import subprocess"
   ]
  },
  {
   "cell_type": "markdown",
   "id": "d25a8459feec83fd",
   "metadata": {},
   "source": [
    "# Launch Experiment (on this node)"
   ]
  },
  {
   "cell_type": "code",
   "execution_count": 10,
   "id": "8c39a5bfd56aad84",
   "metadata": {
    "ExecuteTime": {
     "end_time": "2024-06-05T16:32:45.724746Z",
     "start_time": "2024-06-05T16:32:45.705123Z"
    }
   },
   "outputs": [
    {
     "name": "stdout",
     "output_type": "stream",
     "text": [
      "./src/experiments/main.sh has 48 commands: \n",
      "python nca_multi_prompt_clip.py --seed=0 --save_dir=\"/home/akarshkumar0101/nca-alife-data/nca_multi_prompt_clip/cell_prompt_new_cs_seed=0_i1=0\"  --dtype=\"float32\" --device=\"cuda:0\" --img_size=64 --n_layers=2 --d_state=16 --d_embd=32 --locality=1 --kernel_size=3 --nonlin=\"GELU\" --init_state=\"point\" --padding_mode=\"zeros\" --dt=0.01 --p_drop=0.0 --rollout_steps=512 --bptt_steps=16 --pool_size=1024 --target_img_path=None --prompt=\"many molecules and chemicals randomly floating around;chemicals coming together to form a cell;a single cell moving around;a cell reproducing to create more cells;many cells moving around;a bustling diverse ecosystem of cells floating around;many cells coming together to form a bigger cell;bigger cells chasing smaller cells in predator-prey like dynamics\" --n_augs=1 --augs=\"crop+pers\" --clip_model=\"clip-vit-base-patch32\" --coef_alignment=1.0 --coef_softmax=9.999999999999999e-06  --coef_temporal=0.0 --bs=8 --lr=0.0003 --n_iters=160000 --clip_grad_norm=1.0\n",
      "python nca_multi_prompt_clip.py --seed=0 --save_dir=\"/home/akarshkumar0101/nca-alife-data/nca_multi_prompt_clip/cell_prompt_new_cs_seed=0_i1=1\"  --dtype=\"float32\" --device=\"cuda:0\" --img_size=64 --n_layers=2 --d_state=16 --d_embd=32 --locality=1 --kernel_size=3 --nonlin=\"GELU\" --init_state=\"point\" --padding_mode=\"zeros\" --dt=0.01 --p_drop=0.0 --rollout_steps=512 --bptt_steps=16 --pool_size=1024 --target_img_path=None --prompt=\"many molecules and chemicals randomly floating around;chemicals coming together to form a cell;a single cell moving around;a cell reproducing to create more cells;many cells moving around;a bustling diverse ecosystem of cells floating around;many cells coming together to form a bigger cell;bigger cells chasing smaller cells in predator-prey like dynamics\" --n_augs=1 --augs=\"crop+pers\" --clip_model=\"clip-vit-base-patch32\" --coef_alignment=1.0 --coef_softmax=1.3417128354799115e-05 --coef_temporal=0.0 --bs=8 --lr=0.0003 --n_iters=160000 --clip_grad_norm=1.0\n",
      "python nca_multi_prompt_clip.py --seed=0 --save_dir=\"/home/akarshkumar0101/nca-alife-data/nca_multi_prompt_clip/cell_prompt_new_cs_seed=0_i1=2\"  --dtype=\"float32\" --device=\"cuda:0\" --img_size=64 --n_layers=2 --d_state=16 --d_embd=32 --locality=1 --kernel_size=3 --nonlin=\"GELU\" --init_state=\"point\" --padding_mode=\"zeros\" --dt=0.01 --p_drop=0.0 --rollout_steps=512 --bptt_steps=16 --pool_size=1024 --target_img_path=None --prompt=\"many molecules and chemicals randomly floating around;chemicals coming together to form a cell;a single cell moving around;a cell reproducing to create more cells;many cells moving around;a bustling diverse ecosystem of cells floating around;many cells coming together to form a bigger cell;bigger cells chasing smaller cells in predator-prey like dynamics\" --n_augs=1 --augs=\"crop+pers\" --clip_model=\"clip-vit-base-patch32\" --coef_alignment=1.0 --coef_softmax=1.800193332891544e-05  --coef_temporal=0.0 --bs=8 --lr=0.0003 --n_iters=160000 --clip_grad_norm=1.0 \n",
      "...\n",
      "Logging to /home/akarshkumar0101/nca-alife-data/logs/2024_06_28_22_20_43\n"
     ]
    }
   ],
   "source": [
    "header = '\\n'.join(['#!/bin/bash', 'source ~/.virtualenvs/nca-alife-torch/bin/activate', 'cd ~/nca-alife/src'])\n",
    "gpus = [4, 5, 6, 7]\n",
    "log_dir = os.path.expanduser(f'~/nca-alife-data/logs/{time.strftime(\"%Y_%m_%d_%H_%M_%S\")}')\n",
    "exp_sh = f'./src/experiments/main.sh'\n",
    "with open(exp_sh, 'r') as f:\n",
    "    commands = [c for c in f.read().split('\\n') if c]\n",
    "print(f\"{exp_sh} has {len(commands)} commands: \")\n",
    "print('\\n'.join(commands[:3]), '\\n...')\n",
    "print(f\"Logging to {log_dir}\")"
   ]
  },
  {
   "cell_type": "code",
   "execution_count": 11,
   "id": "606a1e32-67e7-4c6c-b426-614ccd1651c4",
   "metadata": {},
   "outputs": [
    {
     "name": "stdout",
     "output_type": "stream",
     "text": [
      "/home/akarshkumar0101/nca-alife-data/logs/2024_06_28_22_20_43\n"
     ]
    }
   ],
   "source": [
    "print(log_dir)"
   ]
  },
  {
   "cell_type": "code",
   "execution_count": null,
   "id": "5a6eb46d-b180-47c0-9e47-045a0f8f9dde",
   "metadata": {},
   "outputs": [],
   "source": []
  },
  {
   "cell_type": "code",
   "execution_count": 12,
   "id": "ccbc7bd83eb023cb",
   "metadata": {
    "ExecuteTime": {
     "end_time": "2024-06-05T16:32:47.309708Z",
     "start_time": "2024-06-05T16:32:47.171678Z"
    }
   },
   "outputs": [],
   "source": [
    "!mkdir -p {log_dir}\n",
    "!rm {os.path.dirname(log_dir)+'/latest'}\n",
    "!ln -sf {log_dir} {os.path.dirname(log_dir)+'/latest'}\n",
    "for i_gpu, gpu in enumerate(gpus):\n",
    "    job_ids = np.arange(len(commands))[i_gpu::len(gpus)]\n",
    "    cvd = f'export CUDA_VISIBLE_DEVICES={gpu}'\n",
    "    txt = f\"{header}\\n{cvd}\\n\\n\"\n",
    "    for job_id in job_ids:\n",
    "        txt += f\"touch {log_dir}/job_{job_id:05d}.status\\n\"\n",
    "        txt += f\"{commands[job_id]} &> {log_dir}/job_{job_id:05d}.out\\n\"\n",
    "        txt += f\"echo $? > {log_dir}/job_{job_id:05d}.status\\n\\n\"\n",
    "    with open(f\"{log_dir}/gpu_{gpu}.sh\", \"w\") as f:\n",
    "        f.write(txt)"
   ]
  },
  {
   "cell_type": "code",
   "execution_count": 13,
   "id": "fd11b06be751b124",
   "metadata": {
    "ExecuteTime": {
     "end_time": "2024-06-05T16:32:47.659970Z",
     "start_time": "2024-06-05T16:32:47.641164Z"
    }
   },
   "outputs": [
    {
     "name": "stdout",
     "output_type": "stream",
     "text": [
      "#!/bin/bash\n",
      "source ~/.virtualenvs/nca-alife-torch/bin/activate\n",
      "cd ~/nca-alife/src\n",
      "export CUDA_VISIBLE_DEVICES=7\n",
      "\n",
      "touch /home/akarshkumar0101/nca-alife-data/logs/2024_06_28_22_20_43/job_00003.status\n",
      "python nca_multi_prompt_clip.py --seed=0 --save_dir=\"/home/akarshkumar0101/nca-alife-data/nca_multi_prompt_clip/cell_prompt_new_cs_seed=0_i1=3\"  --dtype=\"float32\" --device=\"cuda:0\" --img_size=64 --n_layers=2 --d_state=16 --d_embd=32 --locality=1 --kernel_size=3 --nonlin=\"GELU\" --init_state=\"point\" --padding_mode=\"zeros\" --dt=0.01 --p_drop=0.0 --rollout_steps=512 --bptt_steps=16 --pool_size=1024 --target_img_path=None --prompt=\"many molecules and chemicals randomly floating around;chemicals coming together to form a cell;a single cell moving around;a cell reproducing to create more cells;many cells moving around;a bustling diverse ecosystem of cells floating around;many cells coming together to form a bigger cell;bigger cells chasing smaller cells in predator-prey like dynamics\" --n_augs=1 --augs=\"crop+pers\" --clip_model=\"clip-vit-base-patch32\" --coef_alignment=1.0 --coef_softmax=2.4153425010859464e-05 --coef_temporal=0.0 --bs=8 --lr=0.0003 --n_iters=160000 --clip_grad_norm=1.0 &> /home/akarshkumar0101/nca-alife-data/logs/2024_06_28_22_20_43/job_00003.out\n",
      "echo $? > /home/akarshkumar0101/nca-alife-data/logs/2024_06_28_22_20_43/job_00003.status\n",
      "\n",
      "touch /home/akarshkumar0101/nca-alife-data/logs/2024_06_28_22_20_43/job_00007.status\n",
      "python nca_multi_prompt_clip.py --seed=0 --save_dir=\"/home/akarshkumar0101/nca-alife-data/nca_multi_prompt_clip/cell_prompt_new_cs_seed=0_i1=7\"  --dtype=\"float32\" --device=\"cuda:0\" --img_size=64 --n_layers=2 --d_state=16 --d_embd=32 --locality=1 --kernel_size=3 --nonlin=\"GELU\" --init_state=\"point\" --padding_mode=\"zeros\" --dt=0.01 --p_drop=0.0 --rollout_steps=512 --bptt_steps=16 --pool_size=1024 --target_img_path=None --prompt=\"many molecules and chemicals randomly floating around;chemicals coming together to form a cell;a single cell moving around;a cell reproducing to create more cells;many cells moving around;a bustling diverse ecosystem of cells floating around;many cells coming together to form a bigger cell;bigger cells chasing smaller cells in predator-prey like dynamics\" --n_augs=1 --augs=\"crop+pers\" --clip_model=\"clip-vit-base-patch32\" --coef_alignment=1.0 --coef_softmax=7.827390868337487e-05  --coef_temporal=0.0 --bs=8 --lr=0.0003 --n_iters=160000 --clip_grad_norm=1.0 &> /home/akarshkumar0101/nca-alife-data/logs/2024_06_28_22_20_43/job_00007.out\n",
      "echo $? > /home/akarshkumar0101/nca-alife-data/logs/2024_06_28_22_20_43/job_00007.status\n"
     ]
    }
   ],
   "source": [
    "print('\\n'.join(txt.split('\\n')[:12]))"
   ]
  },
  {
   "cell_type": "code",
   "execution_count": 14,
   "id": "e5ce96252f75f2f9",
   "metadata": {
    "ExecuteTime": {
     "end_time": "2024-06-05T16:35:49.567207Z",
     "start_time": "2024-06-05T16:35:49.546023Z"
    }
   },
   "outputs": [
    {
     "name": "stdout",
     "output_type": "stream",
     "text": [
      "bash /home/akarshkumar0101/nca-alife-data/logs/2024_06_28_22_20_43/gpu_4.sh\n",
      "bash /home/akarshkumar0101/nca-alife-data/logs/2024_06_28_22_20_43/gpu_5.sh\n",
      "bash /home/akarshkumar0101/nca-alife-data/logs/2024_06_28_22_20_43/gpu_6.sh\n",
      "bash /home/akarshkumar0101/nca-alife-data/logs/2024_06_28_22_20_43/gpu_7.sh\n"
     ]
    }
   ],
   "source": [
    "for i_gpu, gpu in enumerate(gpus):\n",
    "    command = f\"bash {log_dir}/gpu_{gpu}.sh\"\n",
    "    print(command)\n",
    "    process = subprocess.Popen(command, shell=True)"
   ]
  },
  {
   "cell_type": "code",
   "execution_count": null,
   "id": "5f6328aa-5b2e-4739-b80d-2ebc1761740a",
   "metadata": {},
   "outputs": [],
   "source": []
  },
  {
   "cell_type": "markdown",
   "id": "233f54f7c2310a69",
   "metadata": {},
   "source": [
    "# Track Experiment"
   ]
  },
  {
   "cell_type": "code",
   "execution_count": 20,
   "id": "cd7c5f40-2da8-4950-b103-6edb425db165",
   "metadata": {},
   "outputs": [],
   "source": [
    "a = []\n",
    "for job_id in range(len(commands)):\n",
    "    try:\n",
    "        with open(f'{log_dir}/job_{job_id:05d}.status', 'r') as f:\n",
    "            a.append(int(f.read().strip()))\n",
    "    except Exception as e:\n",
    "        print(job_id, e)\n",
    "        a.append(-1)\n",
    "a = np.array(a)"
   ]
  },
  {
   "cell_type": "code",
   "execution_count": 21,
   "id": "959c4b02-5227-4912-b664-bf3027d8580c",
   "metadata": {},
   "outputs": [
    {
     "data": {
      "text/plain": [
       "array([0, 0, 0, 0, 0, 0, 0, 0, 0, 0, 0, 0, 0, 0, 0, 0, 0, 0, 0, 0, 0, 0,\n",
       "       0, 0, 0, 0, 0, 0, 0, 0, 0, 0, 0, 0, 0, 0])"
      ]
     },
     "execution_count": 21,
     "metadata": {},
     "output_type": "execute_result"
    }
   ],
   "source": [
    "a"
   ]
  },
  {
   "cell_type": "code",
   "execution_count": 22,
   "id": "ce973c28-9800-48b2-8d56-3b292e8e3705",
   "metadata": {},
   "outputs": [
    {
     "data": {
      "text/plain": [
       "0.0"
      ]
     },
     "execution_count": 22,
     "metadata": {},
     "output_type": "execute_result"
    }
   ],
   "source": [
    "np.array(a).mean()"
   ]
  },
  {
   "cell_type": "code",
   "execution_count": 23,
   "id": "32cc6659-39ec-4529-ba77-ecf8fc243a5f",
   "metadata": {},
   "outputs": [
    {
     "data": {
      "text/plain": [
       "36"
      ]
     },
     "execution_count": 23,
     "metadata": {},
     "output_type": "execute_result"
    }
   ],
   "source": [
    "len(commands)"
   ]
  },
  {
   "cell_type": "code",
   "execution_count": 9,
   "id": "b87eb0da-3b7d-41c1-b656-7810bf958163",
   "metadata": {},
   "outputs": [
    {
     "name": "stdout",
     "output_type": "stream",
     "text": [
      "0\n",
      "0%|          | 684/160000 [00:24<1:28:29, 30.01it/s, loss=-0.27]\n",
      "1\n",
      "0%|          | 611/160000 [00:25<1:45:44, 25.12it/s, loss=-0.268]\n",
      "2\n",
      "0%|          | 669/160000 [00:24<1:29:14, 29.75it/s, loss=-0.27]\n",
      "3\n",
      "0%|          | 601/160000 [00:25<1:40:53, 26.33it/s, loss=-0.268]\n",
      "4\n",
      "[Errno 2] No such file or directory: '/home/akarshkumar0101/nca-alife-data/logs/2024_06_28_22_06_37/job_00004.out'\n",
      "5\n",
      "[Errno 2] No such file or directory: '/home/akarshkumar0101/nca-alife-data/logs/2024_06_28_22_06_37/job_00005.out'\n",
      "6\n",
      "[Errno 2] No such file or directory: '/home/akarshkumar0101/nca-alife-data/logs/2024_06_28_22_06_37/job_00006.out'\n",
      "7\n",
      "[Errno 2] No such file or directory: '/home/akarshkumar0101/nca-alife-data/logs/2024_06_28_22_06_37/job_00007.out'\n",
      "8\n",
      "[Errno 2] No such file or directory: '/home/akarshkumar0101/nca-alife-data/logs/2024_06_28_22_06_37/job_00008.out'\n",
      "9\n",
      "[Errno 2] No such file or directory: '/home/akarshkumar0101/nca-alife-data/logs/2024_06_28_22_06_37/job_00009.out'\n",
      "10\n",
      "[Errno 2] No such file or directory: '/home/akarshkumar0101/nca-alife-data/logs/2024_06_28_22_06_37/job_00010.out'\n",
      "11\n",
      "[Errno 2] No such file or directory: '/home/akarshkumar0101/nca-alife-data/logs/2024_06_28_22_06_37/job_00011.out'\n",
      "12\n",
      "[Errno 2] No such file or directory: '/home/akarshkumar0101/nca-alife-data/logs/2024_06_28_22_06_37/job_00012.out'\n",
      "13\n",
      "[Errno 2] No such file or directory: '/home/akarshkumar0101/nca-alife-data/logs/2024_06_28_22_06_37/job_00013.out'\n",
      "14\n",
      "[Errno 2] No such file or directory: '/home/akarshkumar0101/nca-alife-data/logs/2024_06_28_22_06_37/job_00014.out'\n",
      "15\n",
      "[Errno 2] No such file or directory: '/home/akarshkumar0101/nca-alife-data/logs/2024_06_28_22_06_37/job_00015.out'\n",
      "16\n",
      "[Errno 2] No such file or directory: '/home/akarshkumar0101/nca-alife-data/logs/2024_06_28_22_06_37/job_00016.out'\n",
      "17\n",
      "[Errno 2] No such file or directory: '/home/akarshkumar0101/nca-alife-data/logs/2024_06_28_22_06_37/job_00017.out'\n",
      "18\n",
      "[Errno 2] No such file or directory: '/home/akarshkumar0101/nca-alife-data/logs/2024_06_28_22_06_37/job_00018.out'\n",
      "19\n",
      "[Errno 2] No such file or directory: '/home/akarshkumar0101/nca-alife-data/logs/2024_06_28_22_06_37/job_00019.out'\n",
      "20\n",
      "[Errno 2] No such file or directory: '/home/akarshkumar0101/nca-alife-data/logs/2024_06_28_22_06_37/job_00020.out'\n",
      "21\n",
      "[Errno 2] No such file or directory: '/home/akarshkumar0101/nca-alife-data/logs/2024_06_28_22_06_37/job_00021.out'\n",
      "22\n",
      "[Errno 2] No such file or directory: '/home/akarshkumar0101/nca-alife-data/logs/2024_06_28_22_06_37/job_00022.out'\n",
      "23\n",
      "[Errno 2] No such file or directory: '/home/akarshkumar0101/nca-alife-data/logs/2024_06_28_22_06_37/job_00023.out'\n",
      "24\n",
      "[Errno 2] No such file or directory: '/home/akarshkumar0101/nca-alife-data/logs/2024_06_28_22_06_37/job_00024.out'\n",
      "25\n",
      "[Errno 2] No such file or directory: '/home/akarshkumar0101/nca-alife-data/logs/2024_06_28_22_06_37/job_00025.out'\n",
      "26\n",
      "[Errno 2] No such file or directory: '/home/akarshkumar0101/nca-alife-data/logs/2024_06_28_22_06_37/job_00026.out'\n",
      "27\n",
      "[Errno 2] No such file or directory: '/home/akarshkumar0101/nca-alife-data/logs/2024_06_28_22_06_37/job_00027.out'\n",
      "28\n",
      "[Errno 2] No such file or directory: '/home/akarshkumar0101/nca-alife-data/logs/2024_06_28_22_06_37/job_00028.out'\n",
      "29\n",
      "[Errno 2] No such file or directory: '/home/akarshkumar0101/nca-alife-data/logs/2024_06_28_22_06_37/job_00029.out'\n",
      "30\n",
      "[Errno 2] No such file or directory: '/home/akarshkumar0101/nca-alife-data/logs/2024_06_28_22_06_37/job_00030.out'\n",
      "31\n",
      "[Errno 2] No such file or directory: '/home/akarshkumar0101/nca-alife-data/logs/2024_06_28_22_06_37/job_00031.out'\n"
     ]
    },
    {
     "name": "stderr",
     "output_type": "stream",
     "text": [
      "Terminated\n",
      "Terminated\n",
      "Terminated\n",
      "Terminated\n"
     ]
    }
   ],
   "source": [
    "for job_id in range(len(commands)):\n",
    "    print(job_id)\n",
    "    try:\n",
    "        with open(f\"{log_dir}/job_{job_id:05d}.out\", \"r\") as f:\n",
    "            print(f.readlines()[-1].strip())\n",
    "    except Exception as e:\n",
    "        print(e)"
   ]
  },
  {
   "cell_type": "code",
   "execution_count": null,
   "id": "1aaff031-4e9e-4916-a9a7-1e5ec8bae570",
   "metadata": {},
   "outputs": [],
   "source": []
  },
  {
   "cell_type": "code",
   "execution_count": null,
   "id": "c75eacd4eb3f534d",
   "metadata": {},
   "outputs": [],
   "source": []
  },
  {
   "cell_type": "code",
   "execution_count": null,
   "id": "d2d8e17e3abe3689",
   "metadata": {},
   "outputs": [],
   "source": []
  }
 ],
 "metadata": {
  "kernelspec": {
   "display_name": "Python 3 (ipykernel)",
   "language": "python",
   "name": "python3"
  },
  "language_info": {
   "codemirror_mode": {
    "name": "ipython",
    "version": 3
   },
   "file_extension": ".py",
   "mimetype": "text/x-python",
   "name": "python",
   "nbconvert_exporter": "python",
   "pygments_lexer": "ipython3",
   "version": "3.12.3"
  }
 },
 "nbformat": 4,
 "nbformat_minor": 5
}

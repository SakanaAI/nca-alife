{
 "cells": [
  {
   "cell_type": "code",
   "execution_count": 1,
   "id": "cdbc3cdc-c2a9-4685-affb-3f5271d95834",
   "metadata": {},
   "outputs": [
    {
     "name": "stdout",
     "output_type": "stream",
     "text": [
      "fish-gcp005\n",
      "/home/akarshkumar0101/nca-alife/src\n",
      "/home/akarshkumar0101/miniconda3/envs/nca-alife-jax/bin/python\n"
     ]
    }
   ],
   "source": [
    "%load_ext autoreload\n",
    "%autoreload 2\n",
    "!hostname\n",
    "!pwd\n",
    "import os, sys\n",
    "print(sys.executable)\n",
    "os.environ['CUDA_VISIBLE_DEVICES'] = \"4\"\n",
    "os.environ['XLA_PYTHON_CLIENT_PREALLOCATE'] = 'false'"
   ]
  },
  {
   "cell_type": "code",
   "execution_count": 2,
   "id": "6849b9df-c1d6-4671-94ce-9a897866ed76",
   "metadata": {},
   "outputs": [],
   "source": [
    "import os, sys, glob, pickle\n",
    "from functools import partial\n",
    "\n",
    "import numpy as np\n",
    "import pandas as pd\n",
    "import xarray as xr\n",
    "import matplotlib.pyplot as plt\n",
    "import seaborn as sns\n",
    "sns.set_theme()\n",
    "\n",
    "from tqdm.auto import tqdm\n",
    "from einops import rearrange, reduce, repeat"
   ]
  },
  {
   "cell_type": "code",
   "execution_count": 3,
   "id": "881230ad-4a81-4c5f-814e-91e19d08fa44",
   "metadata": {},
   "outputs": [],
   "source": [
    "import evosax\n",
    "import jax\n",
    "import jax.numpy as jnp\n",
    "from jax.random import split"
   ]
  },
  {
   "cell_type": "code",
   "execution_count": 4,
   "id": "243d40d0-05ba-4c85-9adb-4f2b7c642b95",
   "metadata": {},
   "outputs": [
    {
     "name": "stderr",
     "output_type": "stream",
     "text": [
      "2024-08-09 08:10:46.013613: W external/xla/xla/service/gpu/nvptx_compiler.cc:765] The NVIDIA driver's CUDA version is 12.2 which is older than the ptxas CUDA version (12.5.40). Because the driver is older than the ptxas version, XLA is disabling parallel compilation, which may slow down compilation. You should update your NVIDIA driver or use the NVIDIA-provided CUDA forward compatibility packages.\n"
     ]
    },
    {
     "data": {
      "text/plain": [
       "(Array([0.00258982], dtype=float32), Array(0.00258982, dtype=float32))"
      ]
     },
     "execution_count": 4,
     "metadata": {},
     "output_type": "execute_result"
    }
   ],
   "source": [
    "rng = jax.random.PRNGKey(0)\n",
    "strategy = evosax.RandomSearch(popsize=2, num_dims=1)\n",
    "es_params = strategy.default_params\n",
    "state = strategy.initialize(rng, es_params)\n",
    "\n",
    "for _ in range(1000):\n",
    "    rng, _rng = split(rng)\n",
    "    x, state = strategy.ask(_rng, state, es_params)\n",
    "    fitness = x.mean(axis=-1)\n",
    "    state = strategy.tell(x, fitness, state, es_params)\n",
    "\n",
    "# Get best overall population member & its fitness\n",
    "state.best_member, state.best_fitness"
   ]
  },
  {
   "cell_type": "code",
   "execution_count": 5,
   "id": "a6c8a0b7-8300-49c3-8f0e-42ffab664b6c",
   "metadata": {},
   "outputs": [
    {
     "data": {
      "text/plain": [
       "EvoState(mean=Array([0.00258982], dtype=float32), best_member=Array([0.00258982], dtype=float32), best_fitness=Array(0.00258982, dtype=float32), gen_counter=Array(1000, dtype=int32, weak_type=True))"
      ]
     },
     "execution_count": 5,
     "metadata": {},
     "output_type": "execute_result"
    }
   ],
   "source": [
    "state"
   ]
  },
  {
   "cell_type": "code",
   "execution_count": null,
   "id": "a8ab4608-0e3c-4350-8416-766a73e57af5",
   "metadata": {},
   "outputs": [],
   "source": []
  },
  {
   "cell_type": "code",
   "execution_count": 6,
   "id": "d7ce3dc4-1e58-456a-865c-00c0eee0c835",
   "metadata": {},
   "outputs": [],
   "source": [
    "import imageio\n",
    "resize_fn = partial(jax.image.resize, shape=(512, 512, 3), method='nearest')"
   ]
  },
  {
   "cell_type": "code",
   "execution_count": 7,
   "id": "6ea7bb76-9575-41e9-80c0-448369550033",
   "metadata": {},
   "outputs": [],
   "source": [
    "import flax.linen as nn\n",
    "class DNCA(nn.Module):\n",
    "    d_state: int = 16\n",
    "    @nn.compact\n",
    "    def __call__(self, x):\n",
    "        x = jnp.pad(x, pad_width=1, mode='wrap')\n",
    "        x = nn.Conv(features=48, kernel_size=(3, 3), padding=\"VALID\")(x)\n",
    "        x = nn.Conv(features=128, kernel_size=(1, 1))(x)\n",
    "        x = nn.relu(x)\n",
    "        x = nn.Conv(features=self.d_state, kernel_size=(1, 1))(x)\n",
    "        return x\n",
    "\n",
    "dnca = DNCA(d_state=16)"
   ]
  },
  {
   "cell_type": "code",
   "execution_count": 8,
   "id": "5b90625b-15aa-45fb-8bc6-242dd30fd47e",
   "metadata": {},
   "outputs": [],
   "source": [
    "params = dnca.init(_rng, jnp.zeros((8, 8, 16)))"
   ]
  },
  {
   "cell_type": "code",
   "execution_count": 10,
   "id": "e283a393-23d6-42f7-a71a-ce8dcb70b74a",
   "metadata": {},
   "outputs": [],
   "source": [
    "rng = jax.random.PRNGKey(0)\n",
    "\n",
    "rng, _rng = split(rng)\n",
    "color_map = jax.random.uniform(_rng, (16, 3))\n",
    "\n",
    "rng, _rng = split(rng)\n",
    "# state = jax.random.randint(_rng, (64, 64), minval=0, maxval=16)\n",
    "state = jax.random.categorical(_rng, repeat(jax.nn.one_hot(0, 16)*6, \"D -> H W D\", H=64, W=64))\n",
    "\n",
    "def step_dnca(state, _rng):\n",
    "    state = jax.nn.one_hot(state, 16)\n",
    "    logits = dnca.apply(params, state)\n",
    "    state = jax.random.categorical(_rng, logits+state*10.)\n",
    "    return state, state\n",
    "\n",
    "\n",
    "state, statevid = jax.lax.scan(step_dnca, state, split(rng, 1000))\n",
    "\n",
    "vid = (color_map[statevid]*255).astype(jnp.uint8)\n",
    "vid = jax.vmap(resize_fn)(vid)"
   ]
  },
  {
   "cell_type": "code",
   "execution_count": null,
   "id": "236b9607-39fc-4d5a-a433-bae60a05bd28",
   "metadata": {},
   "outputs": [],
   "source": []
  },
  {
   "cell_type": "code",
   "execution_count": null,
   "id": "e96fc1e9-c326-4e27-8a5b-bf7350afa0e4",
   "metadata": {},
   "outputs": [],
   "source": []
  },
  {
   "cell_type": "code",
   "execution_count": null,
   "id": "a907c4f9-3b51-4e66-9a9b-a61d8c99c5fc",
   "metadata": {},
   "outputs": [],
   "source": []
  },
  {
   "cell_type": "code",
   "execution_count": 11,
   "id": "2393da2e-2f38-437b-8457-f6e91cf6844a",
   "metadata": {},
   "outputs": [],
   "source": [
    "imageio.mimwrite(f'./temp/vid.gif', np.array(vid), fps=20)"
   ]
  },
  {
   "cell_type": "code",
   "execution_count": null,
   "id": "641110d3-4d0c-4013-9867-8e8a804e5b54",
   "metadata": {},
   "outputs": [],
   "source": []
  },
  {
   "cell_type": "code",
   "execution_count": null,
   "id": "e1051efd-441d-49a5-8cba-bc6baff55ae9",
   "metadata": {},
   "outputs": [],
   "source": []
  },
  {
   "cell_type": "code",
   "execution_count": 38,
   "id": "29d6c306-6689-41f1-8e41-86b646e4f226",
   "metadata": {},
   "outputs": [],
   "source": []
  },
  {
   "cell_type": "code",
   "execution_count": 42,
   "id": "952c05dc-e217-4e3e-a4fa-6d78fd908439",
   "metadata": {},
   "outputs": [
    {
     "data": {
      "text/plain": [
       "(262144, 18)"
      ]
     },
     "execution_count": 42,
     "metadata": {},
     "output_type": "execute_result"
    }
   ],
   "source": []
  },
  {
   "cell_type": "code",
   "execution_count": 40,
   "id": "f02ad8b9-c5da-452e-a7e8-15f0c405a4ad",
   "metadata": {},
   "outputs": [
    {
     "data": {
      "text/plain": [
       "262144"
      ]
     },
     "execution_count": 40,
     "metadata": {},
     "output_type": "execute_result"
    }
   ],
   "source": [
    "2**18"
   ]
  },
  {
   "cell_type": "code",
   "execution_count": 41,
   "id": "d44ed9e8-3de2-488b-92ad-05535a84d9d9",
   "metadata": {},
   "outputs": [
    {
     "data": {
      "text/plain": [
       "4"
      ]
     },
     "execution_count": 41,
     "metadata": {},
     "output_type": "execute_result"
    }
   ],
   "source": [
    "2**2"
   ]
  },
  {
   "cell_type": "code",
   "execution_count": null,
   "id": "9852f9b8-4e52-4277-b60c-477c15020609",
   "metadata": {},
   "outputs": [],
   "source": []
  },
  {
   "cell_type": "code",
   "execution_count": null,
   "id": "c934a195-7fcc-40a6-80f8-5b8564a5a8b6",
   "metadata": {},
   "outputs": [],
   "source": []
  },
  {
   "cell_type": "code",
   "execution_count": null,
   "id": "71f40370-2733-4702-8c52-56cdd74da70e",
   "metadata": {},
   "outputs": [],
   "source": []
  }
 ],
 "metadata": {
  "kernelspec": {
   "display_name": "Python 3 (ipykernel)",
   "language": "python",
   "name": "python3"
  },
  "language_info": {
   "codemirror_mode": {
    "name": "ipython",
    "version": 3
   },
   "file_extension": ".py",
   "mimetype": "text/x-python",
   "name": "python",
   "nbconvert_exporter": "python",
   "pygments_lexer": "ipython3",
   "version": "3.12.3"
  }
 },
 "nbformat": 4,
 "nbformat_minor": 5
}

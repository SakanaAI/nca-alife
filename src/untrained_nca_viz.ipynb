{
 "cells": [
  {
   "cell_type": "code",
   "execution_count": 1,
   "id": "1272ffe1-160c-4509-997a-ee482e97fdc3",
   "metadata": {},
   "outputs": [
    {
     "name": "stdout",
     "output_type": "stream",
     "text": [
      "fish-gcp005\n",
      "/home/akarshkumar0101/nca-alife/src\n",
      "/home/akarshkumar0101/.virtualenvs/nca-alife-clip/bin/python3\n"
     ]
    }
   ],
   "source": [
    "%load_ext autoreload\n",
    "%autoreload 2\n",
    "!hostname\n",
    "!pwd\n",
    "import os, sys\n",
    "print(sys.executable)\n",
    "os.environ['CUDA_VISIBLE_DEVICES'] = \"7\""
   ]
  },
  {
   "cell_type": "code",
   "execution_count": 2,
   "id": "9952ffae-00f1-4167-95c6-b50b724f803f",
   "metadata": {},
   "outputs": [],
   "source": [
    "import os, sys, glob, pickle\n",
    "from functools import partial\n",
    "\n",
    "import numpy as np\n",
    "import pandas as pd\n",
    "import xarray as xr\n",
    "import matplotlib.pyplot as plt\n",
    "import seaborn as sns\n",
    "# sns.set_theme()\n",
    "\n",
    "from tqdm.auto import tqdm\n",
    "from einops import rearrange, reduce, repeat"
   ]
  },
  {
   "cell_type": "code",
   "execution_count": 3,
   "id": "f497eb23-34dd-44ea-b561-1650adbb787c",
   "metadata": {},
   "outputs": [],
   "source": [
    "import jax\n",
    "import jax.numpy as jnp\n",
    "from jax.random import split\n",
    "\n",
    "import flax\n",
    "import flax.linen as nn\n",
    "from flax.training.train_state import TrainState\n",
    "\n",
    "import optax"
   ]
  },
  {
   "cell_type": "code",
   "execution_count": 4,
   "id": "5f401b2c-b5c9-4d5c-abac-93d980c44f03",
   "metadata": {},
   "outputs": [],
   "source": [
    "import util\n",
    "import untrained_nca"
   ]
  },
  {
   "cell_type": "code",
   "execution_count": 77,
   "id": "e23d56f2-c25e-4ecc-9acc-18eb82bebe68",
   "metadata": {},
   "outputs": [],
   "source": [
    "import imageio\n",
    "def save_video(save_dir, name, video, fps=100):\n",
    "    writer = imageio.get_writer(f'{save_dir}/{name}.mp4', fps=fps)\n",
    "    for frame in video:\n",
    "        writer.append_data(frame)\n",
    "    writer.close()"
   ]
  },
  {
   "cell_type": "code",
   "execution_count": 14,
   "id": "e7ba2e9b-1071-480e-b67e-6c8c2ad7f9d1",
   "metadata": {},
   "outputs": [],
   "source": [
    "data_dir = \"/home/akarshkumar0101/nca-alife-data/untrained/d_embd=08/\""
   ]
  },
  {
   "cell_type": "code",
   "execution_count": 301,
   "id": "0bd5fd9f-d875-4f80-a72e-b308be8ba88a",
   "metadata": {},
   "outputs": [
    {
     "name": "stdout",
     "output_type": "stream",
     "text": [
      "Namespace(seed=0, save_dir='/home/akarshkumar0101/nca-alife-data/untrained/d_embd=08', height=256, width=256, dt=0.01, p_drop=0.0, init_state='randn', n_layers=2, d_state=16, d_embd=8, kernel_size=3, nonlin='gelu', n_steps=10000000000, n_steps_chunk=100, bs=1)\n"
     ]
    }
   ],
   "source": [
    "args = untrained_nca.parser.parse_args('')\n",
    "for k, v in util.load_json(data_dir, \"args\").items():\n",
    "    setattr(args, k, v)\n",
    "args.n_steps_chunk = 100\n",
    "# args.height, args.width = 64, 64\n",
    "# args.d_state = 4\n",
    "print(args)"
   ]
  },
  {
   "cell_type": "code",
   "execution_count": 302,
   "id": "706d875e-8419-4d86-886f-3e2e9adc0ab7",
   "metadata": {},
   "outputs": [],
   "source": [
    "nca = untrained_nca.NCA(n_layers=args.n_layers, d_state=args.d_state, d_embd=args.d_embd, kernel_size=args.kernel_size,\n",
    "                 nonlin=args.nonlin)"
   ]
  },
  {
   "cell_type": "code",
   "execution_count": 317,
   "id": "dbdd3d4a-a83d-45a6-9553-6a083d2cc368",
   "metadata": {},
   "outputs": [],
   "source": [
    "p_drop, dt, H, W = args.p_drop, args.dt, args.height, args.width\n",
    "def forward_step(state, _rng):\n",
    "    H, W, D = state.shape\n",
    "    state = (state-state.mean(axis=(0, 1)))/state.std(axis=(0, 1))\n",
    "    dstate = jax.jit(nca.apply)(params, state)\n",
    "    # print(f\"{state.mean().item(): 0.3f}, {state.std().item(): 0.3f}\")\n",
    "    next_state = dstate.clip(-5, 5)\n",
    "    next_state = (next_state-next_state.mean(axis=(0, 1)))/next_state.std(axis=(0, 1))\n",
    "    print(f\"{next_state.mean().item(): 0.3f}, {next_state.std().item(): 0.3f}\")\n",
    "    return next_state, state\n",
    "\n",
    "def forward_chunk(state, _rng):\n",
    "    return jax.lax.scan(forward_step, state, split(_rng, args.n_steps_chunk))\n",
    "batch_forward_chunk = jax.jit(jax.vmap(forward_chunk))"
   ]
  },
  {
   "cell_type": "code",
   "execution_count": 335,
   "id": "72ee7aad-315a-4506-b8e3-d0bb6f1fa1c0",
   "metadata": {},
   "outputs": [],
   "source": [
    "rng = jax.random.PRNGKey(0)"
   ]
  },
  {
   "cell_type": "code",
   "execution_count": 344,
   "id": "60018e51-4e42-489e-8c6b-cf5ef76a77d7",
   "metadata": {},
   "outputs": [],
   "source": [
    "params = util.load_pkl(data_dir, \"params\")\n",
    "state = util.load_pkl(data_dir, \"state_00400000000\")\n",
    "# rng, _rng = split(rng)\n",
    "# state = jax.random.normal(_rng, (1, H, W, args.d_state))"
   ]
  },
  {
   "cell_type": "code",
   "execution_count": 347,
   "id": "4ab83bea-02d9-4db6-8fe0-382993940b10",
   "metadata": {},
   "outputs": [
    {
     "data": {
      "text/plain": [
       "array([0.0625 , 0.0884 , 0.0493 , 0.0492 , 0.03125, 0.0068 , 0.03128,\n",
       "       0.01572, 0.0221 , 0.02458, 0.0246 , 0.125  , 0.00829, 0.0625 ,\n",
       "       0.0511 , 0.0191 ], dtype=float16)"
      ]
     },
     "execution_count": 347,
     "metadata": {},
     "output_type": "execute_result"
    }
   ],
   "source": [
    "state[0].std(axis=(0, 1))"
   ]
  },
  {
   "cell_type": "code",
   "execution_count": 380,
   "id": "8e43d32f-8320-4c60-b7a8-6882b0740044",
   "metadata": {},
   "outputs": [],
   "source": [
    "a = state[0,:, :, :].flatten()"
   ]
  },
  {
   "cell_type": "code",
   "execution_count": 381,
   "id": "79683297-b223-469e-ac72-56343ec2a73e",
   "metadata": {},
   "outputs": [
    {
     "data": {
      "text/plain": [
       "0.0562"
      ]
     },
     "execution_count": 381,
     "metadata": {},
     "output_type": "execute_result"
    }
   ],
   "source": [
    "((a-a.mean())**2).mean()"
   ]
  },
  {
   "cell_type": "code",
   "execution_count": 385,
   "id": "4f58ee21-fbe8-40bd-b1c6-0521dc49f8ce",
   "metadata": {},
   "outputs": [
    {
     "data": {
      "text/plain": [
       "(-0.483, 0.6953)"
      ]
     },
     "execution_count": 385,
     "metadata": {},
     "output_type": "execute_result"
    }
   ],
   "source": [
    "a.min(), a.max()"
   ]
  },
  {
   "cell_type": "code",
   "execution_count": 387,
   "id": "53001a30-108d-4c60-aa4a-aec21bc18da6",
   "metadata": {},
   "outputs": [
    {
     "data": {
      "text/plain": [
       "0.23709019"
      ]
     },
     "execution_count": 387,
     "metadata": {},
     "output_type": "execute_result"
    }
   ],
   "source": [
    "state.astype(jnp.float32).std()"
   ]
  },
  {
   "cell_type": "code",
   "execution_count": null,
   "id": "64b5f135-1328-4386-a404-ae84e87353cc",
   "metadata": {},
   "outputs": [],
   "source": []
  },
  {
   "cell_type": "code",
   "execution_count": null,
   "id": "42a55bc7-fe13-4394-b198-18741160f28f",
   "metadata": {},
   "outputs": [],
   "source": []
  },
  {
   "cell_type": "code",
   "execution_count": null,
   "id": "e2381f34-9142-4153-92be-30f8a519c0ae",
   "metadata": {},
   "outputs": [],
   "source": []
  },
  {
   "cell_type": "code",
   "execution_count": 358,
   "id": "86eac82a-0352-49b9-b6c8-2f2759a4c865",
   "metadata": {},
   "outputs": [
    {
     "data": {
      "text/plain": [
       "0.007465"
      ]
     },
     "execution_count": 358,
     "metadata": {},
     "output_type": "execute_result"
    }
   ],
   "source": [
    "state[0, :, :, 3].std()"
   ]
  },
  {
   "cell_type": "code",
   "execution_count": null,
   "id": "b78b414c-f62c-454d-bdcd-b5221c2ff883",
   "metadata": {},
   "outputs": [],
   "source": []
  },
  {
   "cell_type": "code",
   "execution_count": null,
   "id": "5c4beda1-4f82-41a9-b2fa-21a4f1ad5a6d",
   "metadata": {},
   "outputs": [],
   "source": []
  },
  {
   "cell_type": "code",
   "execution_count": null,
   "id": "41b6b49c-74a0-4d9b-9943-0387c0c46d8c",
   "metadata": {},
   "outputs": [],
   "source": []
  },
  {
   "cell_type": "code",
   "execution_count": null,
   "id": "16870876-cbe6-453b-b8bc-b34a1521a4a6",
   "metadata": {},
   "outputs": [],
   "source": []
  },
  {
   "cell_type": "code",
   "execution_count": 337,
   "id": "c2b18c19-5293-474a-86f2-6e39d5f05297",
   "metadata": {},
   "outputs": [
    {
     "name": "stdout",
     "output_type": "stream",
     "text": [
      "-0.000,  1.000\n",
      "-0.000,  1.000\n",
      "-0.000,  1.000\n",
      " 0.000,  1.000\n",
      " 0.000,  1.000\n",
      "-0.000,  1.000\n",
      "-0.000,  1.000\n",
      "-0.000,  1.000\n",
      " 0.000,  1.000\n",
      " 0.000,  1.000\n",
      "-0.000,  1.000\n",
      " 0.000,  1.000\n",
      "-0.000,  1.000\n",
      "-0.000,  1.000\n",
      " 0.000,  1.000\n",
      " 0.000,  1.000\n",
      "-0.000,  1.000\n",
      " 0.000,  1.000\n",
      "-0.000,  1.000\n",
      "-0.000,  1.000\n"
     ]
    }
   ],
   "source": [
    "state = state[0]\n",
    "for i in range(20):\n",
    "    state,_ = forward_step(state, rng);\n"
   ]
  },
  {
   "cell_type": "code",
   "execution_count": 338,
   "id": "c74d541d-70ca-4e8d-aafc-be1206ea6a8a",
   "metadata": {},
   "outputs": [
    {
     "data": {
      "image/png": "[encoded data removed]",
      "text/plain": [
       "<Figure size 640x480 with 1 Axes>"
      ]
     },
     "metadata": {},
     "output_type": "display_data"
    }
   ],
   "source": [
    "for i in range(3):\n",
    "    plt.hist(np.array(state[:, :, i].flatten()), bins=np.linspace(-5, 5, 100), alpha=0.5);"
   ]
  },
  {
   "cell_type": "code",
   "execution_count": null,
   "id": "d7a3c780-9348-4d58-95e8-9f3a4531092f",
   "metadata": {},
   "outputs": [],
   "source": [
    "p(N|x) = p(x|N)*p(N)/p(x)"
   ]
  },
  {
   "cell_type": "code",
   "execution_count": null,
   "id": "9ae0b8a7-38f6-49c7-80ff-d4d51cbaa307",
   "metadata": {},
   "outputs": [],
   "source": []
  },
  {
   "cell_type": "code",
   "execution_count": null,
   "id": "5aea7954-c7bb-40d3-8b72-a6ecdbd9f3b6",
   "metadata": {},
   "outputs": [],
   "source": []
  },
  {
   "cell_type": "code",
   "execution_count": null,
   "id": "966fd828-e77d-4d79-b217-e7bc6a518595",
   "metadata": {},
   "outputs": [],
   "source": []
  },
  {
   "cell_type": "code",
   "execution_count": 207,
   "id": "4ebe7021-21bb-4495-9c56-4f4fe7acf325",
   "metadata": {},
   "outputs": [],
   "source": [
    "rng, _rng = split(rng)\n",
    "nstate, state_vid = batch_forward_chunk(state, split(_rng, args.bs))"
   ]
  },
  {
   "cell_type": "code",
   "execution_count": 208,
   "id": "428be771-e0b4-40c4-9584-44c2e92baf48",
   "metadata": {},
   "outputs": [
    {
     "data": {
      "text/plain": [
       "((1, 100, 64, 64, 16),\n",
       " dtype('float32'),\n",
       " Array(-5., dtype=float32),\n",
       " Array(5., dtype=float32))"
      ]
     },
     "execution_count": 208,
     "metadata": {},
     "output_type": "execute_result"
    }
   ],
   "source": [
    "state_vid.shape, state_vid.dtype, state_vid.min(), state_vid.max()"
   ]
  },
  {
   "cell_type": "code",
   "execution_count": 209,
   "id": "741d08f0-9a63-42d8-91b1-662adcc19ec3",
   "metadata": {},
   "outputs": [],
   "source": [
    "vid = np.array((state_vid[0, :, :, :, :4]+1)/2.*255).astype(np.uint8)\n",
    "vid = rearrange(vid, 'T H W (R C) -> T (R H) (C W)', R=2, C=2)"
   ]
  },
  {
   "cell_type": "code",
   "execution_count": 210,
   "id": "fe3572c4-ef74-412d-825b-822e75865f45",
   "metadata": {},
   "outputs": [
    {
     "data": {
      "text/plain": [
       "((100, 128, 128), dtype('uint8'), 0, 255)"
      ]
     },
     "execution_count": 210,
     "metadata": {},
     "output_type": "execute_result"
    }
   ],
   "source": [
    "vid.shape, vid.dtype, vid.min(), vid.max()"
   ]
  },
  {
   "cell_type": "code",
   "execution_count": 211,
   "id": "ccefcd1e-bbd6-4b85-b63d-10392413a61f",
   "metadata": {},
   "outputs": [
    {
     "name": "stderr",
     "output_type": "stream",
     "text": [
      "/usr/lib/python3.9/subprocess.py:1756: RuntimeWarning: os.fork() was called. os.fork() is incompatible with multithreaded code, and JAX is multithreaded, so this will likely lead to a deadlock.\n",
      "  self.pid = _posixsubprocess.fork_exec(\n"
     ]
    }
   ],
   "source": [
    "save_video(args.save_dir, 'video', vid, fps=1)"
   ]
  },
  {
   "cell_type": "code",
   "execution_count": 144,
   "id": "9ff524b0-9fba-4583-8035-57c08fa2580c",
   "metadata": {},
   "outputs": [
    {
     "data": {
      "text/plain": [
       "<matplotlib.colorbar.Colorbar at 0x7f9950886ca0>"
      ]
     },
     "execution_count": 144,
     "metadata": {},
     "output_type": "execute_result"
    },
    {
     "data": {
      "image/png": "[encoded data removed]",
      "text/plain": [
       "<Figure size 640x480 with 2 Axes>"
      ]
     },
     "metadata": {},
     "output_type": "display_data"
    }
   ],
   "source": [
    "a = np.array(state_vid[0, 0, :, :, 3])\n",
    "plt.imshow(a[:10, :10])\n",
    "plt.colorbar()"
   ]
  },
  {
   "cell_type": "code",
   "execution_count": 119,
   "id": "97e578ac-ca9d-4ca9-942d-74c29e992e5d",
   "metadata": {},
   "outputs": [
    {
     "data": {
      "text/plain": [
       "(Array(0.3035, dtype=float16), Array(0.01026, dtype=float16))"
      ]
     },
     "execution_count": 119,
     "metadata": {},
     "output_type": "execute_result"
    }
   ],
   "source": [
    "a.mean(), a.std()"
   ]
  },
  {
   "cell_type": "code",
   "execution_count": null,
   "id": "776600c2-bd28-46cc-b737-c82ad647ac81",
   "metadata": {},
   "outputs": [],
   "source": []
  },
  {
   "cell_type": "code",
   "execution_count": 182,
   "id": "c43022ef-3f12-4db5-9e14-af37bddf58fc",
   "metadata": {},
   "outputs": [
    {
     "data": {
      "image/png": "[encoded data removed]",
      "text/plain": [
       "<Figure size 640x480 with 1 Axes>"
      ]
     },
     "metadata": {},
     "output_type": "display_data"
    }
   ],
   "source": [
    "a = jax.random.normal(_rng, (10000, 16))\n",
    "plt.hist(np.array(a.flatten()), bins=np.linspace(-5, 5, 100), alpha=1.0);\n",
    "a = a/jnp.linalg.norm(a, axis=-1, keepdims=True)\n",
    "plt.hist(np.array(a.flatten()*4), bins=np.linspace(-5, 5, 100), alpha=0.5);"
   ]
  },
  {
   "cell_type": "code",
   "execution_count": null,
   "id": "e624947a-df49-430e-a4fd-ec58489a7952",
   "metadata": {},
   "outputs": [],
   "source": []
  },
  {
   "cell_type": "code",
   "execution_count": null,
   "id": "a6011163-cf1d-48d3-8fc5-a03e7084dc13",
   "metadata": {},
   "outputs": [],
   "source": []
  },
  {
   "cell_type": "code",
   "execution_count": null,
   "id": "fca5680f-120f-47b2-b802-1de27e945eda",
   "metadata": {},
   "outputs": [],
   "source": []
  },
  {
   "cell_type": "code",
   "execution_count": null,
   "id": "da70dc3a-6ae8-4bde-81d0-70d5189880c2",
   "metadata": {},
   "outputs": [],
   "source": []
  },
  {
   "cell_type": "code",
   "execution_count": 469,
   "id": "7f1790f7-6f4e-47d1-81d7-d7fef7d748fb",
   "metadata": {},
   "outputs": [],
   "source": [
    "def train_step(x, _):\n",
    "    def loss_fn(x):\n",
    "        # return -x.var()\n",
    "        logp = jax.scipy.stats.gaussian_kde(x).logpdf(x)\n",
    "        entr = -(jnp.exp(logp)*logp).mean()\n",
    "        return -entr\n",
    "    loss, grads = jax.value_and_grad(loss_fn)(x)\n",
    "    lr = 1e-2\n",
    "    x = x-lr*grads\n",
    "    x = x.clip(-1, 1)\n",
    "    return x, loss\n",
    "    \n",
    "rng = jax.random.PRNGKey(0)\n",
    "x = jax.random.uniform(rng, (10, ), minval=-1, maxval=1)"
   ]
  },
  {
   "cell_type": "code",
   "execution_count": 470,
   "id": "f8803eed-31a3-42a4-9c68-349d013a2cf2",
   "metadata": {},
   "outputs": [],
   "source": [
    "y, losses = jax.lax.scan(train_step, x, jnp.arange(10000))"
   ]
  },
  {
   "cell_type": "code",
   "execution_count": 475,
   "id": "ff9ae689-97a6-40a3-80eb-057b73660df8",
   "metadata": {},
   "outputs": [
    {
     "data": {
      "text/plain": [
       "[<matplotlib.lines.Line2D at 0x7f92c8778ee0>]"
      ]
     },
     "execution_count": 475,
     "metadata": {},
     "output_type": "execute_result"
    },
    {
     "data": {
      "image/png": "[encoded data removed]",
      "text/plain": [
       "<Figure size 640x480 with 1 Axes>"
      ]
     },
     "metadata": {},
     "output_type": "display_data"
    }
   ],
   "source": [
    "plt.plot(losses)\n",
    "# plt.yscale('log')"
   ]
  },
  {
   "cell_type": "code",
   "execution_count": null,
   "id": "8bea83c3-da61-449c-ae0d-af9db07df090",
   "metadata": {},
   "outputs": [],
   "source": []
  },
  {
   "cell_type": "code",
   "execution_count": null,
   "id": "fc2df4c6-c3bc-4620-b73a-56ad2a77ffd1",
   "metadata": {},
   "outputs": [],
   "source": []
  },
  {
   "cell_type": "code",
   "execution_count": 472,
   "id": "baef1b3e-1e74-4b26-b7ec-5370e6b891ba",
   "metadata": {},
   "outputs": [
    {
     "data": {
      "text/plain": [
       "(-1.0, 1.0)"
      ]
     },
     "execution_count": 472,
     "metadata": {},
     "output_type": "execute_result"
    },
    {
     "data": {
      "image/png": "[encoded data removed]",
      "text/plain": [
       "<Figure size 1000x500 with 2 Axes>"
      ]
     },
     "metadata": {},
     "output_type": "display_data"
    }
   ],
   "source": [
    "plt.figure(figsize=(10, 5))\n",
    "plt.subplot(121)\n",
    "sns.histplot(np.array(x), kde=True)\n",
    "plt.xlim(-1, 1)\n",
    "plt.subplot(122)\n",
    "sns.histplot(np.array(y), kde=True)\n",
    "plt.xlim(-1, 1)"
   ]
  },
  {
   "cell_type": "code",
   "execution_count": null,
   "id": "97451571-a9db-4c70-81bd-452b138f4334",
   "metadata": {},
   "outputs": [],
   "source": []
  },
  {
   "cell_type": "code",
   "execution_count": null,
   "id": "31967ffb-08ca-4368-958a-6cb17dab9ea6",
   "metadata": {},
   "outputs": [],
   "source": []
  },
  {
   "cell_type": "code",
   "execution_count": null,
   "id": "ec7af507-e9f5-4133-9f84-fabbea9dee06",
   "metadata": {},
   "outputs": [],
   "source": []
  },
  {
   "cell_type": "code",
   "execution_count": 38,
   "id": "f35e14b3-5888-418b-856d-a95e96c2d5a6",
   "metadata": {},
   "outputs": [
    {
     "data": {
      "application/vnd.jupyter.widget-view+json": {
       "model_id": "23bea34206b14bbeb20c5bdc014cd9b3",
       "version_major": 2,
       "version_minor": 0
      },
      "text/plain": [
       "  0%|          | 0/100000 [00:00<?, ?it/s]"
      ]
     },
     "metadata": {},
     "output_type": "display_data"
    },
    {
     "data": {
      "image/png": "[encoded data removed]",
      "text/plain": [
       "<Figure size 640x480 with 1 Axes>"
      ]
     },
     "metadata": {},
     "output_type": "display_data"
    }
   ],
   "source": [
    "bs = 32\n",
    "pool = np.zeros((1024))\n",
    "\n",
    "for _ in tqdm(range(100000)):\n",
    "    idx = np.random.randint(0, len(pool), size=bs)\n",
    "    batch = pool[idx]\n",
    "    batch = batch + 1\n",
    "    if np.random.uniform()<1.0:\n",
    "        batch[np.random.randint(0, bs)] = 0\n",
    "    pool[idx] = batch\n",
    "plt.hist(pool, bins=np.linspace(0, 1000, 50), alpha=0.7);"
   ]
  },
  {
   "cell_type": "code",
   "execution_count": 168,
   "id": "46e19137-98b4-4e79-9a4b-a76787a78996",
   "metadata": {},
   "outputs": [],
   "source": [
    "bs = 32\n",
    "def get_pool(_rng):\n",
    "    pool = jnp.zeros((1024,))\n",
    "    def do_iter(pool, _rng):\n",
    "        _rng1, _rng2 = split(_rng)\n",
    "        idx = jax.random.randint(_rng1, shape=(bs,), minval=0, maxval=len(pool))\n",
    "        pool = pool.at[idx].set(pool[idx] + 1)\n",
    "        idx = jax.random.randint(_rng2, shape=(1,), minval=0, maxval=len(pool))\n",
    "        pool = pool.at[idx].set(0.)\n",
    "        # pool = pool%300\n",
    "        return pool, None\n",
    "    pool, _ = jax.lax.scan(do_iter, pool, split(_rng, 10000))\n",
    "    return pool"
   ]
  },
  {
   "cell_type": "code",
   "execution_count": 169,
   "id": "9cab133f-a0f3-4c9b-a8a0-df80306c32c4",
   "metadata": {},
   "outputs": [],
   "source": [
    "rng = jax.random.PRNGKey(0)\n",
    "rng, _rng = split(rng)\n",
    "pool = jax.vmap(get_pool)(split(_rng, 10))"
   ]
  },
  {
   "cell_type": "code",
   "execution_count": 170,
   "id": "af8824f5-2ab5-43c9-b8cd-5bb6b55ba71b",
   "metadata": {},
   "outputs": [
    {
     "data": {
      "text/plain": [
       "Array(31.282618, dtype=float32)"
      ]
     },
     "execution_count": 170,
     "metadata": {},
     "output_type": "execute_result"
    }
   ],
   "source": [
    "pool.mean()"
   ]
  },
  {
   "cell_type": "code",
   "execution_count": 171,
   "id": "c16a144c-7881-4224-8f9a-2455cac360e7",
   "metadata": {},
   "outputs": [],
   "source": [
    "pool = np.array(pool)"
   ]
  },
  {
   "cell_type": "code",
   "execution_count": 173,
   "id": "e8801b47-5e8f-4d20-880d-4b357f952caa",
   "metadata": {},
   "outputs": [
    {
     "data": {
      "image/png": "[encoded data removed]",
      "text/plain": [
       "<Figure size 640x480 with 1 Axes>"
      ]
     },
     "metadata": {},
     "output_type": "display_data"
    }
   ],
   "source": [
    "plt.hist(pool.flatten(), bins=50);"
   ]
  },
  {
   "cell_type": "code",
   "execution_count": null,
   "id": "64bcf8f3-17aa-43b9-87ae-c5c35e0b158e",
   "metadata": {},
   "outputs": [],
   "source": []
  },
  {
   "cell_type": "code",
   "execution_count": null,
   "id": "e0bea432-9262-43c5-bf46-5d9a0ca3b915",
   "metadata": {},
   "outputs": [],
   "source": []
  },
  {
   "cell_type": "code",
   "execution_count": null,
   "id": "d7a600c2-55b6-4b56-ac6f-c2dbab3f0d57",
   "metadata": {},
   "outputs": [],
   "source": []
  },
  {
   "cell_type": "code",
   "execution_count": 132,
   "id": "4dbb7ddf-4036-4690-922b-bba5ac9aff0f",
   "metadata": {},
   "outputs": [],
   "source": [
    "y, _ = np.histogram(pool, np.arange(300))"
   ]
  },
  {
   "cell_type": "code",
   "execution_count": 133,
   "id": "c8840b38-58e6-4977-91a4-c8c677c040e2",
   "metadata": {},
   "outputs": [
    {
     "data": {
      "text/plain": [
       "[<matplotlib.lines.Line2D at 0x7fdb60e78910>]"
      ]
     },
     "execution_count": 133,
     "metadata": {},
     "output_type": "execute_result"
    },
    {
     "data": {
      "image/png": "[encoded data removed]",
      "text/plain": [
       "<Figure size 640x480 with 1 Axes>"
      ]
     },
     "metadata": {},
     "output_type": "display_data"
    }
   ],
   "source": [
    "plt.plot(np.arange(299), y)\n",
    "# plt.yscale('log')"
   ]
  },
  {
   "cell_type": "code",
   "execution_count": 82,
   "id": "e97caf6f-2671-49f1-8b88-9d0ae4f645d0",
   "metadata": {},
   "outputs": [
    {
     "data": {
      "text/plain": [
       "(100, 1024)"
      ]
     },
     "execution_count": 82,
     "metadata": {},
     "output_type": "execute_result"
    }
   ],
   "source": [
    "pool.shape"
   ]
  },
  {
   "cell_type": "code",
   "execution_count": 181,
   "id": "d655e2b2-2f3b-4b63-955c-0410ec63f758",
   "metadata": {},
   "outputs": [],
   "source": [
    "jax.tree.map(lambda x: x+3, None)"
   ]
  },
  {
   "cell_type": "code",
   "execution_count": null,
   "id": "994f8546-57d8-4e66-aad3-b75f7f6f3f89",
   "metadata": {},
   "outputs": [],
   "source": []
  }
 ],
 "metadata": {
  "kernelspec": {
   "display_name": "Python 3 (ipykernel)",
   "language": "python",
   "name": "python3"
  },
  "language_info": {
   "codemirror_mode": {
    "name": "ipython",
    "version": 3
   },
   "file_extension": ".py",
   "mimetype": "text/x-python",
   "name": "python",
   "nbconvert_exporter": "python",
   "pygments_lexer": "ipython3",
   "version": "3.9.2"
  }
 },
 "nbformat": 4,
 "nbformat_minor": 5
}

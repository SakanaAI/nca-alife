{
 "cells": [
  {
   "cell_type": "code",
   "execution_count": 1,
   "id": "db1d36be-6752-4127-ad13-9faf253ca0fa",
   "metadata": {},
   "outputs": [
    {
     "name": "stdout",
     "output_type": "stream",
     "text": [
      "fish-gcp005\n",
      "/home/akarshkumar0101/nca-alife/src\n",
      "/home/akarshkumar0101/miniconda3/envs/nca-alife-jax/bin/python\n"
     ]
    }
   ],
   "source": [
    "%load_ext autoreload\n",
    "%autoreload 2\n",
    "!hostname\n",
    "!pwd\n",
    "import os, sys\n",
    "print(sys.executable)\n",
    "os.environ['CUDA_VISIBLE_DEVICES'] = \"7\""
   ]
  },
  {
   "cell_type": "code",
   "execution_count": 2,
   "id": "c6988f20-50f7-491b-8f17-64e6bb65ff4f",
   "metadata": {},
   "outputs": [],
   "source": [
    "import os, sys, glob, pickle\n",
    "from functools import partial\n",
    "\n",
    "import numpy as np\n",
    "import pandas as pd\n",
    "import xarray as xr\n",
    "import matplotlib.pyplot as plt\n",
    "import seaborn as sns\n",
    "sns.set_theme()\n",
    "\n",
    "from tqdm.auto import tqdm\n",
    "from einops import rearrange, reduce, repeat"
   ]
  },
  {
   "cell_type": "code",
   "execution_count": null,
   "id": "8d49ba35-7389-4e29-bcee-2fb725fe7c97",
   "metadata": {},
   "outputs": [],
   "source": []
  },
  {
   "cell_type": "code",
   "execution_count": 26,
   "id": "c04a60ac-12bb-40ba-8e01-76ff547a8e35",
   "metadata": {},
   "outputs": [],
   "source": [
    "pool_size = 8192\n",
    "bs = 64\n",
    "max_steps = 1000"
   ]
  },
  {
   "cell_type": "markdown",
   "id": "76c1aec3-05fb-47e6-b2d3-b757d79fc76b",
   "metadata": {},
   "source": [
    "# Uniform Pool"
   ]
  },
  {
   "cell_type": "code",
   "execution_count": 39,
   "id": "14aa3780-40a6-44e6-b87c-5a5a493674c0",
   "metadata": {},
   "outputs": [],
   "source": [
    "pool = np.random.randint(low=0, high=max_steps, size=pool_size)"
   ]
  },
  {
   "cell_type": "code",
   "execution_count": 40,
   "id": "488c87ca-5965-4b44-b798-7b0b4002b7bc",
   "metadata": {},
   "outputs": [
    {
     "data": {
      "application/vnd.jupyter.widget-view+json": {
       "model_id": "db470b5d65e74984b14f312bcab3fdae",
       "version_major": 2,
       "version_minor": 0
      },
      "text/plain": [
       "  0%|          | 0/1000000 [00:00<?, ?it/s]"
      ]
     },
     "metadata": {},
     "output_type": "display_data"
    }
   ],
   "source": [
    "for i_iter in tqdm(range(1000000)):\n",
    "    idx = np.random.randint(low=0, high=len(pool), size=bs)\n",
    "    pool[idx] = (pool[idx]+1)%max_steps"
   ]
  },
  {
   "cell_type": "code",
   "execution_count": 41,
   "id": "c0e8f373-1788-4dad-a797-06219f10abce",
   "metadata": {},
   "outputs": [
    {
     "data": {
      "image/png": "[encoded data removed]",
      "text/plain": [
       "<Figure size 640x480 with 1 Axes>"
      ]
     },
     "metadata": {},
     "output_type": "display_data"
    }
   ],
   "source": [
    "plt.hist(pool, bins=30);"
   ]
  },
  {
   "cell_type": "markdown",
   "id": "3e6b12c0-77c0-4c31-b8a9-d8e83e0a6bda",
   "metadata": {},
   "source": [
    "# Exponential Pool"
   ]
  },
  {
   "cell_type": "code",
   "execution_count": 62,
   "id": "ea7e0b0c-3f80-46dd-817d-614ee69b03c6",
   "metadata": {},
   "outputs": [],
   "source": [
    "pool = np.random.randint(low=0, high=max_steps, size=pool_size)"
   ]
  },
  {
   "cell_type": "code",
   "execution_count": 63,
   "id": "1bdfdbb4-a061-4fa0-aa25-ef107158f196",
   "metadata": {},
   "outputs": [
    {
     "data": {
      "application/vnd.jupyter.widget-view+json": {
       "model_id": "19006d8a1447472794dd850cefb092bb",
       "version_major": 2,
       "version_minor": 0
      },
      "text/plain": [
       "  0%|          | 0/1000000 [00:00<?, ?it/s]"
      ]
     },
     "metadata": {},
     "output_type": "display_data"
    }
   ],
   "source": [
    "for i_iter in tqdm(range(1000000)):\n",
    "    idx = np.random.randint(low=0, high=len(pool), size=bs)\n",
    "    pool[idx] = pool[idx]+1\n",
    "    idx = np.random.uniform(size=pool_size)<p\n",
    "    pool[idx] = 0"
   ]
  },
  {
   "cell_type": "code",
   "execution_count": 64,
   "id": "5a2a9e15-7f63-41d6-be97-316f455b2a9a",
   "metadata": {},
   "outputs": [
    {
     "data": {
      "image/png": "[encoded data removed]",
      "text/plain": [
       "<Figure size 640x480 with 1 Axes>"
      ]
     },
     "metadata": {},
     "output_type": "display_data"
    }
   ],
   "source": [
    "plt.hist(pool, bins=30);"
   ]
  },
  {
   "cell_type": "code",
   "execution_count": 45,
   "id": "3a7906f1-1a4e-4785-9ed3-9f1edcaa6b07",
   "metadata": {},
   "outputs": [
    {
     "data": {
      "text/plain": [
       "64"
      ]
     },
     "execution_count": 45,
     "metadata": {},
     "output_type": "execute_result"
    }
   ],
   "source": [
    "bs"
   ]
  },
  {
   "cell_type": "code",
   "execution_count": null,
   "id": "8db2803f-e926-40cb-8b13-381b2e98ceb5",
   "metadata": {},
   "outputs": [],
   "source": [
    "bs/pool_size = 1/pool_size"
   ]
  },
  {
   "cell_type": "markdown",
   "id": "f286e6ae-a783-4f51-9151-8f2a7b09d96e",
   "metadata": {},
   "source": [
    "$B/P (+1) - r (\\mu)= 0 \\implies \\mu = B/(rP)$\n",
    "\n",
    "Exponential distribution with $\\lambda=rP/B$\n",
    "\n",
    "$1-e^(-\\lambda x)=0.99$\n",
    "\n",
    "\n",
    "$x=-\\ln(.01)B/rP=1000$"
   ]
  },
  {
   "cell_type": "code",
   "execution_count": 48,
   "id": "95356cf7-d63f-4fb0-b5e4-07044f568826",
   "metadata": {},
   "outputs": [],
   "source": [
    "p = -np.log(.01)*64/8291/1000"
   ]
  },
  {
   "cell_type": "code",
   "execution_count": null,
   "id": "264adfea-10c0-471c-a7a9-320101ca76bf",
   "metadata": {},
   "outputs": [],
   "source": []
  },
  {
   "cell_type": "code",
   "execution_count": null,
   "id": "929c6043-bf12-4e7a-9e52-598214c79f6a",
   "metadata": {},
   "outputs": [],
   "source": []
  },
  {
   "cell_type": "code",
   "execution_count": null,
   "id": "ce86970d-2672-484f-ac51-04cd9f6f569e",
   "metadata": {},
   "outputs": [],
   "source": []
  }
 ],
 "metadata": {
  "kernelspec": {
   "display_name": "Python 3 (ipykernel)",
   "language": "python",
   "name": "python3"
  },
  "language_info": {
   "codemirror_mode": {
    "name": "ipython",
    "version": 3
   },
   "file_extension": ".py",
   "mimetype": "text/x-python",
   "name": "python",
   "nbconvert_exporter": "python",
   "pygments_lexer": "ipython3",
   "version": "3.12.3"
  }
 },
 "nbformat": 4,
 "nbformat_minor": 5
}

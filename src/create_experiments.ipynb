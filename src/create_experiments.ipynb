{
 "cells": [
  {
   "cell_type": "code",
   "id": "initial_id",
   "metadata": {
    "collapsed": true,
    "ExecuteTime": {
     "end_time": "2024-06-05T15:24:12.196261Z",
     "start_time": "2024-06-05T15:24:11.937119Z"
    }
   },
   "source": [
    "%load_ext autoreload\n",
    "%autoreload 2\n",
    "!hostname\n",
    "!pwd\n",
    "import os, sys\n",
    "print(sys.executable)"
   ],
   "outputs": [
    {
     "name": "stdout",
     "output_type": "stream",
     "text": [
      "dhcp-10-37-2-37.nlc.guest.dcccd.edu\r\n",
      "/Users/akarshkumar0101/nca-alife/src\r\n",
      "/Users/akarshkumar0101/miniconda3/bin/python\n"
     ]
    }
   ],
   "execution_count": 1
  },
  {
   "metadata": {
    "ExecuteTime": {
     "end_time": "2024-06-05T15:24:46.791547Z",
     "start_time": "2024-06-05T15:24:46.534227Z"
    }
   },
   "cell_type": "code",
   "source": [
    "import os, sys, glob, pickle\n",
    "from functools import partial\n",
    "\n",
    "import numpy as np\n",
    "import pandas as pd\n",
    "import xarray as xr\n",
    "import matplotlib.pyplot as plt\n",
    "import seaborn as sns\n",
    "# sns.set_theme()\n",
    "\n",
    "from tqdm.auto import tqdm\n",
    "from einops import rearrange, reduce, repeat"
   ],
   "id": "b14fab765a9b502f",
   "outputs": [],
   "execution_count": 2
  },
  {
   "metadata": {
    "ExecuteTime": {
     "end_time": "2024-06-05T16:32:40.437767Z",
     "start_time": "2024-06-05T16:32:40.418237Z"
    }
   },
   "cell_type": "code",
   "source": [
    "import experiment_utils\n",
    "import time\n",
    "import subprocess"
   ],
   "id": "cd70dd980a69d0d2",
   "outputs": [],
   "execution_count": 144
  },
  {
   "metadata": {},
   "cell_type": "markdown",
   "source": "# Create Experiment",
   "id": "44ce0a1df4e67890"
  },
  {
   "metadata": {
    "ExecuteTime": {
     "end_time": "2024-06-05T16:32:43.305142Z",
     "start_time": "2024-06-05T16:32:43.038167Z"
    }
   },
   "cell_type": "code",
   "source": [
    "! rm -rf ./experiments\n",
    "! mkdir -p ./experiments"
   ],
   "id": "ae7d43921895db65",
   "outputs": [],
   "execution_count": 145
  },
  {
   "metadata": {
    "ExecuteTime": {
     "end_time": "2024-06-05T16:32:43.379879Z",
     "start_time": "2024-06-05T16:32:43.360110Z"
    }
   },
   "cell_type": "code",
   "source": [
    "cfgs = experiment_utils.dict_product(dict(lr=[1e-2, 1e-3], bs=[32, 64], model=['transformer', 'cnn'], save_dir='~/data/'))  \n",
    "for cfg in cfgs:\n",
    "    cfg['save_dir'] += f\"{cfg['model']}_{cfg['lr']}_{cfg['bs']}\"  \n",
    "commands = experiment_utils.create_commands(cfgs, prefix='python main.py', out_file='./experiments/main.sh')\n",
    "print('\\n'.join(commands))\n",
    "print(len(commands), 'commands')"
   ],
   "id": "1d27012fdcff22ea",
   "outputs": [
    {
     "name": "stdout",
     "output_type": "stream",
     "text": [
      "python main.py --lr=0.01  --bs=32 --model=\"transformer\" --save_dir=\"~/data/transformer_0.01_32\" \n",
      "python main.py --lr=0.01  --bs=32 --model=\"cnn\"         --save_dir=\"~/data/cnn_0.01_32\"         \n",
      "python main.py --lr=0.01  --bs=64 --model=\"transformer\" --save_dir=\"~/data/transformer_0.01_64\" \n",
      "python main.py --lr=0.01  --bs=64 --model=\"cnn\"         --save_dir=\"~/data/cnn_0.01_64\"         \n",
      "python main.py --lr=0.001 --bs=32 --model=\"transformer\" --save_dir=\"~/data/transformer_0.001_32\"\n",
      "python main.py --lr=0.001 --bs=32 --model=\"cnn\"         --save_dir=\"~/data/cnn_0.001_32\"        \n",
      "python main.py --lr=0.001 --bs=64 --model=\"transformer\" --save_dir=\"~/data/transformer_0.001_64\"\n",
      "python main.py --lr=0.001 --bs=64 --model=\"cnn\"         --save_dir=\"~/data/cnn_0.001_64\"        \n",
      "8 commands\n"
     ]
    }
   ],
   "execution_count": 146
  },
  {
   "metadata": {
    "ExecuteTime": {
     "end_time": "2024-06-05T16:32:44.345014Z",
     "start_time": "2024-06-05T16:32:44.342428Z"
    }
   },
   "cell_type": "code",
   "source": "",
   "id": "ea952b39ea354256",
   "outputs": [],
   "execution_count": 146
  },
  {
   "metadata": {
    "ExecuteTime": {
     "end_time": "2024-06-05T16:32:44.535725Z",
     "start_time": "2024-06-05T16:32:44.533465Z"
    }
   },
   "cell_type": "code",
   "source": "",
   "id": "ba8c1eaae2a1f56c",
   "outputs": [],
   "execution_count": 146
  },
  {
   "metadata": {},
   "cell_type": "markdown",
   "source": "# Launch Experiment (on this node)",
   "id": "d25a8459feec83fd"
  },
  {
   "metadata": {
    "ExecuteTime": {
     "end_time": "2024-06-05T16:32:45.724746Z",
     "start_time": "2024-06-05T16:32:45.705123Z"
    }
   },
   "cell_type": "code",
   "source": [
    "header = '\\n'.join(['#!/bin/bash', 'source ~/.virtualenvs/nca-alife/bin/activate', 'cd ~/nca-alife/src'])\n",
    "gpus = [4, 5, 6, 7]\n",
    "# log_dir = f'~/nca-alife-data/logs/{time.strftime(\"%Y_%m_%d_%H_%M_%S\")}'\n",
    "log_dir = f'./experiments/logs/{time.strftime(\"%Y_%m_%d_%H_%M_%S\")}'\n",
    "exp_sh = f'./experiments/main.sh'\n",
    "with open(exp_sh, 'r') as f:\n",
    "    commands = [c for c in f.read().split('\\n') if c]\n",
    "print(f\"{exp_sh} has {len(commands)} commands: \")\n",
    "print('\\n'.join(commands[:3]), '\\n...')\n",
    "print(f\"Logging to {log_dir}\")"
   ],
   "id": "8c39a5bfd56aad84",
   "outputs": [
    {
     "name": "stdout",
     "output_type": "stream",
     "text": [
      "./experiments/main.sh has 8 commands: \n",
      "python main.py --lr=0.01  --bs=32 --model=\"transformer\" --save_dir=\"~/data/transformer_0.01_32\" \n",
      "python main.py --lr=0.01  --bs=32 --model=\"cnn\"         --save_dir=\"~/data/cnn_0.01_32\"         \n",
      "python main.py --lr=0.01  --bs=64 --model=\"transformer\" --save_dir=\"~/data/transformer_0.01_64\"  \n",
      "...\n",
      "Logging to ./experiments/logs/2024_06_05_11_32_45\n"
     ]
    }
   ],
   "execution_count": 147
  },
  {
   "metadata": {
    "ExecuteTime": {
     "end_time": "2024-06-05T16:32:47.309708Z",
     "start_time": "2024-06-05T16:32:47.171678Z"
    }
   },
   "cell_type": "code",
   "source": [
    "!mkdir -p {log_dir}\n",
    "for i_gpu, gpu in enumerate(gpus):\n",
    "    job_ids = np.arange(len(commands))[i_gpu::len(gpus)]\n",
    "    cvd = f'export CUDA_VISIBLE_DEVICES={gpu}'\n",
    "    txt = f\"{header}\\n{cvd}\\n\\n\"\n",
    "    for job_id in job_ids:\n",
    "        txt += f\"touch {log_dir}/job_{job_id:03d}.status\\n\"\n",
    "        txt += f\"{commands[job_id]} &> {log_dir}/job_{job_id:03d}.out\\n\"\n",
    "        txt += f\"echo $? > {log_dir}/job_{job_id:03d}.status\\n\\n\"\n",
    "    with open(f\"{log_dir}/gpu_{gpu}.sh\", \"w\") as f:\n",
    "        f.write(txt)"
   ],
   "id": "ccbc7bd83eb023cb",
   "outputs": [],
   "execution_count": 148
  },
  {
   "metadata": {
    "ExecuteTime": {
     "end_time": "2024-06-05T16:32:47.659970Z",
     "start_time": "2024-06-05T16:32:47.641164Z"
    }
   },
   "cell_type": "code",
   "source": "print('\\n'.join(txt.split('\\n')[:12]))",
   "id": "fd11b06be751b124",
   "outputs": [
    {
     "name": "stdout",
     "output_type": "stream",
     "text": [
      "#!/bin/bash\n",
      "source ~/.virtualenvs/nca-alife/bin/activate\n",
      "cd ~/nca-alife/src\n",
      "export CUDA_VISIBLE_DEVICES=7\n",
      "\n",
      "touch ./experiments/logs/2024_06_05_11_32_45/job_003.status\n",
      "python main.py --lr=0.01  --bs=64 --model=\"cnn\"         --save_dir=\"~/data/cnn_0.01_64\"          &> ./experiments/logs/2024_06_05_11_32_45/job_003.out\n",
      "echo $? > ./experiments/logs/2024_06_05_11_32_45/job_003.status\n",
      "\n",
      "touch ./experiments/logs/2024_06_05_11_32_45/job_007.status\n",
      "python main.py --lr=0.001 --bs=64 --model=\"cnn\"         --save_dir=\"~/data/cnn_0.001_64\"         &> ./experiments/logs/2024_06_05_11_32_45/job_007.out\n",
      "echo $? > ./experiments/logs/2024_06_05_11_32_45/job_007.status\n"
     ]
    }
   ],
   "execution_count": 149
  },
  {
   "metadata": {
    "ExecuteTime": {
     "end_time": "2024-06-05T16:35:49.567207Z",
     "start_time": "2024-06-05T16:35:49.546023Z"
    }
   },
   "cell_type": "code",
   "source": [
    "for i_gpu, gpu in enumerate(gpus):\n",
    "    command = f\"sh {log_dir}/gpu_{gpu}.sh\"\n",
    "    print(command)\n",
    "    # process = subprocess.Popen(command, shell=True)"
   ],
   "id": "e5ce96252f75f2f9",
   "outputs": [
    {
     "name": "stdout",
     "output_type": "stream",
     "text": [
      "sh ./experiments/logs/2024_06_05_11_32_45/gpu_4.sh\n",
      "sh ./experiments/logs/2024_06_05_11_32_45/gpu_5.sh\n",
      "sh ./experiments/logs/2024_06_05_11_32_45/gpu_6.sh\n",
      "sh ./experiments/logs/2024_06_05_11_32_45/gpu_7.sh\n"
     ]
    }
   ],
   "execution_count": 153
  },
  {
   "metadata": {},
   "cell_type": "code",
   "outputs": [],
   "execution_count": null,
   "source": "",
   "id": "ebe56b2d5eb8a5bd"
  },
  {
   "metadata": {},
   "cell_type": "code",
   "outputs": [],
   "execution_count": null,
   "source": "",
   "id": "a8c8162172a4d0c6"
  },
  {
   "metadata": {},
   "cell_type": "code",
   "outputs": [],
   "execution_count": null,
   "source": "",
   "id": "83c5ef8d89ccf513"
  },
  {
   "metadata": {},
   "cell_type": "markdown",
   "source": "# Track Experiment",
   "id": "233f54f7c2310a69"
  },
  {
   "metadata": {},
   "cell_type": "code",
   "outputs": [],
   "execution_count": null,
   "source": "",
   "id": "3dc3556558ab7a51"
  },
  {
   "metadata": {},
   "cell_type": "code",
   "outputs": [],
   "execution_count": null,
   "source": "",
   "id": "ddcbc02b694fa33"
  },
  {
   "metadata": {},
   "cell_type": "code",
   "outputs": [],
   "execution_count": null,
   "source": "",
   "id": "c75eacd4eb3f534d"
  },
  {
   "metadata": {},
   "cell_type": "code",
   "outputs": [],
   "execution_count": null,
   "source": "",
   "id": "d2d8e17e3abe3689"
  }
 ],
 "metadata": {
  "kernelspec": {
   "display_name": "Python 3",
   "language": "python",
   "name": "python3"
  },
  "language_info": {
   "codemirror_mode": {
    "name": "ipython",
    "version": 2
   },
   "file_extension": ".py",
   "mimetype": "text/x-python",
   "name": "python",
   "nbconvert_exporter": "python",
   "pygments_lexer": "ipython2",
   "version": "2.7.6"
  }
 },
 "nbformat": 4,
 "nbformat_minor": 5
}

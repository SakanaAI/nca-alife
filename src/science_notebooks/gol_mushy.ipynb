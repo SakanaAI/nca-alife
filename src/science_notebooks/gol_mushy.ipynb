{
 "cells": [
  {
   "cell_type": "code",
   "execution_count": 1,
   "metadata": {},
   "outputs": [
    {
     "name": "stdout",
     "output_type": "stream",
     "text": [
      "slurm0-gpu1nodeset-0\n",
      "/home/akarsh_sakana_ai/nca-alife/src/notebooks\n",
      "/home/akarsh_sakana_ai/miniconda3/envs/nca-alife-jax/bin/python\n"
     ]
    }
   ],
   "source": [
    "%load_ext autoreload\n",
    "%autoreload 2\n",
    "!hostname\n",
    "!pwd\n",
    "import os, sys\n",
    "print(sys.executable)\n",
    "# os.environ['CUDA_VISIBLE_DEVICES'] = \"4\"\n",
    "os.environ['XLA_PYTHON_CLIENT_PREALLOCATE'] = 'false'\n",
    "sys.path.append(os.path.abspath(\"..\"))"
   ]
  },
  {
   "cell_type": "code",
   "execution_count": 2,
   "metadata": {},
   "outputs": [],
   "source": [
    "import os, sys, glob, pickle\n",
    "from functools import partial\n",
    "\n",
    "import numpy as np\n",
    "import pandas as pd\n",
    "import xarray as xr\n",
    "import matplotlib.pyplot as plt\n",
    "import seaborn as sns\n",
    "sns.set_theme()\n",
    "\n",
    "from tqdm.auto import tqdm\n",
    "from einops import rearrange, reduce, repeat"
   ]
  },
  {
   "cell_type": "code",
   "execution_count": 3,
   "metadata": {},
   "outputs": [],
   "source": [
    "import jax\n",
    "from jax import numpy as jnp\n",
    "from jax.random import split\n",
    "\n",
    "import util"
   ]
  },
  {
   "cell_type": "code",
   "execution_count": 4,
   "metadata": {},
   "outputs": [],
   "source": [
    "from create_sim import create_sim, rollout_and_embed_simulation, rollout_simulation, FlattenSimulationParameters\n",
    "from models.models_boids import Boids\n",
    "from models.models_boids_mushy import MushyBoids\n",
    "import imageio"
   ]
  },
  {
   "cell_type": "code",
   "execution_count": 5,
   "metadata": {},
   "outputs": [],
   "source": [
    "from models.models_gol import GameOfLife"
   ]
  },
  {
   "cell_type": "code",
   "execution_count": 6,
   "metadata": {},
   "outputs": [],
   "source": [
    "sim = GameOfLife(grid_size=128)"
   ]
  },
  {
   "cell_type": "code",
   "execution_count": 7,
   "metadata": {},
   "outputs": [
    {
     "name": "stdout",
     "output_type": "stream",
     "text": [
      "ffadad-ffd6a5-fdffb6-caffbf-9bf6ff-a0c4ff-bdb2ff-ffc6ff-448aff-1565c0-009688-8bc34a-ffc107-ff9800-f44336-ad1457\n",
      "ffd6a5-bdb2ff-448aff-1565c0-ff9800-9bf6ff-fdffb6-f44336-009688-ffc6ff-ad1457-8bc34a-caffbf-ffadad-a0c4ff-ffc107\n"
     ]
    }
   ],
   "source": [
    "colors = 'ffadad-ffd6a5-fdffb6-caffbf-9bf6ff-a0c4ff-bdb2ff-ffc6ff-448aff-1565c0-009688-8bc34a-ffc107-ff9800-f44336-ad1457'\n",
    "print(colors)\n",
    "colors = colors.split('-')\n",
    "np.random.seed(0)\n",
    "np.random.shuffle(colors)\n",
    "colors = '-'.join(colors)\n",
    "print(colors)"
   ]
  },
  {
   "cell_type": "code",
   "execution_count": 8,
   "metadata": {},
   "outputs": [],
   "source": [
    "from matplotlib import colors as mcolors\n",
    "class MushyGoL():\n",
    "    def __init__(self, k_sims=4, grid_size=128, double_step=True,\n",
    "                 colors='448aff-1565c0-009688-8bc34a-ffc107-ff9800-f44336-ad1457-448aff-1565c0-009688-8bc34a-ffc107-ff9800-f44336-ad1457'):\n",
    "        assert k_sims == 4 or k_sims == 9 or k_sims == 16 or k_sims == 25 or k_sims == 36\n",
    "        self.k_sims = k_sims\n",
    "        self.sqrt_ksims = int(jnp.sqrt(k_sims))\n",
    "        self.sim = GameOfLife(grid_size=grid_size)\n",
    "        assert self.k_sims <= len(colors.split('-'))\n",
    "        self.species_colors = jnp.array([mcolors.to_rgb(f\"#{c}\") for c in colors.split('-')])[:self.k_sims]\n",
    "        self.double_step = double_step\n",
    "\n",
    "    def default_params(self, rng):\n",
    "        return jax.vmap(self.model_boids.default_params, in_axes=(0,))(split(rng, self.k_sims))\n",
    "\n",
    "    def init_state(self, rng, params):\n",
    "        state = self.sim.init_state(rng, params[0])\n",
    "        rule_state = jnp.arange(self.k_sims).reshape(self.sqrt_ksims, self.sqrt_ksims)\n",
    "        rule_state = repeat(rule_state, \"x y -> (x W) (y H)\", W=self.sim.grid_size//self.sqrt_ksims, H=self.sim.grid_size//self.sqrt_ksims)\n",
    "        return dict(state=state, rule_state=rule_state)\n",
    "\n",
    "    def step_state(self, rng, state, params):\n",
    "        state, rule_state = state['state'], state['rule_state']\n",
    "\n",
    "        def step_fn(rng, state, params):\n",
    "            state = self.sim.step_state(rng, state, params)\n",
    "            if self.double_step:\n",
    "                state = self.sim.step_state(rng, state, params)\n",
    "            return state\n",
    "        state = jax.vmap(step_fn, in_axes=(None, None, 0))(rng, state, params)\n",
    "        state = rearrange(state, \"D H W -> H W D\")\n",
    "        def index_fn(states, rule_idx):\n",
    "            return states[rule_idx]\n",
    "        state = jax.vmap(jax.vmap(index_fn))(state, rule_state)\n",
    "\n",
    "        # CHANGING DYNANMICS CODE\n",
    "        def get_neighbors(x):\n",
    "            x = jnp.pad(x, pad_width=1, mode='wrap')\n",
    "            neighs = jnp.stack([x[:-2, :-2], x[:-2, 1:-1], x[:-2, 2:], x[1:-1, :-2], x[1:-1, 2:], x[2:, :-2], x[2:, 1:-1], x[2:, 2:]], axis=-1)\n",
    "            return neighs\n",
    "        state_neighs = get_neighbors(state)\n",
    "        rule_state_neighs = get_neighbors(rule_state)\n",
    "\n",
    "        def get_rule_idx(rng, state, rule_state, state_neighs, rule_state_neighs):\n",
    "            state_neighs = jax.random.permutation(rng, state_neighs)\n",
    "            rule_state_neighs = jax.random.permutation(rng, rule_state_neighs)\n",
    "\n",
    "            rule_state_2 = rule_state_neighs[jnp.argmax(state_neighs)]\n",
    "            # only change rule_state if state is dead and there is a living neighbor\n",
    "            return jax.lax.select((state==0)& (state_neighs.sum()>0), rule_state_2, rule_state)\n",
    "\n",
    "        state_neighs = rearrange(state_neighs, \"H W D -> (H W) D\")\n",
    "        rule_state_neighs = rearrange(rule_state_neighs, \"H W D -> (H W) D\")\n",
    "        rule_state = jax.vmap(get_rule_idx)(split(rng, len(state_neighs)), state.flatten(), rule_state.flatten(), state_neighs, rule_state_neighs)\n",
    "        rule_state = rule_state.reshape(*state.shape)\n",
    "        return dict(state=state, rule_state=rule_state)\n",
    "    \n",
    "    def render_state(self, state, params, img_size=None):\n",
    "        state, rule_state = state['state'], state['rule_state']\n",
    "        img = repeat(state.astype(float), \"H W -> H W 3\")\n",
    "        img = img * self.species_colors[rule_state]\n",
    "        if img_size is not None:\n",
    "            img = jax.image.resize(img, (img_size, img_size, 3), method='nearest')\n",
    "        return img\n"
   ]
  },
  {
   "cell_type": "code",
   "execution_count": 9,
   "metadata": {},
   "outputs": [
    {
     "name": "stderr",
     "output_type": "stream",
     "text": [
      "2024-12-21 19:31:58.122178: W external/xla/xla/service/gpu/nvptx_compiler.cc:836] The NVIDIA driver's CUDA version is 12.2 which is older than the PTX compiler version (12.6.68). Because the driver is older than the PTX compiler version, XLA is disabling parallel compilation, which may slow down compilation. You should update your NVIDIA driver or use the NVIDIA-provided CUDA forward compatibility packages.\n",
      "Could not load symbol cuFuncGetName. Error: /lib/x86_64-linux-gnu/libcuda.so.1: undefined symbol: cuFuncGetName\n"
     ]
    },
    {
     "name": "stdout",
     "output_type": "stream",
     "text": [
      "(2048, 256, 256, 3)\n"
     ]
    },
    {
     "name": "stderr",
     "output_type": "stream",
     "text": [
      "/home/akarsh_sakana_ai/miniconda3/envs/nca-alife-jax/lib/python3.10/subprocess.py:1796: RuntimeWarning: os.fork() was called. os.fork() is incompatible with multithreaded code, and JAX is multithreaded, so this will likely lead to a deadlock.\n",
      "  self.pid = _posixsubprocess.fork_exec(\n"
     ]
    },
    {
     "name": "stdout",
     "output_type": "stream",
     "text": [
      "(2048, 512, 512, 3)\n"
     ]
    },
    {
     "name": "stderr",
     "output_type": "stream",
     "text": [
      "/home/akarsh_sakana_ai/miniconda3/envs/nca-alife-jax/lib/python3.10/subprocess.py:1796: RuntimeWarning: os.fork() was called. os.fork() is incompatible with multithreaded code, and JAX is multithreaded, so this will likely lead to a deadlock.\n",
      "  self.pid = _posixsubprocess.fork_exec(\n"
     ]
    },
    {
     "name": "stdout",
     "output_type": "stream",
     "text": [
      "(2048, 256, 256, 3)\n"
     ]
    },
    {
     "name": "stderr",
     "output_type": "stream",
     "text": [
      "/home/akarsh_sakana_ai/miniconda3/envs/nca-alife-jax/lib/python3.10/subprocess.py:1796: RuntimeWarning: os.fork() was called. os.fork() is incompatible with multithreaded code, and JAX is multithreaded, so this will likely lead to a deadlock.\n",
      "  self.pid = _posixsubprocess.fork_exec(\n"
     ]
    },
    {
     "name": "stdout",
     "output_type": "stream",
     "text": [
      "(2048, 512, 512, 3)\n"
     ]
    },
    {
     "name": "stderr",
     "output_type": "stream",
     "text": [
      "/home/akarsh_sakana_ai/miniconda3/envs/nca-alife-jax/lib/python3.10/subprocess.py:1796: RuntimeWarning: os.fork() was called. os.fork() is incompatible with multithreaded code, and JAX is multithreaded, so this will likely lead to a deadlock.\n",
      "  self.pid = _posixsubprocess.fork_exec(\n"
     ]
    }
   ],
   "source": [
    "params = jnp.array([7291, 7787, 55871, 15923, 2579, 5691, 47999, 55615, 56127, 8059, 55903, 133519, 55359, 3731, 36703, 34335])\n",
    "rng = jax.random.PRNGKey(0)\n",
    "\n",
    "sim = MushyGoL(k_sims=16, grid_size=256, double_step=False, colors=colors)\n",
    "rollout_fn = partial(rollout_simulation, sim=sim, rollout_steps=1024*2, img_size=256, n_rollout_imgs=2048)\n",
    "rollout_data = rollout_fn(rng, params)\n",
    "print(rollout_data['rgb'].shape)\n",
    "vid = np.array(rollout_data['rgb'])\n",
    "vid = (vid*255).astype(np.uint8)\n",
    "imageio.mimsave('/home/akarsh_sakana_ai/nca-alife-data/figs_final/gol_mush.mp4', vid[::2], fps=30) # for the flashing\n",
    "\n",
    "sim = MushyGoL(k_sims=16, grid_size=512, double_step=False, colors=colors)\n",
    "rollout_fn = partial(rollout_simulation, sim=sim, rollout_steps=1024*2, img_size=512, n_rollout_imgs=2048)\n",
    "rollout_data = rollout_fn(rng, params)\n",
    "print(rollout_data['rgb'].shape)\n",
    "vid = np.array(rollout_data['rgb'])\n",
    "vid = (vid*255).astype(np.uint8)\n",
    "imageio.mimsave('/home/akarsh_sakana_ai/nca-alife-data/figs_final/gol_mush_large.mp4', vid[::2], fps=30) # for the flashing\n",
    "\n",
    "sim = MushyGoL(k_sims=16, grid_size=256, double_step=True, colors=colors)\n",
    "rollout_fn = partial(rollout_simulation, sim=sim, rollout_steps=1024*2, img_size=256, n_rollout_imgs=2048)\n",
    "rollout_data = rollout_fn(rng, params)\n",
    "print(rollout_data['rgb'].shape)\n",
    "vid = np.array(rollout_data['rgb'])\n",
    "vid = (vid*255).astype(np.uint8)\n",
    "imageio.mimsave('/home/akarsh_sakana_ai/nca-alife-data/figs_final/gol_mush_double_step.mp4', vid, fps=60)\n",
    "\n",
    "sim = MushyGoL(k_sims=16, grid_size=512, double_step=True, colors=colors)\n",
    "rollout_fn = partial(rollout_simulation, sim=sim, rollout_steps=1024*2, img_size=512, n_rollout_imgs=2048)\n",
    "rollout_data = rollout_fn(rng, params)\n",
    "print(rollout_data['rgb'].shape)\n",
    "vid = np.array(rollout_data['rgb'])\n",
    "vid = (vid*255).astype(np.uint8)\n",
    "imageio.mimsave('/home/akarsh_sakana_ai/nca-alife-data/figs_final/gol_mush_double_step_large.mp4', vid, fps=60)"
   ]
  },
  {
   "cell_type": "code",
   "execution_count": null,
   "metadata": {},
   "outputs": [],
   "source": []
  },
  {
   "cell_type": "code",
   "execution_count": null,
   "metadata": {},
   "outputs": [],
   "source": []
  },
  {
   "cell_type": "code",
   "execution_count": null,
   "metadata": {},
   "outputs": [],
   "source": []
  }
 ],
 "metadata": {
  "kernelspec": {
   "display_name": "nca-alife-jax",
   "language": "python",
   "name": "python3"
  },
  "language_info": {
   "codemirror_mode": {
    "name": "ipython",
    "version": 3
   },
   "file_extension": ".py",
   "mimetype": "text/x-python",
   "name": "python",
   "nbconvert_exporter": "python",
   "pygments_lexer": "ipython3",
   "version": "3.10.13"
  }
 },
 "nbformat": 4,
 "nbformat_minor": 2
}

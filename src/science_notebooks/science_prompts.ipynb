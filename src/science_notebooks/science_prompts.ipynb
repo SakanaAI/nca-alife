{
 "cells": [
  {
   "cell_type": "code",
   "execution_count": null,
   "id": "initial_id",
   "metadata": {
    "ExecuteTime": {
     "end_time": "2024-06-05T15:24:12.196261Z",
     "start_time": "2024-06-05T15:24:11.937119Z"
    }
   },
   "outputs": [],
   "source": [
    "%load_ext autoreload\n",
    "%autoreload 2\n",
    "!hostname\n",
    "!pwd\n",
    "import os, sys\n",
    "print(sys.executable)\n",
    "# os.environ['CUDA_VISIBLE_DEVICES'] = \"4\"\n",
    "os.environ['XLA_PYTHON_CLIENT_PREALLOCATE'] = 'false'\n",
    "sys.path.append(os.path.abspath(\"..\"))"
   ]
  },
  {
   "cell_type": "code",
   "execution_count": null,
   "id": "b14fab765a9b502f",
   "metadata": {
    "ExecuteTime": {
     "end_time": "2024-06-05T15:24:46.791547Z",
     "start_time": "2024-06-05T15:24:46.534227Z"
    }
   },
   "outputs": [],
   "source": [
    "import os, sys, glob, pickle\n",
    "from functools import partial\n",
    "\n",
    "import numpy as np\n",
    "import pandas as pd\n",
    "import xarray as xr\n",
    "import matplotlib.pyplot as plt\n",
    "import seaborn as sns\n",
    "sns.set_theme()\n",
    "\n",
    "from tqdm.auto import tqdm\n",
    "from einops import rearrange, reduce, repeat"
   ]
  },
  {
   "cell_type": "code",
   "execution_count": null,
   "id": "cd70dd980a69d0d2",
   "metadata": {
    "ExecuteTime": {
     "end_time": "2024-06-05T16:32:40.437767Z",
     "start_time": "2024-06-05T16:32:40.418237Z"
    }
   },
   "outputs": [],
   "source": [
    "import experiment_utils\n",
    "import util"
   ]
  },
  {
   "cell_type": "markdown",
   "id": "44ce0a1df4e67890",
   "metadata": {},
   "source": [
    "# Create Experiment"
   ]
  },
  {
   "cell_type": "code",
   "execution_count": null,
   "id": "9a3e6906-9009-4db3-8eb2-6f8381444a8e",
   "metadata": {},
   "outputs": [],
   "source": [
    "group.add_argument(\"--seed\", type=int, default=0)\n",
    "group.add_argument(\"--save_dir\", type=str, default=None)\n",
    "\n",
    "group = parser.add_argument_group(\"model\")\n",
    "group.add_argument(\"--sim\", type=str, default='boids')\n",
    "\n",
    "group = parser.add_argument_group(\"data\")\n",
    "group.add_argument(\"--n_rollout_imgs\", type=int, default=1)\n",
    "group.add_argument(\"--prompts\", type=str, default=\"an artificial cell,a bacterium\")\n",
    "group.add_argument(\"--clip_model\", type=str, default=\"clip-vit-base-patch32\") # clip-vit-base-patch32 or clip-vit-large-patch14\n",
    "group.add_argument(\"--coef_prompts\", type=float, default=1.)\n",
    "group.add_argument(\"--coef_novelty\", type=float, default=0.)\n",
    "\n",
    "group = parser.add_argument_group(\"optimization\")\n",
    "group.add_argument(\"--bs\", type=int, default=4)\n",
    "group.add_argument(\"--pop_size\", type=int, default=16)\n",
    "group.add_argument(\"--n_iters\", type=int, default=10000)\n",
    "group.add_argument(\"--sigma\", type=float, default=1.)"
   ]
  },
  {
   "cell_type": "code",
   "execution_count": null,
   "id": "df80b91d",
   "metadata": {},
   "outputs": [],
   "source": []
  },
  {
   "cell_type": "code",
   "execution_count": null,
   "id": "b7ee5975-ad99-4d10-afc5-08be4dca3c21",
   "metadata": {},
   "outputs": [],
   "source": [
    "cfg_default = dict(\n",
    "    seed=0, save_dir=None,\n",
    "    sim='boids',\n",
    "\n",
    "    n_rollout_imgs=1,\n",
    "    prompts=\"a cell\",\n",
    "\n",
    "    coef_prompts=1., coef_novelty=0.,\n",
    "    bs=1, pop_size=16,\n",
    "    n_iters=1000,\n",
    "    sigma=0.1,\n",
    ")\n",
    "\n",
    "seed_sweep = np.arange(1)\n",
    "\n",
    "with open(\"./prompts.txt\", \"r\") as f:\n",
    "    prompt_sweep = f.read().strip().split('\\n')\n",
    "print(prompt_sweep)\n",
    "\n",
    "sigma_sweep = [0.1]\n",
    "\n",
    "# coef_novelty_sweep = [-1., -0.3, -0.1, 0., 0.1, 0.3, 1.]\n",
    "coef_novelty_sweep = [0.]\n",
    "\n",
    "sims_sweep = ['boids', 'dnca', 'lenia', 'nca_d1', 'nca_d3', 'plenia', 'plife_a', 'plife_ba', 'plife_ba_c3']\n",
    "# n_iters_sweep = [1000, 1000, 1000, 1000, 1000, 1000, 400, 400, 400]\n",
    "n_iters_sweep = [1000] * len(sims_sweep)\n",
    "\n",
    "cfgs = []\n",
    "for sim, n_iters in zip(sims_sweep, n_iters_sweep):\n",
    "    for seed in seed_sweep:\n",
    "        for sigma in sigma_sweep:\n",
    "            for coef_novelty in coef_novelty_sweep:\n",
    "                for iprt, prompt in enumerate(prompt_sweep):\n",
    "                    print(prompt)\n",
    "                    cfg = cfg_default.copy()\n",
    "                    cfg.update(sim=sim, seed=seed, prompts=prompt, sigma=sigma, coef_novelty=coef_novelty, n_iters=n_iters)\n",
    "                    cfg.update(save_dir=f\"/home/akarsh_sakana_ai/nca-alife-data/main_opt/{seed}_{sim}_{iprt}_{sigma}_{coef_novelty}\")\n",
    "                    cfgs.append(cfg)\n",
    "\n",
    "# print(cfgs)\n",
    "print(len(cfgs))"
   ]
  },
  {
   "cell_type": "code",
   "execution_count": null,
   "id": "f91c8669-8c78-4eba-bc8c-db591247599a",
   "metadata": {},
   "outputs": [],
   "source": [
    "commands = experiment_utils.create_commands(cfgs, prefix='python main_opt.py', out_file='../science_scripts/main_opt.sh')\n",
    "print('\\n'.join(commands[:3]), '\\n...')\n",
    "print(len(commands), 'commands')"
   ]
  },
  {
   "cell_type": "code",
   "execution_count": null,
   "id": "50115a77",
   "metadata": {},
   "outputs": [],
   "source": []
  },
  {
   "cell_type": "code",
   "execution_count": null,
   "id": "1ff05102",
   "metadata": {},
   "outputs": [],
   "source": []
  },
  {
   "cell_type": "code",
   "execution_count": null,
   "id": "29130af2-f36b-47d5-bbf3-fe5a92a71e85",
   "metadata": {},
   "outputs": [],
   "source": []
  },
  {
   "cell_type": "code",
   "execution_count": null,
   "id": "58bd96e9-091a-46f0-9300-ce466e64ab3c",
   "metadata": {},
   "outputs": [],
   "source": []
  },
  {
   "cell_type": "markdown",
   "id": "d872e026-791f-4044-a3f1-88490c5459bc",
   "metadata": {},
   "source": [
    "# Visualize Results"
   ]
  },
  {
   "cell_type": "code",
   "execution_count": null,
   "id": "a14fa7ef-7427-4570-8862-745dbb4e31b3",
   "metadata": {},
   "outputs": [],
   "source": [
    "import jax\n",
    "import jax.numpy as jnp\n",
    "import copy"
   ]
  },
  {
   "cell_type": "code",
   "execution_count": null,
   "id": "071cdd06-3288-4069-9046-350ae430741d",
   "metadata": {},
   "outputs": [],
   "source": [
    "df = []\n",
    "\n",
    "for cfg in tqdm(cfgs):\n",
    "    save_dir = cfg['save_dir']\n",
    "    dfi = copy.copy(cfg)\n",
    "    \n",
    "    data = util.load_pkl(save_dir, \"data\")\n",
    "    dfi['best_loss'] = data['best_loss'][-50:].mean()\n",
    "    # dfi.update({k: v[-50:].max(axis=-1).mean().item() for k, v in data['loss_dict'].items()})\n",
    "    \n",
    "    df.append(dfi)\n",
    "df = pd.DataFrame(df)"
   ]
  },
  {
   "cell_type": "code",
   "execution_count": null,
   "id": "ad3964be-769a-44d4-875b-dc1b3ba7c0fa",
   "metadata": {},
   "outputs": [],
   "source": [
    "df"
   ]
  },
  {
   "cell_type": "code",
   "execution_count": null,
   "id": "4e479ec8",
   "metadata": {},
   "outputs": [],
   "source": [
    "sns.relplot(data=df, x='sim', y='best_loss', hue='prompts')\n",
    "plt.xticks(rotation=90)"
   ]
  },
  {
   "cell_type": "code",
   "execution_count": null,
   "id": "cdbba4ed",
   "metadata": {},
   "outputs": [],
   "source": [
    "from create_sim import create_sim\n",
    "import evosax\n",
    "from jax.random import split\n",
    "\n",
    "def unroll_params(rng, params, sim, img_size=64, ret='vid'):\n",
    "    def step(state, _rng):\n",
    "        next_state = sim.step_state(_rng, state, params)\n",
    "        return next_state, state\n",
    "    state_init = sim.init_state(rng, params)\n",
    "    state_final, state_vid = jax.lax.scan(step, state_init, split(rng, sim.rollout_steps))\n",
    "    if ret=='vid':\n",
    "        vid = jax.vmap(partial(sim.render_state, params=params, img_size=img_size))(state_vid)\n",
    "        return vid\n",
    "    elif ret=='img':\n",
    "        img = sim.render_state(state_final, params=params, img_size=img_size)\n",
    "        return img"
   ]
  },
  {
   "cell_type": "code",
   "execution_count": null,
   "id": "0dfd3a68",
   "metadata": {},
   "outputs": [],
   "source": [
    "seed = 0\n",
    "sigma = 0.1\n",
    "coef_novelty = 0.\n",
    "for sim_name, n_iters in zip(sims_sweep, n_iters_sweep):\n",
    "    print(sim_name)\n",
    "    sim = create_sim(sim_name)\n",
    "    rng = jax.random.PRNGKey(0)\n",
    "    param_reshaper = evosax.ParameterReshaper(sim.default_params(rng))\n",
    "\n",
    "    plt.figure(figsize=(20, 10))\n",
    "    for iprt, prompt in enumerate(tqdm(prompt_sweep)):\n",
    "        save_dir=f\"/home/akarsh_sakana_ai/nca-alife-data/main_opt/{seed}_{sim_name}_{iprt}_{sigma}_{coef_novelty}\"\n",
    "\n",
    "        params, _ = util.load_pkl(save_dir, 'best')\n",
    "        params = param_reshaper.reshape_single(params)\n",
    "        img = unroll_params(rng, params, sim, img_size=256, ret='img')\n",
    "        plt.subplot(4, 8, iprt+1)\n",
    "        plt.imshow(img)\n",
    "        plt.grid(False)\n",
    "        plt.title(prompt)\n",
    "        plt.axis('off')\n",
    "    plt.tight_layout()\n",
    "    plt.show()"
   ]
  },
  {
   "cell_type": "code",
   "execution_count": null,
   "id": "d3210d9f",
   "metadata": {},
   "outputs": [],
   "source": [
    "seed = 0\n",
    "sigma = 0.1\n",
    "coef_novelty = 0.\n",
    "for sim_name, n_iters in zip(sims_sweep, n_iters_sweep):\n",
    "    for iprt, prompt in enumerate(prompt_sweep):\n",
    "        save_dir=f\"/home/akarsh_sakana_ai/nca-alife-data/main_opt/{seed}_{sim_name}_{iprt}_{sigma}_{coef_novelty}\"\n",
    "        data = util.load_pkl(save_dir, 'data')\n",
    "        color = ['r', 'g', 'b', 'y', 'm', 'c', 'k', 'purple', 'orange'][sims_sweep.index(sim_name)]\n",
    "        plt.plot(data['best_loss'], color=color, alpha=0.5, label=sim_name if iprt == 0 else \"\")\n",
    "plt.xlabel('Iterations'); plt.ylabel('Best Loss')\n",
    "plt.title('Loss Curves for Different Simulations and Prompts')\n",
    "plt.legend()\n",
    "plt.tight_layout()\n",
    "plt.show()"
   ]
  },
  {
   "cell_type": "code",
   "execution_count": null,
   "id": "236a751c",
   "metadata": {},
   "outputs": [],
   "source": []
  },
  {
   "cell_type": "code",
   "execution_count": null,
   "id": "0016f401",
   "metadata": {},
   "outputs": [],
   "source": []
  },
  {
   "cell_type": "code",
   "execution_count": null,
   "id": "4a5c924f",
   "metadata": {},
   "outputs": [],
   "source": []
  },
  {
   "cell_type": "code",
   "execution_count": null,
   "id": "421081b7",
   "metadata": {},
   "outputs": [],
   "source": []
  },
  {
   "cell_type": "code",
   "execution_count": null,
   "id": "2007d401",
   "metadata": {},
   "outputs": [],
   "source": []
  },
  {
   "cell_type": "code",
   "execution_count": null,
   "id": "c333627b",
   "metadata": {},
   "outputs": [],
   "source": []
  }
 ],
 "metadata": {
  "kernelspec": {
   "display_name": "Python 3 (ipykernel)",
   "language": "python",
   "name": "python3"
  },
  "language_info": {
   "codemirror_mode": {
    "name": "ipython",
    "version": 3
   },
   "file_extension": ".py",
   "mimetype": "text/x-python",
   "name": "python",
   "nbconvert_exporter": "python",
   "pygments_lexer": "ipython3",
   "version": "3.10.14"
  }
 },
 "nbformat": 4,
 "nbformat_minor": 5
}

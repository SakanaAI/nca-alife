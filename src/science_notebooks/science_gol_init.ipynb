{
 "cells": [
  {
   "cell_type": "code",
   "execution_count": 1,
   "id": "initial_id",
   "metadata": {
    "ExecuteTime": {
     "end_time": "2024-06-05T15:24:12.196261Z",
     "start_time": "2024-06-05T15:24:11.937119Z"
    }
   },
   "outputs": [
    {
     "name": "stdout",
     "output_type": "stream",
     "text": [
      "slurm0-gpu1nodeset-0\n",
      "/home/akarsh_sakana_ai/nca-alife/src/science_notebooks\n",
      "/home/akarsh_sakana_ai/miniconda3/envs/nca-alife-jax/bin/python\n"
     ]
    }
   ],
   "source": [
    "%load_ext autoreload\n",
    "%autoreload 2\n",
    "!hostname\n",
    "!pwd\n",
    "import os, sys\n",
    "print(sys.executable)\n",
    "# os.environ['CUDA_VISIBLE_DEVICES'] = \"5\"\n",
    "os.environ['XLA_PYTHON_CLIENT_PREALLOCATE'] = 'false'\n",
    "sys.path.append(os.path.abspath(\"..\"))"
   ]
  },
  {
   "cell_type": "code",
   "execution_count": 2,
   "id": "b14fab765a9b502f",
   "metadata": {
    "ExecuteTime": {
     "end_time": "2024-06-05T15:24:46.791547Z",
     "start_time": "2024-06-05T15:24:46.534227Z"
    }
   },
   "outputs": [],
   "source": [
    "import os, sys, glob, pickle\n",
    "from functools import partial\n",
    "\n",
    "import numpy as np\n",
    "import pandas as pd\n",
    "import xarray as xr\n",
    "import matplotlib.pyplot as plt\n",
    "import seaborn as sns\n",
    "sns.set_theme()\n",
    "\n",
    "from tqdm.auto import tqdm\n",
    "from einops import rearrange, reduce, repeat"
   ]
  },
  {
   "cell_type": "code",
   "execution_count": 3,
   "id": "cd70dd980a69d0d2",
   "metadata": {
    "ExecuteTime": {
     "end_time": "2024-06-05T16:32:40.437767Z",
     "start_time": "2024-06-05T16:32:40.418237Z"
    }
   },
   "outputs": [],
   "source": [
    "import experiment_utils\n",
    "import util"
   ]
  },
  {
   "cell_type": "markdown",
   "id": "44ce0a1df4e67890",
   "metadata": {},
   "source": [
    "# Create Experiment"
   ]
  },
  {
   "cell_type": "code",
   "execution_count": null,
   "id": "29130af2-f36b-47d5-bbf3-fe5a92a71e85",
   "metadata": {},
   "outputs": [],
   "source": []
  },
  {
   "cell_type": "markdown",
   "id": "d872e026-791f-4044-a3f1-88490c5459bc",
   "metadata": {},
   "source": [
    "# Visualize Results"
   ]
  },
  {
   "cell_type": "code",
   "execution_count": 11,
   "id": "518b12fc-4532-45e9-809b-489e4e81fc81",
   "metadata": {},
   "outputs": [],
   "source": [
    "import jax\n",
    "import jax.numpy as jnp\n",
    "from jax.random import split\n",
    "\n",
    "from create_sim import create_sim, rollout_and_embed_simulation, FlattenSimulationParameters\n",
    "from models.models_gol import GameOfLifeInit\n",
    "from clip_jax import MyFlaxCLIP"
   ]
  },
  {
   "cell_type": "code",
   "execution_count": 5,
   "id": "c2a2aee2",
   "metadata": {},
   "outputs": [
    {
     "name": "stderr",
     "output_type": "stream",
     "text": [
      "/home/akarsh_sakana_ai/miniconda3/envs/nca-alife-jax/lib/python3.10/site-packages/transformers/tokenization_utils_base.py:1601: FutureWarning: `clean_up_tokenization_spaces` was not set. It will be set to `True` by default. This behavior will be depracted in transformers v4.45, and will be then set to `False` by default. For more details check this issue: https://github.com/huggingface/transformers/issues/31884\n",
      "  warnings.warn(\n",
      "2024-09-17 22:49:11.322113: W external/xla/xla/service/gpu/nvptx_compiler.cc:836] The NVIDIA driver's CUDA version is 12.2 which is older than the PTX compiler version (12.6.68). Because the driver is older than the PTX compiler version, XLA is disabling parallel compilation, which may slow down compilation. You should update your NVIDIA driver or use the NVIDIA-provided CUDA forward compatibility packages.\n"
     ]
    }
   ],
   "source": [
    "clip_model = MyFlaxCLIP()"
   ]
  },
  {
   "cell_type": "code",
   "execution_count": 79,
   "id": "01fd42a3",
   "metadata": {},
   "outputs": [
    {
     "name": "stdout",
     "output_type": "stream",
     "text": [
      "ParameterReshaper: 4096 parameters detected for optimization.\n"
     ]
    }
   ],
   "source": [
    "sim = GameOfLifeInit()\n",
    "sim = FlattenSimulationParameters(sim)"
   ]
  },
  {
   "cell_type": "code",
   "execution_count": 91,
   "id": "4d887065",
   "metadata": {},
   "outputs": [],
   "source": [
    "rollout_fn = partial(rollout_and_embed_simulation, sim=sim, clip_model=clip_model, rollout_steps=2048, n_rollout_imgs=32)\n",
    "rollout_fn = jax.jit(rollout_fn)"
   ]
  },
  {
   "cell_type": "code",
   "execution_count": 98,
   "id": "b838775f",
   "metadata": {},
   "outputs": [],
   "source": [
    "def mutate_params(rng, params):\n",
    "    mask = jax.random.uniform(rng, params.shape)\n",
    "    mask = (mask+0.001).astype(int)\n",
    "    params = (params+mask)%2\n",
    "    return params\n",
    "\n",
    "def get_fitness(rng, params):\n",
    "    data = rollout_fn(rng, params)\n",
    "    z = data['z']\n",
    "    scores_novelty = (z @ z.T) # T T\n",
    "    scores_novelty = jnp.tril(scores_novelty, k=-1)\n",
    "    loss_novelty = scores_novelty.max(axis=-1) # T\n",
    "    return loss_novelty[1:].mean()\n",
    "\n",
    "get_fitness = jax.jit(jax.vmap(get_fitness))"
   ]
  },
  {
   "cell_type": "code",
   "execution_count": 99,
   "id": "44a0dd45",
   "metadata": {},
   "outputs": [],
   "source": [
    "from IPython.display import clear_output"
   ]
  },
  {
   "cell_type": "code",
   "execution_count": 100,
   "id": "10345590",
   "metadata": {},
   "outputs": [
    {
     "data": {
      "image/png": "[encoded data removed]",
      "text/plain": [
       "<Figure size 640x480 with 1 Axes>"
      ]
     },
     "metadata": {},
     "output_type": "display_data"
    },
    {
     "ename": "KeyboardInterrupt",
     "evalue": "",
     "output_type": "error",
     "traceback": [
      "\u001b[0;31m---------------------------------------------------------------------------\u001b[0m",
      "\u001b[0;31mKeyboardInterrupt\u001b[0m                         Traceback (most recent call last)",
      "Cell \u001b[0;32mIn[100], line 12\u001b[0m\n\u001b[1;32m      9\u001b[0m pop \u001b[38;5;241m=\u001b[39m jnp\u001b[38;5;241m.\u001b[39mconcatenate([params[\u001b[38;5;28;01mNone\u001b[39;00m], pop], axis\u001b[38;5;241m=\u001b[39m\u001b[38;5;241m0\u001b[39m)\n\u001b[1;32m     11\u001b[0m rng, _rng \u001b[38;5;241m=\u001b[39m split(rng)\n\u001b[0;32m---> 12\u001b[0m fitness \u001b[38;5;241m=\u001b[39m \u001b[43mget_fitness\u001b[49m\u001b[43m(\u001b[49m\u001b[43msplit\u001b[49m\u001b[43m(\u001b[49m\u001b[43m_rng\u001b[49m\u001b[43m,\u001b[49m\u001b[43m \u001b[49m\u001b[38;5;28;43mlen\u001b[39;49m\u001b[43m(\u001b[49m\u001b[43mpop\u001b[49m\u001b[43m)\u001b[49m\u001b[43m)\u001b[49m\u001b[43m,\u001b[49m\u001b[43m \u001b[49m\u001b[43mpop\u001b[49m\u001b[43m)\u001b[49m\n\u001b[1;32m     13\u001b[0m params \u001b[38;5;241m=\u001b[39m pop[jnp\u001b[38;5;241m.\u001b[39margmin(fitness)]\n\u001b[1;32m     14\u001b[0m loss\u001b[38;5;241m.\u001b[39mappend(fitness\u001b[38;5;241m.\u001b[39mmin())\n",
      "\u001b[0;31mKeyboardInterrupt\u001b[0m: "
     ]
    }
   ],
   "source": [
    "rng = jax.random.PRNGKey(0)\n",
    "params = sim.default_params(rng)\n",
    "# params = jnp.zeros_like(params)\n",
    "\n",
    "loss = []\n",
    "for i in tqdm(range(10000)):\n",
    "    rng, _rng = split(rng)\n",
    "    pop = jax.vmap(mutate_params, in_axes=(0, None))(split(_rng, 7), params)\n",
    "    pop = jnp.concatenate([params[None], pop], axis=0)\n",
    "\n",
    "    rng, _rng = split(rng)\n",
    "    fitness = get_fitness(split(_rng, len(pop)), pop)\n",
    "    params = pop[jnp.argmin(fitness)]\n",
    "    loss.append(fitness.min())\n",
    "\n",
    "\n",
    "    if i%100 == 0:\n",
    "        clear_output(wait=True)\n",
    "        plt.plot(loss)\n",
    "        plt.show()\n",
    "\n",
    "\n"
   ]
  },
  {
   "cell_type": "code",
   "execution_count": 101,
   "metadata": {},
   "outputs": [
    {
     "data": {
      "image/png": "[encoded data removed]",
      "text/plain": [
       "<Figure size 640x480 with 1 Axes>"
      ]
     },
     "metadata": {},
     "output_type": "display_data"
    }
   ],
   "source": [
    "plt.imshow(params.reshape(64, 64))\n",
    "plt.show()"
   ]
  },
  {
   "cell_type": "code",
   "execution_count": null,
   "id": "6cdc9260",
   "metadata": {},
   "outputs": [],
   "source": []
  },
  {
   "cell_type": "code",
   "execution_count": null,
   "id": "7b610cf3",
   "metadata": {},
   "outputs": [],
   "source": []
  },
  {
   "cell_type": "code",
   "execution_count": null,
   "id": "d7b4a46f",
   "metadata": {},
   "outputs": [],
   "source": []
  },
  {
   "cell_type": "code",
   "execution_count": null,
   "id": "5f4e5fe5",
   "metadata": {},
   "outputs": [],
   "source": []
  },
  {
   "cell_type": "code",
   "execution_count": 10,
   "id": "db43fdb1",
   "metadata": {},
   "outputs": [
    {
     "name": "stderr",
     "output_type": "stream",
     "text": [
      "Could not load symbol cuFuncGetName. Error: /lib/x86_64-linux-gnu/libcuda.so.1: undefined symbol: cuFuncGetName\n",
      "2024-09-17 22:49:22.088189: E external/xla/xla/service/slow_operation_alarm.cc:65] Trying algorithm eng0{} for conv (f32[1024,768,7,7]{3,2,1,0}, u8[0]{0}) custom-call(f32[1024,3,224,224]{3,2,1,0}, f32[768,3,32,32]{3,2,1,0}), window={size=32x32 stride=32x32}, dim_labels=bf01_oi01->bf01, custom_call_target=\"__cudnn$convForward\", backend_config={\"operation_queue_id\":\"0\",\"wait_on_operation_queues\":[],\"cudnn_conv_backend_config\":{\"conv_result_scale\":1,\"activation_mode\":\"kNone\",\"side_input_scale\":0,\"leakyrelu_alpha\":0},\"force_earliest_schedule\":false} is taking a while...\n",
      "2024-09-17 22:49:22.538804: E external/xla/xla/service/slow_operation_alarm.cc:133] The operation took 1.450726666s\n",
      "Trying algorithm eng0{} for conv (f32[1024,768,7,7]{3,2,1,0}, u8[0]{0}) custom-call(f32[1024,3,224,224]{3,2,1,0}, f32[768,3,32,32]{3,2,1,0}), window={size=32x32 stride=32x32}, dim_labels=bf01_oi01->bf01, custom_call_target=\"__cudnn$convForward\", backend_config={\"operation_queue_id\":\"0\",\"wait_on_operation_queues\":[],\"cudnn_conv_backend_config\":{\"conv_result_scale\":1,\"activation_mode\":\"kNone\",\"side_input_scale\":0,\"leakyrelu_alpha\":0},\"force_earliest_schedule\":false} is taking a while...\n"
     ]
    },
    {
     "data": {
      "text/plain": [
       "Array([0.99469274, 0.99357694, 0.99327254, 0.99461997], dtype=float32)"
      ]
     },
     "execution_count": 10,
     "metadata": {},
     "output_type": "execute_result"
    }
   ],
   "source": [
    "jax.vmap(get_fitness, in_axes=(None, 0))(rng, jax.vmap(sim.default_params)(split(rng, 4)))"
   ]
  },
  {
   "cell_type": "code",
   "execution_count": null,
   "metadata": {},
   "outputs": [],
   "source": []
  },
  {
   "cell_type": "code",
   "execution_count": null,
   "id": "de3ef934",
   "metadata": {},
   "outputs": [],
   "source": []
  },
  {
   "cell_type": "code",
   "execution_count": null,
   "metadata": {},
   "outputs": [],
   "source": []
  },
  {
   "cell_type": "code",
   "execution_count": 60,
   "id": "439e542a",
   "metadata": {},
   "outputs": [],
   "source": [
    "z = rollout_fn(rng, params)['z']"
   ]
  },
  {
   "cell_type": "code",
   "execution_count": 61,
   "id": "89c591b3",
   "metadata": {},
   "outputs": [
    {
     "data": {
      "text/plain": [
       "(256, 512)"
      ]
     },
     "execution_count": 61,
     "metadata": {},
     "output_type": "execute_result"
    }
   ],
   "source": [
    "z.shape"
   ]
  },
  {
   "cell_type": "code",
   "execution_count": 63,
   "id": "7413ba72",
   "metadata": {},
   "outputs": [
    {
     "data": {
      "text/plain": [
       "(256, 256)"
      ]
     },
     "execution_count": 63,
     "metadata": {},
     "output_type": "execute_result"
    }
   ],
   "source": [
    "(z@z.T).shape"
   ]
  },
  {
   "cell_type": "code",
   "execution_count": null,
   "id": "91f6cea8",
   "metadata": {},
   "outputs": [],
   "source": []
  },
  {
   "cell_type": "code",
   "execution_count": null,
   "id": "4b4e11c9",
   "metadata": {},
   "outputs": [],
   "source": []
  },
  {
   "cell_type": "code",
   "execution_count": null,
   "id": "bbb66e82",
   "metadata": {},
   "outputs": [],
   "source": []
  },
  {
   "cell_type": "code",
   "execution_count": null,
   "id": "f865f475",
   "metadata": {},
   "outputs": [],
   "source": []
  },
  {
   "cell_type": "code",
   "execution_count": null,
   "id": "dd5cba13",
   "metadata": {},
   "outputs": [],
   "source": []
  }
 ],
 "metadata": {
  "kernelspec": {
   "display_name": "Python 3 (ipykernel)",
   "language": "python",
   "name": "python3"
  },
  "language_info": {
   "codemirror_mode": {
    "name": "ipython",
    "version": 3
   },
   "file_extension": ".py",
   "mimetype": "text/x-python",
   "name": "python",
   "nbconvert_exporter": "python",
   "pygments_lexer": "ipython3",
   "version": "3.10.14"
  }
 },
 "nbformat": 4,
 "nbformat_minor": 5
}

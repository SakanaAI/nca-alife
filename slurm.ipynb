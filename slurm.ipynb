{
 "cells": [
  {
   "cell_type": "code",
   "execution_count": 1,
   "id": "initial_id",
   "metadata": {
    "ExecuteTime": {
     "end_time": "2024-06-05T15:24:12.196261Z",
     "start_time": "2024-06-05T15:24:11.937119Z"
    }
   },
   "outputs": [
    {
     "name": "stdout",
     "output_type": "stream",
     "text": [
      "slurm0-gpu1nodeset-0\n",
      "/home/akarsh_sakana_ai/nca-alife\n",
      "/home/akarsh_sakana_ai/miniconda3/envs/nca-alife-jax/bin/python\n"
     ]
    }
   ],
   "source": [
    "%load_ext autoreload\n",
    "%autoreload 2\n",
    "!hostname\n",
    "!pwd\n",
    "import os, sys\n",
    "print(sys.executable)"
   ]
  },
  {
   "cell_type": "code",
   "execution_count": 2,
   "id": "b14fab765a9b502f",
   "metadata": {
    "ExecuteTime": {
     "end_time": "2024-06-05T15:24:46.791547Z",
     "start_time": "2024-06-05T15:24:46.534227Z"
    }
   },
   "outputs": [],
   "source": [
    "import os, sys, glob, pickle\n",
    "from functools import partial\n",
    "\n",
    "import numpy as np\n",
    "import pandas as pd\n",
    "import xarray as xr\n",
    "import matplotlib.pyplot as plt\n",
    "import seaborn as sns\n",
    "# sns.set_theme()\n",
    "\n",
    "from tqdm.auto import tqdm\n",
    "from einops import rearrange, reduce, repeat"
   ]
  },
  {
   "cell_type": "code",
   "execution_count": 3,
   "id": "cd70dd980a69d0d2",
   "metadata": {
    "ExecuteTime": {
     "end_time": "2024-06-05T16:32:40.437767Z",
     "start_time": "2024-06-05T16:32:40.418237Z"
    }
   },
   "outputs": [],
   "source": [
    "# import experiment_utils\n",
    "import time\n",
    "import subprocess"
   ]
  },
  {
   "cell_type": "markdown",
   "id": "d25a8459feec83fd",
   "metadata": {},
   "source": [
    "# Launch Experiment (on this node)"
   ]
  },
  {
   "cell_type": "code",
   "execution_count": 12,
   "id": "da27f478",
   "metadata": {},
   "outputs": [],
   "source": [
    "exp_sh = f'./src/science_scripts/illumination.sh'\n",
    "with open(exp_sh, 'r') as f:\n",
    "    commands = [c for c in f.read().split('\\n') if c]\n",
    "# commands = ['python temp.py' for _ in range(8)]\n",
    "\n",
    "commands_str = \"\"\n",
    "for c in commands:\n",
    "    c = c.replace('\"', '\\\\\"') # change all inner double quotes to escaped double quotes\n",
    "    commands_str += '    \"'+c+'\"\\n'"
   ]
  },
  {
   "cell_type": "code",
   "execution_count": 13,
   "id": "69191fa9",
   "metadata": {},
   "outputs": [
    {
     "name": "stdout",
     "output_type": "stream",
     "text": [
      "#!/bin/bash\n",
      "#SBATCH --job-name=\"illumination.sh\"\n",
      "#SBATCH --partition=a3\n",
      "\n",
      "#SBATCH --output=/home/akarsh_sakana_ai/logs/2024_09_12_15_56_22/%a.out\n",
      "#SBATCH --error=/home/akarsh_sakana_ai/logs/2024_09_12_15_56_22/%a.err\n",
      "#SBATCH --array=0-15%16\n",
      "\n",
      "#SBATCH --cpus-per-task=1\n",
      "#SBATCH --time=\"24:00:00\"\n",
      "#SBATCH --nodes=1\n",
      "#SBATCH --gres=gpu:1\n",
      "#SBATCH --mem=128G\n",
      "\n",
      "#SBATCH --export=\"\"\n",
      "#SBATCH --chdir=\"/home/akarsh_sakana_ai/nca-alife/src\"\n",
      "\n",
      "\n",
      "commands=(\n",
      "    \"python main_illuminate.py --seed=0 --save_dir=\\\"/home/akarsh_sakana_ai/nca-alife-data/lenia_clip_sweep/0_lenia_0.01\\\"                 --sim=\\\"lenia_0.01\\\"                 --clip_model=\\\"clip-vit-base-patch32\\\" --k_nbrs=2 --bs=32 --pop_size=1024 --n_iters=10000 --sigma1=0.1 --sigma2=0.0\"\n",
      "    \"python main_illuminate.py --seed=0 --save_dir=\\\"/home/akarsh_sakana_ai/nca-alife-data/lenia_clip_sweep/0_lenia_0.013593563908785255\\\" --sim=\\\"lenia_0.013593563908785255\\\" --clip_model=\\\"clip-vit-base-patch32\\\" --k_nbrs=2 --bs=32 --pop_size=1024 --n_iters=10000 --sigma1=0.1 --sigma2=0.0\"\n",
      "    \"python main_illuminate.py --seed=0 --save_dir=\\\"/home/akarsh_sakana_ai/nca-alife-data/lenia_clip_sweep/0_lenia_0.018478497974222907\\\" --sim=\\\"lenia_0.018478497974222907\\\" --clip_model=\\\"clip-vit-base-patch32\\\" --k_nbrs=2 --bs=32 --pop_size=1024 --n_iters=10000 --sigma1=0.1 --sigma2=0.0\"\n",
      "    \"python main_illuminate.py --seed=0 --save_dir=\\\"/home/akarsh_sakana_ai/nca-alife-data/lenia_clip_sweep/0_lenia_0.025118864315095794\\\" --sim=\\\"lenia_0.025118864315095794\\\" --clip_model=\\\"clip-vit-base-patch32\\\" --k_nbrs=2 --bs=32 --pop_size=1024 --n_iters=10000 --sigma1=0.1 --sigma2=0.0\"\n",
      "    \"python main_illuminate.py --seed=0 --save_dir=\\\"/home/akarsh_sakana_ai/nca-alife-data/lenia_clip_sweep/0_lenia_0.034145488738336005\\\" --sim=\\\"lenia_0.034145488738336005\\\" --clip_model=\\\"clip-vit-base-patch32\\\" --k_nbrs=2 --bs=32 --pop_size=1024 --n_iters=10000 --sigma1=0.1 --sigma2=0.0\"\n",
      "    \"python main_illuminate.py --seed=0 --save_dir=\\\"/home/akarsh_sakana_ai/nca-alife-data/lenia_clip_sweep/0_lenia_0.046415888336127774\\\" --sim=\\\"lenia_0.046415888336127774\\\" --clip_model=\\\"clip-vit-base-patch32\\\" --k_nbrs=2 --bs=32 --pop_size=1024 --n_iters=10000 --sigma1=0.1 --sigma2=0.0\"\n",
      "    \"python main_illuminate.py --seed=0 --save_dir=\\\"/home/akarsh_sakana_ai/nca-alife-data/lenia_clip_sweep/0_lenia_0.06309573444801933\\\"  --sim=\\\"lenia_0.06309573444801933\\\"  --clip_model=\\\"clip-vit-base-patch32\\\" --k_nbrs=2 --bs=32 --pop_size=1024 --n_iters=10000 --sigma1=0.1 --sigma2=0.0\"\n",
      "    \"python main_illuminate.py --seed=0 --save_dir=\\\"/home/akarsh_sakana_ai/nca-alife-data/lenia_clip_sweep/0_lenia_0.08576958985908942\\\"  --sim=\\\"lenia_0.08576958985908942\\\"  --clip_model=\\\"clip-vit-base-patch32\\\" --k_nbrs=2 --bs=32 --pop_size=1024 --n_iters=10000 --sigma1=0.1 --sigma2=0.0\"\n",
      "    \"python main_illuminate.py --seed=0 --save_dir=\\\"/home/akarsh_sakana_ai/nca-alife-data/lenia_clip_sweep/0_lenia_0.11659144011798317\\\"  --sim=\\\"lenia_0.11659144011798317\\\"  --clip_model=\\\"clip-vit-base-patch32\\\" --k_nbrs=2 --bs=32 --pop_size=1024 --n_iters=10000 --sigma1=0.1 --sigma2=0.0\"\n",
      "    \"python main_illuminate.py --seed=0 --save_dir=\\\"/home/akarsh_sakana_ai/nca-alife-data/lenia_clip_sweep/0_lenia_0.15848931924611134\\\"  --sim=\\\"lenia_0.15848931924611134\\\"  --clip_model=\\\"clip-vit-base-patch32\\\" --k_nbrs=2 --bs=32 --pop_size=1024 --n_iters=10000 --sigma1=0.1 --sigma2=0.0\"\n",
      "    \"python main_illuminate.py --seed=0 --save_dir=\\\"/home/akarsh_sakana_ai/nca-alife-data/lenia_clip_sweep/0_lenia_0.21544346900318834\\\"  --sim=\\\"lenia_0.21544346900318834\\\"  --clip_model=\\\"clip-vit-base-patch32\\\" --k_nbrs=2 --bs=32 --pop_size=1024 --n_iters=10000 --sigma1=0.1 --sigma2=0.0\"\n",
      "    \"python main_illuminate.py --seed=0 --save_dir=\\\"/home/akarsh_sakana_ai/nca-alife-data/lenia_clip_sweep/0_lenia_0.29286445646252357\\\"  --sim=\\\"lenia_0.29286445646252357\\\"  --clip_model=\\\"clip-vit-base-patch32\\\" --k_nbrs=2 --bs=32 --pop_size=1024 --n_iters=10000 --sigma1=0.1 --sigma2=0.0\"\n",
      "    \"python main_illuminate.py --seed=0 --save_dir=\\\"/home/akarsh_sakana_ai/nca-alife-data/lenia_clip_sweep/0_lenia_0.3981071705534973\\\"   --sim=\\\"lenia_0.3981071705534973\\\"   --clip_model=\\\"clip-vit-base-patch32\\\" --k_nbrs=2 --bs=32 --pop_size=1024 --n_iters=10000 --sigma1=0.1 --sigma2=0.0\"\n",
      "    \"python main_illuminate.py --seed=0 --save_dir=\\\"/home/akarsh_sakana_ai/nca-alife-data/lenia_clip_sweep/0_lenia_0.5411695265464638\\\"   --sim=\\\"lenia_0.5411695265464638\\\"   --clip_model=\\\"clip-vit-base-patch32\\\" --k_nbrs=2 --bs=32 --pop_size=1024 --n_iters=10000 --sigma1=0.1 --sigma2=0.0\"\n",
      "    \"python main_illuminate.py --seed=0 --save_dir=\\\"/home/akarsh_sakana_ai/nca-alife-data/lenia_clip_sweep/0_lenia_0.7356422544596414\\\"   --sim=\\\"lenia_0.7356422544596414\\\"   --clip_model=\\\"clip-vit-base-patch32\\\" --k_nbrs=2 --bs=32 --pop_size=1024 --n_iters=10000 --sigma1=0.1 --sigma2=0.0\"\n",
      "    \"python main_illuminate.py --seed=0 --save_dir=\\\"/home/akarsh_sakana_ai/nca-alife-data/lenia_clip_sweep/0_lenia_1.0\\\"                  --sim=\\\"lenia_1.0\\\"                  --clip_model=\\\"clip-vit-base-patch32\\\" --k_nbrs=2 --bs=32 --pop_size=1024 --n_iters=10000 --sigma1=0.1 --sigma2=0.0\"\n",
      "\n",
      ")\n",
      "\n",
      "source /home/akarsh_sakana_ai/miniconda3/etc/profile.d/conda.sh\n",
      "conda activate nca-alife-jax\n",
      "\n",
      "eval \"stdbuf -oL ${commands[$SLURM_ARRAY_TASK_ID]}\"\n",
      "# eval is needed for proper handling of quotes, stdbuf is needed for proper buffering\n",
      "\n"
     ]
    }
   ],
   "source": [
    "home_dir = os.path.expanduser(\"~\")\n",
    "job_name = exp_sh.split('/')[-1]\n",
    "log_dir = f'{home_dir}/logs/{time.strftime(\"%Y_%m_%d_%H_%M_%S\")}'\n",
    "\n",
    "slurm_str = f\"\"\"#!/bin/bash\n",
    "#SBATCH --job-name=\"{job_name}\"\n",
    "#SBATCH --partition=a3\n",
    "\n",
    "#SBATCH --output={log_dir}/%a.out\n",
    "#SBATCH --error={log_dir}/%a.err\n",
    "#SBATCH --array=0-{len(commands)-1}%16\n",
    "\n",
    "#SBATCH --cpus-per-task=1\n",
    "#SBATCH --time=\"24:00:00\"\n",
    "#SBATCH --nodes=1\n",
    "#SBATCH --gres=gpu:1\n",
    "#SBATCH --mem=128G\n",
    "\n",
    "#SBATCH --export=\"\"\n",
    "#SBATCH --chdir=\"/home/akarsh_sakana_ai/nca-alife/src\"\n",
    "\n",
    "\n",
    "commands=(\n",
    "{commands_str}\n",
    ")\n",
    "\n",
    "source /home/akarsh_sakana_ai/miniconda3/etc/profile.d/conda.sh\n",
    "conda activate nca-alife-jax\n",
    "\n",
    "eval \"stdbuf -oL ${{commands[$SLURM_ARRAY_TASK_ID]}}\"\n",
    "# eval is needed for proper handling of quotes, stdbuf is needed for proper buffering\n",
    "\"\"\"\n",
    "\n",
    "print(slurm_str)"
   ]
  },
  {
   "cell_type": "code",
   "execution_count": 14,
   "id": "70dddc59",
   "metadata": {},
   "outputs": [],
   "source": [
    "!mkdir -p {log_dir}\n",
    "!rm {os.path.dirname(log_dir)+'/latest'}\n",
    "!ln -sf {log_dir} {os.path.dirname(log_dir)+'/latest'}\n",
    "\n",
    "with open(f'{log_dir}/slurm.sh', 'w') as f:\n",
    "    f.write(slurm_str)"
   ]
  },
  {
   "cell_type": "code",
   "execution_count": null,
   "id": "a4f8cda8",
   "metadata": {},
   "outputs": [
    {
     "name": "stdout",
     "output_type": "stream",
     "text": [
      "Submitted batch job 4438\n"
     ]
    }
   ],
   "source": [
    "popen = subprocess.Popen(f'sbatch {log_dir}/slurm.sh', shell=True)"
   ]
  },
  {
   "cell_type": "code",
   "execution_count": null,
   "id": "c6798585",
   "metadata": {},
   "outputs": [],
   "source": []
  },
  {
   "cell_type": "code",
   "execution_count": null,
   "metadata": {},
   "outputs": [],
   "source": []
  },
  {
   "cell_type": "code",
   "execution_count": null,
   "metadata": {},
   "outputs": [],
   "source": []
  },
  {
   "cell_type": "code",
   "execution_count": 30,
   "id": "8c39a5bfd56aad84",
   "metadata": {
    "ExecuteTime": {
     "end_time": "2024-06-05T16:32:45.724746Z",
     "start_time": "2024-06-05T16:32:45.705123Z"
    }
   },
   "outputs": [
    {
     "name": "stdout",
     "output_type": "stream",
     "text": [
      "./src/experiments/main.sh has 6 commands: \n",
      "python main_illuminate_lenia.py  --k_nbrs=2 --n_iters=10000 --save_dir=\"/home/akarshkumar0101/nca-alife-data/illumination/lenia\"\n",
      "python main_illuminate_plenia.py --k_nbrs=2 --n_iters=120000  --save_dir=\"/home/akarshkumar0101/nca-alife-data/illumination/plenia\"\n",
      "python main_illuminate_nca.py    --k_nbrs=2 --n_iters=12000  --save_dir=\"/home/akarshkumar0101/nca-alife-data/illumination/nca\" \n",
      "...\n",
      "Logging to /home/akarshkumar0101/nca-alife-data/logs/2024_08_27_02_37_03\n"
     ]
    }
   ],
   "source": [
    "header = '\\n'.join([\n",
    "    '#!/bin/bash',\n",
    "    \n",
    "    # 'source ~/.virtualenvs/nca-alife-torch/bin/activate'\n",
    "    \n",
    "    'source ~/miniconda3/etc/profile.d/conda.sh',\n",
    "    'conda activate nca-alife-jax',\n",
    "    \n",
    "    'cd ~/nca-alife/src'\n",
    "])\n",
    "\n",
    "\n",
    "gpus = [2, 3, 4, 5, 6, 7]\n",
    "log_dir = os.path.expanduser(f'~/nca-alife-data/logs/{time.strftime(\"%Y_%m_%d_%H_%M_%S\")}')\n",
    "exp_sh = f'./src/experiments/main.sh'\n",
    "with open(exp_sh, 'r') as f:\n",
    "    commands = [c for c in f.read().split('\\n') if c]\n",
    "print(f\"{exp_sh} has {len(commands)} commands: \")\n",
    "print('\\n'.join(commands[:3]), '\\n...')\n",
    "print(f\"Logging to {log_dir}\")"
   ]
  },
  {
   "cell_type": "code",
   "execution_count": 31,
   "id": "606a1e32-67e7-4c6c-b426-614ccd1651c4",
   "metadata": {},
   "outputs": [
    {
     "name": "stdout",
     "output_type": "stream",
     "text": [
      "/home/akarshkumar0101/nca-alife-data/logs/2024_08_27_02_37_03\n"
     ]
    }
   ],
   "source": [
    "print(log_dir)"
   ]
  },
  {
   "cell_type": "code",
   "execution_count": null,
   "id": "8483676c-0242-42c2-9823-79fad500a436",
   "metadata": {},
   "outputs": [],
   "source": []
  },
  {
   "cell_type": "code",
   "execution_count": null,
   "id": "9819a394-2848-4e7a-b553-6d07fb1c8c80",
   "metadata": {},
   "outputs": [],
   "source": []
  },
  {
   "cell_type": "code",
   "execution_count": null,
   "id": "5a6eb46d-b180-47c0-9e47-045a0f8f9dde",
   "metadata": {},
   "outputs": [],
   "source": []
  },
  {
   "cell_type": "code",
   "execution_count": 32,
   "id": "ccbc7bd83eb023cb",
   "metadata": {
    "ExecuteTime": {
     "end_time": "2024-06-05T16:32:47.309708Z",
     "start_time": "2024-06-05T16:32:47.171678Z"
    }
   },
   "outputs": [],
   "source": [
    "!mkdir -p {log_dir}\n",
    "!rm {os.path.dirname(log_dir)+'/latest'}\n",
    "!ln -sf {log_dir} {os.path.dirname(log_dir)+'/latest'}\n",
    "for i_gpu, gpu in enumerate(gpus):\n",
    "    job_ids = np.arange(len(commands))[i_gpu::len(gpus)]\n",
    "    cvd = f'export CUDA_VISIBLE_DEVICES={gpu}'\n",
    "    txt = f\"{header}\\n{cvd}\\n\\n\"\n",
    "    for job_id in job_ids:\n",
    "        txt += f\"touch {log_dir}/job_{job_id:05d}.status\\n\"\n",
    "        txt += f\"{commands[job_id]} &> {log_dir}/job_{job_id:05d}.out\\n\"\n",
    "        txt += f\"echo $? > {log_dir}/job_{job_id:05d}.status\\n\\n\"\n",
    "    with open(f\"{log_dir}/gpu_{gpu}.sh\", \"w\") as f:\n",
    "        f.write(txt)"
   ]
  },
  {
   "cell_type": "code",
   "execution_count": 33,
   "id": "fd11b06be751b124",
   "metadata": {
    "ExecuteTime": {
     "end_time": "2024-06-05T16:32:47.659970Z",
     "start_time": "2024-06-05T16:32:47.641164Z"
    }
   },
   "outputs": [
    {
     "name": "stdout",
     "output_type": "stream",
     "text": [
      "#!/bin/bash\n",
      "source ~/miniconda3/etc/profile.d/conda.sh\n",
      "conda activate nca-alife-jax\n",
      "cd ~/nca-alife/src\n",
      "export CUDA_VISIBLE_DEVICES=7\n",
      "\n",
      "touch /home/akarshkumar0101/nca-alife-data/logs/2024_08_27_02_37_03/job_00005.status\n",
      "python main_illuminate_plife.py  --k_nbrs=2 --n_iters=800    --save_dir=\"/home/akarshkumar0101/nca-alife-data/illumination/plife\" &> /home/akarshkumar0101/nca-alife-data/logs/2024_08_27_02_37_03/job_00005.out\n",
      "echo $? > /home/akarshkumar0101/nca-alife-data/logs/2024_08_27_02_37_03/job_00005.status\n",
      "\n",
      "\n"
     ]
    }
   ],
   "source": [
    "print('\\n'.join(txt.split('\\n')[:24]))"
   ]
  },
  {
   "cell_type": "code",
   "execution_count": null,
   "id": "7a7a1ba5-f8cf-4cb2-93ba-25a548a0f499",
   "metadata": {},
   "outputs": [],
   "source": []
  },
  {
   "cell_type": "code",
   "execution_count": null,
   "id": "9e48a7c8-f06d-4b33-9226-b0800279667e",
   "metadata": {},
   "outputs": [],
   "source": []
  },
  {
   "cell_type": "code",
   "execution_count": 34,
   "id": "e5ce96252f75f2f9",
   "metadata": {
    "ExecuteTime": {
     "end_time": "2024-06-05T16:35:49.567207Z",
     "start_time": "2024-06-05T16:35:49.546023Z"
    }
   },
   "outputs": [
    {
     "name": "stdout",
     "output_type": "stream",
     "text": [
      "bash /home/akarshkumar0101/nca-alife-data/logs/2024_08_27_02_37_03/gpu_2.sh\n",
      "bash /home/akarshkumar0101/nca-alife-data/logs/2024_08_27_02_37_03/gpu_3.sh\n",
      "bash /home/akarshkumar0101/nca-alife-data/logs/2024_08_27_02_37_03/gpu_4.sh\n",
      "bash /home/akarshkumar0101/nca-alife-data/logs/2024_08_27_02_37_03/gpu_5.sh\n",
      "bash /home/akarshkumar0101/nca-alife-data/logs/2024_08_27_02_37_03/gpu_6.sh\n",
      "bash /home/akarshkumar0101/nca-alife-data/logs/2024_08_27_02_37_03/gpu_7.sh\n"
     ]
    }
   ],
   "source": [
    "for i_gpu, gpu in enumerate(gpus):\n",
    "    command = f\"bash {log_dir}/gpu_{gpu}.sh\"\n",
    "    print(command)\n",
    "    process = subprocess.Popen(command, shell=True)"
   ]
  },
  {
   "cell_type": "code",
   "execution_count": null,
   "id": "8d4b43ea-3cd2-4567-9e7b-819a109f4672",
   "metadata": {},
   "outputs": [],
   "source": []
  },
  {
   "cell_type": "code",
   "execution_count": null,
   "id": "0993c800-10a3-4d44-a37b-55aff7b6da13",
   "metadata": {},
   "outputs": [],
   "source": []
  },
  {
   "cell_type": "code",
   "execution_count": null,
   "id": "5f6328aa-5b2e-4739-b80d-2ebc1761740a",
   "metadata": {},
   "outputs": [],
   "source": []
  },
  {
   "cell_type": "markdown",
   "id": "233f54f7c2310a69",
   "metadata": {},
   "source": [
    "# Track Experiment"
   ]
  },
  {
   "cell_type": "code",
   "execution_count": 22,
   "id": "323b77b2-6677-4b3b-9864-10f98df4c77d",
   "metadata": {},
   "outputs": [],
   "source": [
    "import subprocess\n",
    "a = subprocess.run(['ps', 'ux'], stdout=subprocess.PIPE).stdout.decode('utf-8')"
   ]
  },
  {
   "cell_type": "code",
   "execution_count": 25,
   "id": "6919b53c-0578-4e33-a86b-471b78449bee",
   "metadata": {},
   "outputs": [
    {
     "data": {
      "text/plain": [
       "['akarshk+ 1271851  0.0  0.0   2480   572 ?        S    04:58   0:00 /bin/sh -c bash /home/akarshkumar0101/nca-alife-data/logs/2024_07_31_04_58_39/gpu_4.sh',\n",
       " 'akarshk+ 1271852  0.0  0.0   2480   516 ?        S    04:58   0:00 /bin/sh -c bash /home/akarshkumar0101/nca-alife-data/logs/2024_07_31_04_58_39/gpu_5.sh',\n",
       " 'akarshk+ 1271853  0.0  0.0 219972  3408 ?        S    04:58   0:00 bash /home/akarshkumar0101/nca-alife-data/logs/2024_07_31_04_58_39/gpu_4.sh',\n",
       " 'akarshk+ 1271854  0.0  0.0   2480   512 ?        S    04:58   0:00 /bin/sh -c bash /home/akarshkumar0101/nca-alife-data/logs/2024_07_31_04_58_39/gpu_6.sh',\n",
       " 'akarshk+ 1271855  0.0  0.0 219972  3200 ?        S    04:58   0:00 bash /home/akarshkumar0101/nca-alife-data/logs/2024_07_31_04_58_39/gpu_5.sh',\n",
       " 'akarshk+ 1271856  0.0  0.0   2480   516 ?        S    04:58   0:00 /bin/sh -c bash /home/akarshkumar0101/nca-alife-data/logs/2024_07_31_04_58_39/gpu_7.sh',\n",
       " 'akarshk+ 1271857  0.0  0.0 219972  3460 ?        S    04:58   0:00 bash /home/akarshkumar0101/nca-alife-data/logs/2024_07_31_04_58_39/gpu_6.sh',\n",
       " 'akarshk+ 1271858  0.0  0.0 219972  3188 ?        S    04:58   0:00 bash /home/akarshkumar0101/nca-alife-data/logs/2024_07_31_04_58_39/gpu_7.sh']"
      ]
     },
     "execution_count": 25,
     "metadata": {},
     "output_type": "execute_result"
    },
    {
     "name": "stderr",
     "output_type": "stream",
     "text": [
      "Terminated\n",
      "Terminated\n",
      "Terminated\n",
      "Terminated\n"
     ]
    }
   ],
   "source": [
    "[l for l in a.split('\\n') if \"bash\" in l and \"gpu\" in l]"
   ]
  },
  {
   "cell_type": "code",
   "execution_count": null,
   "id": "8b02e737-1457-43f7-87d9-51b427af547e",
   "metadata": {},
   "outputs": [],
   "source": []
  },
  {
   "cell_type": "code",
   "execution_count": null,
   "id": "852dbcf0-5257-48ab-ab62-b1a5b15b313d",
   "metadata": {},
   "outputs": [],
   "source": []
  },
  {
   "cell_type": "code",
   "execution_count": null,
   "id": "577c510a-4b86-40ea-abbe-f3bcccd0dc38",
   "metadata": {},
   "outputs": [],
   "source": []
  },
  {
   "cell_type": "code",
   "execution_count": 32,
   "id": "1eb72d2c-d077-466b-b7a3-c70eb8666291",
   "metadata": {},
   "outputs": [
    {
     "data": {
      "image/png": "[encoded data removed]",
      "text/plain": [
       "<Figure size 640x480 with 1 Axes>"
      ]
     },
     "metadata": {},
     "output_type": "display_data"
    }
   ],
   "source": [
    "from collections import defaultdict\n",
    "\n",
    "status = []\n",
    "for job_id in range(len(commands)):\n",
    "    try:\n",
    "        with open(f\"{log_dir}/job_{job_id:05d}.status\", \"r\") as f:\n",
    "            status.append(int(f.read().strip()))\n",
    "    except Exception as e:\n",
    "        status.append(\"waiting\")\n",
    "status = np.array(status)\n",
    "\n",
    "codes, counts = np.unique(status, return_counts=True)\n",
    "df = pd.DataFrame(dict(codes=codes, counts=counts))\n",
    "ax = sns.barplot(data=df, x='codes', y='counts')\n",
    "ax.bar_label(ax.containers[0], fontsize=10);"
   ]
  },
  {
   "cell_type": "code",
   "execution_count": null,
   "id": "89442176-59fa-4071-b723-437fcd6699e9",
   "metadata": {},
   "outputs": [],
   "source": []
  },
  {
   "cell_type": "code",
   "execution_count": null,
   "id": "c45b8afe-38b2-4a6b-a075-096781521ecd",
   "metadata": {},
   "outputs": [],
   "source": []
  },
  {
   "cell_type": "code",
   "execution_count": null,
   "id": "cd2d676b-004e-41cf-958d-74f6ad6569be",
   "metadata": {},
   "outputs": [],
   "source": []
  },
  {
   "cell_type": "code",
   "execution_count": null,
   "id": "1db0c207-43d2-4c79-8602-191191d75535",
   "metadata": {},
   "outputs": [],
   "source": []
  },
  {
   "cell_type": "code",
   "execution_count": null,
   "id": "d3a53949-a656-497c-b3bc-733b10c333d8",
   "metadata": {},
   "outputs": [],
   "source": []
  },
  {
   "cell_type": "code",
   "execution_count": null,
   "id": "0a2677c3-1c57-462d-b4cd-1452fbb54b48",
   "metadata": {},
   "outputs": [],
   "source": []
  },
  {
   "cell_type": "code",
   "execution_count": null,
   "id": "a3b91fab-bb5d-4cf3-88a5-da7bc1386ce7",
   "metadata": {},
   "outputs": [],
   "source": []
  },
  {
   "cell_type": "code",
   "execution_count": null,
   "id": "187c7fdf-be2a-4ab3-9d8c-5846bb278b1f",
   "metadata": {},
   "outputs": [],
   "source": []
  },
  {
   "cell_type": "code",
   "execution_count": 52,
   "id": "b87eb0da-3b7d-41c1-b656-7810bf958163",
   "metadata": {},
   "outputs": [
    {
     "name": "stdout",
     "output_type": "stream",
     "text": [
      "\n",
      "------------------------------------------------------ 0 ------------------------------------------------------\n",
      "\n",
      "10%|▉         | 978/10000 [06:45<1:00:33,  2.48it/s, loss=0.937]\n",
      "\n",
      "------------------------------------------------------ 1 ------------------------------------------------------\n",
      "\n",
      "12%|█▏        | 14769/120000 [07:25<51:22, 34.14it/s, loss=0.875]\n",
      "\n",
      "------------------------------------------------------ 2 ------------------------------------------------------\n",
      "\n",
      "9%|▉         | 1137/12000 [06:56<1:03:49,  2.84it/s, loss=0.939]\n",
      "\n",
      "------------------------------------------------------ 3 ------------------------------------------------------\n",
      "\n",
      "11%|█         | 344/3200 [06:38<53:04,  1.12s/it, loss=0.938]\n",
      "\n",
      "------------------------------------------------------ 4 ------------------------------------------------------\n",
      "\n",
      "11%|█         | 4237/40000 [06:55<56:10, 10.61it/s, loss=0.939]\n",
      "\n",
      "------------------------------------------------------ 5 ------------------------------------------------------\n",
      "\n",
      "9%|▉         | 74/800 [05:52<55:49,  4.61s/it, loss=0.996]\n"
     ]
    }
   ],
   "source": [
    "for job_id in list(range(len(commands))):\n",
    "    print()\n",
    "    print(f'------------------------------------------------------ {job_id} ------------------------------------------------------')\n",
    "    print()\n",
    "    try:\n",
    "        with open(f\"{log_dir}/job_{job_id:05d}.out\", \"r\") as f:\n",
    "            print(f.readlines()[-1].strip())\n",
    "    except Exception as e:\n",
    "        # pass\n",
    "        break\n",
    "        print(e)"
   ]
  },
  {
   "cell_type": "code",
   "execution_count": 48,
   "id": "1f545d74-19fc-42d7-a744-de052c2619aa",
   "metadata": {},
   "outputs": [
    {
     "data": {
      "text/plain": [
       "'/home/akarshkumar0101/nca-alife-data/logs/2024_08_27_02_37_03'"
      ]
     },
     "execution_count": 48,
     "metadata": {},
     "output_type": "execute_result"
    }
   ],
   "source": [
    "log_dir"
   ]
  },
  {
   "cell_type": "code",
   "execution_count": null,
   "id": "1812743a",
   "metadata": {},
   "outputs": [],
   "source": []
  },
  {
   "cell_type": "code",
   "execution_count": null,
   "id": "d61cd2fa",
   "metadata": {},
   "outputs": [],
   "source": []
  }
 ],
 "metadata": {
  "kernelspec": {
   "display_name": "Python 3 (ipykernel)",
   "language": "python",
   "name": "python3"
  },
  "language_info": {
   "codemirror_mode": {
    "name": "ipython",
    "version": 3
   },
   "file_extension": ".py",
   "mimetype": "text/x-python",
   "name": "python",
   "nbconvert_exporter": "python",
   "pygments_lexer": "ipython3",
   "version": "3.10.14"
  }
 },
 "nbformat": 4,
 "nbformat_minor": 5
}
